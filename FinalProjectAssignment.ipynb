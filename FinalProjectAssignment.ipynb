{
 "cells": [
  {
   "cell_type": "markdown",
   "metadata": {},
   "source": [
    "# Final Project\n",
    "\n",
    "## Predict whether a mammogram mass is benign or malignant\n",
    "\n",
    "We'll be using the \"mammographic masses\" public dataset from the UCI repository (source: https://archive.ics.uci.edu/ml/datasets/Mammographic+Mass)\n",
    "\n",
    "This data contains 961 instances of masses detected in mammograms, and contains the following attributes:\n",
    "\n",
    "\n",
    "   1. BI-RADS assessment: 1 to 5 (ordinal)  \n",
    "   2. Age: patient's age in years (integer)\n",
    "   3. Shape: mass shape: round=1 oval=2 lobular=3 irregular=4 (nominal)\n",
    "   4. Margin: mass margin: circumscribed=1 microlobulated=2 obscured=3 ill-defined=4 spiculated=5 (nominal)\n",
    "   5. Density: mass density high=1 iso=2 low=3 fat-containing=4 (ordinal)\n",
    "   6. Severity: benign=0 or malignant=1 (binominal)\n",
    "   \n",
    "BI-RADS is an assesment of how confident the severity classification is; it is not a \"predictive\" attribute and so we will discard it. The age, shape, margin, and density attributes are the features that we will build our model with, and \"severity\" is the classification we will attempt to predict based on those attributes.\n",
    "\n",
    "Although \"shape\" and \"margin\" are nominal data types, which sklearn typically doesn't deal with well, they are close enough to ordinal that we shouldn't just discard them. The \"shape\" for example is ordered increasingly from round to irregular.\n",
    "\n",
    "A lot of unnecessary anguish and surgery arises from false positives arising from mammogram results. If we can build a better way to interpret them through supervised machine learning, it could improve a lot of lives.\n",
    "\n",
    "## Your assignment\n",
    "\n",
    "Apply several different supervised machine learning techniques to this data set, and see which one yields the highest accuracy as measured with K-Fold cross validation (K=10). Apply:\n",
    "\n",
    "* Decision tree\n",
    "* Random forest\n",
    "* KNN\n",
    "* Naive Bayes\n",
    "* SVM\n",
    "* Logistic Regression\n",
    "* And, as a bonus challenge, a neural network using Keras.\n",
    "\n",
    "The data needs to be cleaned; many rows contain missing data, and there may be erroneous data identifiable as outliers as well.\n",
    "\n",
    "Remember some techniques such as SVM also require the input data to be normalized first.\n",
    "\n",
    "Many techniques also have \"hyperparameters\" that need to be tuned. Once you identify a promising approach, see if you can make it even better by tuning its hyperparameters.\n",
    "\n",
    "I was able to achieve over 80% accuracy - can you beat that?\n",
    "\n",
    "Below I've set up an outline of a notebook for this project, with some guidance and hints. If you're up for a real challenge, try doing this project from scratch in a new, clean notebook!\n"
   ]
  },
  {
   "cell_type": "markdown",
   "metadata": {},
   "source": [
    "## Let's begin: prepare your data\n",
    "\n",
    "Start by importing the mammographic_masses.data.txt file into a Pandas dataframe (hint: use read_csv) and take a look at it."
   ]
  },
  {
   "cell_type": "code",
   "execution_count": 17,
   "metadata": {},
   "outputs": [],
   "source": [
    "import pandas as pd\n",
    "import matplotlib.pyplot as plt\n",
    "import sklearn\n",
    "from sklearn.preprocessing import StandardScaler\n",
    "import numpy as np\n",
    "from sklearn.metrics import accuracy_score\n",
    "from sklearn.model_selection import cross_val_score\n",
    "from sklearn.ensemble import RandomForestClassifier\n",
    "from sklearn import tree\n",
    "from sklearn.svm import SVC\n",
    "from sklearn.neighbors import KNeighborsClassifier"
   ]
  },
  {
   "cell_type": "code",
   "execution_count": null,
   "metadata": {},
   "outputs": [],
   "source": []
  },
  {
   "cell_type": "markdown",
   "metadata": {},
   "source": [
    "Make sure you use the optional parmaters in read_csv to convert missing data (indicated by a ?) into NaN, and to add the appropriate column names (BI_RADS, age, shape, margin, density, and severity):"
   ]
  },
  {
   "cell_type": "code",
   "execution_count": 2,
   "metadata": {},
   "outputs": [
    {
     "data": {
      "text/html": [
       "<div>\n",
       "<style scoped>\n",
       "    .dataframe tbody tr th:only-of-type {\n",
       "        vertical-align: middle;\n",
       "    }\n",
       "\n",
       "    .dataframe tbody tr th {\n",
       "        vertical-align: top;\n",
       "    }\n",
       "\n",
       "    .dataframe thead th {\n",
       "        text-align: right;\n",
       "    }\n",
       "</style>\n",
       "<table border=\"1\" class=\"dataframe\">\n",
       "  <thead>\n",
       "    <tr style=\"text-align: right;\">\n",
       "      <th></th>\n",
       "      <th>bi_rads</th>\n",
       "      <th>age</th>\n",
       "      <th>shape</th>\n",
       "      <th>margin</th>\n",
       "      <th>density</th>\n",
       "      <th>severity</th>\n",
       "    </tr>\n",
       "  </thead>\n",
       "  <tbody>\n",
       "    <tr>\n",
       "      <td>0</td>\n",
       "      <td>5.0</td>\n",
       "      <td>67.0</td>\n",
       "      <td>3.0</td>\n",
       "      <td>5.0</td>\n",
       "      <td>3.0</td>\n",
       "      <td>1</td>\n",
       "    </tr>\n",
       "    <tr>\n",
       "      <td>1</td>\n",
       "      <td>4.0</td>\n",
       "      <td>43.0</td>\n",
       "      <td>1.0</td>\n",
       "      <td>1.0</td>\n",
       "      <td>NaN</td>\n",
       "      <td>1</td>\n",
       "    </tr>\n",
       "    <tr>\n",
       "      <td>2</td>\n",
       "      <td>5.0</td>\n",
       "      <td>58.0</td>\n",
       "      <td>4.0</td>\n",
       "      <td>5.0</td>\n",
       "      <td>3.0</td>\n",
       "      <td>1</td>\n",
       "    </tr>\n",
       "    <tr>\n",
       "      <td>3</td>\n",
       "      <td>4.0</td>\n",
       "      <td>28.0</td>\n",
       "      <td>1.0</td>\n",
       "      <td>1.0</td>\n",
       "      <td>3.0</td>\n",
       "      <td>0</td>\n",
       "    </tr>\n",
       "    <tr>\n",
       "      <td>4</td>\n",
       "      <td>5.0</td>\n",
       "      <td>74.0</td>\n",
       "      <td>1.0</td>\n",
       "      <td>5.0</td>\n",
       "      <td>NaN</td>\n",
       "      <td>1</td>\n",
       "    </tr>\n",
       "  </tbody>\n",
       "</table>\n",
       "</div>"
      ],
      "text/plain": [
       "   bi_rads   age  shape  margin  density  severity\n",
       "0      5.0  67.0    3.0     5.0      3.0         1\n",
       "1      4.0  43.0    1.0     1.0      NaN         1\n",
       "2      5.0  58.0    4.0     5.0      3.0         1\n",
       "3      4.0  28.0    1.0     1.0      3.0         0\n",
       "4      5.0  74.0    1.0     5.0      NaN         1"
      ]
     },
     "execution_count": 2,
     "metadata": {},
     "output_type": "execute_result"
    }
   ],
   "source": [
    "df = pd.read_csv(\"mammographic_masses.data.txt\",\n",
    "                 na_values=\"?\",\n",
    "                 names=(\"bi_rads\", \"age\", \"shape\", \"margin\", \"density\", \"severity\"))\n",
    "df.head()"
   ]
  },
  {
   "cell_type": "markdown",
   "metadata": {},
   "source": [
    "Evaluate whether the data needs cleaning; your model is only as good as the data it's given. Hint: use describe() on the dataframe."
   ]
  },
  {
   "cell_type": "code",
   "execution_count": 3,
   "metadata": {},
   "outputs": [
    {
     "data": {
      "text/html": [
       "<div>\n",
       "<style scoped>\n",
       "    .dataframe tbody tr th:only-of-type {\n",
       "        vertical-align: middle;\n",
       "    }\n",
       "\n",
       "    .dataframe tbody tr th {\n",
       "        vertical-align: top;\n",
       "    }\n",
       "\n",
       "    .dataframe thead th {\n",
       "        text-align: right;\n",
       "    }\n",
       "</style>\n",
       "<table border=\"1\" class=\"dataframe\">\n",
       "  <thead>\n",
       "    <tr style=\"text-align: right;\">\n",
       "      <th></th>\n",
       "      <th>bi_rads</th>\n",
       "      <th>age</th>\n",
       "      <th>shape</th>\n",
       "      <th>margin</th>\n",
       "      <th>density</th>\n",
       "      <th>severity</th>\n",
       "    </tr>\n",
       "  </thead>\n",
       "  <tbody>\n",
       "    <tr>\n",
       "      <td>count</td>\n",
       "      <td>959.000000</td>\n",
       "      <td>956.000000</td>\n",
       "      <td>930.000000</td>\n",
       "      <td>913.000000</td>\n",
       "      <td>885.000000</td>\n",
       "      <td>961.000000</td>\n",
       "    </tr>\n",
       "    <tr>\n",
       "      <td>mean</td>\n",
       "      <td>4.348279</td>\n",
       "      <td>55.487448</td>\n",
       "      <td>2.721505</td>\n",
       "      <td>2.796276</td>\n",
       "      <td>2.910734</td>\n",
       "      <td>0.463059</td>\n",
       "    </tr>\n",
       "    <tr>\n",
       "      <td>std</td>\n",
       "      <td>1.783031</td>\n",
       "      <td>14.480131</td>\n",
       "      <td>1.242792</td>\n",
       "      <td>1.566546</td>\n",
       "      <td>0.380444</td>\n",
       "      <td>0.498893</td>\n",
       "    </tr>\n",
       "    <tr>\n",
       "      <td>min</td>\n",
       "      <td>0.000000</td>\n",
       "      <td>18.000000</td>\n",
       "      <td>1.000000</td>\n",
       "      <td>1.000000</td>\n",
       "      <td>1.000000</td>\n",
       "      <td>0.000000</td>\n",
       "    </tr>\n",
       "    <tr>\n",
       "      <td>25%</td>\n",
       "      <td>4.000000</td>\n",
       "      <td>45.000000</td>\n",
       "      <td>2.000000</td>\n",
       "      <td>1.000000</td>\n",
       "      <td>3.000000</td>\n",
       "      <td>0.000000</td>\n",
       "    </tr>\n",
       "    <tr>\n",
       "      <td>50%</td>\n",
       "      <td>4.000000</td>\n",
       "      <td>57.000000</td>\n",
       "      <td>3.000000</td>\n",
       "      <td>3.000000</td>\n",
       "      <td>3.000000</td>\n",
       "      <td>0.000000</td>\n",
       "    </tr>\n",
       "    <tr>\n",
       "      <td>75%</td>\n",
       "      <td>5.000000</td>\n",
       "      <td>66.000000</td>\n",
       "      <td>4.000000</td>\n",
       "      <td>4.000000</td>\n",
       "      <td>3.000000</td>\n",
       "      <td>1.000000</td>\n",
       "    </tr>\n",
       "    <tr>\n",
       "      <td>max</td>\n",
       "      <td>55.000000</td>\n",
       "      <td>96.000000</td>\n",
       "      <td>4.000000</td>\n",
       "      <td>5.000000</td>\n",
       "      <td>4.000000</td>\n",
       "      <td>1.000000</td>\n",
       "    </tr>\n",
       "  </tbody>\n",
       "</table>\n",
       "</div>"
      ],
      "text/plain": [
       "          bi_rads         age       shape      margin     density    severity\n",
       "count  959.000000  956.000000  930.000000  913.000000  885.000000  961.000000\n",
       "mean     4.348279   55.487448    2.721505    2.796276    2.910734    0.463059\n",
       "std      1.783031   14.480131    1.242792    1.566546    0.380444    0.498893\n",
       "min      0.000000   18.000000    1.000000    1.000000    1.000000    0.000000\n",
       "25%      4.000000   45.000000    2.000000    1.000000    3.000000    0.000000\n",
       "50%      4.000000   57.000000    3.000000    3.000000    3.000000    0.000000\n",
       "75%      5.000000   66.000000    4.000000    4.000000    3.000000    1.000000\n",
       "max     55.000000   96.000000    4.000000    5.000000    4.000000    1.000000"
      ]
     },
     "execution_count": 3,
     "metadata": {},
     "output_type": "execute_result"
    }
   ],
   "source": [
    "df.describe()\n"
   ]
  },
  {
   "cell_type": "markdown",
   "metadata": {},
   "source": [
    "There are quite a few missing values in the data set. Before we just drop every row that's missing data, let's make sure we don't bias our data in doing so. Does there appear to be any sort of correlation to what sort of data has missing fields? If there were, we'd have to try and go back and fill that data in."
   ]
  },
  {
   "cell_type": "code",
   "execution_count": 4,
   "metadata": {},
   "outputs": [
    {
     "data": {
      "text/html": [
       "<div>\n",
       "<style scoped>\n",
       "    .dataframe tbody tr th:only-of-type {\n",
       "        vertical-align: middle;\n",
       "    }\n",
       "\n",
       "    .dataframe tbody tr th {\n",
       "        vertical-align: top;\n",
       "    }\n",
       "\n",
       "    .dataframe thead th {\n",
       "        text-align: right;\n",
       "    }\n",
       "</style>\n",
       "<table border=\"1\" class=\"dataframe\">\n",
       "  <thead>\n",
       "    <tr style=\"text-align: right;\">\n",
       "      <th></th>\n",
       "      <th>bi_rads</th>\n",
       "      <th>age</th>\n",
       "      <th>shape</th>\n",
       "      <th>margin</th>\n",
       "      <th>density</th>\n",
       "      <th>severity</th>\n",
       "    </tr>\n",
       "  </thead>\n",
       "  <tbody>\n",
       "    <tr>\n",
       "      <td>bi_rads</td>\n",
       "      <td>1.000000</td>\n",
       "      <td>-0.003303</td>\n",
       "      <td>0.120896</td>\n",
       "      <td>0.094349</td>\n",
       "      <td>-0.013383</td>\n",
       "      <td>NaN</td>\n",
       "    </tr>\n",
       "    <tr>\n",
       "      <td>age</td>\n",
       "      <td>-0.003303</td>\n",
       "      <td>1.000000</td>\n",
       "      <td>-0.013204</td>\n",
       "      <td>-0.016582</td>\n",
       "      <td>-0.021193</td>\n",
       "      <td>NaN</td>\n",
       "    </tr>\n",
       "    <tr>\n",
       "      <td>shape</td>\n",
       "      <td>0.120896</td>\n",
       "      <td>-0.013204</td>\n",
       "      <td>1.000000</td>\n",
       "      <td>0.228499</td>\n",
       "      <td>0.033791</td>\n",
       "      <td>NaN</td>\n",
       "    </tr>\n",
       "    <tr>\n",
       "      <td>margin</td>\n",
       "      <td>0.094349</td>\n",
       "      <td>-0.016582</td>\n",
       "      <td>0.228499</td>\n",
       "      <td>1.000000</td>\n",
       "      <td>0.216018</td>\n",
       "      <td>NaN</td>\n",
       "    </tr>\n",
       "    <tr>\n",
       "      <td>density</td>\n",
       "      <td>-0.013383</td>\n",
       "      <td>-0.021193</td>\n",
       "      <td>0.033791</td>\n",
       "      <td>0.216018</td>\n",
       "      <td>1.000000</td>\n",
       "      <td>NaN</td>\n",
       "    </tr>\n",
       "    <tr>\n",
       "      <td>severity</td>\n",
       "      <td>NaN</td>\n",
       "      <td>NaN</td>\n",
       "      <td>NaN</td>\n",
       "      <td>NaN</td>\n",
       "      <td>NaN</td>\n",
       "      <td>NaN</td>\n",
       "    </tr>\n",
       "  </tbody>\n",
       "</table>\n",
       "</div>"
      ],
      "text/plain": [
       "           bi_rads       age     shape    margin   density  severity\n",
       "bi_rads   1.000000 -0.003303  0.120896  0.094349 -0.013383       NaN\n",
       "age      -0.003303  1.000000 -0.013204 -0.016582 -0.021193       NaN\n",
       "shape     0.120896 -0.013204  1.000000  0.228499  0.033791       NaN\n",
       "margin    0.094349 -0.016582  0.228499  1.000000  0.216018       NaN\n",
       "density  -0.013383 -0.021193  0.033791  0.216018  1.000000       NaN\n",
       "severity       NaN       NaN       NaN       NaN       NaN       NaN"
      ]
     },
     "execution_count": 4,
     "metadata": {},
     "output_type": "execute_result"
    }
   ],
   "source": [
    "df_nulls = df.isnull().astype(int)\n",
    "df_nulls.corr()"
   ]
  },
  {
   "cell_type": "code",
   "execution_count": 5,
   "metadata": {},
   "outputs": [
    {
     "data": {
      "image/png": "[encoded data removed]",
      "text/plain": [
       "<Figure size 432x288 with 1 Axes>"
      ]
     },
     "metadata": {
      "needs_background": "light"
     },
     "output_type": "display_data"
    }
   ],
   "source": [
    "axes = plt.gca()\n",
    "df_nulls.plot(kind=\"line\", y=\"shape\",ax=axes)\n",
    "df_nulls.plot(kind=\"line\", y=\"margin\",ax=axes)\n",
    "df_nulls.plot(kind=\"line\", y=\"density\",ax=axes)\n",
    "\n",
    "plt.show()"
   ]
  },
  {
   "cell_type": "markdown",
   "metadata": {},
   "source": [
    "If the missing data seems randomly distributed, go ahead and drop rows with missing data. Hint: use dropna()."
   ]
  },
  {
   "cell_type": "code",
   "execution_count": 7,
   "metadata": {},
   "outputs": [
    {
     "name": "stdout",
     "output_type": "stream",
     "text": [
      "(961, 6)\n",
      "(830, 6)\n"
     ]
    }
   ],
   "source": [
    "print(df.shape)\n",
    "df_cleaned = df.dropna()\n",
    "print(df_cleaned.shape)"
   ]
  },
  {
   "cell_type": "markdown",
   "metadata": {
    "collapsed": true
   },
   "source": [
    "Next you'll need to convert the Pandas dataframes into numpy arrays that can be used by scikit_learn. Create an array that extracts only the feature data we want to work with (age, shape, margin, and density) and another array that contains the classes (severity). You'll also need an array of the feature name labels."
   ]
  },
  {
   "cell_type": "code",
   "execution_count": 8,
   "metadata": {},
   "outputs": [],
   "source": [
    "# features\n",
    "df_features = df_cleaned[[\"age\", \"shape\", \"margin\", \"density\"]]\n",
    "feature_labels = df_features.columns.to_numpy()\n",
    "features = df_features.to_numpy()\n",
    "classes = df_cleaned[\"severity\"].to_numpy()"
   ]
  },
  {
   "cell_type": "markdown",
   "metadata": {},
   "source": [
    "Some of our models require the input data to be normalized, so go ahead and normalize the attribute data. Hint: use preprocessing.StandardScaler()."
   ]
  },
  {
   "cell_type": "code",
   "execution_count": 9,
   "metadata": {},
   "outputs": [],
   "source": [
    "scaler = StandardScaler()\n",
    "scaler.fit(features)\n",
    "#print(scaler.mean_)\n",
    "scaled_features = scaler.transform(features)\n",
    "#print(scaled_features[:5])\n",
    "#print(features[:5])"
   ]
  },
  {
   "cell_type": "markdown",
   "metadata": {},
   "source": [
    "## Decision Trees\n",
    "\n",
    "Before moving to K-Fold cross validation and random forests, start by creating a single train/test split of our data. Set aside 75% for training, and 25% for testing."
   ]
  },
  {
   "cell_type": "code",
   "execution_count": 10,
   "metadata": {},
   "outputs": [],
   "source": [
    "mask = np.random.rand(len(classes)) < 0.75\n",
    "x_train, x_test = scaled_features[mask], scaled_features[~mask]\n",
    "y_train, y_test = classes[mask], classes[~mask]\n",
    "#print(len(x_train))\n",
    "#print(len(y_test))"
   ]
  },
  {
   "cell_type": "markdown",
   "metadata": {},
   "source": [
    "Now create a DecisionTreeClassifier and fit it to your training data."
   ]
  },
  {
   "cell_type": "code",
   "execution_count": 11,
   "metadata": {},
   "outputs": [],
   "source": [
    "dt_classifier = tree.DecisionTreeClassifier()\n",
    "dt_classifier = dt_classifier.fit(x_train, y_train)"
   ]
  },
  {
   "cell_type": "markdown",
   "metadata": {},
   "source": [
    "Display the resulting decision tree."
   ]
  },
  {
   "cell_type": "code",
   "execution_count": 12,
   "metadata": {},
   "outputs": [
    {
     "data": {
      "text/plain": [
       "[Text(104.59579753174256, 211.7178947368421, 'X[2] <= -0.838\\ngini = 0.5\\nsamples = 614\\nvalue = [305, 309]'),\n",
       " Text(30.43469789842382, 200.2736842105263, 'X[0] <= 1.89\\ngini = 0.177\\nsamples = 224\\nvalue = [202, 22]'),\n",
       " Text(28.08933887915937, 188.82947368421054, 'X[0] <= -1.042\\ngini = 0.171\\nsamples = 223\\nvalue = [202, 21]'),\n",
       " Text(4.690718038528897, 177.38526315789474, 'X[0] <= -1.52\\ngini = 0.031\\nsamples = 64\\nvalue = [63, 1]'),\n",
       " Text(2.3453590192644485, 165.94105263157894, 'gini = 0.0\\nsamples = 39\\nvalue = [39, 0]'),\n",
       " Text(7.036077057793346, 165.94105263157894, 'X[0] <= -1.451\\ngini = 0.077\\nsamples = 25\\nvalue = [24, 1]'),\n",
       " Text(4.690718038528897, 154.49684210526317, 'X[1] <= -1.032\\ngini = 0.375\\nsamples = 4\\nvalue = [3, 1]'),\n",
       " Text(2.3453590192644485, 143.05263157894737, 'gini = 0.0\\nsamples = 1\\nvalue = [1, 0]'),\n",
       " Text(7.036077057793346, 143.05263157894737, 'gini = 0.444\\nsamples = 3\\nvalue = [2, 1]'),\n",
       " Text(9.381436077057794, 154.49684210526317, 'gini = 0.0\\nsamples = 21\\nvalue = [21, 0]'),\n",
       " Text(51.48795971978984, 177.38526315789474, 'X[1] <= -0.227\\ngini = 0.22\\nsamples = 159\\nvalue = [139, 20]'),\n",
       " Text(32.32197898423818, 165.94105263157894, 'X[0] <= -0.838\\ngini = 0.203\\nsamples = 148\\nvalue = [131, 17]'),\n",
       " Text(14.072154115586692, 154.49684210526317, 'X[3] <= -4.036\\ngini = 0.346\\nsamples = 18\\nvalue = [14, 4]'),\n",
       " Text(11.726795096322242, 143.05263157894737, 'gini = 0.0\\nsamples = 1\\nvalue = [0, 1]'),\n",
       " Text(16.417513134851138, 143.05263157894737, 'X[1] <= -1.032\\ngini = 0.291\\nsamples = 17\\nvalue = [14, 3]'),\n",
       " Text(11.726795096322242, 131.60842105263157, 'X[0] <= -0.906\\ngini = 0.408\\nsamples = 7\\nvalue = [5, 2]'),\n",
       " Text(9.381436077057794, 120.16421052631578, 'X[0] <= -0.974\\ngini = 0.278\\nsamples = 6\\nvalue = [5, 1]'),\n",
       " Text(7.036077057793346, 108.72, 'gini = 0.375\\nsamples = 4\\nvalue = [3, 1]'),\n",
       " Text(11.726795096322242, 108.72, 'gini = 0.0\\nsamples = 2\\nvalue = [2, 0]'),\n",
       " Text(14.072154115586692, 120.16421052631578, 'gini = 0.0\\nsamples = 1\\nvalue = [0, 1]'),\n",
       " Text(21.108231173380037, 131.60842105263157, 'X[0] <= -0.974\\ngini = 0.18\\nsamples = 10\\nvalue = [9, 1]'),\n",
       " Text(18.762872154115588, 120.16421052631578, 'gini = 0.0\\nsamples = 4\\nvalue = [4, 0]'),\n",
       " Text(23.453590192644484, 120.16421052631578, 'X[0] <= -0.906\\ngini = 0.278\\nsamples = 6\\nvalue = [5, 1]'),\n",
       " Text(21.108231173380037, 108.72, 'gini = 0.444\\nsamples = 3\\nvalue = [2, 1]'),\n",
       " Text(25.798949211908933, 108.72, 'gini = 0.0\\nsamples = 3\\nvalue = [3, 0]'),\n",
       " Text(50.57180385288967, 154.49684210526317, 'X[0] <= 0.663\\ngini = 0.18\\nsamples = 130\\nvalue = [117, 13]'),\n",
       " Text(39.871103327495625, 143.05263157894737, 'X[0] <= 0.254\\ngini = 0.148\\nsamples = 112\\nvalue = [103, 9]'),\n",
       " Text(37.525744308231175, 131.60842105263157, 'X[0] <= 0.185\\ngini = 0.173\\nsamples = 94\\nvalue = [85, 9]'),\n",
       " Text(32.835026269702276, 120.16421052631578, 'X[0] <= -0.087\\ngini = 0.13\\nsamples = 86\\nvalue = [80, 6]'),\n",
       " Text(30.48966725043783, 108.72, 'X[0] <= -0.156\\ngini = 0.172\\nsamples = 63\\nvalue = [57, 6]'),\n",
       " Text(21.987740805604204, 97.27578947368421, 'X[0] <= -0.497\\ngini = 0.128\\nsamples = 58\\nvalue = [54, 4]'),\n",
       " Text(12.019964973730298, 85.83157894736843, 'X[0] <= -0.701\\ngini = 0.071\\nsamples = 27\\nvalue = [26, 1]'),\n",
       " Text(9.67460595446585, 74.38736842105263, 'X[1] <= -1.032\\ngini = 0.165\\nsamples = 11\\nvalue = [10, 1]'),\n",
       " Text(7.329246935201401, 62.943157894736856, 'gini = 0.0\\nsamples = 6\\nvalue = [6, 0]'),\n",
       " Text(12.019964973730298, 62.943157894736856, 'X[0] <= -0.769\\ngini = 0.32\\nsamples = 5\\nvalue = [4, 1]'),\n",
       " Text(9.67460595446585, 51.49894736842106, 'gini = 0.0\\nsamples = 2\\nvalue = [2, 0]'),\n",
       " Text(14.365323992994746, 51.49894736842106, 'gini = 0.444\\nsamples = 3\\nvalue = [2, 1]'),\n",
       " Text(14.365323992994746, 74.38736842105263, 'gini = 0.0\\nsamples = 16\\nvalue = [16, 0]'),\n",
       " Text(31.95551663747811, 85.83157894736843, 'X[0] <= -0.36\\ngini = 0.175\\nsamples = 31\\nvalue = [28, 3]'),\n",
       " Text(26.092119089316988, 74.38736842105263, 'X[1] <= -1.032\\ngini = 0.245\\nsamples = 14\\nvalue = [12, 2]'),\n",
       " Text(21.401401050788092, 62.943157894736856, 'X[0] <= -0.428\\ngini = 0.198\\nsamples = 9\\nvalue = [8, 1]'),\n",
       " Text(19.056042031523642, 51.49894736842106, 'gini = 0.32\\nsamples = 5\\nvalue = [4, 1]'),\n",
       " Text(23.74676007005254, 51.49894736842106, 'gini = 0.0\\nsamples = 4\\nvalue = [4, 0]'),\n",
       " Text(30.782837127845887, 62.943157894736856, 'X[0] <= -0.428\\ngini = 0.32\\nsamples = 5\\nvalue = [4, 1]'),\n",
       " Text(28.437478108581438, 51.49894736842106, 'gini = 0.0\\nsamples = 3\\nvalue = [3, 0]'),\n",
       " Text(33.12819614711034, 51.49894736842106, 'gini = 0.5\\nsamples = 2\\nvalue = [1, 1]'),\n",
       " Text(37.81891418563923, 74.38736842105263, 'X[0] <= -0.224\\ngini = 0.111\\nsamples = 17\\nvalue = [16, 1]'),\n",
       " Text(35.47355516637478, 62.943157894736856, 'gini = 0.0\\nsamples = 8\\nvalue = [8, 0]'),\n",
       " Text(40.16427320490368, 62.943157894736856, 'X[1] <= -1.032\\ngini = 0.198\\nsamples = 9\\nvalue = [8, 1]'),\n",
       " Text(37.81891418563923, 51.49894736842106, 'X[3] <= -1.185\\ngini = 0.32\\nsamples = 5\\nvalue = [4, 1]'),\n",
       " Text(35.47355516637478, 40.05473684210526, 'gini = 0.0\\nsamples = 1\\nvalue = [1, 0]'),\n",
       " Text(40.16427320490368, 40.05473684210526, 'gini = 0.375\\nsamples = 4\\nvalue = [3, 1]'),\n",
       " Text(42.50963222416813, 51.49894736842106, 'gini = 0.0\\nsamples = 4\\nvalue = [4, 0]'),\n",
       " Text(38.991593695271455, 97.27578947368421, 'X[1] <= -1.032\\ngini = 0.48\\nsamples = 5\\nvalue = [3, 2]'),\n",
       " Text(36.646234676007005, 85.83157894736843, 'gini = 0.444\\nsamples = 3\\nvalue = [2, 1]'),\n",
       " Text(41.336952714535904, 85.83157894736843, 'gini = 0.5\\nsamples = 2\\nvalue = [1, 1]'),\n",
       " Text(35.180385288966725, 108.72, 'gini = 0.0\\nsamples = 23\\nvalue = [23, 0]'),\n",
       " Text(42.216462346760075, 120.16421052631578, 'X[1] <= -1.032\\ngini = 0.469\\nsamples = 8\\nvalue = [5, 3]'),\n",
       " Text(39.871103327495625, 108.72, 'gini = 0.0\\nsamples = 1\\nvalue = [1, 0]'),\n",
       " Text(44.56182136602452, 108.72, 'gini = 0.49\\nsamples = 7\\nvalue = [4, 3]'),\n",
       " Text(42.216462346760075, 131.60842105263157, 'gini = 0.0\\nsamples = 18\\nvalue = [18, 0]'),\n",
       " Text(61.27250437828371, 143.05263157894737, 'X[0] <= 1.311\\ngini = 0.346\\nsamples = 18\\nvalue = [14, 4]'),\n",
       " Text(58.92714535901927, 131.60842105263157, 'X[0] <= 1.208\\ngini = 0.391\\nsamples = 15\\nvalue = [11, 4]'),\n",
       " Text(56.58178633975482, 120.16421052631578, 'X[0] <= 1.072\\ngini = 0.337\\nsamples = 14\\nvalue = [11, 3]'),\n",
       " Text(54.23642732049037, 108.72, 'X[0] <= 1.004\\ngini = 0.42\\nsamples = 10\\nvalue = [7, 3]'),\n",
       " Text(51.89106830122592, 97.27578947368421, 'X[1] <= -1.032\\ngini = 0.346\\nsamples = 9\\nvalue = [7, 2]'),\n",
       " Text(49.54570928196147, 85.83157894736843, 'X[0] <= 0.731\\ngini = 0.444\\nsamples = 6\\nvalue = [4, 2]'),\n",
       " Text(47.20035026269702, 74.38736842105263, 'gini = 0.0\\nsamples = 1\\nvalue = [0, 1]'),\n",
       " Text(51.89106830122592, 74.38736842105263, 'X[0] <= 0.867\\ngini = 0.32\\nsamples = 5\\nvalue = [4, 1]'),\n",
       " Text(49.54570928196147, 62.943157894736856, 'X[0] <= 0.799\\ngini = 0.444\\nsamples = 3\\nvalue = [2, 1]'),\n",
       " Text(47.20035026269702, 51.49894736842106, 'gini = 0.0\\nsamples = 1\\nvalue = [1, 0]'),\n",
       " Text(51.89106830122592, 51.49894736842106, 'gini = 0.5\\nsamples = 2\\nvalue = [1, 1]'),\n",
       " Text(54.23642732049037, 62.943157894736856, 'gini = 0.0\\nsamples = 2\\nvalue = [2, 0]'),\n",
       " Text(54.23642732049037, 85.83157894736843, 'gini = 0.0\\nsamples = 3\\nvalue = [3, 0]'),\n",
       " Text(56.58178633975482, 97.27578947368421, 'gini = 0.0\\nsamples = 1\\nvalue = [0, 1]'),\n",
       " Text(58.92714535901927, 108.72, 'gini = 0.0\\nsamples = 4\\nvalue = [4, 0]'),\n",
       " Text(61.27250437828371, 120.16421052631578, 'gini = 0.0\\nsamples = 1\\nvalue = [0, 1]'),\n",
       " Text(63.61786339754816, 131.60842105263157, 'gini = 0.0\\nsamples = 3\\nvalue = [3, 0]'),\n",
       " Text(70.65394045534151, 165.94105263157894, 'X[0] <= 0.185\\ngini = 0.397\\nsamples = 11\\nvalue = [8, 3]'),\n",
       " Text(68.30858143607706, 154.49684210526317, 'X[0] <= -0.769\\ngini = 0.49\\nsamples = 7\\nvalue = [4, 3]'),\n",
       " Text(65.96322241681261, 143.05263157894737, 'gini = 0.0\\nsamples = 3\\nvalue = [3, 0]'),\n",
       " Text(70.65394045534151, 143.05263157894737, 'X[0] <= -0.633\\ngini = 0.375\\nsamples = 4\\nvalue = [1, 3]'),\n",
       " Text(68.30858143607706, 131.60842105263157, 'gini = 0.0\\nsamples = 2\\nvalue = [0, 2]'),\n",
       " Text(72.99929947460596, 131.60842105263157, 'X[0] <= -0.292\\ngini = 0.5\\nsamples = 2\\nvalue = [1, 1]'),\n",
       " Text(70.65394045534151, 120.16421052631578, 'gini = 0.0\\nsamples = 1\\nvalue = [1, 0]'),\n",
       " Text(75.34465849387041, 120.16421052631578, 'gini = 0.0\\nsamples = 1\\nvalue = [0, 1]'),\n",
       " Text(72.99929947460596, 154.49684210526317, 'gini = 0.0\\nsamples = 4\\nvalue = [4, 0]'),\n",
       " Text(32.78005691768827, 188.82947368421054, 'gini = 0.0\\nsamples = 1\\nvalue = [0, 1]'),\n",
       " Text(178.7568971650613, 200.2736842105263, 'X[1] <= -0.227\\ngini = 0.389\\nsamples = 390\\nvalue = [103, 287]'),\n",
       " Text(108.17968476357268, 188.82947368421054, 'X[2] <= 0.438\\ngini = 0.477\\nsamples = 56\\nvalue = [34, 22]'),\n",
       " Text(105.83432574430823, 177.38526315789474, 'gini = 0.0\\nsamples = 16\\nvalue = [16, 0]'),\n",
       " Text(110.52504378283713, 177.38526315789474, 'X[0] <= 0.595\\ngini = 0.495\\nsamples = 40\\nvalue = [18, 22]'),\n",
       " Text(94.107530647986, 165.94105263157894, 'X[0] <= -1.486\\ngini = 0.461\\nsamples = 25\\nvalue = [16, 9]'),\n",
       " Text(91.76217162872155, 154.49684210526317, 'gini = 0.0\\nsamples = 1\\nvalue = [0, 1]'),\n",
       " Text(96.45288966725045, 154.49684210526317, 'X[0] <= 0.151\\ngini = 0.444\\nsamples = 24\\nvalue = [16, 8]'),\n",
       " Text(87.07145359019265, 143.05263157894737, 'X[1] <= -1.032\\ngini = 0.337\\nsamples = 14\\nvalue = [11, 3]'),\n",
       " Text(82.38073555166375, 131.60842105263157, 'X[0] <= -0.838\\ngini = 0.5\\nsamples = 4\\nvalue = [2, 2]'),\n",
       " Text(80.0353765323993, 120.16421052631578, 'gini = 0.0\\nsamples = 1\\nvalue = [0, 1]'),\n",
       " Text(84.7260945709282, 120.16421052631578, 'X[0] <= -0.292\\ngini = 0.444\\nsamples = 3\\nvalue = [2, 1]'),\n",
       " Text(82.38073555166375, 108.72, 'gini = 0.0\\nsamples = 2\\nvalue = [2, 0]'),\n",
       " Text(87.07145359019265, 108.72, 'gini = 0.0\\nsamples = 1\\nvalue = [0, 1]'),\n",
       " Text(91.76217162872155, 131.60842105263157, 'X[0] <= -0.053\\ngini = 0.18\\nsamples = 10\\nvalue = [9, 1]'),\n",
       " Text(89.4168126094571, 120.16421052631578, 'gini = 0.0\\nsamples = 4\\nvalue = [4, 0]'),\n",
       " Text(94.107530647986, 120.16421052631578, 'X[0] <= 0.049\\ngini = 0.278\\nsamples = 6\\nvalue = [5, 1]'),\n",
       " Text(91.76217162872155, 108.72, 'gini = 0.444\\nsamples = 3\\nvalue = [2, 1]'),\n",
       " Text(96.45288966725045, 108.72, 'gini = 0.0\\nsamples = 3\\nvalue = [3, 0]'),\n",
       " Text(105.83432574430823, 143.05263157894737, 'X[0] <= 0.458\\ngini = 0.5\\nsamples = 10\\nvalue = [5, 5]'),\n",
       " Text(101.14360770577935, 131.60842105263157, 'X[1] <= -1.032\\ngini = 0.444\\nsamples = 6\\nvalue = [2, 4]'),\n",
       " Text(98.7982486865149, 120.16421052631578, 'gini = 0.0\\nsamples = 1\\nvalue = [0, 1]'),\n",
       " Text(103.48896672504378, 120.16421052631578, 'X[0] <= 0.322\\ngini = 0.48\\nsamples = 5\\nvalue = [2, 3]'),\n",
       " Text(101.14360770577935, 108.72, 'gini = 0.5\\nsamples = 2\\nvalue = [1, 1]'),\n",
       " Text(105.83432574430823, 108.72, 'gini = 0.444\\nsamples = 3\\nvalue = [1, 2]'),\n",
       " Text(110.52504378283713, 131.60842105263157, 'X[0] <= 0.526\\ngini = 0.375\\nsamples = 4\\nvalue = [3, 1]'),\n",
       " Text(108.17968476357268, 120.16421052631578, 'gini = 0.0\\nsamples = 1\\nvalue = [1, 0]'),\n",
       " Text(112.87040280210158, 120.16421052631578, 'gini = 0.444\\nsamples = 3\\nvalue = [2, 1]'),\n",
       " Text(126.94255691768828, 165.94105263157894, 'X[0] <= 1.242\\ngini = 0.231\\nsamples = 15\\nvalue = [2, 13]'),\n",
       " Text(124.59719789842383, 154.49684210526317, 'X[0] <= 1.072\\ngini = 0.32\\nsamples = 10\\nvalue = [2, 8]'),\n",
       " Text(122.25183887915938, 143.05263157894737, 'X[1] <= -1.032\\ngini = 0.198\\nsamples = 9\\nvalue = [1, 8]'),\n",
       " Text(119.90647985989493, 131.60842105263157, 'X[0] <= 0.833\\ngini = 0.375\\nsamples = 4\\nvalue = [1, 3]'),\n",
       " Text(117.56112084063048, 120.16421052631578, 'X[0] <= 0.731\\ngini = 0.5\\nsamples = 2\\nvalue = [1, 1]'),\n",
       " Text(115.21576182136603, 108.72, 'gini = 0.0\\nsamples = 1\\nvalue = [0, 1]'),\n",
       " Text(119.90647985989493, 108.72, 'gini = 0.0\\nsamples = 1\\nvalue = [1, 0]'),\n",
       " Text(122.25183887915938, 120.16421052631578, 'gini = 0.0\\nsamples = 2\\nvalue = [0, 2]'),\n",
       " Text(124.59719789842383, 131.60842105263157, 'gini = 0.0\\nsamples = 5\\nvalue = [0, 5]'),\n",
       " Text(126.94255691768828, 143.05263157894737, 'gini = 0.0\\nsamples = 1\\nvalue = [1, 0]'),\n",
       " Text(129.28791593695271, 154.49684210526317, 'gini = 0.0\\nsamples = 5\\nvalue = [0, 5]'),\n",
       " Text(249.33410956654993, 188.82947368421054, 'X[0] <= 0.731\\ngini = 0.328\\nsamples = 334\\nvalue = [69, 265]'),\n",
       " Text(179.11305275831876, 177.38526315789474, 'X[1] <= 0.578\\ngini = 0.409\\nsamples = 213\\nvalue = [61, 152]'),\n",
       " Text(143.94640980735554, 165.94105263157894, 'X[2] <= 1.077\\ngini = 0.498\\nsamples = 34\\nvalue = [16, 18]'),\n",
       " Text(141.60105078809107, 154.49684210526317, 'X[0] <= 0.458\\ngini = 0.498\\nsamples = 30\\nvalue = [16, 14]'),\n",
       " Text(131.63327495621718, 143.05263157894737, 'X[2] <= -0.2\\ngini = 0.463\\nsamples = 22\\nvalue = [14, 8]'),\n",
       " Text(129.28791593695271, 131.60842105263157, 'gini = 0.0\\nsamples = 2\\nvalue = [0, 2]'),\n",
       " Text(133.9786339754816, 131.60842105263157, 'X[0] <= -0.122\\ngini = 0.42\\nsamples = 20\\nvalue = [14, 6]'),\n",
       " Text(128.1152364273205, 120.16421052631578, 'X[0] <= -0.804\\ngini = 0.298\\nsamples = 11\\nvalue = [9, 2]'),\n",
       " Text(125.76987740805605, 108.72, 'X[2] <= 0.438\\ngini = 0.5\\nsamples = 4\\nvalue = [2, 2]'),\n",
       " Text(123.4245183887916, 97.27578947368421, 'gini = 0.0\\nsamples = 1\\nvalue = [0, 1]'),\n",
       " Text(128.1152364273205, 97.27578947368421, 'X[3] <= -1.185\\ngini = 0.444\\nsamples = 3\\nvalue = [2, 1]'),\n",
       " Text(125.76987740805605, 85.83157894736843, 'gini = 0.0\\nsamples = 1\\nvalue = [1, 0]'),\n",
       " Text(130.46059544658493, 85.83157894736843, 'X[0] <= -1.008\\ngini = 0.5\\nsamples = 2\\nvalue = [1, 1]'),\n",
       " Text(128.1152364273205, 74.38736842105263, 'gini = 0.0\\nsamples = 1\\nvalue = [1, 0]'),\n",
       " Text(132.8059544658494, 74.38736842105263, 'gini = 0.0\\nsamples = 1\\nvalue = [0, 1]'),\n",
       " Text(130.46059544658493, 108.72, 'gini = 0.0\\nsamples = 7\\nvalue = [7, 0]'),\n",
       " Text(139.84203152364273, 120.16421052631578, 'X[0] <= 0.185\\ngini = 0.494\\nsamples = 9\\nvalue = [5, 4]'),\n",
       " Text(135.15131348511383, 108.72, 'X[3] <= -1.185\\ngini = 0.375\\nsamples = 4\\nvalue = [1, 3]'),\n",
       " Text(132.8059544658494, 97.27578947368421, 'gini = 0.0\\nsamples = 1\\nvalue = [1, 0]'),\n",
       " Text(137.4966725043783, 97.27578947368421, 'gini = 0.0\\nsamples = 3\\nvalue = [0, 3]'),\n",
       " Text(144.53274956217163, 108.72, 'X[0] <= 0.39\\ngini = 0.32\\nsamples = 5\\nvalue = [4, 1]'),\n",
       " Text(142.1873905429072, 97.27578947368421, 'gini = 0.0\\nsamples = 2\\nvalue = [2, 0]'),\n",
       " Text(146.8781085814361, 97.27578947368421, 'gini = 0.444\\nsamples = 3\\nvalue = [2, 1]'),\n",
       " Text(151.568826619965, 143.05263157894737, 'X[0] <= 0.663\\ngini = 0.375\\nsamples = 8\\nvalue = [2, 6]'),\n",
       " Text(149.22346760070053, 131.60842105263157, 'X[0] <= 0.595\\ngini = 0.245\\nsamples = 7\\nvalue = [1, 6]'),\n",
       " Text(146.8781085814361, 120.16421052631578, 'gini = 0.0\\nsamples = 3\\nvalue = [0, 3]'),\n",
       " Text(151.568826619965, 120.16421052631578, 'X[2] <= 0.438\\ngini = 0.375\\nsamples = 4\\nvalue = [1, 3]'),\n",
       " Text(149.22346760070053, 108.72, 'gini = 0.444\\nsamples = 3\\nvalue = [1, 2]'),\n",
       " Text(153.91418563922943, 108.72, 'gini = 0.0\\nsamples = 1\\nvalue = [0, 1]'),\n",
       " Text(153.91418563922943, 131.60842105263157, 'gini = 0.0\\nsamples = 1\\nvalue = [1, 0]'),\n",
       " Text(146.29176882661997, 154.49684210526317, 'gini = 0.0\\nsamples = 4\\nvalue = [0, 4]'),\n",
       " Text(214.27969570928198, 165.94105263157894, 'X[0] <= 0.117\\ngini = 0.376\\nsamples = 179\\nvalue = [45, 134]'),\n",
       " Text(180.68426007005255, 154.49684210526317, 'X[0] <= -1.383\\ngini = 0.426\\nsamples = 104\\nvalue = [32, 72]'),\n",
       " Text(160.95026269702277, 143.05263157894737, 'X[3] <= -1.185\\ngini = 0.49\\nsamples = 7\\nvalue = [4, 3]'),\n",
       " Text(158.60490367775833, 131.60842105263157, 'gini = 0.0\\nsamples = 2\\nvalue = [0, 2]'),\n",
       " Text(163.29562171628723, 131.60842105263157, 'X[0] <= -1.724\\ngini = 0.32\\nsamples = 5\\nvalue = [4, 1]'),\n",
       " Text(160.95026269702277, 120.16421052631578, 'gini = 0.0\\nsamples = 1\\nvalue = [0, 1]'),\n",
       " Text(165.64098073555166, 120.16421052631578, 'gini = 0.0\\nsamples = 4\\nvalue = [4, 0]'),\n",
       " Text(200.41825744308233, 143.05263157894737, 'X[0] <= -0.019\\ngini = 0.411\\nsamples = 97\\nvalue = [28, 69]'),\n",
       " Text(180.9591068301226, 131.60842105263157, 'X[0] <= -0.974\\ngini = 0.39\\nsamples = 83\\nvalue = [22, 61]'),\n",
       " Text(170.33169877408056, 120.16421052631578, 'X[0] <= -1.11\\ngini = 0.198\\nsamples = 9\\nvalue = [1, 8]'),\n",
       " Text(167.98633975481613, 108.72, 'X[0] <= -1.213\\ngini = 0.375\\nsamples = 4\\nvalue = [1, 3]'),\n",
       " Text(165.64098073555166, 97.27578947368421, 'gini = 0.0\\nsamples = 2\\nvalue = [0, 2]'),\n",
       " Text(170.33169877408056, 97.27578947368421, 'X[2] <= 0.438\\ngini = 0.5\\nsamples = 2\\nvalue = [1, 1]'),\n",
       " Text(167.98633975481613, 85.83157894736843, 'gini = 0.0\\nsamples = 1\\nvalue = [1, 0]'),\n",
       " Text(172.67705779334503, 85.83157894736843, 'gini = 0.0\\nsamples = 1\\nvalue = [0, 1]'),\n",
       " Text(172.67705779334503, 108.72, 'gini = 0.0\\nsamples = 5\\nvalue = [0, 5]'),\n",
       " Text(191.58651488616462, 120.16421052631578, 'X[0] <= -0.906\\ngini = 0.407\\nsamples = 74\\nvalue = [21, 53]'),\n",
       " Text(186.89579684763572, 108.72, 'X[2] <= 1.077\\ngini = 0.5\\nsamples = 4\\nvalue = [2, 2]'),\n",
       " Text(184.5504378283713, 97.27578947368421, 'gini = 0.0\\nsamples = 2\\nvalue = [0, 2]'),\n",
       " Text(189.2411558669002, 97.27578947368421, 'gini = 0.0\\nsamples = 2\\nvalue = [2, 0]'),\n",
       " Text(196.27723292469352, 108.72, 'X[2] <= -0.2\\ngini = 0.396\\nsamples = 70\\nvalue = [19, 51]'),\n",
       " Text(193.9318739054291, 97.27578947368421, 'gini = 0.0\\nsamples = 2\\nvalue = [0, 2]'),\n",
       " Text(198.62259194395799, 97.27578947368421, 'X[2] <= 1.077\\ngini = 0.403\\nsamples = 68\\nvalue = [19, 49]'),\n",
       " Text(177.36777583187393, 85.83157894736843, 'X[0] <= -0.428\\ngini = 0.434\\nsamples = 44\\nvalue = [14, 30]'),\n",
       " Text(161.24343257443084, 74.38736842105263, 'X[0] <= -0.838\\ngini = 0.488\\nsamples = 19\\nvalue = [8, 11]'),\n",
       " Text(158.89807355516638, 62.943157894736856, 'gini = 0.0\\nsamples = 1\\nvalue = [0, 1]'),\n",
       " Text(163.58879159369528, 62.943157894736856, 'X[0] <= -0.701\\ngini = 0.494\\nsamples = 18\\nvalue = [8, 10]'),\n",
       " Text(158.89807355516638, 51.49894736842106, 'X[3] <= -1.185\\ngini = 0.444\\nsamples = 3\\nvalue = [2, 1]'),\n",
       " Text(156.55271453590194, 40.05473684210526, 'gini = 0.0\\nsamples = 1\\nvalue = [0, 1]'),\n",
       " Text(161.24343257443084, 40.05473684210526, 'gini = 0.0\\nsamples = 2\\nvalue = [2, 0]'),\n",
       " Text(168.27950963222418, 51.49894736842106, 'X[3] <= -1.185\\ngini = 0.48\\nsamples = 15\\nvalue = [6, 9]'),\n",
       " Text(165.93415061295974, 40.05473684210526, 'gini = 0.0\\nsamples = 1\\nvalue = [1, 0]'),\n",
       " Text(170.6248686514886, 40.05473684210526, 'X[0] <= -0.633\\ngini = 0.459\\nsamples = 14\\nvalue = [5, 9]'),\n",
       " Text(165.93415061295974, 28.610526315789485, 'X[2] <= 0.438\\ngini = 0.32\\nsamples = 5\\nvalue = [1, 4]'),\n",
       " Text(163.58879159369528, 17.166315789473686, 'gini = 0.444\\nsamples = 3\\nvalue = [1, 2]'),\n",
       " Text(168.27950963222418, 17.166315789473686, 'gini = 0.0\\nsamples = 2\\nvalue = [0, 2]'),\n",
       " Text(175.3155866900175, 28.610526315789485, 'X[0] <= -0.565\\ngini = 0.494\\nsamples = 9\\nvalue = [4, 5]'),\n",
       " Text(172.97022767075308, 17.166315789473686, 'gini = 0.0\\nsamples = 1\\nvalue = [1, 0]'),\n",
       " Text(177.66094570928198, 17.166315789473686, 'X[0] <= -0.497\\ngini = 0.469\\nsamples = 8\\nvalue = [3, 5]'),\n",
       " Text(175.3155866900175, 5.722105263157886, 'gini = 0.375\\nsamples = 4\\nvalue = [1, 3]'),\n",
       " Text(180.0063047285464, 5.722105263157886, 'gini = 0.5\\nsamples = 4\\nvalue = [2, 2]'),\n",
       " Text(193.492119089317, 74.38736842105263, 'X[0] <= -0.224\\ngini = 0.365\\nsamples = 25\\nvalue = [6, 19]'),\n",
       " Text(187.04238178633977, 62.943157894736856, 'X[0] <= -0.292\\ngini = 0.153\\nsamples = 12\\nvalue = [1, 11]'),\n",
       " Text(184.6970227670753, 51.49894736842106, 'X[2] <= 0.438\\ngini = 0.375\\nsamples = 4\\nvalue = [1, 3]'),\n",
       " Text(182.35166374781087, 40.05473684210526, 'X[0] <= -0.36\\ngini = 0.5\\nsamples = 2\\nvalue = [1, 1]'),\n",
       " Text(180.0063047285464, 28.610526315789485, 'gini = 0.0\\nsamples = 1\\nvalue = [0, 1]'),\n",
       " Text(184.6970227670753, 28.610526315789485, 'gini = 0.0\\nsamples = 1\\nvalue = [1, 0]'),\n",
       " Text(187.04238178633977, 40.05473684210526, 'gini = 0.0\\nsamples = 2\\nvalue = [0, 2]'),\n",
       " Text(189.3877408056042, 51.49894736842106, 'gini = 0.0\\nsamples = 8\\nvalue = [0, 8]'),\n",
       " Text(199.94185639229423, 62.943157894736856, 'X[0] <= -0.156\\ngini = 0.473\\nsamples = 13\\nvalue = [5, 8]'),\n",
       " Text(194.0784588441331, 51.49894736842106, 'X[2] <= 0.438\\ngini = 0.444\\nsamples = 3\\nvalue = [2, 1]'),\n",
       " Text(191.73309982486867, 40.05473684210526, 'gini = 0.5\\nsamples = 2\\nvalue = [1, 1]'),\n",
       " Text(196.42381786339755, 40.05473684210526, 'gini = 0.0\\nsamples = 1\\nvalue = [1, 0]'),\n",
       " Text(205.80525394045534, 51.49894736842106, 'X[0] <= -0.087\\ngini = 0.42\\nsamples = 10\\nvalue = [3, 7]'),\n",
       " Text(201.11453590192644, 40.05473684210526, 'X[2] <= 0.438\\ngini = 0.375\\nsamples = 4\\nvalue = [1, 3]'),\n",
       " Text(198.769176882662, 28.610526315789485, 'gini = 0.0\\nsamples = 1\\nvalue = [1, 0]'),\n",
       " Text(203.4598949211909, 28.610526315789485, 'gini = 0.0\\nsamples = 3\\nvalue = [0, 3]'),\n",
       " Text(210.49597197898424, 40.05473684210526, 'X[2] <= 0.438\\ngini = 0.444\\nsamples = 6\\nvalue = [2, 4]'),\n",
       " Text(208.1506129597198, 28.610526315789485, 'gini = 0.0\\nsamples = 2\\nvalue = [0, 2]'),\n",
       " Text(212.8413309982487, 28.610526315789485, 'gini = 0.5\\nsamples = 4\\nvalue = [2, 2]'),\n",
       " Text(219.87740805604204, 85.83157894736843, 'X[0] <= -0.565\\ngini = 0.33\\nsamples = 24\\nvalue = [5, 19]'),\n",
       " Text(217.5320490367776, 74.38736842105263, 'gini = 0.0\\nsamples = 7\\nvalue = [0, 7]'),\n",
       " Text(222.22276707530648, 74.38736842105263, 'X[0] <= -0.156\\ngini = 0.415\\nsamples = 17\\nvalue = [5, 12]'),\n",
       " Text(219.87740805604204, 62.943157894736856, 'X[0] <= -0.497\\ngini = 0.486\\nsamples = 12\\nvalue = [5, 7]'),\n",
       " Text(217.5320490367776, 51.49894736842106, 'gini = 0.0\\nsamples = 1\\nvalue = [1, 0]'),\n",
       " Text(222.22276707530648, 51.49894736842106, 'X[0] <= -0.224\\ngini = 0.463\\nsamples = 11\\nvalue = [4, 7]'),\n",
       " Text(219.87740805604204, 40.05473684210526, 'X[0] <= -0.428\\ngini = 0.375\\nsamples = 8\\nvalue = [2, 6]'),\n",
       " Text(217.5320490367776, 28.610526315789485, 'gini = 0.0\\nsamples = 1\\nvalue = [0, 1]'),\n",
       " Text(222.22276707530648, 28.610526315789485, 'X[0] <= -0.36\\ngini = 0.408\\nsamples = 7\\nvalue = [2, 5]'),\n",
       " Text(219.87740805604204, 17.166315789473686, 'gini = 0.444\\nsamples = 3\\nvalue = [1, 2]'),\n",
       " Text(224.56812609457094, 17.166315789473686, 'X[0] <= -0.292\\ngini = 0.375\\nsamples = 4\\nvalue = [1, 3]'),\n",
       " Text(222.22276707530648, 5.722105263157886, 'gini = 0.0\\nsamples = 1\\nvalue = [0, 1]'),\n",
       " Text(226.91348511383538, 5.722105263157886, 'gini = 0.444\\nsamples = 3\\nvalue = [1, 2]'),\n",
       " Text(224.56812609457094, 40.05473684210526, 'gini = 0.444\\nsamples = 3\\nvalue = [2, 1]'),\n",
       " Text(224.56812609457094, 62.943157894736856, 'gini = 0.0\\nsamples = 5\\nvalue = [0, 5]'),\n",
       " Text(219.87740805604204, 131.60842105263157, 'X[0] <= 0.049\\ngini = 0.49\\nsamples = 14\\nvalue = [6, 8]'),\n",
       " Text(212.8413309982487, 120.16421052631578, 'X[2] <= 0.119\\ngini = 0.444\\nsamples = 6\\nvalue = [4, 2]'),\n",
       " Text(210.49597197898424, 108.72, 'gini = 0.0\\nsamples = 1\\nvalue = [0, 1]'),\n",
       " Text(215.18669001751314, 108.72, 'X[2] <= 1.077\\ngini = 0.32\\nsamples = 5\\nvalue = [4, 1]'),\n",
       " Text(212.8413309982487, 97.27578947368421, 'gini = 0.0\\nsamples = 4\\nvalue = [4, 0]'),\n",
       " Text(217.5320490367776, 97.27578947368421, 'gini = 0.0\\nsamples = 1\\nvalue = [0, 1]'),\n",
       " Text(226.91348511383538, 120.16421052631578, 'X[3] <= 1.666\\ngini = 0.375\\nsamples = 8\\nvalue = [2, 6]'),\n",
       " Text(224.56812609457094, 108.72, 'X[3] <= -1.185\\ngini = 0.444\\nsamples = 6\\nvalue = [2, 4]'),\n",
       " Text(222.22276707530648, 97.27578947368421, 'gini = 0.0\\nsamples = 1\\nvalue = [0, 1]'),\n",
       " Text(226.91348511383538, 97.27578947368421, 'X[2] <= 0.438\\ngini = 0.48\\nsamples = 5\\nvalue = [2, 3]'),\n",
       " Text(224.56812609457094, 85.83157894736843, 'gini = 0.5\\nsamples = 2\\nvalue = [1, 1]'),\n",
       " Text(229.25884413309984, 85.83157894736843, 'gini = 0.444\\nsamples = 3\\nvalue = [1, 2]'),\n",
       " Text(229.25884413309984, 108.72, 'gini = 0.0\\nsamples = 2\\nvalue = [0, 2]'),\n",
       " Text(247.8751313485114, 154.49684210526317, 'X[3] <= 1.666\\ngini = 0.287\\nsamples = 75\\nvalue = [13, 62]'),\n",
       " Text(245.52977232924695, 143.05263157894737, 'X[2] <= -0.2\\ngini = 0.272\\nsamples = 74\\nvalue = [12, 62]'),\n",
       " Text(243.1844133099825, 131.60842105263157, 'gini = 0.0\\nsamples = 1\\nvalue = [1, 0]'),\n",
       " Text(247.8751313485114, 131.60842105263157, 'X[3] <= -1.185\\ngini = 0.256\\nsamples = 73\\nvalue = [11, 62]'),\n",
       " Text(236.29492119089318, 120.16421052631578, 'X[0] <= 0.254\\ngini = 0.48\\nsamples = 5\\nvalue = [2, 3]'),\n",
       " Text(233.94956217162874, 108.72, 'X[2] <= 0.438\\ngini = 0.444\\nsamples = 3\\nvalue = [2, 1]'),\n",
       " Text(231.60420315236428, 97.27578947368421, 'gini = 0.0\\nsamples = 1\\nvalue = [1, 0]'),\n",
       " Text(236.29492119089318, 97.27578947368421, 'gini = 0.5\\nsamples = 2\\nvalue = [1, 1]'),\n",
       " Text(238.64028021015764, 108.72, 'gini = 0.0\\nsamples = 2\\nvalue = [0, 2]'),\n",
       " Text(259.4553415061296, 120.16421052631578, 'X[0] <= 0.458\\ngini = 0.23\\nsamples = 68\\nvalue = [9, 59]'),\n",
       " Text(243.33099824868654, 108.72, 'X[2] <= 1.077\\ngini = 0.128\\nsamples = 29\\nvalue = [2, 27]'),\n",
       " Text(240.98563922942208, 97.27578947368421, 'gini = 0.0\\nsamples = 17\\nvalue = [0, 17]'),\n",
       " Text(245.67635726795098, 97.27578947368421, 'X[0] <= 0.185\\ngini = 0.278\\nsamples = 12\\nvalue = [2, 10]'),\n",
       " Text(243.33099824868654, 85.83157894736843, 'gini = 0.5\\nsamples = 2\\nvalue = [1, 1]'),\n",
       " Text(248.0217162872154, 85.83157894736843, 'X[0] <= 0.322\\ngini = 0.18\\nsamples = 10\\nvalue = [1, 9]'),\n",
       " Text(245.67635726795098, 74.38736842105263, 'X[0] <= 0.254\\ngini = 0.32\\nsamples = 5\\nvalue = [1, 4]'),\n",
       " Text(243.33099824868654, 62.943157894736856, 'gini = 0.0\\nsamples = 3\\nvalue = [0, 3]'),\n",
       " Text(248.0217162872154, 62.943157894736856, 'gini = 0.5\\nsamples = 2\\nvalue = [1, 1]'),\n",
       " Text(250.36707530647988, 74.38736842105263, 'gini = 0.0\\nsamples = 5\\nvalue = [0, 5]'),\n",
       " Text(275.5796847635727, 108.72, 'X[2] <= 1.077\\ngini = 0.295\\nsamples = 39\\nvalue = [7, 32]'),\n",
       " Text(265.6119089316988, 97.27578947368421, 'X[0] <= 0.663\\ngini = 0.311\\nsamples = 26\\nvalue = [5, 21]'),\n",
       " Text(259.7485113835377, 85.83157894736843, 'X[0] <= 0.595\\ngini = 0.36\\nsamples = 17\\nvalue = [4, 13]'),\n",
       " Text(255.05779334500878, 74.38736842105263, 'X[2] <= 0.438\\ngini = 0.298\\nsamples = 11\\nvalue = [2, 9]'),\n",
       " Text(252.7124343257443, 62.943157894736856, 'gini = 0.0\\nsamples = 3\\nvalue = [0, 3]'),\n",
       " Text(257.40315236427324, 62.943157894736856, 'X[0] <= 0.526\\ngini = 0.375\\nsamples = 8\\nvalue = [2, 6]'),\n",
       " Text(255.05779334500878, 51.49894736842106, 'gini = 0.375\\nsamples = 4\\nvalue = [1, 3]'),\n",
       " Text(259.7485113835377, 51.49894736842106, 'gini = 0.375\\nsamples = 4\\nvalue = [1, 3]'),\n",
       " Text(264.43922942206655, 74.38736842105263, 'X[2] <= 0.438\\ngini = 0.444\\nsamples = 6\\nvalue = [2, 4]'),\n",
       " Text(262.0938704028021, 62.943157894736856, 'gini = 0.5\\nsamples = 2\\nvalue = [1, 1]'),\n",
       " Text(266.78458844133104, 62.943157894736856, 'gini = 0.375\\nsamples = 4\\nvalue = [1, 3]'),\n",
       " Text(271.4753064798599, 85.83157894736843, 'X[2] <= 0.438\\ngini = 0.198\\nsamples = 9\\nvalue = [1, 8]'),\n",
       " Text(269.1299474605955, 74.38736842105263, 'gini = 0.0\\nsamples = 1\\nvalue = [0, 1]'),\n",
       " Text(273.82066549912435, 74.38736842105263, 'gini = 0.219\\nsamples = 8\\nvalue = [1, 7]'),\n",
       " Text(285.5474605954466, 97.27578947368421, 'X[0] <= 0.595\\ngini = 0.26\\nsamples = 13\\nvalue = [2, 11]'),\n",
       " Text(280.8567425569177, 85.83157894736843, 'X[0] <= 0.526\\ngini = 0.375\\nsamples = 4\\nvalue = [1, 3]'),\n",
       " Text(278.5113835376533, 74.38736842105263, 'gini = 0.0\\nsamples = 1\\nvalue = [0, 1]'),\n",
       " Text(283.20210157618214, 74.38736842105263, 'gini = 0.444\\nsamples = 3\\nvalue = [1, 2]'),\n",
       " Text(290.2381786339755, 85.83157894736843, 'X[0] <= 0.663\\ngini = 0.198\\nsamples = 9\\nvalue = [1, 8]'),\n",
       " Text(287.8928196147111, 74.38736842105263, 'gini = 0.0\\nsamples = 5\\nvalue = [0, 5]'),\n",
       " Text(292.58353765323994, 74.38736842105263, 'gini = 0.375\\nsamples = 4\\nvalue = [1, 3]'),\n",
       " Text(250.22049036777585, 143.05263157894737, 'gini = 0.0\\nsamples = 1\\nvalue = [1, 0]'),\n",
       " Text(319.5551663747811, 177.38526315789474, 'X[0] <= 1.208\\ngini = 0.123\\nsamples = 121\\nvalue = [8, 113]'),\n",
       " Text(311.34640980735554, 165.94105263157894, 'X[2] <= 1.077\\ngini = 0.198\\nsamples = 63\\nvalue = [7, 56]'),\n",
       " Text(301.96497373029774, 154.49684210526317, 'X[0] <= 1.14\\ngini = 0.159\\nsamples = 46\\nvalue = [4, 42]'),\n",
       " Text(294.9288966725044, 143.05263157894737, 'X[0] <= 0.867\\ngini = 0.13\\nsamples = 43\\nvalue = [3, 40]'),\n",
       " Text(287.8928196147111, 131.60842105263157, 'X[2] <= 0.438\\ngini = 0.198\\nsamples = 18\\nvalue = [2, 16]'),\n",
       " Text(285.5474605954466, 120.16421052631578, 'gini = 0.0\\nsamples = 6\\nvalue = [0, 6]'),\n",
       " Text(290.2381786339755, 120.16421052631578, 'X[3] <= -2.611\\ngini = 0.278\\nsamples = 12\\nvalue = [2, 10]'),\n",
       " Text(287.8928196147111, 108.72, 'gini = 0.0\\nsamples = 1\\nvalue = [0, 1]'),\n",
       " Text(292.58353765323994, 108.72, 'X[0] <= 0.799\\ngini = 0.298\\nsamples = 11\\nvalue = [2, 9]'),\n",
       " Text(290.2381786339755, 97.27578947368421, 'gini = 0.278\\nsamples = 6\\nvalue = [1, 5]'),\n",
       " Text(294.9288966725044, 97.27578947368421, 'gini = 0.32\\nsamples = 5\\nvalue = [1, 4]'),\n",
       " Text(301.96497373029774, 131.60842105263157, 'X[0] <= 1.072\\ngini = 0.077\\nsamples = 25\\nvalue = [1, 24]'),\n",
       " Text(299.6196147110333, 120.16421052631578, 'gini = 0.0\\nsamples = 18\\nvalue = [0, 18]'),\n",
       " Text(304.3103327495622, 120.16421052631578, 'X[2] <= 0.438\\ngini = 0.245\\nsamples = 7\\nvalue = [1, 6]'),\n",
       " Text(301.96497373029774, 108.72, 'X[1] <= 0.578\\ngini = 0.32\\nsamples = 5\\nvalue = [1, 4]'),\n",
       " Text(299.6196147110333, 97.27578947368421, 'gini = 0.0\\nsamples = 1\\nvalue = [0, 1]'),\n",
       " Text(304.3103327495622, 97.27578947368421, 'X[2] <= -0.2\\ngini = 0.375\\nsamples = 4\\nvalue = [1, 3]'),\n",
       " Text(301.96497373029774, 85.83157894736843, 'gini = 0.0\\nsamples = 1\\nvalue = [0, 1]'),\n",
       " Text(306.6556917688266, 85.83157894736843, 'gini = 0.444\\nsamples = 3\\nvalue = [1, 2]'),\n",
       " Text(306.6556917688266, 108.72, 'gini = 0.0\\nsamples = 2\\nvalue = [0, 2]'),\n",
       " Text(309.0010507880911, 143.05263157894737, 'X[2] <= 0.438\\ngini = 0.444\\nsamples = 3\\nvalue = [1, 2]'),\n",
       " Text(306.6556917688266, 131.60842105263157, 'gini = 0.0\\nsamples = 1\\nvalue = [1, 0]'),\n",
       " Text(311.34640980735554, 131.60842105263157, 'gini = 0.0\\nsamples = 2\\nvalue = [0, 2]'),\n",
       " Text(320.72784588441334, 154.49684210526317, 'X[0] <= 1.072\\ngini = 0.291\\nsamples = 17\\nvalue = [3, 14]'),\n",
       " Text(318.3824868651489, 143.05263157894737, 'X[1] <= 0.578\\ngini = 0.32\\nsamples = 15\\nvalue = [3, 12]'),\n",
       " Text(316.0371278458844, 131.60842105263157, 'gini = 0.0\\nsamples = 2\\nvalue = [0, 2]'),\n",
       " Text(320.72784588441334, 131.60842105263157, 'X[3] <= -1.185\\ngini = 0.355\\nsamples = 13\\nvalue = [3, 10]'),\n",
       " Text(318.3824868651489, 120.16421052631578, 'gini = 0.0\\nsamples = 1\\nvalue = [0, 1]'),\n",
       " Text(323.0732049036778, 120.16421052631578, 'X[0] <= 1.004\\ngini = 0.375\\nsamples = 12\\nvalue = [3, 9]'),\n",
       " Text(320.72784588441334, 108.72, 'X[0] <= 0.799\\ngini = 0.346\\nsamples = 9\\nvalue = [2, 7]'),\n",
       " Text(318.3824868651489, 97.27578947368421, 'gini = 0.408\\nsamples = 7\\nvalue = [2, 5]'),\n",
       " Text(323.0732049036778, 97.27578947368421, 'gini = 0.0\\nsamples = 2\\nvalue = [0, 2]'),\n",
       " Text(325.4185639229422, 108.72, 'gini = 0.444\\nsamples = 3\\nvalue = [1, 2]'),\n",
       " Text(323.0732049036778, 143.05263157894737, 'gini = 0.0\\nsamples = 2\\nvalue = [0, 2]'),\n",
       " Text(327.76392294220665, 165.94105263157894, 'X[0] <= 1.89\\ngini = 0.034\\nsamples = 58\\nvalue = [1, 57]'),\n",
       " Text(325.4185639229422, 154.49684210526317, 'gini = 0.0\\nsamples = 42\\nvalue = [0, 42]'),\n",
       " Text(330.10928196147114, 154.49684210526317, 'X[0] <= 1.959\\ngini = 0.117\\nsamples = 16\\nvalue = [1, 15]'),\n",
       " Text(327.76392294220665, 143.05263157894737, 'X[1] <= 0.578\\ngini = 0.444\\nsamples = 3\\nvalue = [1, 2]'),\n",
       " Text(325.4185639229422, 131.60842105263157, 'gini = 0.0\\nsamples = 1\\nvalue = [0, 1]'),\n",
       " Text(330.10928196147114, 131.60842105263157, 'gini = 0.5\\nsamples = 2\\nvalue = [1, 1]'),\n",
       " Text(332.4546409807356, 143.05263157894737, 'gini = 0.0\\nsamples = 13\\nvalue = [0, 13]')]"
      ]
     },
     "execution_count": 12,
     "metadata": {},
     "output_type": "execute_result"
    },
    {
     "data": {
      "image/png": "[encoded data removed]",
      "text/plain": [
       "<Figure size 432x288 with 1 Axes>"
      ]
     },
     "metadata": {
      "needs_background": "light"
     },
     "output_type": "display_data"
    }
   ],
   "source": [
    "tree.plot_tree(dt_classifier)"
   ]
  },
  {
   "cell_type": "markdown",
   "metadata": {},
   "source": [
    "Measure the accuracy of the resulting decision tree model using your test data."
   ]
  },
  {
   "cell_type": "code",
   "execution_count": 13,
   "metadata": {},
   "outputs": [
    {
     "data": {
      "text/plain": [
       "0.7314814814814815"
      ]
     },
     "execution_count": 13,
     "metadata": {},
     "output_type": "execute_result"
    }
   ],
   "source": [
    "predicted = dt_classifier.predict(x_test)\n",
    "# accuracy_score(y_test, predicted)\n",
    "dt_classifier.score(x_test, y_test)"
   ]
  },
  {
   "cell_type": "markdown",
   "metadata": {},
   "source": [
    "Now instead of a single train/test split, use K-Fold cross validation to get a better measure of your model's accuracy (K=10). Hint: use model_selection.cross_val_score"
   ]
  },
  {
   "cell_type": "code",
   "execution_count": 14,
   "metadata": {},
   "outputs": [
    {
     "name": "stdout",
     "output_type": "stream",
     "text": [
      "[0.71428571 0.73809524 0.77380952 0.72289157 0.78313253 0.68674699\n",
      " 0.72289157 0.76829268 0.76829268 0.69512195]\n",
      "0.7373560443866057\n"
     ]
    }
   ],
   "source": [
    "\n",
    "scores = cross_val_score(dt_classifier, scaled_features, classes, cv=10)\n",
    "print(scores)\n",
    "print(scores.mean())"
   ]
  },
  {
   "cell_type": "markdown",
   "metadata": {},
   "source": [
    "Now try a RandomForestClassifier instead. Does it perform better?"
   ]
  },
  {
   "cell_type": "code",
   "execution_count": 15,
   "metadata": {},
   "outputs": [
    {
     "name": "stdout",
     "output_type": "stream",
     "text": [
      "0.6944444444444444\n",
      "[0.72619048 0.78571429 0.82142857 0.75903614 0.78313253 0.72289157\n",
      " 0.73493976 0.76829268 0.70731707 0.69512195]\n",
      "0.7504065040650406\n"
     ]
    }
   ],
   "source": [
    "rf_classifier = RandomForestClassifier(n_estimators=10)\n",
    "rf_classifier = rf_classifier.fit(x_train, y_train)\n",
    "print(rf_classifier.score(x_test, y_test))\n",
    "\n",
    "scores = cross_val_score(rf_classifier, scaled_features, classes, cv=10)\n",
    "print(scores)\n",
    "print(scores.mean())"
   ]
  },
  {
   "cell_type": "markdown",
   "metadata": {},
   "source": [
    "## SVM\n",
    "\n",
    "Next try using svm.SVC with a linear kernel. How does it compare to the decision tree?"
   ]
  },
  {
   "cell_type": "code",
   "execution_count": 20,
   "metadata": {},
   "outputs": [
    {
     "name": "stdout",
     "output_type": "stream",
     "text": [
      "0.75\n",
      "[0.71428571 0.77380952 0.86904762 0.80722892 0.84337349 0.69879518\n",
      " 0.80722892 0.80487805 0.90243902 0.74390244]\n",
      "0.7964988875362076\n"
     ]
    }
   ],
   "source": [
    "sv_classifier = SVC(kernel=\"linear\")\n",
    "sv_classifier = sv_classifier.fit(x_train, y_train)\n",
    "print(sv_classifier.score(x_test, y_test))\n",
    "\n",
    "scores = cross_val_score(sv_classifier, scaled_features, classes, cv=10)\n",
    "print(scores)\n",
    "print(scores.mean())"
   ]
  },
  {
   "cell_type": "code",
   "execution_count": null,
   "metadata": {},
   "outputs": [],
   "source": []
  },
  {
   "cell_type": "markdown",
   "metadata": {},
   "source": [
    "## KNN\n",
    "How about K-Nearest-Neighbors? Hint: use neighbors.KNeighborsClassifier - it's a lot easier than implementing KNN from scratch like we did earlier in the course. Start with a K of 10. K is an example of a hyperparameter - a parameter on the model itself which may need to be tuned for best results on your particular data set."
   ]
  },
  {
   "cell_type": "code",
   "execution_count": 27,
   "metadata": {},
   "outputs": [
    {
     "name": "stdout",
     "output_type": "stream",
     "text": [
      "0.7453703703703703\n",
      "[0.77380952 0.76190476 0.83333333 0.74698795 0.87951807 0.72289157\n",
      " 0.81927711 0.79268293 0.81707317 0.70731707]\n",
      "0.7854795488574507\n"
     ]
    }
   ],
   "source": [
    "knn = KNeighborsClassifier(n_neighbors=10)\n",
    "knn = knn.fit(x_train, y_train)\n",
    "print(knn.score(x_test, y_test))\n",
    "\n",
    "scores = cross_val_score(knn, scaled_features, classes, cv=10)\n",
    "print(scores)\n",
    "print(scores.mean())"
   ]
  },
  {
   "cell_type": "markdown",
   "metadata": {},
   "source": [
    "Choosing K is tricky, so we can't discard KNN until we've tried different values of K. Write a for loop to run KNN with K values ranging from 1 to 50 and see if K makes a substantial difference. Make a note of the best performance you could get out of KNN."
   ]
  },
  {
   "cell_type": "code",
   "execution_count": 28,
   "metadata": {},
   "outputs": [
    {
     "data": {
      "text/plain": [
       "[(0.7939178876678876, 13),\n",
       " (0.7928571428571428, 12),\n",
       " (0.790520894005322, 18),\n",
       " (0.7903366524419155, 11),\n",
       " (0.7902257103893575, 14)]"
      ]
     },
     "execution_count": 28,
     "metadata": {},
     "output_type": "execute_result"
    }
   ],
   "source": [
    "knn_runs = []\n",
    "for i in range(1, 50):\n",
    "    n = i+1\n",
    "    mean_score = cross_val_score(knn, scaled_features, classes, cv=n).mean()\n",
    "    knn_runs.append((mean_score, n))\n",
    "knn_runs.sort(key=lambda x: x[0], reverse=True)\n",
    "knn_runs[:5]"
   ]
  },
  {
   "cell_type": "markdown",
   "metadata": {},
   "source": [
    "## Naive Bayes\n",
    "\n",
    "Now try naive_bayes.MultinomialNB. How does its accuracy stack up? Hint: you'll need to use MinMaxScaler to get the features in the range MultinomialNB requires."
   ]
  },
  {
   "cell_type": "code",
   "execution_count": null,
   "metadata": {},
   "outputs": [],
   "source": []
  },
  {
   "cell_type": "markdown",
   "metadata": {},
   "source": [
    "## Revisiting SVM\n",
    "\n",
    "svm.SVC may perform differently with different kernels. The choice of kernel is an example of a \"hyperparamter.\" Try the rbf, sigmoid, and poly kernels and see what the best-performing kernel is. Do we have a new winner?"
   ]
  },
  {
   "cell_type": "code",
   "execution_count": null,
   "metadata": {},
   "outputs": [],
   "source": []
  },
  {
   "cell_type": "code",
   "execution_count": null,
   "metadata": {},
   "outputs": [],
   "source": []
  },
  {
   "cell_type": "code",
   "execution_count": null,
   "metadata": {},
   "outputs": [],
   "source": []
  },
  {
   "cell_type": "markdown",
   "metadata": {},
   "source": [
    "## Logistic Regression\n",
    "\n",
    "We've tried all these fancy techniques, but fundamentally this is just a binary classification problem. Try Logisitic Regression, which is a simple way to tackling this sort of thing."
   ]
  },
  {
   "cell_type": "code",
   "execution_count": null,
   "metadata": {
    "collapsed": true
   },
   "outputs": [],
   "source": []
  },
  {
   "cell_type": "code",
   "execution_count": null,
   "metadata": {
    "collapsed": true
   },
   "outputs": [],
   "source": []
  },
  {
   "cell_type": "code",
   "execution_count": null,
   "metadata": {
    "collapsed": true
   },
   "outputs": [],
   "source": []
  },
  {
   "cell_type": "markdown",
   "metadata": {},
   "source": [
    "## Neural Networks\n",
    "\n",
    "As a bonus challenge, let's see if an artificial neural network can do even better. You can use Keras to set up a neural network with 1 binary output neuron and see how it performs. Don't be afraid to run a large number of epochs to train the model if necessary."
   ]
  },
  {
   "cell_type": "code",
   "execution_count": null,
   "metadata": {},
   "outputs": [],
   "source": []
  },
  {
   "cell_type": "code",
   "execution_count": null,
   "metadata": {},
   "outputs": [],
   "source": []
  },
  {
   "cell_type": "code",
   "execution_count": null,
   "metadata": {},
   "outputs": [],
   "source": []
  },
  {
   "cell_type": "code",
   "execution_count": null,
   "metadata": {},
   "outputs": [],
   "source": []
  },
  {
   "cell_type": "markdown",
   "metadata": {
    "collapsed": true
   },
   "source": [
    "## Do we have a winner?\n",
    "\n",
    "Which model, and which choice of hyperparameters, performed the best? Feel free to share your results!"
   ]
  },
  {
   "cell_type": "code",
   "execution_count": null,
   "metadata": {
    "collapsed": true
   },
   "outputs": [],
   "source": []
  }
 ],
 "metadata": {
  "kernelspec": {
   "display_name": "Python 3",
   "language": "python",
   "name": "python3"
  },
  "language_info": {
   "codemirror_mode": {
    "name": "ipython",
    "version": 3
   },
   "file_extension": ".py",
   "mimetype": "text/x-python",
   "name": "python",
   "nbconvert_exporter": "python",
   "pygments_lexer": "ipython3",
   "version": "3.7.4"
  }
 },
 "nbformat": 4,
 "nbformat_minor": 2
}
