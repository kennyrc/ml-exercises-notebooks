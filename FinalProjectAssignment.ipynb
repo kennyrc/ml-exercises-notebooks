{
 "cells": [
  {
   "cell_type": "markdown",
   "metadata": {},
   "source": [
    "# Final Project\n",
    "\n",
    "## Predict whether a mammogram mass is benign or malignant\n",
    "\n",
    "We'll be using the \"mammographic masses\" public dataset from the UCI repository (source: https://archive.ics.uci.edu/ml/datasets/Mammographic+Mass)\n",
    "\n",
    "This data contains 961 instances of masses detected in mammograms, and contains the following attributes:\n",
    "\n",
    "\n",
    "   1. BI-RADS assessment: 1 to 5 (ordinal)  \n",
    "   2. Age: patient's age in years (integer)\n",
    "   3. Shape: mass shape: round=1 oval=2 lobular=3 irregular=4 (nominal)\n",
    "   4. Margin: mass margin: circumscribed=1 microlobulated=2 obscured=3 ill-defined=4 spiculated=5 (nominal)\n",
    "   5. Density: mass density high=1 iso=2 low=3 fat-containing=4 (ordinal)\n",
    "   6. Severity: benign=0 or malignant=1 (binominal)\n",
    "   \n",
    "BI-RADS is an assesment of how confident the severity classification is; it is not a \"predictive\" attribute and so we will discard it. The age, shape, margin, and density attributes are the features that we will build our model with, and \"severity\" is the classification we will attempt to predict based on those attributes.\n",
    "\n",
    "Although \"shape\" and \"margin\" are nominal data types, which sklearn typically doesn't deal with well, they are close enough to ordinal that we shouldn't just discard them. The \"shape\" for example is ordered increasingly from round to irregular.\n",
    "\n",
    "A lot of unnecessary anguish and surgery arises from false positives arising from mammogram results. If we can build a better way to interpret them through supervised machine learning, it could improve a lot of lives.\n",
    "\n",
    "## Your assignment\n",
    "\n",
    "Apply several different supervised machine learning techniques to this data set, and see which one yields the highest accuracy as measured with K-Fold cross validation (K=10). Apply:\n",
    "\n",
    "* Decision tree\n",
    "* Random forest\n",
    "* KNN\n",
    "* Naive Bayes\n",
    "* SVM\n",
    "* Logistic Regression\n",
    "* And, as a bonus challenge, a neural network using Keras.\n",
    "\n",
    "The data needs to be cleaned; many rows contain missing data, and there may be erroneous data identifiable as outliers as well.\n",
    "\n",
    "Remember some techniques such as SVM also require the input data to be normalized first.\n",
    "\n",
    "Many techniques also have \"hyperparameters\" that need to be tuned. Once you identify a promising approach, see if you can make it even better by tuning its hyperparameters.\n",
    "\n",
    "I was able to achieve over 80% accuracy - can you beat that?\n",
    "\n",
    "Below I've set up an outline of a notebook for this project, with some guidance and hints. If you're up for a real challenge, try doing this project from scratch in a new, clean notebook!\n"
   ]
  },
  {
   "cell_type": "markdown",
   "metadata": {},
   "source": [
    "## Let's begin: prepare your data\n",
    "\n",
    "Start by importing the mammographic_masses.data.txt file into a Pandas dataframe (hint: use read_csv) and take a look at it."
   ]
  },
  {
   "cell_type": "code",
   "execution_count": 61,
   "metadata": {},
   "outputs": [],
   "source": [
    "import pandas as pd\n",
    "import matplotlib.pyplot as plt\n",
    "import sklearn\n",
    "from sklearn.preprocessing import StandardScaler\n",
    "from sklearn.preprocessing import MinMaxScaler\n",
    "import numpy as np\n",
    "from sklearn.metrics import accuracy_score\n",
    "from sklearn.model_selection import cross_val_score\n",
    "from sklearn.ensemble import RandomForestClassifier\n",
    "from sklearn import tree\n",
    "from sklearn.svm import SVC\n",
    "from sklearn.neighbors import KNeighborsClassifier\n",
    "from sklearn.naive_bayes import MultinomialNB\n",
    "from sklearn.linear_model import LogisticRegression"
   ]
  },
  {
   "cell_type": "code",
   "execution_count": null,
   "metadata": {},
   "outputs": [],
   "source": []
  },
  {
   "cell_type": "markdown",
   "metadata": {},
   "source": [
    "Make sure you use the optional parmaters in read_csv to convert missing data (indicated by a ?) into NaN, and to add the appropriate column names (BI_RADS, age, shape, margin, density, and severity):"
   ]
  },
  {
   "cell_type": "code",
   "execution_count": 62,
   "metadata": {},
   "outputs": [
    {
     "data": {
      "text/html": [
       "<div>\n",
       "<style scoped>\n",
       "    .dataframe tbody tr th:only-of-type {\n",
       "        vertical-align: middle;\n",
       "    }\n",
       "\n",
       "    .dataframe tbody tr th {\n",
       "        vertical-align: top;\n",
       "    }\n",
       "\n",
       "    .dataframe thead th {\n",
       "        text-align: right;\n",
       "    }\n",
       "</style>\n",
       "<table border=\"1\" class=\"dataframe\">\n",
       "  <thead>\n",
       "    <tr style=\"text-align: right;\">\n",
       "      <th></th>\n",
       "      <th>bi_rads</th>\n",
       "      <th>age</th>\n",
       "      <th>shape</th>\n",
       "      <th>margin</th>\n",
       "      <th>density</th>\n",
       "      <th>severity</th>\n",
       "    </tr>\n",
       "  </thead>\n",
       "  <tbody>\n",
       "    <tr>\n",
       "      <td>0</td>\n",
       "      <td>5.0</td>\n",
       "      <td>67.0</td>\n",
       "      <td>3.0</td>\n",
       "      <td>5.0</td>\n",
       "      <td>3.0</td>\n",
       "      <td>1</td>\n",
       "    </tr>\n",
       "    <tr>\n",
       "      <td>1</td>\n",
       "      <td>4.0</td>\n",
       "      <td>43.0</td>\n",
       "      <td>1.0</td>\n",
       "      <td>1.0</td>\n",
       "      <td>NaN</td>\n",
       "      <td>1</td>\n",
       "    </tr>\n",
       "    <tr>\n",
       "      <td>2</td>\n",
       "      <td>5.0</td>\n",
       "      <td>58.0</td>\n",
       "      <td>4.0</td>\n",
       "      <td>5.0</td>\n",
       "      <td>3.0</td>\n",
       "      <td>1</td>\n",
       "    </tr>\n",
       "    <tr>\n",
       "      <td>3</td>\n",
       "      <td>4.0</td>\n",
       "      <td>28.0</td>\n",
       "      <td>1.0</td>\n",
       "      <td>1.0</td>\n",
       "      <td>3.0</td>\n",
       "      <td>0</td>\n",
       "    </tr>\n",
       "    <tr>\n",
       "      <td>4</td>\n",
       "      <td>5.0</td>\n",
       "      <td>74.0</td>\n",
       "      <td>1.0</td>\n",
       "      <td>5.0</td>\n",
       "      <td>NaN</td>\n",
       "      <td>1</td>\n",
       "    </tr>\n",
       "  </tbody>\n",
       "</table>\n",
       "</div>"
      ],
      "text/plain": [
       "   bi_rads   age  shape  margin  density  severity\n",
       "0      5.0  67.0    3.0     5.0      3.0         1\n",
       "1      4.0  43.0    1.0     1.0      NaN         1\n",
       "2      5.0  58.0    4.0     5.0      3.0         1\n",
       "3      4.0  28.0    1.0     1.0      3.0         0\n",
       "4      5.0  74.0    1.0     5.0      NaN         1"
      ]
     },
     "execution_count": 62,
     "metadata": {},
     "output_type": "execute_result"
    }
   ],
   "source": [
    "df = pd.read_csv(\"mammographic_masses.data.txt\",\n",
    "                 na_values=\"?\",\n",
    "                 names=(\"bi_rads\", \"age\", \"shape\", \"margin\", \"density\", \"severity\"))\n",
    "df.head()"
   ]
  },
  {
   "cell_type": "markdown",
   "metadata": {},
   "source": [
    "Evaluate whether the data needs cleaning; your model is only as good as the data it's given. Hint: use describe() on the dataframe."
   ]
  },
  {
   "cell_type": "code",
   "execution_count": 63,
   "metadata": {},
   "outputs": [
    {
     "data": {
      "text/html": [
       "<div>\n",
       "<style scoped>\n",
       "    .dataframe tbody tr th:only-of-type {\n",
       "        vertical-align: middle;\n",
       "    }\n",
       "\n",
       "    .dataframe tbody tr th {\n",
       "        vertical-align: top;\n",
       "    }\n",
       "\n",
       "    .dataframe thead th {\n",
       "        text-align: right;\n",
       "    }\n",
       "</style>\n",
       "<table border=\"1\" class=\"dataframe\">\n",
       "  <thead>\n",
       "    <tr style=\"text-align: right;\">\n",
       "      <th></th>\n",
       "      <th>bi_rads</th>\n",
       "      <th>age</th>\n",
       "      <th>shape</th>\n",
       "      <th>margin</th>\n",
       "      <th>density</th>\n",
       "      <th>severity</th>\n",
       "    </tr>\n",
       "  </thead>\n",
       "  <tbody>\n",
       "    <tr>\n",
       "      <td>count</td>\n",
       "      <td>959.000000</td>\n",
       "      <td>956.000000</td>\n",
       "      <td>930.000000</td>\n",
       "      <td>913.000000</td>\n",
       "      <td>885.000000</td>\n",
       "      <td>961.000000</td>\n",
       "    </tr>\n",
       "    <tr>\n",
       "      <td>mean</td>\n",
       "      <td>4.348279</td>\n",
       "      <td>55.487448</td>\n",
       "      <td>2.721505</td>\n",
       "      <td>2.796276</td>\n",
       "      <td>2.910734</td>\n",
       "      <td>0.463059</td>\n",
       "    </tr>\n",
       "    <tr>\n",
       "      <td>std</td>\n",
       "      <td>1.783031</td>\n",
       "      <td>14.480131</td>\n",
       "      <td>1.242792</td>\n",
       "      <td>1.566546</td>\n",
       "      <td>0.380444</td>\n",
       "      <td>0.498893</td>\n",
       "    </tr>\n",
       "    <tr>\n",
       "      <td>min</td>\n",
       "      <td>0.000000</td>\n",
       "      <td>18.000000</td>\n",
       "      <td>1.000000</td>\n",
       "      <td>1.000000</td>\n",
       "      <td>1.000000</td>\n",
       "      <td>0.000000</td>\n",
       "    </tr>\n",
       "    <tr>\n",
       "      <td>25%</td>\n",
       "      <td>4.000000</td>\n",
       "      <td>45.000000</td>\n",
       "      <td>2.000000</td>\n",
       "      <td>1.000000</td>\n",
       "      <td>3.000000</td>\n",
       "      <td>0.000000</td>\n",
       "    </tr>\n",
       "    <tr>\n",
       "      <td>50%</td>\n",
       "      <td>4.000000</td>\n",
       "      <td>57.000000</td>\n",
       "      <td>3.000000</td>\n",
       "      <td>3.000000</td>\n",
       "      <td>3.000000</td>\n",
       "      <td>0.000000</td>\n",
       "    </tr>\n",
       "    <tr>\n",
       "      <td>75%</td>\n",
       "      <td>5.000000</td>\n",
       "      <td>66.000000</td>\n",
       "      <td>4.000000</td>\n",
       "      <td>4.000000</td>\n",
       "      <td>3.000000</td>\n",
       "      <td>1.000000</td>\n",
       "    </tr>\n",
       "    <tr>\n",
       "      <td>max</td>\n",
       "      <td>55.000000</td>\n",
       "      <td>96.000000</td>\n",
       "      <td>4.000000</td>\n",
       "      <td>5.000000</td>\n",
       "      <td>4.000000</td>\n",
       "      <td>1.000000</td>\n",
       "    </tr>\n",
       "  </tbody>\n",
       "</table>\n",
       "</div>"
      ],
      "text/plain": [
       "          bi_rads         age       shape      margin     density    severity\n",
       "count  959.000000  956.000000  930.000000  913.000000  885.000000  961.000000\n",
       "mean     4.348279   55.487448    2.721505    2.796276    2.910734    0.463059\n",
       "std      1.783031   14.480131    1.242792    1.566546    0.380444    0.498893\n",
       "min      0.000000   18.000000    1.000000    1.000000    1.000000    0.000000\n",
       "25%      4.000000   45.000000    2.000000    1.000000    3.000000    0.000000\n",
       "50%      4.000000   57.000000    3.000000    3.000000    3.000000    0.000000\n",
       "75%      5.000000   66.000000    4.000000    4.000000    3.000000    1.000000\n",
       "max     55.000000   96.000000    4.000000    5.000000    4.000000    1.000000"
      ]
     },
     "execution_count": 63,
     "metadata": {},
     "output_type": "execute_result"
    }
   ],
   "source": [
    "df.describe()\n"
   ]
  },
  {
   "cell_type": "markdown",
   "metadata": {},
   "source": [
    "There are quite a few missing values in the data set. Before we just drop every row that's missing data, let's make sure we don't bias our data in doing so. Does there appear to be any sort of correlation to what sort of data has missing fields? If there were, we'd have to try and go back and fill that data in."
   ]
  },
  {
   "cell_type": "code",
   "execution_count": 64,
   "metadata": {},
   "outputs": [
    {
     "data": {
      "text/html": [
       "<div>\n",
       "<style scoped>\n",
       "    .dataframe tbody tr th:only-of-type {\n",
       "        vertical-align: middle;\n",
       "    }\n",
       "\n",
       "    .dataframe tbody tr th {\n",
       "        vertical-align: top;\n",
       "    }\n",
       "\n",
       "    .dataframe thead th {\n",
       "        text-align: right;\n",
       "    }\n",
       "</style>\n",
       "<table border=\"1\" class=\"dataframe\">\n",
       "  <thead>\n",
       "    <tr style=\"text-align: right;\">\n",
       "      <th></th>\n",
       "      <th>bi_rads</th>\n",
       "      <th>age</th>\n",
       "      <th>shape</th>\n",
       "      <th>margin</th>\n",
       "      <th>density</th>\n",
       "      <th>severity</th>\n",
       "    </tr>\n",
       "  </thead>\n",
       "  <tbody>\n",
       "    <tr>\n",
       "      <td>bi_rads</td>\n",
       "      <td>1.000000</td>\n",
       "      <td>-0.003303</td>\n",
       "      <td>0.120896</td>\n",
       "      <td>0.094349</td>\n",
       "      <td>-0.013383</td>\n",
       "      <td>NaN</td>\n",
       "    </tr>\n",
       "    <tr>\n",
       "      <td>age</td>\n",
       "      <td>-0.003303</td>\n",
       "      <td>1.000000</td>\n",
       "      <td>-0.013204</td>\n",
       "      <td>-0.016582</td>\n",
       "      <td>-0.021193</td>\n",
       "      <td>NaN</td>\n",
       "    </tr>\n",
       "    <tr>\n",
       "      <td>shape</td>\n",
       "      <td>0.120896</td>\n",
       "      <td>-0.013204</td>\n",
       "      <td>1.000000</td>\n",
       "      <td>0.228499</td>\n",
       "      <td>0.033791</td>\n",
       "      <td>NaN</td>\n",
       "    </tr>\n",
       "    <tr>\n",
       "      <td>margin</td>\n",
       "      <td>0.094349</td>\n",
       "      <td>-0.016582</td>\n",
       "      <td>0.228499</td>\n",
       "      <td>1.000000</td>\n",
       "      <td>0.216018</td>\n",
       "      <td>NaN</td>\n",
       "    </tr>\n",
       "    <tr>\n",
       "      <td>density</td>\n",
       "      <td>-0.013383</td>\n",
       "      <td>-0.021193</td>\n",
       "      <td>0.033791</td>\n",
       "      <td>0.216018</td>\n",
       "      <td>1.000000</td>\n",
       "      <td>NaN</td>\n",
       "    </tr>\n",
       "    <tr>\n",
       "      <td>severity</td>\n",
       "      <td>NaN</td>\n",
       "      <td>NaN</td>\n",
       "      <td>NaN</td>\n",
       "      <td>NaN</td>\n",
       "      <td>NaN</td>\n",
       "      <td>NaN</td>\n",
       "    </tr>\n",
       "  </tbody>\n",
       "</table>\n",
       "</div>"
      ],
      "text/plain": [
       "           bi_rads       age     shape    margin   density  severity\n",
       "bi_rads   1.000000 -0.003303  0.120896  0.094349 -0.013383       NaN\n",
       "age      -0.003303  1.000000 -0.013204 -0.016582 -0.021193       NaN\n",
       "shape     0.120896 -0.013204  1.000000  0.228499  0.033791       NaN\n",
       "margin    0.094349 -0.016582  0.228499  1.000000  0.216018       NaN\n",
       "density  -0.013383 -0.021193  0.033791  0.216018  1.000000       NaN\n",
       "severity       NaN       NaN       NaN       NaN       NaN       NaN"
      ]
     },
     "execution_count": 64,
     "metadata": {},
     "output_type": "execute_result"
    }
   ],
   "source": [
    "df_nulls = df.isnull().astype(int)\n",
    "df_nulls.corr()"
   ]
  },
  {
   "cell_type": "code",
   "execution_count": 65,
   "metadata": {},
   "outputs": [
    {
     "data": {
      "image/png": "[encoded data removed]",
      "text/plain": [
       "<Figure size 432x288 with 1 Axes>"
      ]
     },
     "metadata": {
      "needs_background": "light"
     },
     "output_type": "display_data"
    }
   ],
   "source": [
    "axes = plt.gca()\n",
    "df_nulls.plot(kind=\"line\", y=\"shape\",ax=axes)\n",
    "df_nulls.plot(kind=\"line\", y=\"margin\",ax=axes)\n",
    "df_nulls.plot(kind=\"line\", y=\"density\",ax=axes)\n",
    "\n",
    "plt.show()"
   ]
  },
  {
   "cell_type": "markdown",
   "metadata": {},
   "source": [
    "If the missing data seems randomly distributed, go ahead and drop rows with missing data. Hint: use dropna()."
   ]
  },
  {
   "cell_type": "code",
   "execution_count": 66,
   "metadata": {},
   "outputs": [
    {
     "name": "stdout",
     "output_type": "stream",
     "text": [
      "(961, 6)\n",
      "(830, 6)\n"
     ]
    }
   ],
   "source": [
    "print(df.shape)\n",
    "df_cleaned = df.dropna()\n",
    "print(df_cleaned.shape)"
   ]
  },
  {
   "cell_type": "markdown",
   "metadata": {
    "collapsed": true
   },
   "source": [
    "Next you'll need to convert the Pandas dataframes into numpy arrays that can be used by scikit_learn. Create an array that extracts only the feature data we want to work with (age, shape, margin, and density) and another array that contains the classes (severity). You'll also need an array of the feature name labels."
   ]
  },
  {
   "cell_type": "code",
   "execution_count": 67,
   "metadata": {},
   "outputs": [],
   "source": [
    "# features\n",
    "df_features = df_cleaned[[\"age\", \"shape\", \"margin\", \"density\"]]\n",
    "feature_names = df_features.columns.to_numpy()\n",
    "features = df_features.to_numpy()\n",
    "classes = df_cleaned[\"severity\"].to_numpy()"
   ]
  },
  {
   "cell_type": "markdown",
   "metadata": {},
   "source": [
    "Some of our models require the input data to be normalized, so go ahead and normalize the attribute data. Hint: use preprocessing.StandardScaler()."
   ]
  },
  {
   "cell_type": "code",
   "execution_count": 68,
   "metadata": {},
   "outputs": [],
   "source": [
    "scaler = StandardScaler()\n",
    "scaler.fit(features)\n",
    "#print(scaler.mean_)\n",
    "scaled_features = scaler.transform(features)\n",
    "#print(scaled_features[:5])\n",
    "#print(features[:5])"
   ]
  },
  {
   "cell_type": "markdown",
   "metadata": {},
   "source": [
    "## Decision Trees\n",
    "\n",
    "Before moving to K-Fold cross validation and random forests, start by creating a single train/test split of our data. Set aside 75% for training, and 25% for testing."
   ]
  },
  {
   "cell_type": "code",
   "execution_count": 69,
   "metadata": {},
   "outputs": [],
   "source": [
    "mask = np.random.rand(len(classes)) < 0.75\n",
    "x_train, x_test = scaled_features[mask], scaled_features[~mask]\n",
    "y_train, y_test = classes[mask], classes[~mask]\n",
    "#print(len(x_train))\n",
    "#print(len(y_test))"
   ]
  },
  {
   "cell_type": "markdown",
   "metadata": {},
   "source": [
    "Now create a DecisionTreeClassifier and fit it to your training data."
   ]
  },
  {
   "cell_type": "code",
   "execution_count": 70,
   "metadata": {},
   "outputs": [],
   "source": [
    "dt_classifier = tree.DecisionTreeClassifier()\n",
    "dt_classifier = dt_classifier.fit(x_train, y_train)"
   ]
  },
  {
   "cell_type": "markdown",
   "metadata": {},
   "source": [
    "Display the resulting decision tree."
   ]
  },
  {
   "cell_type": "code",
   "execution_count": 71,
   "metadata": {},
   "outputs": [
    {
     "data": {
      "text/plain": [
       "[Text(139.4455078125, 211.7178947368421, 'X[2] <= -0.838\\ngini = 0.5\\nsamples = 647\\nvalue = [330, 317]'),\n",
       " Text(69.04520905923346, 200.2736842105263, 'X[0] <= 0.595\\ngini = 0.222\\nsamples = 260\\nvalue = [227, 33]'),\n",
       " Text(44.76637630662021, 188.82947368421054, 'X[0] <= -1.11\\ngini = 0.16\\nsamples = 228\\nvalue = [208, 20]'),\n",
       " Text(31.496864111498258, 177.38526315789474, 'X[0] <= -1.52\\ngini = 0.025\\nsamples = 78\\nvalue = [77, 1]'),\n",
       " Text(29.16376306620209, 165.94105263157894, 'gini = 0.0\\nsamples = 48\\nvalue = [48, 0]'),\n",
       " Text(33.82996515679443, 165.94105263157894, 'X[0] <= -1.451\\ngini = 0.064\\nsamples = 30\\nvalue = [29, 1]'),\n",
       " Text(31.496864111498258, 154.49684210526317, 'X[1] <= -1.032\\ngini = 0.375\\nsamples = 4\\nvalue = [3, 1]'),\n",
       " Text(29.16376306620209, 143.05263157894737, 'gini = 0.0\\nsamples = 1\\nvalue = [1, 0]'),\n",
       " Text(33.82996515679443, 143.05263157894737, 'gini = 0.444\\nsamples = 3\\nvalue = [2, 1]'),\n",
       " Text(36.1630662020906, 154.49684210526317, 'gini = 0.0\\nsamples = 26\\nvalue = [26, 0]'),\n",
       " Text(58.035888501742164, 177.38526315789474, 'X[1] <= -0.227\\ngini = 0.221\\nsamples = 150\\nvalue = [131, 19]'),\n",
       " Text(50.74494773519164, 165.94105263157894, 'X[0] <= 0.254\\ngini = 0.193\\nsamples = 139\\nvalue = [124, 15]'),\n",
       " Text(48.41184668989547, 154.49684210526317, 'X[0] <= 0.117\\ngini = 0.22\\nsamples = 119\\nvalue = [104, 15]'),\n",
       " Text(38.49616724738676, 143.05263157894737, 'X[0] <= -0.087\\ngini = 0.189\\nsamples = 104\\nvalue = [93, 11]'),\n",
       " Text(36.1630662020906, 131.60842105263157, 'X[0] <= -0.156\\ngini = 0.221\\nsamples = 87\\nvalue = [76, 11]'),\n",
       " Text(25.664111498257842, 120.16421052631578, 'X[0] <= -0.838\\ngini = 0.198\\nsamples = 81\\nvalue = [72, 9]'),\n",
       " Text(11.665505226480837, 108.72, 'X[3] <= -2.611\\ngini = 0.32\\nsamples = 20\\nvalue = [16, 4]'),\n",
       " Text(9.33240418118467, 97.27578947368421, 'gini = 0.0\\nsamples = 1\\nvalue = [0, 1]'),\n",
       " Text(13.998606271777003, 97.27578947368421, 'X[0] <= -0.906\\ngini = 0.266\\nsamples = 19\\nvalue = [16, 3]'),\n",
       " Text(9.33240418118467, 85.83157894736843, 'X[1] <= -1.032\\ngini = 0.153\\nsamples = 12\\nvalue = [11, 1]'),\n",
       " Text(6.999303135888502, 74.38736842105263, 'X[0] <= -0.974\\ngini = 0.245\\nsamples = 7\\nvalue = [6, 1]'),\n",
       " Text(4.666202090592335, 62.943157894736856, 'X[0] <= -1.042\\ngini = 0.32\\nsamples = 5\\nvalue = [4, 1]'),\n",
       " Text(2.3331010452961674, 51.49894736842106, 'gini = 0.0\\nsamples = 1\\nvalue = [1, 0]'),\n",
       " Text(6.999303135888502, 51.49894736842106, 'gini = 0.375\\nsamples = 4\\nvalue = [3, 1]'),\n",
       " Text(9.33240418118467, 62.943157894736856, 'gini = 0.0\\nsamples = 2\\nvalue = [2, 0]'),\n",
       " Text(11.665505226480837, 74.38736842105263, 'gini = 0.0\\nsamples = 5\\nvalue = [5, 0]'),\n",
       " Text(18.66480836236934, 85.83157894736843, 'X[1] <= -1.032\\ngini = 0.408\\nsamples = 7\\nvalue = [5, 2]'),\n",
       " Text(16.33170731707317, 74.38736842105263, 'gini = 0.375\\nsamples = 4\\nvalue = [3, 1]'),\n",
       " Text(20.997909407665507, 74.38736842105263, 'gini = 0.444\\nsamples = 3\\nvalue = [2, 1]'),\n",
       " Text(39.662717770034845, 108.72, 'X[0] <= -0.497\\ngini = 0.15\\nsamples = 61\\nvalue = [56, 5]'),\n",
       " Text(30.330313588850174, 97.27578947368421, 'X[0] <= -0.701\\ngini = 0.064\\nsamples = 30\\nvalue = [29, 1]'),\n",
       " Text(27.997212543554006, 85.83157894736843, 'X[1] <= -1.032\\ngini = 0.142\\nsamples = 13\\nvalue = [12, 1]'),\n",
       " Text(25.664111498257842, 74.38736842105263, 'gini = 0.0\\nsamples = 6\\nvalue = [6, 0]'),\n",
       " Text(30.330313588850174, 74.38736842105263, 'X[0] <= -0.769\\ngini = 0.245\\nsamples = 7\\nvalue = [6, 1]'),\n",
       " Text(27.997212543554006, 62.943157894736856, 'gini = 0.0\\nsamples = 3\\nvalue = [3, 0]'),\n",
       " Text(32.66341463414634, 62.943157894736856, 'X[3] <= -1.185\\ngini = 0.375\\nsamples = 4\\nvalue = [3, 1]'),\n",
       " Text(30.330313588850174, 51.49894736842106, 'gini = 0.0\\nsamples = 1\\nvalue = [1, 0]'),\n",
       " Text(34.99651567944251, 51.49894736842106, 'gini = 0.444\\nsamples = 3\\nvalue = [2, 1]'),\n",
       " Text(32.66341463414634, 85.83157894736843, 'gini = 0.0\\nsamples = 17\\nvalue = [17, 0]'),\n",
       " Text(48.99512195121952, 97.27578947368421, 'X[3] <= -1.185\\ngini = 0.225\\nsamples = 31\\nvalue = [27, 4]'),\n",
       " Text(46.66202090592335, 85.83157894736843, 'gini = 0.0\\nsamples = 3\\nvalue = [3, 0]'),\n",
       " Text(51.328222996515684, 85.83157894736843, 'X[0] <= -0.224\\ngini = 0.245\\nsamples = 28\\nvalue = [24, 4]'),\n",
       " Text(46.66202090592335, 74.38736842105263, 'X[0] <= -0.36\\ngini = 0.198\\nsamples = 18\\nvalue = [16, 2]'),\n",
       " Text(44.32891986062718, 62.943157894736856, 'X[1] <= -1.032\\ngini = 0.245\\nsamples = 14\\nvalue = [12, 2]'),\n",
       " Text(39.662717770034845, 51.49894736842106, 'X[0] <= -0.428\\ngini = 0.18\\nsamples = 10\\nvalue = [9, 1]'),\n",
       " Text(37.32961672473868, 40.05473684210526, 'gini = 0.32\\nsamples = 5\\nvalue = [4, 1]'),\n",
       " Text(41.99581881533101, 40.05473684210526, 'gini = 0.0\\nsamples = 5\\nvalue = [5, 0]'),\n",
       " Text(48.99512195121952, 51.49894736842106, 'X[0] <= -0.428\\ngini = 0.375\\nsamples = 4\\nvalue = [3, 1]'),\n",
       " Text(46.66202090592335, 40.05473684210526, 'gini = 0.0\\nsamples = 2\\nvalue = [2, 0]'),\n",
       " Text(51.328222996515684, 40.05473684210526, 'gini = 0.5\\nsamples = 2\\nvalue = [1, 1]'),\n",
       " Text(48.99512195121952, 62.943157894736856, 'gini = 0.0\\nsamples = 4\\nvalue = [4, 0]'),\n",
       " Text(55.99442508710801, 74.38736842105263, 'X[1] <= -1.032\\ngini = 0.32\\nsamples = 10\\nvalue = [8, 2]'),\n",
       " Text(53.66132404181185, 62.943157894736856, 'gini = 0.444\\nsamples = 6\\nvalue = [4, 2]'),\n",
       " Text(58.32752613240418, 62.943157894736856, 'gini = 0.0\\nsamples = 4\\nvalue = [4, 0]'),\n",
       " Text(46.66202090592335, 120.16421052631578, 'X[1] <= -1.032\\ngini = 0.444\\nsamples = 6\\nvalue = [4, 2]'),\n",
       " Text(44.32891986062718, 108.72, 'gini = 0.375\\nsamples = 4\\nvalue = [3, 1]'),\n",
       " Text(48.99512195121952, 108.72, 'gini = 0.5\\nsamples = 2\\nvalue = [1, 1]'),\n",
       " Text(40.829268292682926, 131.60842105263157, 'gini = 0.0\\nsamples = 17\\nvalue = [17, 0]'),\n",
       " Text(58.32752613240418, 143.05263157894737, 'X[3] <= -1.185\\ngini = 0.391\\nsamples = 15\\nvalue = [11, 4]'),\n",
       " Text(55.99442508710801, 131.60842105263157, 'gini = 0.0\\nsamples = 1\\nvalue = [1, 0]'),\n",
       " Text(60.66062717770035, 131.60842105263157, 'X[1] <= -1.032\\ngini = 0.408\\nsamples = 14\\nvalue = [10, 4]'),\n",
       " Text(55.99442508710801, 120.16421052631578, 'X[0] <= 0.185\\ngini = 0.32\\nsamples = 5\\nvalue = [4, 1]'),\n",
       " Text(53.66132404181185, 108.72, 'gini = 0.444\\nsamples = 3\\nvalue = [2, 1]'),\n",
       " Text(58.32752613240418, 108.72, 'gini = 0.0\\nsamples = 2\\nvalue = [2, 0]'),\n",
       " Text(65.32682926829268, 120.16421052631578, 'X[0] <= 0.185\\ngini = 0.444\\nsamples = 9\\nvalue = [6, 3]'),\n",
       " Text(62.993728222996516, 108.72, 'gini = 0.0\\nsamples = 1\\nvalue = [1, 0]'),\n",
       " Text(67.65993031358886, 108.72, 'gini = 0.469\\nsamples = 8\\nvalue = [5, 3]'),\n",
       " Text(53.078048780487805, 154.49684210526317, 'gini = 0.0\\nsamples = 20\\nvalue = [20, 0]'),\n",
       " Text(65.32682926829268, 165.94105263157894, 'X[0] <= -1.042\\ngini = 0.463\\nsamples = 11\\nvalue = [7, 4]'),\n",
       " Text(62.993728222996516, 154.49684210526317, 'gini = 0.0\\nsamples = 1\\nvalue = [0, 1]'),\n",
       " Text(67.65993031358886, 154.49684210526317, 'X[0] <= -0.769\\ngini = 0.42\\nsamples = 10\\nvalue = [7, 3]'),\n",
       " Text(65.32682926829268, 143.05263157894737, 'gini = 0.0\\nsamples = 3\\nvalue = [3, 0]'),\n",
       " Text(69.99303135888502, 143.05263157894737, 'X[0] <= -0.633\\ngini = 0.49\\nsamples = 7\\nvalue = [4, 3]'),\n",
       " Text(67.65993031358886, 131.60842105263157, 'gini = 0.0\\nsamples = 2\\nvalue = [0, 2]'),\n",
       " Text(72.3261324041812, 131.60842105263157, 'X[0] <= -0.224\\ngini = 0.32\\nsamples = 5\\nvalue = [4, 1]'),\n",
       " Text(69.99303135888502, 120.16421052631578, 'gini = 0.0\\nsamples = 2\\nvalue = [2, 0]'),\n",
       " Text(74.65923344947736, 120.16421052631578, 'X[0] <= 0.151\\ngini = 0.444\\nsamples = 3\\nvalue = [2, 1]'),\n",
       " Text(72.3261324041812, 108.72, 'gini = 0.0\\nsamples = 1\\nvalue = [0, 1]'),\n",
       " Text(76.99233449477352, 108.72, 'gini = 0.0\\nsamples = 2\\nvalue = [2, 0]'),\n",
       " Text(93.3240418118467, 188.82947368421054, 'X[0] <= 1.822\\ngini = 0.482\\nsamples = 32\\nvalue = [19, 13]'),\n",
       " Text(90.99094076655052, 177.38526315789474, 'X[0] <= 1.311\\ngini = 0.475\\nsamples = 31\\nvalue = [19, 12]'),\n",
       " Text(88.65783972125436, 165.94105263157894, 'X[0] <= 1.208\\ngini = 0.49\\nsamples = 28\\nvalue = [16, 12]'),\n",
       " Text(86.32473867595819, 154.49684210526317, 'X[1] <= -1.032\\ngini = 0.461\\nsamples = 25\\nvalue = [16, 9]'),\n",
       " Text(79.32543554006969, 143.05263157894737, 'X[3] <= -2.611\\ngini = 0.496\\nsamples = 11\\nvalue = [5, 6]'),\n",
       " Text(76.99233449477352, 131.60842105263157, 'gini = 0.0\\nsamples = 1\\nvalue = [1, 0]'),\n",
       " Text(81.65853658536585, 131.60842105263157, 'X[0] <= 0.663\\ngini = 0.48\\nsamples = 10\\nvalue = [4, 6]'),\n",
       " Text(79.32543554006969, 120.16421052631578, 'gini = 0.0\\nsamples = 1\\nvalue = [0, 1]'),\n",
       " Text(83.99163763066203, 120.16421052631578, 'X[0] <= 0.97\\ngini = 0.494\\nsamples = 9\\nvalue = [4, 5]'),\n",
       " Text(81.65853658536585, 108.72, 'X[0] <= 0.867\\ngini = 0.5\\nsamples = 8\\nvalue = [4, 4]'),\n",
       " Text(79.32543554006969, 97.27578947368421, 'X[0] <= 0.765\\ngini = 0.49\\nsamples = 7\\nvalue = [3, 4]'),\n",
       " Text(76.99233449477352, 85.83157894736843, 'gini = 0.5\\nsamples = 4\\nvalue = [2, 2]'),\n",
       " Text(81.65853658536585, 85.83157894736843, 'gini = 0.444\\nsamples = 3\\nvalue = [1, 2]'),\n",
       " Text(83.99163763066203, 97.27578947368421, 'gini = 0.0\\nsamples = 1\\nvalue = [1, 0]'),\n",
       " Text(86.32473867595819, 108.72, 'gini = 0.0\\nsamples = 1\\nvalue = [0, 1]'),\n",
       " Text(93.3240418118467, 143.05263157894737, 'X[1] <= 0.578\\ngini = 0.337\\nsamples = 14\\nvalue = [11, 3]'),\n",
       " Text(90.99094076655052, 131.60842105263157, 'X[0] <= 0.867\\ngini = 0.26\\nsamples = 13\\nvalue = [11, 2]'),\n",
       " Text(88.65783972125436, 120.16421052631578, 'gini = 0.0\\nsamples = 6\\nvalue = [6, 0]'),\n",
       " Text(93.3240418118467, 120.16421052631578, 'X[0] <= 1.072\\ngini = 0.408\\nsamples = 7\\nvalue = [5, 2]'),\n",
       " Text(90.99094076655052, 108.72, 'X[0] <= 1.004\\ngini = 0.5\\nsamples = 4\\nvalue = [2, 2]'),\n",
       " Text(88.65783972125436, 97.27578947368421, 'X[0] <= 0.936\\ngini = 0.444\\nsamples = 3\\nvalue = [2, 1]'),\n",
       " Text(86.32473867595819, 85.83157894736843, 'gini = 0.5\\nsamples = 2\\nvalue = [1, 1]'),\n",
       " Text(90.99094076655052, 85.83157894736843, 'gini = 0.0\\nsamples = 1\\nvalue = [1, 0]'),\n",
       " Text(93.3240418118467, 97.27578947368421, 'gini = 0.0\\nsamples = 1\\nvalue = [0, 1]'),\n",
       " Text(95.65714285714286, 108.72, 'gini = 0.0\\nsamples = 3\\nvalue = [3, 0]'),\n",
       " Text(95.65714285714286, 131.60842105263157, 'gini = 0.0\\nsamples = 1\\nvalue = [0, 1]'),\n",
       " Text(90.99094076655052, 154.49684210526317, 'gini = 0.0\\nsamples = 3\\nvalue = [0, 3]'),\n",
       " Text(93.3240418118467, 165.94105263157894, 'gini = 0.0\\nsamples = 3\\nvalue = [3, 0]'),\n",
       " Text(95.65714285714286, 177.38526315789474, 'gini = 0.0\\nsamples = 1\\nvalue = [0, 1]'),\n",
       " Text(209.84580656576657, 200.2736842105263, 'X[0] <= 0.254\\ngini = 0.391\\nsamples = 387\\nvalue = [103, 284]'),\n",
       " Text(123.53359919425088, 188.82947368421054, 'X[1] <= -0.227\\ngini = 0.48\\nsamples = 183\\nvalue = [73, 110]'),\n",
       " Text(107.3226480836237, 177.38526315789474, 'X[0] <= -0.053\\ngini = 0.401\\nsamples = 36\\nvalue = [26, 10]'),\n",
       " Text(102.65644599303137, 165.94105263157894, 'X[0] <= -1.486\\ngini = 0.236\\nsamples = 22\\nvalue = [19, 3]'),\n",
       " Text(100.3233449477352, 154.49684210526317, 'gini = 0.0\\nsamples = 1\\nvalue = [0, 1]'),\n",
       " Text(104.98954703832753, 154.49684210526317, 'X[0] <= -1.042\\ngini = 0.172\\nsamples = 21\\nvalue = [19, 2]'),\n",
       " Text(102.65644599303137, 143.05263157894737, 'X[2] <= 0.438\\ngini = 0.408\\nsamples = 7\\nvalue = [5, 2]'),\n",
       " Text(100.3233449477352, 131.60842105263157, 'gini = 0.0\\nsamples = 4\\nvalue = [4, 0]'),\n",
       " Text(104.98954703832753, 131.60842105263157, 'X[0] <= -1.315\\ngini = 0.444\\nsamples = 3\\nvalue = [1, 2]'),\n",
       " Text(102.65644599303137, 120.16421052631578, 'gini = 0.0\\nsamples = 1\\nvalue = [1, 0]'),\n",
       " Text(107.3226480836237, 120.16421052631578, 'gini = 0.0\\nsamples = 2\\nvalue = [0, 2]'),\n",
       " Text(107.3226480836237, 143.05263157894737, 'gini = 0.0\\nsamples = 14\\nvalue = [14, 0]'),\n",
       " Text(111.98885017421603, 165.94105263157894, 'X[1] <= -1.032\\ngini = 0.5\\nsamples = 14\\nvalue = [7, 7]'),\n",
       " Text(109.65574912891987, 154.49684210526317, 'gini = 0.0\\nsamples = 3\\nvalue = [0, 3]'),\n",
       " Text(114.3219512195122, 154.49684210526317, 'X[2] <= 0.438\\ngini = 0.463\\nsamples = 11\\nvalue = [7, 4]'),\n",
       " Text(111.98885017421603, 143.05263157894737, 'gini = 0.0\\nsamples = 2\\nvalue = [0, 2]'),\n",
       " Text(116.65505226480836, 143.05263157894737, 'X[0] <= 0.049\\ngini = 0.346\\nsamples = 9\\nvalue = [7, 2]'),\n",
       " Text(114.3219512195122, 131.60842105263157, 'gini = 0.444\\nsamples = 3\\nvalue = [2, 1]'),\n",
       " Text(118.98815331010454, 131.60842105263157, 'X[0] <= 0.151\\ngini = 0.278\\nsamples = 6\\nvalue = [5, 1]'),\n",
       " Text(116.65505226480836, 120.16421052631578, 'gini = 0.0\\nsamples = 3\\nvalue = [3, 0]'),\n",
       " Text(121.3212543554007, 120.16421052631578, 'gini = 0.444\\nsamples = 3\\nvalue = [2, 1]'),\n",
       " Text(139.74455030487806, 177.38526315789474, 'X[0] <= -1.383\\ngini = 0.435\\nsamples = 147\\nvalue = [47, 100]'),\n",
       " Text(124.82090592334495, 165.94105263157894, 'X[0] <= -1.656\\ngini = 0.49\\nsamples = 7\\nvalue = [4, 3]'),\n",
       " Text(122.48780487804879, 154.49684210526317, 'gini = 0.0\\nsamples = 2\\nvalue = [0, 2]'),\n",
       " Text(127.15400696864113, 154.49684210526317, 'X[2] <= 1.077\\ngini = 0.32\\nsamples = 5\\nvalue = [4, 1]'),\n",
       " Text(124.82090592334495, 143.05263157894737, 'gini = 0.0\\nsamples = 4\\nvalue = [4, 0]'),\n",
       " Text(129.4871080139373, 143.05263157894737, 'gini = 0.0\\nsamples = 1\\nvalue = [0, 1]'),\n",
       " Text(154.66819468641117, 165.94105263157894, 'X[2] <= -0.2\\ngini = 0.426\\nsamples = 140\\nvalue = [43, 97]'),\n",
       " Text(152.33509364111498, 154.49684210526317, 'gini = 0.0\\nsamples = 4\\nvalue = [0, 4]'),\n",
       " Text(157.00129573170733, 154.49684210526317, 'X[1] <= 0.578\\ngini = 0.432\\nsamples = 136\\nvalue = [43, 93]'),\n",
       " Text(134.15331010452962, 143.05263157894737, 'X[0] <= -0.599\\ngini = 0.5\\nsamples = 14\\nvalue = [7, 7]'),\n",
       " Text(128.3205574912892, 131.60842105263157, 'X[0] <= -1.042\\ngini = 0.375\\nsamples = 4\\nvalue = [1, 3]'),\n",
       " Text(125.98745644599303, 120.16421052631578, 'gini = 0.0\\nsamples = 1\\nvalue = [1, 0]'),\n",
       " Text(130.65365853658537, 120.16421052631578, 'gini = 0.0\\nsamples = 3\\nvalue = [0, 3]'),\n",
       " Text(139.98606271777004, 131.60842105263157, 'X[0] <= -0.122\\ngini = 0.48\\nsamples = 10\\nvalue = [6, 4]'),\n",
       " Text(135.31986062717772, 120.16421052631578, 'X[2] <= 1.077\\ngini = 0.32\\nsamples = 5\\nvalue = [4, 1]'),\n",
       " Text(132.98675958188153, 108.72, 'gini = 0.0\\nsamples = 4\\nvalue = [4, 0]'),\n",
       " Text(137.65296167247388, 108.72, 'gini = 0.0\\nsamples = 1\\nvalue = [0, 1]'),\n",
       " Text(144.6522648083624, 120.16421052631578, 'X[0] <= 0.151\\ngini = 0.48\\nsamples = 5\\nvalue = [2, 3]'),\n",
       " Text(142.3191637630662, 108.72, 'X[3] <= -1.185\\ngini = 0.375\\nsamples = 4\\nvalue = [1, 3]'),\n",
       " Text(139.98606271777004, 97.27578947368421, 'gini = 0.0\\nsamples = 1\\nvalue = [1, 0]'),\n",
       " Text(144.6522648083624, 97.27578947368421, 'gini = 0.0\\nsamples = 3\\nvalue = [0, 3]'),\n",
       " Text(146.98536585365855, 108.72, 'gini = 0.0\\nsamples = 1\\nvalue = [1, 0]'),\n",
       " Text(179.84928135888504, 143.05263157894737, 'X[0] <= -1.213\\ngini = 0.416\\nsamples = 122\\nvalue = [36, 86]'),\n",
       " Text(177.51618031358885, 131.60842105263157, 'gini = 0.0\\nsamples = 4\\nvalue = [0, 4]'),\n",
       " Text(182.1823824041812, 131.60842105263157, 'X[0] <= -0.428\\ngini = 0.424\\nsamples = 118\\nvalue = [36, 82]'),\n",
       " Text(163.90034843205575, 120.16421052631578, 'X[0] <= -0.633\\ngini = 0.476\\nsamples = 41\\nvalue = [16, 25]'),\n",
       " Text(155.15121951219513, 108.72, 'X[2] <= 1.077\\ngini = 0.426\\nsamples = 26\\nvalue = [8, 18]'),\n",
       " Text(149.3184668989547, 97.27578947368421, 'X[0] <= -0.838\\ngini = 0.457\\nsamples = 17\\nvalue = [6, 11]'),\n",
       " Text(144.6522648083624, 85.83157894736843, 'X[0] <= -1.11\\ngini = 0.219\\nsamples = 8\\nvalue = [1, 7]'),\n",
       " Text(142.3191637630662, 74.38736842105263, 'X[2] <= 0.438\\ngini = 0.5\\nsamples = 2\\nvalue = [1, 1]'),\n",
       " Text(139.98606271777004, 62.943157894736856, 'gini = 0.0\\nsamples = 1\\nvalue = [1, 0]'),\n",
       " Text(144.6522648083624, 62.943157894736856, 'gini = 0.0\\nsamples = 1\\nvalue = [0, 1]'),\n",
       " Text(146.98536585365855, 74.38736842105263, 'gini = 0.0\\nsamples = 6\\nvalue = [0, 6]'),\n",
       " Text(153.98466898954703, 85.83157894736843, 'X[0] <= -0.701\\ngini = 0.494\\nsamples = 9\\nvalue = [5, 4]'),\n",
       " Text(151.65156794425087, 74.38736842105263, 'gini = 0.0\\nsamples = 2\\nvalue = [2, 0]'),\n",
       " Text(156.31777003484322, 74.38736842105263, 'X[3] <= -1.185\\ngini = 0.49\\nsamples = 7\\nvalue = [3, 4]'),\n",
       " Text(153.98466898954703, 62.943157894736856, 'gini = 0.0\\nsamples = 1\\nvalue = [1, 0]'),\n",
       " Text(158.65087108013938, 62.943157894736856, 'X[2] <= 0.438\\ngini = 0.444\\nsamples = 6\\nvalue = [2, 4]'),\n",
       " Text(156.31777003484322, 51.49894736842106, 'gini = 0.5\\nsamples = 4\\nvalue = [2, 2]'),\n",
       " Text(160.98397212543554, 51.49894736842106, 'gini = 0.0\\nsamples = 2\\nvalue = [0, 2]'),\n",
       " Text(160.98397212543554, 97.27578947368421, 'X[0] <= -0.906\\ngini = 0.346\\nsamples = 9\\nvalue = [2, 7]'),\n",
       " Text(158.65087108013938, 85.83157894736843, 'gini = 0.0\\nsamples = 2\\nvalue = [2, 0]'),\n",
       " Text(163.3170731707317, 85.83157894736843, 'gini = 0.0\\nsamples = 7\\nvalue = [0, 7]'),\n",
       " Text(172.64947735191637, 108.72, 'X[2] <= 1.077\\ngini = 0.498\\nsamples = 15\\nvalue = [8, 7]'),\n",
       " Text(170.3163763066202, 97.27578947368421, 'X[0] <= -0.565\\ngini = 0.497\\nsamples = 13\\nvalue = [6, 7]'),\n",
       " Text(167.98327526132405, 85.83157894736843, 'gini = 0.0\\nsamples = 1\\nvalue = [1, 0]'),\n",
       " Text(172.64947735191637, 85.83157894736843, 'X[0] <= -0.497\\ngini = 0.486\\nsamples = 12\\nvalue = [5, 7]'),\n",
       " Text(170.3163763066202, 74.38736842105263, 'gini = 0.375\\nsamples = 4\\nvalue = [1, 3]'),\n",
       " Text(174.98257839721256, 74.38736842105263, 'gini = 0.5\\nsamples = 8\\nvalue = [4, 4]'),\n",
       " Text(174.98257839721256, 97.27578947368421, 'gini = 0.0\\nsamples = 2\\nvalue = [2, 0]'),\n",
       " Text(200.46441637630662, 120.16421052631578, 'X[0] <= -0.224\\ngini = 0.385\\nsamples = 77\\nvalue = [20, 57]'),\n",
       " Text(188.98118466898956, 108.72, 'X[0] <= -0.292\\ngini = 0.255\\nsamples = 20\\nvalue = [3, 17]'),\n",
       " Text(184.31498257839723, 97.27578947368421, 'X[2] <= 1.077\\ngini = 0.298\\nsamples = 11\\nvalue = [2, 9]'),\n",
       " Text(181.98188153310105, 85.83157894736843, 'X[3] <= -1.185\\ngini = 0.408\\nsamples = 7\\nvalue = [2, 5]'),\n",
       " Text(179.64878048780488, 74.38736842105263, 'gini = 0.0\\nsamples = 1\\nvalue = [0, 1]'),\n",
       " Text(184.31498257839723, 74.38736842105263, 'X[0] <= -0.36\\ngini = 0.444\\nsamples = 6\\nvalue = [2, 4]'),\n",
       " Text(179.64878048780488, 62.943157894736856, 'X[2] <= 0.438\\ngini = 0.444\\nsamples = 3\\nvalue = [1, 2]'),\n",
       " Text(177.31567944250872, 51.49894736842106, 'gini = 0.0\\nsamples = 2\\nvalue = [0, 2]'),\n",
       " Text(181.98188153310105, 51.49894736842106, 'gini = 0.0\\nsamples = 1\\nvalue = [1, 0]'),\n",
       " Text(188.98118466898956, 62.943157894736856, 'X[2] <= 0.438\\ngini = 0.444\\nsamples = 3\\nvalue = [1, 2]'),\n",
       " Text(186.6480836236934, 51.49894736842106, 'gini = 0.0\\nsamples = 1\\nvalue = [1, 0]'),\n",
       " Text(191.31428571428572, 51.49894736842106, 'gini = 0.0\\nsamples = 2\\nvalue = [0, 2]'),\n",
       " Text(186.6480836236934, 85.83157894736843, 'gini = 0.0\\nsamples = 4\\nvalue = [0, 4]'),\n",
       " Text(193.64738675958188, 97.27578947368421, 'X[2] <= 1.077\\ngini = 0.198\\nsamples = 9\\nvalue = [1, 8]'),\n",
       " Text(191.31428571428572, 85.83157894736843, 'gini = 0.0\\nsamples = 6\\nvalue = [0, 6]'),\n",
       " Text(195.98048780487807, 85.83157894736843, 'gini = 0.444\\nsamples = 3\\nvalue = [1, 2]'),\n",
       " Text(211.9476480836237, 108.72, 'X[0] <= -0.156\\ngini = 0.419\\nsamples = 57\\nvalue = [17, 40]'),\n",
       " Text(202.97979094076655, 97.27578947368421, 'X[2] <= 0.438\\ngini = 0.32\\nsamples = 5\\nvalue = [4, 1]'),\n",
       " Text(200.6466898954704, 85.83157894736843, 'gini = 0.5\\nsamples = 2\\nvalue = [1, 1]'),\n",
       " Text(205.31289198606274, 85.83157894736843, 'gini = 0.0\\nsamples = 3\\nvalue = [3, 0]'),\n",
       " Text(220.91550522648086, 97.27578947368421, 'X[0] <= -0.019\\ngini = 0.375\\nsamples = 52\\nvalue = [13, 39]'),\n",
       " Text(209.97909407665506, 85.83157894736843, 'X[0] <= -0.087\\ngini = 0.219\\nsamples = 16\\nvalue = [2, 14]'),\n",
       " Text(207.6459930313589, 74.38736842105263, 'gini = 0.0\\nsamples = 5\\nvalue = [0, 5]'),\n",
       " Text(212.31219512195122, 74.38736842105263, 'X[2] <= 0.438\\ngini = 0.298\\nsamples = 11\\nvalue = [2, 9]'),\n",
       " Text(209.97909407665506, 62.943157894736856, 'gini = 0.0\\nsamples = 2\\nvalue = [0, 2]'),\n",
       " Text(214.6452961672474, 62.943157894736856, 'X[3] <= 1.666\\ngini = 0.346\\nsamples = 9\\nvalue = [2, 7]'),\n",
       " Text(212.31219512195122, 51.49894736842106, 'X[2] <= 1.077\\ngini = 0.375\\nsamples = 8\\nvalue = [2, 6]'),\n",
       " Text(209.97909407665506, 40.05473684210526, 'gini = 0.375\\nsamples = 4\\nvalue = [1, 3]'),\n",
       " Text(214.6452961672474, 40.05473684210526, 'gini = 0.375\\nsamples = 4\\nvalue = [1, 3]'),\n",
       " Text(216.97839721254357, 51.49894736842106, 'gini = 0.0\\nsamples = 1\\nvalue = [0, 1]'),\n",
       " Text(231.85191637630663, 85.83157894736843, 'X[0] <= 0.049\\ngini = 0.424\\nsamples = 36\\nvalue = [11, 25]'),\n",
       " Text(221.6445993031359, 74.38736842105263, 'X[2] <= 0.438\\ngini = 0.48\\nsamples = 5\\nvalue = [3, 2]'),\n",
       " Text(219.31149825783973, 62.943157894736856, 'gini = 0.0\\nsamples = 1\\nvalue = [0, 1]'),\n",
       " Text(223.97770034843205, 62.943157894736856, 'X[2] <= 1.077\\ngini = 0.375\\nsamples = 4\\nvalue = [3, 1]'),\n",
       " Text(221.6445993031359, 51.49894736842106, 'gini = 0.0\\nsamples = 3\\nvalue = [3, 0]'),\n",
       " Text(226.31080139372824, 51.49894736842106, 'gini = 0.0\\nsamples = 1\\nvalue = [0, 1]'),\n",
       " Text(242.05923344947738, 74.38736842105263, 'X[2] <= 0.438\\ngini = 0.383\\nsamples = 31\\nvalue = [8, 23]'),\n",
       " Text(233.31010452961672, 62.943157894736856, 'X[3] <= -1.185\\ngini = 0.5\\nsamples = 6\\nvalue = [3, 3]'),\n",
       " Text(230.97700348432056, 51.49894736842106, 'gini = 0.0\\nsamples = 1\\nvalue = [1, 0]'),\n",
       " Text(235.6432055749129, 51.49894736842106, 'X[0] <= 0.185\\ngini = 0.48\\nsamples = 5\\nvalue = [2, 3]'),\n",
       " Text(233.31010452961672, 40.05473684210526, 'X[0] <= 0.117\\ngini = 0.5\\nsamples = 4\\nvalue = [2, 2]'),\n",
       " Text(230.97700348432056, 28.610526315789485, 'gini = 0.444\\nsamples = 3\\nvalue = [1, 2]'),\n",
       " Text(235.6432055749129, 28.610526315789485, 'gini = 0.0\\nsamples = 1\\nvalue = [1, 0]'),\n",
       " Text(237.97630662020907, 40.05473684210526, 'gini = 0.0\\nsamples = 1\\nvalue = [0, 1]'),\n",
       " Text(250.808362369338, 62.943157894736856, 'X[3] <= 1.666\\ngini = 0.32\\nsamples = 25\\nvalue = [5, 20]'),\n",
       " Text(248.4752613240418, 51.49894736842106, 'X[0] <= 0.117\\ngini = 0.34\\nsamples = 23\\nvalue = [5, 18]'),\n",
       " Text(242.6425087108014, 40.05473684210526, 'X[2] <= 1.077\\ngini = 0.444\\nsamples = 6\\nvalue = [2, 4]'),\n",
       " Text(240.30940766550523, 28.610526315789485, 'gini = 0.48\\nsamples = 5\\nvalue = [2, 3]'),\n",
       " Text(244.97560975609758, 28.610526315789485, 'gini = 0.0\\nsamples = 1\\nvalue = [0, 1]'),\n",
       " Text(254.30801393728225, 40.05473684210526, 'X[2] <= 1.077\\ngini = 0.291\\nsamples = 17\\nvalue = [3, 14]'),\n",
       " Text(249.6418118466899, 28.610526315789485, 'X[0] <= 0.185\\ngini = 0.18\\nsamples = 10\\nvalue = [1, 9]'),\n",
       " Text(247.30871080139374, 17.166315789473686, 'X[3] <= -1.185\\ngini = 0.278\\nsamples = 6\\nvalue = [1, 5]'),\n",
       " Text(244.97560975609758, 5.722105263157886, 'gini = 0.0\\nsamples = 1\\nvalue = [0, 1]'),\n",
       " Text(249.6418118466899, 5.722105263157886, 'gini = 0.32\\nsamples = 5\\nvalue = [1, 4]'),\n",
       " Text(251.97491289198607, 17.166315789473686, 'gini = 0.0\\nsamples = 4\\nvalue = [0, 4]'),\n",
       " Text(258.9742160278746, 28.610526315789485, 'X[0] <= 0.185\\ngini = 0.408\\nsamples = 7\\nvalue = [2, 5]'),\n",
       " Text(256.6411149825784, 17.166315789473686, 'gini = 0.375\\nsamples = 4\\nvalue = [1, 3]'),\n",
       " Text(261.30731707317074, 17.166315789473686, 'gini = 0.444\\nsamples = 3\\nvalue = [1, 2]'),\n",
       " Text(253.14146341463416, 51.49894736842106, 'gini = 0.0\\nsamples = 2\\nvalue = [0, 2]'),\n",
       " Text(296.15801393728225, 188.82947368421054, 'X[3] <= 1.666\\ngini = 0.251\\nsamples = 204\\nvalue = [30, 174]'),\n",
       " Text(281.4303135888502, 177.38526315789474, 'X[0] <= 0.936\\ngini = 0.24\\nsamples = 201\\nvalue = [28, 173]'),\n",
       " Text(265.68188153310103, 165.94105263157894, 'X[2] <= 1.077\\ngini = 0.318\\nsamples = 106\\nvalue = [21, 85]'),\n",
       " Text(252.5581881533101, 154.49684210526317, 'X[1] <= 0.578\\ngini = 0.358\\nsamples = 77\\nvalue = [18, 59]'),\n",
       " Text(235.6432055749129, 143.05263157894737, 'X[2] <= 0.438\\ngini = 0.454\\nsamples = 23\\nvalue = [8, 15]'),\n",
       " Text(225.14425087108015, 131.60842105263157, 'X[1] <= -0.227\\ngini = 0.494\\nsamples = 9\\nvalue = [5, 4]'),\n",
       " Text(222.81114982578399, 120.16421052631578, 'gini = 0.0\\nsamples = 2\\nvalue = [2, 0]'),\n",
       " Text(227.4773519163763, 120.16421052631578, 'X[0] <= 0.492\\ngini = 0.49\\nsamples = 7\\nvalue = [3, 4]'),\n",
       " Text(225.14425087108015, 108.72, 'gini = 0.444\\nsamples = 3\\nvalue = [2, 1]'),\n",
       " Text(229.8104529616725, 108.72, 'X[0] <= 0.595\\ngini = 0.375\\nsamples = 4\\nvalue = [1, 3]'),\n",
       " Text(227.4773519163763, 97.27578947368421, 'gini = 0.0\\nsamples = 1\\nvalue = [0, 1]'),\n",
       " Text(232.14355400696866, 97.27578947368421, 'gini = 0.444\\nsamples = 3\\nvalue = [1, 2]'),\n",
       " Text(246.14216027874565, 131.60842105263157, 'X[1] <= -0.227\\ngini = 0.337\\nsamples = 14\\nvalue = [3, 11]'),\n",
       " Text(241.47595818815333, 120.16421052631578, 'X[0] <= 0.492\\ngini = 0.219\\nsamples = 8\\nvalue = [1, 7]'),\n",
       " Text(239.14285714285717, 108.72, 'X[0] <= 0.39\\ngini = 0.32\\nsamples = 5\\nvalue = [1, 4]'),\n",
       " Text(236.80975609756098, 97.27578947368421, 'gini = 0.0\\nsamples = 2\\nvalue = [0, 2]'),\n",
       " Text(241.47595818815333, 97.27578947368421, 'gini = 0.444\\nsamples = 3\\nvalue = [1, 2]'),\n",
       " Text(243.8090592334495, 108.72, 'gini = 0.0\\nsamples = 3\\nvalue = [0, 3]'),\n",
       " Text(250.808362369338, 120.16421052631578, 'X[3] <= -1.185\\ngini = 0.444\\nsamples = 6\\nvalue = [2, 4]'),\n",
       " Text(248.4752613240418, 108.72, 'gini = 0.0\\nsamples = 1\\nvalue = [0, 1]'),\n",
       " Text(253.14146341463416, 108.72, 'X[0] <= 0.424\\ngini = 0.48\\nsamples = 5\\nvalue = [2, 3]'),\n",
       " Text(250.808362369338, 97.27578947368421, 'gini = 0.5\\nsamples = 2\\nvalue = [1, 1]'),\n",
       " Text(255.47456445993032, 97.27578947368421, 'X[0] <= 0.697\\ngini = 0.444\\nsamples = 3\\nvalue = [1, 2]'),\n",
       " Text(253.14146341463416, 85.83157894736843, 'gini = 0.0\\nsamples = 1\\nvalue = [0, 1]'),\n",
       " Text(257.8076655052265, 85.83157894736843, 'gini = 0.5\\nsamples = 2\\nvalue = [1, 1]'),\n",
       " Text(269.47317073170734, 143.05263157894737, 'X[0] <= 0.799\\ngini = 0.302\\nsamples = 54\\nvalue = [10, 44]'),\n",
       " Text(264.806968641115, 131.60842105263157, 'X[0] <= 0.731\\ngini = 0.258\\nsamples = 46\\nvalue = [7, 39]'),\n",
       " Text(262.47386759581883, 120.16421052631578, 'X[0] <= 0.356\\ngini = 0.301\\nsamples = 38\\nvalue = [7, 31]'),\n",
       " Text(260.14076655052264, 108.72, 'gini = 0.0\\nsamples = 6\\nvalue = [0, 6]'),\n",
       " Text(264.806968641115, 108.72, 'X[3] <= -1.185\\ngini = 0.342\\nsamples = 32\\nvalue = [7, 25]'),\n",
       " Text(262.47386759581883, 97.27578947368421, 'gini = 0.0\\nsamples = 1\\nvalue = [0, 1]'),\n",
       " Text(267.14006968641115, 97.27578947368421, 'X[0] <= 0.663\\ngini = 0.35\\nsamples = 31\\nvalue = [7, 24]'),\n",
       " Text(262.47386759581883, 85.83157894736843, 'X[2] <= 0.438\\ngini = 0.375\\nsamples = 20\\nvalue = [5, 15]'),\n",
       " Text(260.14076655052264, 74.38736842105263, 'gini = 0.0\\nsamples = 4\\nvalue = [0, 4]'),\n",
       " Text(264.806968641115, 74.38736842105263, 'X[0] <= 0.526\\ngini = 0.43\\nsamples = 16\\nvalue = [5, 11]'),\n",
       " Text(260.14076655052264, 62.943157894736856, 'X[0] <= 0.458\\ngini = 0.397\\nsamples = 11\\nvalue = [3, 8]'),\n",
       " Text(257.8076655052265, 51.49894736842106, 'gini = 0.375\\nsamples = 4\\nvalue = [1, 3]'),\n",
       " Text(262.47386759581883, 51.49894736842106, 'gini = 0.408\\nsamples = 7\\nvalue = [2, 5]'),\n",
       " Text(269.47317073170734, 62.943157894736856, 'X[0] <= 0.595\\ngini = 0.48\\nsamples = 5\\nvalue = [2, 3]'),\n",
       " Text(267.14006968641115, 51.49894736842106, 'gini = 0.5\\nsamples = 2\\nvalue = [1, 1]'),\n",
       " Text(271.8062717770035, 51.49894736842106, 'gini = 0.444\\nsamples = 3\\nvalue = [1, 2]'),\n",
       " Text(271.8062717770035, 85.83157894736843, 'X[2] <= 0.438\\ngini = 0.298\\nsamples = 11\\nvalue = [2, 9]'),\n",
       " Text(269.47317073170734, 74.38736842105263, 'gini = 0.5\\nsamples = 2\\nvalue = [1, 1]'),\n",
       " Text(274.13937282229966, 74.38736842105263, 'gini = 0.198\\nsamples = 9\\nvalue = [1, 8]'),\n",
       " Text(267.14006968641115, 120.16421052631578, 'gini = 0.0\\nsamples = 8\\nvalue = [0, 8]'),\n",
       " Text(274.13937282229966, 131.60842105263157, 'X[2] <= 0.438\\ngini = 0.469\\nsamples = 8\\nvalue = [3, 5]'),\n",
       " Text(271.8062717770035, 120.16421052631578, 'gini = 0.0\\nsamples = 3\\nvalue = [0, 3]'),\n",
       " Text(276.47247386759585, 120.16421052631578, 'X[0] <= 0.867\\ngini = 0.48\\nsamples = 5\\nvalue = [3, 2]'),\n",
       " Text(274.13937282229966, 108.72, 'gini = 0.5\\nsamples = 4\\nvalue = [2, 2]'),\n",
       " Text(278.805574912892, 108.72, 'gini = 0.0\\nsamples = 1\\nvalue = [1, 0]'),\n",
       " Text(278.805574912892, 154.49684210526317, 'X[0] <= 0.526\\ngini = 0.185\\nsamples = 29\\nvalue = [3, 26]'),\n",
       " Text(276.47247386759585, 143.05263157894737, 'gini = 0.0\\nsamples = 9\\nvalue = [0, 9]'),\n",
       " Text(281.1386759581882, 143.05263157894737, 'X[0] <= 0.595\\ngini = 0.255\\nsamples = 20\\nvalue = [3, 17]'),\n",
       " Text(278.805574912892, 131.60842105263157, 'gini = 0.444\\nsamples = 3\\nvalue = [1, 2]'),\n",
       " Text(283.4717770034843, 131.60842105263157, 'X[0] <= 0.663\\ngini = 0.208\\nsamples = 17\\nvalue = [2, 15]'),\n",
       " Text(281.1386759581882, 120.16421052631578, 'gini = 0.0\\nsamples = 4\\nvalue = [0, 4]'),\n",
       " Text(285.8048780487805, 120.16421052631578, 'X[0] <= 0.731\\ngini = 0.26\\nsamples = 13\\nvalue = [2, 11]'),\n",
       " Text(283.4717770034843, 108.72, 'gini = 0.444\\nsamples = 3\\nvalue = [1, 2]'),\n",
       " Text(288.1379790940767, 108.72, 'X[0] <= 0.799\\ngini = 0.18\\nsamples = 10\\nvalue = [1, 9]'),\n",
       " Text(285.8048780487805, 97.27578947368421, 'X[1] <= 0.578\\ngini = 0.245\\nsamples = 7\\nvalue = [1, 6]'),\n",
       " Text(283.4717770034843, 85.83157894736843, 'gini = 0.0\\nsamples = 2\\nvalue = [0, 2]'),\n",
       " Text(288.1379790940767, 85.83157894736843, 'gini = 0.32\\nsamples = 5\\nvalue = [1, 4]'),\n",
       " Text(290.4710801393728, 97.27578947368421, 'gini = 0.0\\nsamples = 3\\nvalue = [0, 3]'),\n",
       " Text(297.1787456445993, 165.94105263157894, 'X[1] <= -0.227\\ngini = 0.137\\nsamples = 95\\nvalue = [7, 88]'),\n",
       " Text(288.1379790940767, 154.49684210526317, 'X[1] <= -1.032\\ngini = 0.375\\nsamples = 8\\nvalue = [2, 6]'),\n",
       " Text(285.8048780487805, 143.05263157894737, 'gini = 0.0\\nsamples = 4\\nvalue = [0, 4]'),\n",
       " Text(290.4710801393728, 143.05263157894737, 'X[0] <= 1.072\\ngini = 0.5\\nsamples = 4\\nvalue = [2, 2]'),\n",
       " Text(288.1379790940767, 131.60842105263157, 'gini = 0.0\\nsamples = 1\\nvalue = [0, 1]'),\n",
       " Text(292.804181184669, 131.60842105263157, 'X[2] <= 1.077\\ngini = 0.444\\nsamples = 3\\nvalue = [2, 1]'),\n",
       " Text(290.4710801393728, 120.16421052631578, 'gini = 0.0\\nsamples = 2\\nvalue = [2, 0]'),\n",
       " Text(295.1372822299652, 120.16421052631578, 'gini = 0.0\\nsamples = 1\\nvalue = [0, 1]'),\n",
       " Text(306.219512195122, 154.49684210526317, 'X[0] <= 1.14\\ngini = 0.108\\nsamples = 87\\nvalue = [5, 82]'),\n",
       " Text(303.8864111498258, 143.05263157894737, 'gini = 0.0\\nsamples = 22\\nvalue = [0, 22]'),\n",
       " Text(308.5526132404181, 143.05263157894737, 'X[2] <= -0.2\\ngini = 0.142\\nsamples = 65\\nvalue = [5, 60]'),\n",
       " Text(302.13658536585365, 131.60842105263157, 'X[0] <= 1.652\\ngini = 0.5\\nsamples = 2\\nvalue = [1, 1]'),\n",
       " Text(299.8034843205575, 120.16421052631578, 'gini = 0.0\\nsamples = 1\\nvalue = [1, 0]'),\n",
       " Text(304.46968641114984, 120.16421052631578, 'gini = 0.0\\nsamples = 1\\nvalue = [0, 1]'),\n",
       " Text(314.9686411149826, 131.60842105263157, 'X[0] <= 1.208\\ngini = 0.119\\nsamples = 63\\nvalue = [4, 59]'),\n",
       " Text(309.13588850174216, 120.16421052631578, 'X[2] <= 0.438\\ngini = 0.32\\nsamples = 5\\nvalue = [1, 4]'),\n",
       " Text(306.802787456446, 108.72, 'gini = 0.0\\nsamples = 1\\nvalue = [1, 0]'),\n",
       " Text(311.46898954703835, 108.72, 'gini = 0.0\\nsamples = 4\\nvalue = [0, 4]'),\n",
       " Text(320.801393728223, 120.16421052631578, 'X[0] <= 1.89\\ngini = 0.098\\nsamples = 58\\nvalue = [3, 55]'),\n",
       " Text(316.13519163763067, 108.72, 'X[0] <= 1.413\\ngini = 0.046\\nsamples = 42\\nvalue = [1, 41]'),\n",
       " Text(313.80209059233454, 97.27578947368421, 'X[0] <= 1.345\\ngini = 0.105\\nsamples = 18\\nvalue = [1, 17]'),\n",
       " Text(311.46898954703835, 85.83157894736843, 'gini = 0.0\\nsamples = 11\\nvalue = [0, 11]'),\n",
       " Text(316.13519163763067, 85.83157894736843, 'X[2] <= 1.077\\ngini = 0.245\\nsamples = 7\\nvalue = [1, 6]'),\n",
       " Text(313.80209059233454, 74.38736842105263, 'X[2] <= 0.438\\ngini = 0.32\\nsamples = 5\\nvalue = [1, 4]'),\n",
       " Text(311.46898954703835, 62.943157894736856, 'gini = 0.0\\nsamples = 1\\nvalue = [0, 1]'),\n",
       " Text(316.13519163763067, 62.943157894736856, 'gini = 0.375\\nsamples = 4\\nvalue = [1, 3]'),\n",
       " Text(318.46829268292686, 74.38736842105263, 'gini = 0.0\\nsamples = 2\\nvalue = [0, 2]'),\n",
       " Text(318.46829268292686, 97.27578947368421, 'gini = 0.0\\nsamples = 24\\nvalue = [0, 24]'),\n",
       " Text(325.46759581881537, 108.72, 'X[0] <= 1.959\\ngini = 0.219\\nsamples = 16\\nvalue = [2, 14]'),\n",
       " Text(323.1344947735192, 97.27578947368421, 'gini = 0.5\\nsamples = 2\\nvalue = [1, 1]'),\n",
       " Text(327.8006968641115, 97.27578947368421, 'X[0] <= 2.095\\ngini = 0.133\\nsamples = 14\\nvalue = [1, 13]'),\n",
       " Text(325.46759581881537, 85.83157894736843, 'X[0] <= 2.027\\ngini = 0.219\\nsamples = 8\\nvalue = [1, 7]'),\n",
       " Text(323.1344947735192, 74.38736842105263, 'gini = 0.0\\nsamples = 4\\nvalue = [0, 4]'),\n",
       " Text(327.8006968641115, 74.38736842105263, 'X[2] <= 0.438\\ngini = 0.375\\nsamples = 4\\nvalue = [1, 3]'),\n",
       " Text(325.46759581881537, 62.943157894736856, 'gini = 0.0\\nsamples = 1\\nvalue = [0, 1]'),\n",
       " Text(330.1337979094077, 62.943157894736856, 'X[2] <= 1.077\\ngini = 0.444\\nsamples = 3\\nvalue = [1, 2]'),\n",
       " Text(327.8006968641115, 51.49894736842106, 'X[1] <= 0.578\\ngini = 0.5\\nsamples = 2\\nvalue = [1, 1]'),\n",
       " Text(325.46759581881537, 40.05473684210526, 'gini = 0.0\\nsamples = 1\\nvalue = [0, 1]'),\n",
       " Text(330.1337979094077, 40.05473684210526, 'gini = 0.0\\nsamples = 1\\nvalue = [1, 0]'),\n",
       " Text(332.4668989547038, 51.49894736842106, 'gini = 0.0\\nsamples = 1\\nvalue = [0, 1]'),\n",
       " Text(330.1337979094077, 85.83157894736843, 'gini = 0.0\\nsamples = 6\\nvalue = [0, 6]'),\n",
       " Text(310.8857142857143, 177.38526315789474, 'X[2] <= 0.438\\ngini = 0.444\\nsamples = 3\\nvalue = [2, 1]'),\n",
       " Text(308.5526132404181, 165.94105263157894, 'gini = 0.0\\nsamples = 1\\nvalue = [1, 0]'),\n",
       " Text(313.2188153310105, 165.94105263157894, 'X[0] <= 0.867\\ngini = 0.5\\nsamples = 2\\nvalue = [1, 1]'),\n",
       " Text(310.8857142857143, 154.49684210526317, 'gini = 0.0\\nsamples = 1\\nvalue = [1, 0]'),\n",
       " Text(315.5519163763066, 154.49684210526317, 'gini = 0.0\\nsamples = 1\\nvalue = [0, 1]')]"
      ]
     },
     "execution_count": 71,
     "metadata": {},
     "output_type": "execute_result"
    },
    {
     "data": {
      "image/png": "[encoded data removed]",
      "text/plain": [
       "<Figure size 432x288 with 1 Axes>"
      ]
     },
     "metadata": {
      "needs_background": "light"
     },
     "output_type": "display_data"
    }
   ],
   "source": [
    "tree.plot_tree(dt_classifier)"
   ]
  },
  {
   "cell_type": "markdown",
   "metadata": {},
   "source": [
    "Measure the accuracy of the resulting decision tree model using your test data."
   ]
  },
  {
   "cell_type": "code",
   "execution_count": 72,
   "metadata": {},
   "outputs": [
    {
     "data": {
      "text/plain": [
       "0.726775956284153"
      ]
     },
     "execution_count": 72,
     "metadata": {},
     "output_type": "execute_result"
    }
   ],
   "source": [
    "predicted = dt_classifier.predict(x_test)\n",
    "# accuracy_score(y_test, predicted)\n",
    "dt_classifier.score(x_test, y_test)"
   ]
  },
  {
   "cell_type": "markdown",
   "metadata": {},
   "source": [
    "Now instead of a single train/test split, use K-Fold cross validation to get a better measure of your model's accuracy (K=10). Hint: use model_selection.cross_val_score"
   ]
  },
  {
   "cell_type": "code",
   "execution_count": 73,
   "metadata": {},
   "outputs": [
    {
     "name": "stdout",
     "output_type": "stream",
     "text": [
      "[0.71428571 0.76190476 0.77380952 0.73493976 0.78313253 0.6746988\n",
      " 0.72289157 0.76829268 0.76829268 0.68292683]\n",
      "0.738517484572436\n"
     ]
    }
   ],
   "source": [
    "\n",
    "scores = cross_val_score(dt_classifier, scaled_features, classes, cv=10)\n",
    "print(scores)\n",
    "print(scores.mean())"
   ]
  },
  {
   "cell_type": "markdown",
   "metadata": {},
   "source": [
    "Now try a RandomForestClassifier instead. Does it perform better?"
   ]
  },
  {
   "cell_type": "code",
   "execution_count": 74,
   "metadata": {},
   "outputs": [
    {
     "name": "stdout",
     "output_type": "stream",
     "text": [
      "0.7431693989071039\n",
      "[0.73809524 0.76190476 0.79761905 0.78313253 0.78313253 0.71084337\n",
      " 0.79518072 0.75609756 0.82926829 0.65853659]\n",
      "0.7613810643269943\n"
     ]
    }
   ],
   "source": [
    "rf_classifier = RandomForestClassifier(n_estimators=10)\n",
    "rf_classifier = rf_classifier.fit(x_train, y_train)\n",
    "print(rf_classifier.score(x_test, y_test))\n",
    "\n",
    "scores = cross_val_score(rf_classifier, scaled_features, classes, cv=10)\n",
    "print(scores)\n",
    "print(scores.mean())"
   ]
  },
  {
   "cell_type": "markdown",
   "metadata": {},
   "source": [
    "## SVM\n",
    "\n",
    "Next try using svm.SVC with a linear kernel. How does it compare to the decision tree?"
   ]
  },
  {
   "cell_type": "code",
   "execution_count": 75,
   "metadata": {},
   "outputs": [
    {
     "name": "stdout",
     "output_type": "stream",
     "text": [
      "0.7923497267759563\n",
      "[0.71428571 0.77380952 0.86904762 0.80722892 0.84337349 0.69879518\n",
      " 0.80722892 0.80487805 0.90243902 0.74390244]\n",
      "0.7964988875362076\n"
     ]
    }
   ],
   "source": [
    "sv_classifier = SVC(kernel=\"linear\")\n",
    "sv_classifier = sv_classifier.fit(x_train, y_train)\n",
    "print(sv_classifier.score(x_test, y_test))\n",
    "\n",
    "scores = cross_val_score(sv_classifier, scaled_features, classes, cv=10)\n",
    "print(scores)\n",
    "print(scores.mean())"
   ]
  },
  {
   "cell_type": "code",
   "execution_count": null,
   "metadata": {},
   "outputs": [],
   "source": []
  },
  {
   "cell_type": "markdown",
   "metadata": {},
   "source": [
    "## KNN\n",
    "How about K-Nearest-Neighbors? Hint: use neighbors.KNeighborsClassifier - it's a lot easier than implementing KNN from scratch like we did earlier in the course. Start with a K of 10. K is an example of a hyperparameter - a parameter on the model itself which may need to be tuned for best results on your particular data set."
   ]
  },
  {
   "cell_type": "code",
   "execution_count": 76,
   "metadata": {},
   "outputs": [
    {
     "name": "stdout",
     "output_type": "stream",
     "text": [
      "0.8032786885245902\n",
      "[0.77380952 0.76190476 0.83333333 0.74698795 0.87951807 0.72289157\n",
      " 0.81927711 0.79268293 0.81707317 0.70731707]\n",
      "0.7854795488574507\n"
     ]
    }
   ],
   "source": [
    "knn = KNeighborsClassifier(n_neighbors=10)\n",
    "knn = knn.fit(x_train, y_train)\n",
    "print(knn.score(x_test, y_test))\n",
    "\n",
    "scores = cross_val_score(knn, scaled_features, classes, cv=10)\n",
    "print(scores)\n",
    "print(scores.mean())"
   ]
  },
  {
   "cell_type": "markdown",
   "metadata": {},
   "source": [
    "Choosing K is tricky, so we can't discard KNN until we've tried different values of K. Write a for loop to run KNN with K values ranging from 1 to 50 and see if K makes a substantial difference. Make a note of the best performance you could get out of KNN."
   ]
  },
  {
   "cell_type": "code",
   "execution_count": 77,
   "metadata": {},
   "outputs": [
    {
     "data": {
      "text/plain": [
       "[(0.7940595133145824, 7),\n",
       " (0.7927235072694961, 50),\n",
       " (0.7915333809104012, 11),\n",
       " (0.7915039950743742, 14),\n",
       " (0.7914172368918182, 31),\n",
       " (0.7902995256286471, 49),\n",
       " (0.7902271105327232, 28),\n",
       " (0.7890653205155116, 48),\n",
       " (0.7880200243482641, 9),\n",
       " (0.7878891874116676, 39)]"
      ]
     },
     "execution_count": 77,
     "metadata": {},
     "output_type": "execute_result"
    }
   ],
   "source": [
    "knn_runs = []\n",
    "for i in range(50):\n",
    "    n = i+1\n",
    "    mean_score = cross_val_score(KNeighborsClassifier(n_neighbors=n), scaled_features, classes, cv=10).mean()\n",
    "    knn_runs.append((mean_score, n))\n",
    "knn_runs.sort(key=lambda x: x[0], reverse=True)\n",
    "knn_runs[:10]"
   ]
  },
  {
   "cell_type": "markdown",
   "metadata": {},
   "source": [
    "## Naive Bayes\n",
    "\n",
    "Now try naive_bayes.MultinomialNB. How does its accuracy stack up? Hint: you'll need to use MinMaxScaler to get the features in the range MultinomialNB requires."
   ]
  },
  {
   "cell_type": "code",
   "execution_count": 78,
   "metadata": {},
   "outputs": [
    {
     "name": "stdout",
     "output_type": "stream",
     "text": [
      "0.7759562841530054\n",
      "[0.73809524 0.76190476 0.82142857 0.8313253  0.8313253  0.73493976\n",
      " 0.74698795 0.76829268 0.91463415 0.69512195]\n",
      "0.7844055665169388\n"
     ]
    }
   ],
   "source": [
    "minmax_features = MinMaxScaler().fit_transform(features) # scale between 0 and 1 preserving shape of data\n",
    "nb_classifier = MultinomialNB()\n",
    "nb_classifier.fit(minmax_features[mask], classes[mask])\n",
    "print(nb_classifier.score(minmax_features[~mask], classes[~mask]))\n",
    "\n",
    "scores = cross_val_score(nb_classifier, minmax_features, classes, cv=10)\n",
    "print(scores)\n",
    "print(scores.mean())"
   ]
  },
  {
   "cell_type": "markdown",
   "metadata": {},
   "source": [
    "## Revisiting SVM\n",
    "\n",
    "svm.SVC may perform differently with different kernels. The choice of kernel is an example of a \"hyperparamter.\" Try the rbf, sigmoid, and poly kernels and see what the best-performing kernel is. Do we have a new winner?"
   ]
  },
  {
   "cell_type": "code",
   "execution_count": 79,
   "metadata": {},
   "outputs": [
    {
     "name": "stdout",
     "output_type": "stream",
     "text": [
      "0.7814207650273224\n",
      "[0.75       0.79761905 0.86904762 0.80722892 0.86746988 0.72289157\n",
      " 0.78313253 0.7804878  0.86585366 0.76829268]\n",
      "0.8012023704574396\n"
     ]
    }
   ],
   "source": [
    "svrbf_classifier = SVC(kernel=\"rbf\", gamma=\"auto\")\n",
    "svrbf_classifier = svrbf_classifier.fit(x_train, y_train)\n",
    "print(svrbf_classifier.score(x_test, y_test))\n",
    "\n",
    "scores = cross_val_score(svrbf_classifier, scaled_features, classes, cv=10)\n",
    "print(scores)\n",
    "print(scores.mean())"
   ]
  },
  {
   "cell_type": "code",
   "execution_count": 80,
   "metadata": {},
   "outputs": [
    {
     "name": "stdout",
     "output_type": "stream",
     "text": [
      "0.7486338797814208\n",
      "[0.70238095 0.67857143 0.76190476 0.72289157 0.74698795 0.71084337\n",
      " 0.74698795 0.7804878  0.70731707 0.79268293]\n",
      "0.7351055791108685\n"
     ]
    }
   ],
   "source": [
    "svsig_classifier = SVC(kernel=\"sigmoid\", gamma=\"auto\")\n",
    "svsig_classifier = svsig_classifier.fit(x_train, y_train)\n",
    "print(svsig_classifier.score(x_test, y_test))\n",
    "\n",
    "scores = cross_val_score(svsig_classifier, scaled_features, classes, cv=10)\n",
    "print(scores)\n",
    "print(scores.mean())"
   ]
  },
  {
   "cell_type": "code",
   "execution_count": 81,
   "metadata": {},
   "outputs": [
    {
     "name": "stdout",
     "output_type": "stream",
     "text": [
      "0.7486338797814208\n",
      "[0.76190476 0.77380952 0.88095238 0.79518072 0.84337349 0.69879518\n",
      " 0.77108434 0.79268293 0.86585366 0.74390244]\n",
      "0.792753942599667\n"
     ]
    }
   ],
   "source": [
    "svpoly_classifier = SVC(kernel=\"poly\", gamma=\"auto\")\n",
    "svpoly_classifier = svpoly_classifier.fit(x_train, y_train)\n",
    "print(svpoly_classifier.score(x_test, y_test))\n",
    "\n",
    "scores = cross_val_score(svpoly_classifier, scaled_features, classes, cv=10)\n",
    "print(scores)\n",
    "print(scores.mean())"
   ]
  },
  {
   "cell_type": "markdown",
   "metadata": {},
   "source": [
    "## Logistic Regression\n",
    "\n",
    "We've tried all these fancy techniques, but fundamentally this is just a binary classification problem. Try Logisitic Regression, which is a simple way to tackling this sort of thing."
   ]
  },
  {
   "cell_type": "code",
   "execution_count": 82,
   "metadata": {},
   "outputs": [
    {
     "name": "stdout",
     "output_type": "stream",
     "text": [
      "0.8087431693989071\n",
      "[0.76190476 0.76190476 0.88095238 0.81927711 0.8313253  0.71084337\n",
      " 0.79518072 0.82926829 0.8902439  0.79268293]\n",
      "0.8073583532737221\n"
     ]
    }
   ],
   "source": [
    "lbfgs_classifier = LogisticRegression(solver=\"lbfgs\")\n",
    "lbfgs_classifier = lbfgs_classifier.fit(x_train, y_train)\n",
    "print(lbfgs_classifier.score(x_test, y_test))\n",
    "\n",
    "scores = cross_val_score(lbfgs_classifier, scaled_features, classes, cv=10)\n",
    "print(scores)\n",
    "print(scores.mean())"
   ]
  },
  {
   "cell_type": "code",
   "execution_count": 83,
   "metadata": {},
   "outputs": [
    {
     "name": "stdout",
     "output_type": "stream",
     "text": [
      "0.8087431693989071\n",
      "[0.76190476 0.76190476 0.88095238 0.81927711 0.8313253  0.71084337\n",
      " 0.79518072 0.82926829 0.8902439  0.79268293]\n",
      "0.8073583532737221\n"
     ]
    }
   ],
   "source": [
    "sag_classifier = LogisticRegression(solver=\"sag\")\n",
    "sag_classifier = sag_classifier.fit(x_train, y_train)\n",
    "print(sag_classifier.score(x_test, y_test))\n",
    "\n",
    "scores = cross_val_score(sag_classifier, scaled_features, classes, cv=10)\n",
    "print(scores)\n",
    "print(scores.mean())"
   ]
  },
  {
   "cell_type": "code",
   "execution_count": 84,
   "metadata": {},
   "outputs": [
    {
     "name": "stdout",
     "output_type": "stream",
     "text": [
      "0.8087431693989071\n",
      "[0.76190476 0.76190476 0.88095238 0.81927711 0.8313253  0.71084337\n",
      " 0.79518072 0.82926829 0.8902439  0.79268293]\n",
      "0.8073583532737221\n"
     ]
    }
   ],
   "source": [
    "ll_classifier = LogisticRegression(solver=\"liblinear\")\n",
    "ll_classifier = ll_classifier.fit(x_train, y_train)\n",
    "print(ll_classifier.score(x_test, y_test))\n",
    "\n",
    "scores = cross_val_score(ll_classifier, scaled_features, classes, cv=10)\n",
    "print(scores)\n",
    "print(scores.mean())"
   ]
  },
  {
   "cell_type": "markdown",
   "metadata": {},
   "source": [
    "## Neural Networks\n",
    "\n",
    "As a bonus challenge, let's see if an artificial neural network can do even better. You can use Keras to set up a neural network with 1 binary output neuron and see how it performs. Don't be afraid to run a large number of epochs to train the model if necessary."
   ]
  },
  {
   "cell_type": "code",
   "execution_count": null,
   "metadata": {},
   "outputs": [],
   "source": []
  },
  {
   "cell_type": "code",
   "execution_count": null,
   "metadata": {},
   "outputs": [],
   "source": []
  },
  {
   "cell_type": "code",
   "execution_count": null,
   "metadata": {},
   "outputs": [],
   "source": []
  },
  {
   "cell_type": "code",
   "execution_count": null,
   "metadata": {},
   "outputs": [],
   "source": []
  },
  {
   "cell_type": "markdown",
   "metadata": {
    "collapsed": true
   },
   "source": [
    "## Do we have a winner?\n",
    "\n",
    "Which model, and which choice of hyperparameters, performed the best? Feel free to share your results!"
   ]
  },
  {
   "cell_type": "code",
   "execution_count": null,
   "metadata": {},
   "outputs": [],
   "source": []
  }
 ],
 "metadata": {
  "kernelspec": {
   "display_name": "Python 3",
   "language": "python",
   "name": "python3"
  },
  "language_info": {
   "codemirror_mode": {
    "name": "ipython",
    "version": 3
   },
   "file_extension": ".py",
   "mimetype": "text/x-python",
   "name": "python",
   "nbconvert_exporter": "python",
   "pygments_lexer": "ipython3",
   "version": "3.7.4"
  }
 },
 "nbformat": 4,
 "nbformat_minor": 2
}
