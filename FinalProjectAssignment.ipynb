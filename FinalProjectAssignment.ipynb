{
 "cells": [
  {
   "cell_type": "markdown",
   "metadata": {},
   "source": [
    "# Final Project\n",
    "\n",
    "## Predict whether a mammogram mass is benign or malignant\n",
    "\n",
    "We'll be using the \"mammographic masses\" public dataset from the UCI repository (source: https://archive.ics.uci.edu/ml/datasets/Mammographic+Mass)\n",
    "\n",
    "This data contains 961 instances of masses detected in mammograms, and contains the following attributes:\n",
    "\n",
    "\n",
    "   1. BI-RADS assessment: 1 to 5 (ordinal)  \n",
    "   2. Age: patient's age in years (integer)\n",
    "   3. Shape: mass shape: round=1 oval=2 lobular=3 irregular=4 (nominal)\n",
    "   4. Margin: mass margin: circumscribed=1 microlobulated=2 obscured=3 ill-defined=4 spiculated=5 (nominal)\n",
    "   5. Density: mass density high=1 iso=2 low=3 fat-containing=4 (ordinal)\n",
    "   6. Severity: benign=0 or malignant=1 (binominal)\n",
    "   \n",
    "BI-RADS is an assesment of how confident the severity classification is; it is not a \"predictive\" attribute and so we will discard it. The age, shape, margin, and density attributes are the features that we will build our model with, and \"severity\" is the classification we will attempt to predict based on those attributes.\n",
    "\n",
    "Although \"shape\" and \"margin\" are nominal data types, which sklearn typically doesn't deal with well, they are close enough to ordinal that we shouldn't just discard them. The \"shape\" for example is ordered increasingly from round to irregular.\n",
    "\n",
    "A lot of unnecessary anguish and surgery arises from false positives arising from mammogram results. If we can build a better way to interpret them through supervised machine learning, it could improve a lot of lives.\n",
    "\n",
    "## Your assignment\n",
    "\n",
    "Apply several different supervised machine learning techniques to this data set, and see which one yields the highest accuracy as measured with K-Fold cross validation (K=10). Apply:\n",
    "\n",
    "* Decision tree\n",
    "* Random forest\n",
    "* KNN\n",
    "* Naive Bayes\n",
    "* SVM\n",
    "* Logistic Regression\n",
    "* And, as a bonus challenge, a neural network using Keras.\n",
    "\n",
    "The data needs to be cleaned; many rows contain missing data, and there may be erroneous data identifiable as outliers as well.\n",
    "\n",
    "Remember some techniques such as SVM also require the input data to be normalized first.\n",
    "\n",
    "Many techniques also have \"hyperparameters\" that need to be tuned. Once you identify a promising approach, see if you can make it even better by tuning its hyperparameters.\n",
    "\n",
    "I was able to achieve over 80% accuracy - can you beat that?\n",
    "\n",
    "Below I've set up an outline of a notebook for this project, with some guidance and hints. If you're up for a real challenge, try doing this project from scratch in a new, clean notebook!\n"
   ]
  },
  {
   "cell_type": "markdown",
   "metadata": {},
   "source": [
    "## Let's begin: prepare your data\n",
    "\n",
    "Start by importing the mammographic_masses.data.txt file into a Pandas dataframe (hint: use read_csv) and take a look at it."
   ]
  },
  {
   "cell_type": "code",
   "execution_count": 24,
   "metadata": {},
   "outputs": [],
   "source": [
    "import pandas as pd\n",
    "import matplotlib.pyplot as plt\n",
    "import sklearn\n",
    "from sklearn.preprocessing import StandardScaler\n",
    "from sklearn.preprocessing import MinMaxScaler\n",
    "import numpy as np\n",
    "from sklearn.metrics import accuracy_score\n",
    "from sklearn.model_selection import cross_val_score\n",
    "from sklearn.ensemble import RandomForestClassifier\n",
    "from sklearn import tree\n",
    "from sklearn.svm import SVC\n",
    "from sklearn.neighbors import KNeighborsClassifier\n",
    "from sklearn.naive_bayes import MultinomialNB"
   ]
  },
  {
   "cell_type": "code",
   "execution_count": null,
   "metadata": {},
   "outputs": [],
   "source": []
  },
  {
   "cell_type": "markdown",
   "metadata": {},
   "source": [
    "Make sure you use the optional parmaters in read_csv to convert missing data (indicated by a ?) into NaN, and to add the appropriate column names (BI_RADS, age, shape, margin, density, and severity):"
   ]
  },
  {
   "cell_type": "code",
   "execution_count": 2,
   "metadata": {},
   "outputs": [
    {
     "data": {
      "text/html": [
       "<div>\n",
       "<style scoped>\n",
       "    .dataframe tbody tr th:only-of-type {\n",
       "        vertical-align: middle;\n",
       "    }\n",
       "\n",
       "    .dataframe tbody tr th {\n",
       "        vertical-align: top;\n",
       "    }\n",
       "\n",
       "    .dataframe thead th {\n",
       "        text-align: right;\n",
       "    }\n",
       "</style>\n",
       "<table border=\"1\" class=\"dataframe\">\n",
       "  <thead>\n",
       "    <tr style=\"text-align: right;\">\n",
       "      <th></th>\n",
       "      <th>bi_rads</th>\n",
       "      <th>age</th>\n",
       "      <th>shape</th>\n",
       "      <th>margin</th>\n",
       "      <th>density</th>\n",
       "      <th>severity</th>\n",
       "    </tr>\n",
       "  </thead>\n",
       "  <tbody>\n",
       "    <tr>\n",
       "      <td>0</td>\n",
       "      <td>5.0</td>\n",
       "      <td>67.0</td>\n",
       "      <td>3.0</td>\n",
       "      <td>5.0</td>\n",
       "      <td>3.0</td>\n",
       "      <td>1</td>\n",
       "    </tr>\n",
       "    <tr>\n",
       "      <td>1</td>\n",
       "      <td>4.0</td>\n",
       "      <td>43.0</td>\n",
       "      <td>1.0</td>\n",
       "      <td>1.0</td>\n",
       "      <td>NaN</td>\n",
       "      <td>1</td>\n",
       "    </tr>\n",
       "    <tr>\n",
       "      <td>2</td>\n",
       "      <td>5.0</td>\n",
       "      <td>58.0</td>\n",
       "      <td>4.0</td>\n",
       "      <td>5.0</td>\n",
       "      <td>3.0</td>\n",
       "      <td>1</td>\n",
       "    </tr>\n",
       "    <tr>\n",
       "      <td>3</td>\n",
       "      <td>4.0</td>\n",
       "      <td>28.0</td>\n",
       "      <td>1.0</td>\n",
       "      <td>1.0</td>\n",
       "      <td>3.0</td>\n",
       "      <td>0</td>\n",
       "    </tr>\n",
       "    <tr>\n",
       "      <td>4</td>\n",
       "      <td>5.0</td>\n",
       "      <td>74.0</td>\n",
       "      <td>1.0</td>\n",
       "      <td>5.0</td>\n",
       "      <td>NaN</td>\n",
       "      <td>1</td>\n",
       "    </tr>\n",
       "  </tbody>\n",
       "</table>\n",
       "</div>"
      ],
      "text/plain": [
       "   bi_rads   age  shape  margin  density  severity\n",
       "0      5.0  67.0    3.0     5.0      3.0         1\n",
       "1      4.0  43.0    1.0     1.0      NaN         1\n",
       "2      5.0  58.0    4.0     5.0      3.0         1\n",
       "3      4.0  28.0    1.0     1.0      3.0         0\n",
       "4      5.0  74.0    1.0     5.0      NaN         1"
      ]
     },
     "execution_count": 2,
     "metadata": {},
     "output_type": "execute_result"
    }
   ],
   "source": [
    "df = pd.read_csv(\"mammographic_masses.data.txt\",\n",
    "                 na_values=\"?\",\n",
    "                 names=(\"bi_rads\", \"age\", \"shape\", \"margin\", \"density\", \"severity\"))\n",
    "df.head()"
   ]
  },
  {
   "cell_type": "markdown",
   "metadata": {},
   "source": [
    "Evaluate whether the data needs cleaning; your model is only as good as the data it's given. Hint: use describe() on the dataframe."
   ]
  },
  {
   "cell_type": "code",
   "execution_count": 3,
   "metadata": {},
   "outputs": [
    {
     "data": {
      "text/html": [
       "<div>\n",
       "<style scoped>\n",
       "    .dataframe tbody tr th:only-of-type {\n",
       "        vertical-align: middle;\n",
       "    }\n",
       "\n",
       "    .dataframe tbody tr th {\n",
       "        vertical-align: top;\n",
       "    }\n",
       "\n",
       "    .dataframe thead th {\n",
       "        text-align: right;\n",
       "    }\n",
       "</style>\n",
       "<table border=\"1\" class=\"dataframe\">\n",
       "  <thead>\n",
       "    <tr style=\"text-align: right;\">\n",
       "      <th></th>\n",
       "      <th>bi_rads</th>\n",
       "      <th>age</th>\n",
       "      <th>shape</th>\n",
       "      <th>margin</th>\n",
       "      <th>density</th>\n",
       "      <th>severity</th>\n",
       "    </tr>\n",
       "  </thead>\n",
       "  <tbody>\n",
       "    <tr>\n",
       "      <td>count</td>\n",
       "      <td>959.000000</td>\n",
       "      <td>956.000000</td>\n",
       "      <td>930.000000</td>\n",
       "      <td>913.000000</td>\n",
       "      <td>885.000000</td>\n",
       "      <td>961.000000</td>\n",
       "    </tr>\n",
       "    <tr>\n",
       "      <td>mean</td>\n",
       "      <td>4.348279</td>\n",
       "      <td>55.487448</td>\n",
       "      <td>2.721505</td>\n",
       "      <td>2.796276</td>\n",
       "      <td>2.910734</td>\n",
       "      <td>0.463059</td>\n",
       "    </tr>\n",
       "    <tr>\n",
       "      <td>std</td>\n",
       "      <td>1.783031</td>\n",
       "      <td>14.480131</td>\n",
       "      <td>1.242792</td>\n",
       "      <td>1.566546</td>\n",
       "      <td>0.380444</td>\n",
       "      <td>0.498893</td>\n",
       "    </tr>\n",
       "    <tr>\n",
       "      <td>min</td>\n",
       "      <td>0.000000</td>\n",
       "      <td>18.000000</td>\n",
       "      <td>1.000000</td>\n",
       "      <td>1.000000</td>\n",
       "      <td>1.000000</td>\n",
       "      <td>0.000000</td>\n",
       "    </tr>\n",
       "    <tr>\n",
       "      <td>25%</td>\n",
       "      <td>4.000000</td>\n",
       "      <td>45.000000</td>\n",
       "      <td>2.000000</td>\n",
       "      <td>1.000000</td>\n",
       "      <td>3.000000</td>\n",
       "      <td>0.000000</td>\n",
       "    </tr>\n",
       "    <tr>\n",
       "      <td>50%</td>\n",
       "      <td>4.000000</td>\n",
       "      <td>57.000000</td>\n",
       "      <td>3.000000</td>\n",
       "      <td>3.000000</td>\n",
       "      <td>3.000000</td>\n",
       "      <td>0.000000</td>\n",
       "    </tr>\n",
       "    <tr>\n",
       "      <td>75%</td>\n",
       "      <td>5.000000</td>\n",
       "      <td>66.000000</td>\n",
       "      <td>4.000000</td>\n",
       "      <td>4.000000</td>\n",
       "      <td>3.000000</td>\n",
       "      <td>1.000000</td>\n",
       "    </tr>\n",
       "    <tr>\n",
       "      <td>max</td>\n",
       "      <td>55.000000</td>\n",
       "      <td>96.000000</td>\n",
       "      <td>4.000000</td>\n",
       "      <td>5.000000</td>\n",
       "      <td>4.000000</td>\n",
       "      <td>1.000000</td>\n",
       "    </tr>\n",
       "  </tbody>\n",
       "</table>\n",
       "</div>"
      ],
      "text/plain": [
       "          bi_rads         age       shape      margin     density    severity\n",
       "count  959.000000  956.000000  930.000000  913.000000  885.000000  961.000000\n",
       "mean     4.348279   55.487448    2.721505    2.796276    2.910734    0.463059\n",
       "std      1.783031   14.480131    1.242792    1.566546    0.380444    0.498893\n",
       "min      0.000000   18.000000    1.000000    1.000000    1.000000    0.000000\n",
       "25%      4.000000   45.000000    2.000000    1.000000    3.000000    0.000000\n",
       "50%      4.000000   57.000000    3.000000    3.000000    3.000000    0.000000\n",
       "75%      5.000000   66.000000    4.000000    4.000000    3.000000    1.000000\n",
       "max     55.000000   96.000000    4.000000    5.000000    4.000000    1.000000"
      ]
     },
     "execution_count": 3,
     "metadata": {},
     "output_type": "execute_result"
    }
   ],
   "source": [
    "df.describe()\n"
   ]
  },
  {
   "cell_type": "markdown",
   "metadata": {},
   "source": [
    "There are quite a few missing values in the data set. Before we just drop every row that's missing data, let's make sure we don't bias our data in doing so. Does there appear to be any sort of correlation to what sort of data has missing fields? If there were, we'd have to try and go back and fill that data in."
   ]
  },
  {
   "cell_type": "code",
   "execution_count": 4,
   "metadata": {},
   "outputs": [
    {
     "data": {
      "text/html": [
       "<div>\n",
       "<style scoped>\n",
       "    .dataframe tbody tr th:only-of-type {\n",
       "        vertical-align: middle;\n",
       "    }\n",
       "\n",
       "    .dataframe tbody tr th {\n",
       "        vertical-align: top;\n",
       "    }\n",
       "\n",
       "    .dataframe thead th {\n",
       "        text-align: right;\n",
       "    }\n",
       "</style>\n",
       "<table border=\"1\" class=\"dataframe\">\n",
       "  <thead>\n",
       "    <tr style=\"text-align: right;\">\n",
       "      <th></th>\n",
       "      <th>bi_rads</th>\n",
       "      <th>age</th>\n",
       "      <th>shape</th>\n",
       "      <th>margin</th>\n",
       "      <th>density</th>\n",
       "      <th>severity</th>\n",
       "    </tr>\n",
       "  </thead>\n",
       "  <tbody>\n",
       "    <tr>\n",
       "      <td>bi_rads</td>\n",
       "      <td>1.000000</td>\n",
       "      <td>-0.003303</td>\n",
       "      <td>0.120896</td>\n",
       "      <td>0.094349</td>\n",
       "      <td>-0.013383</td>\n",
       "      <td>NaN</td>\n",
       "    </tr>\n",
       "    <tr>\n",
       "      <td>age</td>\n",
       "      <td>-0.003303</td>\n",
       "      <td>1.000000</td>\n",
       "      <td>-0.013204</td>\n",
       "      <td>-0.016582</td>\n",
       "      <td>-0.021193</td>\n",
       "      <td>NaN</td>\n",
       "    </tr>\n",
       "    <tr>\n",
       "      <td>shape</td>\n",
       "      <td>0.120896</td>\n",
       "      <td>-0.013204</td>\n",
       "      <td>1.000000</td>\n",
       "      <td>0.228499</td>\n",
       "      <td>0.033791</td>\n",
       "      <td>NaN</td>\n",
       "    </tr>\n",
       "    <tr>\n",
       "      <td>margin</td>\n",
       "      <td>0.094349</td>\n",
       "      <td>-0.016582</td>\n",
       "      <td>0.228499</td>\n",
       "      <td>1.000000</td>\n",
       "      <td>0.216018</td>\n",
       "      <td>NaN</td>\n",
       "    </tr>\n",
       "    <tr>\n",
       "      <td>density</td>\n",
       "      <td>-0.013383</td>\n",
       "      <td>-0.021193</td>\n",
       "      <td>0.033791</td>\n",
       "      <td>0.216018</td>\n",
       "      <td>1.000000</td>\n",
       "      <td>NaN</td>\n",
       "    </tr>\n",
       "    <tr>\n",
       "      <td>severity</td>\n",
       "      <td>NaN</td>\n",
       "      <td>NaN</td>\n",
       "      <td>NaN</td>\n",
       "      <td>NaN</td>\n",
       "      <td>NaN</td>\n",
       "      <td>NaN</td>\n",
       "    </tr>\n",
       "  </tbody>\n",
       "</table>\n",
       "</div>"
      ],
      "text/plain": [
       "           bi_rads       age     shape    margin   density  severity\n",
       "bi_rads   1.000000 -0.003303  0.120896  0.094349 -0.013383       NaN\n",
       "age      -0.003303  1.000000 -0.013204 -0.016582 -0.021193       NaN\n",
       "shape     0.120896 -0.013204  1.000000  0.228499  0.033791       NaN\n",
       "margin    0.094349 -0.016582  0.228499  1.000000  0.216018       NaN\n",
       "density  -0.013383 -0.021193  0.033791  0.216018  1.000000       NaN\n",
       "severity       NaN       NaN       NaN       NaN       NaN       NaN"
      ]
     },
     "execution_count": 4,
     "metadata": {},
     "output_type": "execute_result"
    }
   ],
   "source": [
    "df_nulls = df.isnull().astype(int)\n",
    "df_nulls.corr()"
   ]
  },
  {
   "cell_type": "code",
   "execution_count": 5,
   "metadata": {},
   "outputs": [
    {
     "data": {
      "image/png": "[encoded data removed]",
      "text/plain": [
       "<Figure size 432x288 with 1 Axes>"
      ]
     },
     "metadata": {
      "needs_background": "light"
     },
     "output_type": "display_data"
    }
   ],
   "source": [
    "axes = plt.gca()\n",
    "df_nulls.plot(kind=\"line\", y=\"shape\",ax=axes)\n",
    "df_nulls.plot(kind=\"line\", y=\"margin\",ax=axes)\n",
    "df_nulls.plot(kind=\"line\", y=\"density\",ax=axes)\n",
    "\n",
    "plt.show()"
   ]
  },
  {
   "cell_type": "markdown",
   "metadata": {},
   "source": [
    "If the missing data seems randomly distributed, go ahead and drop rows with missing data. Hint: use dropna()."
   ]
  },
  {
   "cell_type": "code",
   "execution_count": 6,
   "metadata": {},
   "outputs": [
    {
     "name": "stdout",
     "output_type": "stream",
     "text": [
      "(961, 6)\n",
      "(830, 6)\n"
     ]
    }
   ],
   "source": [
    "print(df.shape)\n",
    "df_cleaned = df.dropna()\n",
    "print(df_cleaned.shape)"
   ]
  },
  {
   "cell_type": "markdown",
   "metadata": {
    "collapsed": true
   },
   "source": [
    "Next you'll need to convert the Pandas dataframes into numpy arrays that can be used by scikit_learn. Create an array that extracts only the feature data we want to work with (age, shape, margin, and density) and another array that contains the classes (severity). You'll also need an array of the feature name labels."
   ]
  },
  {
   "cell_type": "code",
   "execution_count": 7,
   "metadata": {},
   "outputs": [],
   "source": [
    "# features\n",
    "df_features = df_cleaned[[\"age\", \"shape\", \"margin\", \"density\"]]\n",
    "feature_labels = df_features.columns.to_numpy()\n",
    "features = df_features.to_numpy()\n",
    "classes = df_cleaned[\"severity\"].to_numpy()"
   ]
  },
  {
   "cell_type": "markdown",
   "metadata": {},
   "source": [
    "Some of our models require the input data to be normalized, so go ahead and normalize the attribute data. Hint: use preprocessing.StandardScaler()."
   ]
  },
  {
   "cell_type": "code",
   "execution_count": 8,
   "metadata": {},
   "outputs": [],
   "source": [
    "scaler = StandardScaler()\n",
    "scaler.fit(features)\n",
    "#print(scaler.mean_)\n",
    "scaled_features = scaler.transform(features)\n",
    "#print(scaled_features[:5])\n",
    "#print(features[:5])"
   ]
  },
  {
   "cell_type": "markdown",
   "metadata": {},
   "source": [
    "## Decision Trees\n",
    "\n",
    "Before moving to K-Fold cross validation and random forests, start by creating a single train/test split of our data. Set aside 75% for training, and 25% for testing."
   ]
  },
  {
   "cell_type": "code",
   "execution_count": 9,
   "metadata": {},
   "outputs": [],
   "source": [
    "mask = np.random.rand(len(classes)) < 0.75\n",
    "x_train, x_test = scaled_features[mask], scaled_features[~mask]\n",
    "y_train, y_test = classes[mask], classes[~mask]\n",
    "#print(len(x_train))\n",
    "#print(len(y_test))"
   ]
  },
  {
   "cell_type": "markdown",
   "metadata": {},
   "source": [
    "Now create a DecisionTreeClassifier and fit it to your training data."
   ]
  },
  {
   "cell_type": "code",
   "execution_count": 10,
   "metadata": {},
   "outputs": [],
   "source": [
    "dt_classifier = tree.DecisionTreeClassifier()\n",
    "dt_classifier = dt_classifier.fit(x_train, y_train)"
   ]
  },
  {
   "cell_type": "markdown",
   "metadata": {},
   "source": [
    "Display the resulting decision tree."
   ]
  },
  {
   "cell_type": "code",
   "execution_count": 11,
   "metadata": {},
   "outputs": [
    {
     "data": {
      "text/plain": [
       "[Text(109.19948410167639, 211.4, 'X[2] <= -0.838\\ngini = 0.5\\nsamples = 635\\nvalue = [318, 317]'),\n",
       " Text(52.297248542274055, 199.32, 'X[0] <= 0.595\\ngini = 0.215\\nsamples = 237\\nvalue = [208, 29]'),\n",
       " Text(30.41140670553936, 187.24, 'X[3] <= -4.036\\ngini = 0.158\\nsamples = 208\\nvalue = [190, 18]'),\n",
       " Text(22.206122448979592, 175.16, 'X[0] <= -0.872\\ngini = 0.5\\nsamples = 4\\nvalue = [2, 2]'),\n",
       " Text(20.25393586005831, 163.07999999999998, 'gini = 0.0\\nsamples = 2\\nvalue = [0, 2]'),\n",
       " Text(24.158309037900874, 163.07999999999998, 'gini = 0.0\\nsamples = 2\\nvalue = [2, 0]'),\n",
       " Text(38.61669096209913, 175.16, 'X[0] <= -1.042\\ngini = 0.145\\nsamples = 204\\nvalue = [188, 16]'),\n",
       " Text(28.06268221574344, 163.07999999999998, 'X[0] <= -1.52\\ngini = 0.029\\nsamples = 68\\nvalue = [67, 1]'),\n",
       " Text(26.110495626822157, 151.0, 'gini = 0.0\\nsamples = 39\\nvalue = [39, 0]'),\n",
       " Text(30.014868804664722, 151.0, 'X[0] <= -1.451\\ngini = 0.067\\nsamples = 29\\nvalue = [28, 1]'),\n",
       " Text(28.06268221574344, 138.92000000000002, 'gini = 0.0\\nsamples = 1\\nvalue = [0, 1]'),\n",
       " Text(31.967055393586005, 138.92000000000002, 'gini = 0.0\\nsamples = 28\\nvalue = [28, 0]'),\n",
       " Text(49.17069970845481, 163.07999999999998, 'X[0] <= 0.39\\ngini = 0.196\\nsamples = 136\\nvalue = [121, 15]'),\n",
       " Text(47.218513119533526, 151.0, 'X[0] <= 0.117\\ngini = 0.217\\nsamples = 121\\nvalue = [106, 15]'),\n",
       " Text(35.871428571428574, 138.92000000000002, 'X[3] <= -1.185\\ngini = 0.172\\nsamples = 105\\nvalue = [95, 10]'),\n",
       " Text(33.91924198250729, 126.84, 'gini = 0.0\\nsamples = 9\\nvalue = [9, 0]'),\n",
       " Text(37.82361516034985, 126.84, 'X[1] <= -0.227\\ngini = 0.187\\nsamples = 96\\nvalue = [86, 10]'),\n",
       " Text(33.91924198250729, 114.75999999999999, 'X[0] <= -0.087\\ngini = 0.177\\nsamples = 92\\nvalue = [83, 9]'),\n",
       " Text(31.967055393586005, 102.67999999999999, 'X[0] <= -0.224\\ngini = 0.214\\nsamples = 74\\nvalue = [65, 9]'),\n",
       " Text(24.890379008746358, 90.6, 'X[0] <= -0.36\\ngini = 0.177\\nsamples = 61\\nvalue = [55, 6]'),\n",
       " Text(22.93819241982507, 78.52000000000001, 'X[0] <= -0.497\\ngini = 0.198\\nsamples = 54\\nvalue = [48, 6]'),\n",
       " Text(16.593586005830904, 66.44, 'X[0] <= -0.701\\ngini = 0.169\\nsamples = 43\\nvalue = [39, 4]'),\n",
       " Text(14.641399416909621, 54.359999999999985, 'X[0] <= -0.838\\ngini = 0.213\\nsamples = 33\\nvalue = [29, 4]'),\n",
       " Text(9.760932944606415, 42.28, 'X[1] <= -1.032\\ngini = 0.245\\nsamples = 21\\nvalue = [18, 3]'),\n",
       " Text(5.856559766763849, 30.19999999999999, 'X[0] <= -0.906\\ngini = 0.298\\nsamples = 11\\nvalue = [9, 2]'),\n",
       " Text(3.9043731778425657, 18.120000000000005, 'X[0] <= -0.974\\ngini = 0.219\\nsamples = 8\\nvalue = [7, 1]'),\n",
       " Text(1.9521865889212828, 6.039999999999992, 'gini = 0.375\\nsamples = 4\\nvalue = [3, 1]'),\n",
       " Text(5.856559766763849, 6.039999999999992, 'gini = 0.0\\nsamples = 4\\nvalue = [4, 0]'),\n",
       " Text(7.808746355685131, 18.120000000000005, 'gini = 0.444\\nsamples = 3\\nvalue = [2, 1]'),\n",
       " Text(13.66530612244898, 30.19999999999999, 'X[0] <= -0.974\\ngini = 0.18\\nsamples = 10\\nvalue = [9, 1]'),\n",
       " Text(11.713119533527697, 18.120000000000005, 'gini = 0.0\\nsamples = 4\\nvalue = [4, 0]'),\n",
       " Text(15.617492711370263, 18.120000000000005, 'X[0] <= -0.906\\ngini = 0.278\\nsamples = 6\\nvalue = [5, 1]'),\n",
       " Text(13.66530612244898, 6.039999999999992, 'gini = 0.444\\nsamples = 3\\nvalue = [2, 1]'),\n",
       " Text(17.569679300291547, 6.039999999999992, 'gini = 0.0\\nsamples = 3\\nvalue = [3, 0]'),\n",
       " Text(19.52186588921283, 42.28, 'X[1] <= -1.032\\ngini = 0.153\\nsamples = 12\\nvalue = [11, 1]'),\n",
       " Text(17.569679300291547, 30.19999999999999, 'gini = 0.0\\nsamples = 6\\nvalue = [6, 0]'),\n",
       " Text(21.474052478134112, 30.19999999999999, 'X[0] <= -0.769\\ngini = 0.278\\nsamples = 6\\nvalue = [5, 1]'),\n",
       " Text(19.52186588921283, 18.120000000000005, 'gini = 0.0\\nsamples = 2\\nvalue = [2, 0]'),\n",
       " Text(23.426239067055395, 18.120000000000005, 'gini = 0.375\\nsamples = 4\\nvalue = [3, 1]'),\n",
       " Text(18.545772594752187, 54.359999999999985, 'gini = 0.0\\nsamples = 10\\nvalue = [10, 0]'),\n",
       " Text(29.282798833819243, 66.44, 'X[0] <= -0.428\\ngini = 0.298\\nsamples = 11\\nvalue = [9, 2]'),\n",
       " Text(25.378425655976677, 54.359999999999985, 'X[1] <= -1.032\\ngini = 0.375\\nsamples = 4\\nvalue = [3, 1]'),\n",
       " Text(23.426239067055395, 42.28, 'gini = 0.5\\nsamples = 2\\nvalue = [1, 1]'),\n",
       " Text(27.33061224489796, 42.28, 'gini = 0.0\\nsamples = 2\\nvalue = [2, 0]'),\n",
       " Text(33.18717201166181, 54.359999999999985, 'X[1] <= -1.032\\ngini = 0.245\\nsamples = 7\\nvalue = [6, 1]'),\n",
       " Text(31.234985422740525, 42.28, 'gini = 0.0\\nsamples = 4\\nvalue = [4, 0]'),\n",
       " Text(35.139358600583094, 42.28, 'gini = 0.444\\nsamples = 3\\nvalue = [2, 1]'),\n",
       " Text(26.84256559766764, 78.52000000000001, 'gini = 0.0\\nsamples = 7\\nvalue = [7, 0]'),\n",
       " Text(39.04373177842566, 90.6, 'X[0] <= -0.156\\ngini = 0.355\\nsamples = 13\\nvalue = [10, 3]'),\n",
       " Text(35.139358600583094, 78.52000000000001, 'X[1] <= -1.032\\ngini = 0.408\\nsamples = 7\\nvalue = [5, 2]'),\n",
       " Text(33.18717201166181, 66.44, 'gini = 0.48\\nsamples = 5\\nvalue = [3, 2]'),\n",
       " Text(37.09154518950437, 66.44, 'gini = 0.0\\nsamples = 2\\nvalue = [2, 0]'),\n",
       " Text(42.948104956268224, 78.52000000000001, 'X[1] <= -1.032\\ngini = 0.278\\nsamples = 6\\nvalue = [5, 1]'),\n",
       " Text(40.99591836734694, 66.44, 'gini = 0.0\\nsamples = 4\\nvalue = [4, 0]'),\n",
       " Text(44.9002915451895, 66.44, 'gini = 0.5\\nsamples = 2\\nvalue = [1, 1]'),\n",
       " Text(35.871428571428574, 102.67999999999999, 'gini = 0.0\\nsamples = 18\\nvalue = [18, 0]'),\n",
       " Text(41.72798833819242, 114.75999999999999, 'X[0] <= -0.053\\ngini = 0.375\\nsamples = 4\\nvalue = [3, 1]'),\n",
       " Text(39.77580174927114, 102.67999999999999, 'gini = 0.0\\nsamples = 3\\nvalue = [3, 0]'),\n",
       " Text(43.680174927113704, 102.67999999999999, 'gini = 0.0\\nsamples = 1\\nvalue = [0, 1]'),\n",
       " Text(58.565597667638485, 138.92000000000002, 'X[1] <= -0.227\\ngini = 0.43\\nsamples = 16\\nvalue = [11, 5]'),\n",
       " Text(56.6134110787172, 126.84, 'X[0] <= 0.322\\ngini = 0.459\\nsamples = 14\\nvalue = [9, 5]'),\n",
       " Text(54.66122448979592, 114.75999999999999, 'X[0] <= 0.254\\ngini = 0.426\\nsamples = 13\\nvalue = [9, 4]'),\n",
       " Text(52.709037900874634, 102.67999999999999, 'X[1] <= -1.032\\ngini = 0.444\\nsamples = 12\\nvalue = [8, 4]'),\n",
       " Text(48.80466472303207, 90.6, 'X[0] <= 0.185\\ngini = 0.444\\nsamples = 3\\nvalue = [2, 1]'),\n",
       " Text(46.85247813411079, 78.52000000000001, 'gini = 0.5\\nsamples = 2\\nvalue = [1, 1]'),\n",
       " Text(50.756851311953355, 78.52000000000001, 'gini = 0.0\\nsamples = 1\\nvalue = [1, 0]'),\n",
       " Text(56.6134110787172, 90.6, 'X[0] <= 0.185\\ngini = 0.444\\nsamples = 9\\nvalue = [6, 3]'),\n",
       " Text(54.66122448979592, 78.52000000000001, 'gini = 0.0\\nsamples = 1\\nvalue = [1, 0]'),\n",
       " Text(58.565597667638485, 78.52000000000001, 'gini = 0.469\\nsamples = 8\\nvalue = [5, 3]'),\n",
       " Text(56.6134110787172, 102.67999999999999, 'gini = 0.0\\nsamples = 1\\nvalue = [1, 0]'),\n",
       " Text(58.565597667638485, 114.75999999999999, 'gini = 0.0\\nsamples = 1\\nvalue = [0, 1]'),\n",
       " Text(60.517784256559764, 126.84, 'gini = 0.0\\nsamples = 2\\nvalue = [2, 0]'),\n",
       " Text(51.12288629737609, 151.0, 'gini = 0.0\\nsamples = 15\\nvalue = [15, 0]'),\n",
       " Text(74.18309037900875, 187.24, 'X[3] <= -1.185\\ngini = 0.471\\nsamples = 29\\nvalue = [18, 11]'),\n",
       " Text(72.23090379008747, 175.16, 'gini = 0.0\\nsamples = 3\\nvalue = [3, 0]'),\n",
       " Text(76.13527696793003, 175.16, 'X[0] <= 1.89\\ngini = 0.488\\nsamples = 26\\nvalue = [15, 11]'),\n",
       " Text(74.18309037900875, 163.07999999999998, 'X[1] <= -1.032\\ngini = 0.48\\nsamples = 25\\nvalue = [15, 10]'),\n",
       " Text(68.3265306122449, 151.0, 'X[0] <= 1.379\\ngini = 0.496\\nsamples = 11\\nvalue = [5, 6]'),\n",
       " Text(66.37434402332362, 138.92000000000002, 'X[0] <= 0.663\\ngini = 0.48\\nsamples = 10\\nvalue = [4, 6]'),\n",
       " Text(64.42215743440234, 126.84, 'gini = 0.0\\nsamples = 1\\nvalue = [0, 1]'),\n",
       " Text(68.3265306122449, 126.84, 'X[0] <= 0.97\\ngini = 0.494\\nsamples = 9\\nvalue = [4, 5]'),\n",
       " Text(66.37434402332362, 114.75999999999999, 'X[0] <= 0.867\\ngini = 0.5\\nsamples = 8\\nvalue = [4, 4]'),\n",
       " Text(64.42215743440234, 102.67999999999999, 'X[0] <= 0.765\\ngini = 0.49\\nsamples = 7\\nvalue = [3, 4]'),\n",
       " Text(62.46997084548105, 90.6, 'gini = 0.5\\nsamples = 4\\nvalue = [2, 2]'),\n",
       " Text(66.37434402332362, 90.6, 'gini = 0.444\\nsamples = 3\\nvalue = [1, 2]'),\n",
       " Text(68.3265306122449, 102.67999999999999, 'gini = 0.0\\nsamples = 1\\nvalue = [1, 0]'),\n",
       " Text(70.27871720116619, 114.75999999999999, 'gini = 0.0\\nsamples = 1\\nvalue = [0, 1]'),\n",
       " Text(70.27871720116619, 138.92000000000002, 'gini = 0.0\\nsamples = 1\\nvalue = [1, 0]'),\n",
       " Text(80.0396501457726, 151.0, 'X[1] <= -0.227\\ngini = 0.408\\nsamples = 14\\nvalue = [10, 4]'),\n",
       " Text(74.18309037900875, 138.92000000000002, 'X[0] <= 0.867\\ngini = 0.298\\nsamples = 11\\nvalue = [9, 2]'),\n",
       " Text(72.23090379008747, 126.84, 'gini = 0.0\\nsamples = 5\\nvalue = [5, 0]'),\n",
       " Text(76.13527696793003, 126.84, 'X[0] <= 1.072\\ngini = 0.444\\nsamples = 6\\nvalue = [4, 2]'),\n",
       " Text(74.18309037900875, 114.75999999999999, 'X[0] <= 1.004\\ngini = 0.5\\nsamples = 4\\nvalue = [2, 2]'),\n",
       " Text(72.23090379008747, 102.67999999999999, 'X[0] <= 0.936\\ngini = 0.444\\nsamples = 3\\nvalue = [2, 1]'),\n",
       " Text(70.27871720116619, 90.6, 'gini = 0.5\\nsamples = 2\\nvalue = [1, 1]'),\n",
       " Text(74.18309037900875, 90.6, 'gini = 0.0\\nsamples = 1\\nvalue = [1, 0]'),\n",
       " Text(76.13527696793003, 102.67999999999999, 'gini = 0.0\\nsamples = 1\\nvalue = [0, 1]'),\n",
       " Text(78.08746355685132, 114.75999999999999, 'gini = 0.0\\nsamples = 2\\nvalue = [2, 0]'),\n",
       " Text(85.89620991253645, 138.92000000000002, 'X[1] <= 0.578\\ngini = 0.444\\nsamples = 3\\nvalue = [1, 2]'),\n",
       " Text(83.94402332361516, 126.84, 'X[0] <= 1.14\\ngini = 0.5\\nsamples = 2\\nvalue = [1, 1]'),\n",
       " Text(81.99183673469388, 114.75999999999999, 'gini = 0.0\\nsamples = 1\\nvalue = [1, 0]'),\n",
       " Text(85.89620991253645, 114.75999999999999, 'gini = 0.0\\nsamples = 1\\nvalue = [0, 1]'),\n",
       " Text(87.84839650145773, 126.84, 'gini = 0.0\\nsamples = 1\\nvalue = [0, 1]'),\n",
       " Text(78.08746355685132, 163.07999999999998, 'gini = 0.0\\nsamples = 1\\nvalue = [0, 1]'),\n",
       " Text(166.10171966107873, 199.32, 'X[1] <= -0.227\\ngini = 0.4\\nsamples = 398\\nvalue = [110, 288]'),\n",
       " Text(103.22186588921284, 187.24, 'X[0] <= -0.053\\ngini = 0.491\\nsamples = 60\\nvalue = [34, 26]'),\n",
       " Text(91.75276967930029, 175.16, 'X[2] <= 0.438\\ngini = 0.308\\nsamples = 21\\nvalue = [17, 4]'),\n",
       " Text(89.800583090379, 163.07999999999998, 'gini = 0.0\\nsamples = 10\\nvalue = [10, 0]'),\n",
       " Text(93.70495626822158, 163.07999999999998, 'X[0] <= -0.804\\ngini = 0.463\\nsamples = 11\\nvalue = [7, 4]'),\n",
       " Text(91.75276967930029, 151.0, 'X[3] <= -1.185\\ngini = 0.444\\nsamples = 6\\nvalue = [2, 4]'),\n",
       " Text(89.800583090379, 138.92000000000002, 'gini = 0.0\\nsamples = 1\\nvalue = [1, 0]'),\n",
       " Text(93.70495626822158, 138.92000000000002, 'X[0] <= -1.315\\ngini = 0.32\\nsamples = 5\\nvalue = [1, 4]'),\n",
       " Text(91.75276967930029, 126.84, 'X[0] <= -1.486\\ngini = 0.5\\nsamples = 2\\nvalue = [1, 1]'),\n",
       " Text(89.800583090379, 114.75999999999999, 'gini = 0.0\\nsamples = 1\\nvalue = [0, 1]'),\n",
       " Text(93.70495626822158, 114.75999999999999, 'gini = 0.0\\nsamples = 1\\nvalue = [1, 0]'),\n",
       " Text(95.65714285714286, 126.84, 'gini = 0.0\\nsamples = 3\\nvalue = [0, 3]'),\n",
       " Text(95.65714285714286, 151.0, 'gini = 0.0\\nsamples = 5\\nvalue = [5, 0]'),\n",
       " Text(114.69096209912537, 175.16, 'X[0] <= 0.833\\ngini = 0.492\\nsamples = 39\\nvalue = [17, 22]'),\n",
       " Text(108.3463556851312, 163.07999999999998, 'X[3] <= -1.185\\ngini = 0.499\\nsamples = 29\\nvalue = [15, 14]'),\n",
       " Text(106.39416909620991, 151.0, 'gini = 0.0\\nsamples = 2\\nvalue = [2, 0]'),\n",
       " Text(110.29854227405248, 151.0, 'X[0] <= 0.595\\ngini = 0.499\\nsamples = 27\\nvalue = [13, 14]'),\n",
       " Text(103.46588921282799, 138.92000000000002, 'X[2] <= 1.077\\ngini = 0.496\\nsamples = 22\\nvalue = [12, 10]'),\n",
       " Text(99.56151603498543, 126.84, 'X[2] <= -0.2\\ngini = 0.475\\nsamples = 18\\nvalue = [11, 7]'),\n",
       " Text(97.60932944606414, 114.75999999999999, 'gini = 0.0\\nsamples = 1\\nvalue = [0, 1]'),\n",
       " Text(101.51370262390671, 114.75999999999999, 'X[1] <= -1.032\\ngini = 0.457\\nsamples = 17\\nvalue = [11, 6]'),\n",
       " Text(99.56151603498543, 102.67999999999999, 'gini = 0.0\\nsamples = 2\\nvalue = [2, 0]'),\n",
       " Text(103.46588921282799, 102.67999999999999, 'X[0] <= 0.492\\ngini = 0.48\\nsamples = 15\\nvalue = [9, 6]'),\n",
       " Text(99.56151603498543, 90.6, 'X[0] <= 0.39\\ngini = 0.496\\nsamples = 11\\nvalue = [6, 5]'),\n",
       " Text(97.60932944606414, 78.52000000000001, 'X[0] <= 0.049\\ngini = 0.48\\nsamples = 10\\nvalue = [6, 4]'),\n",
       " Text(93.70495626822158, 66.44, 'X[2] <= 0.438\\ngini = 0.5\\nsamples = 4\\nvalue = [2, 2]'),\n",
       " Text(91.75276967930029, 54.359999999999985, 'gini = 0.0\\nsamples = 1\\nvalue = [0, 1]'),\n",
       " Text(95.65714285714286, 54.359999999999985, 'gini = 0.444\\nsamples = 3\\nvalue = [2, 1]'),\n",
       " Text(101.51370262390671, 66.44, 'X[0] <= 0.151\\ngini = 0.444\\nsamples = 6\\nvalue = [4, 2]'),\n",
       " Text(99.56151603498543, 54.359999999999985, 'gini = 0.0\\nsamples = 2\\nvalue = [2, 0]'),\n",
       " Text(103.46588921282799, 54.359999999999985, 'X[2] <= 0.438\\ngini = 0.5\\nsamples = 4\\nvalue = [2, 2]'),\n",
       " Text(101.51370262390671, 42.28, 'gini = 0.0\\nsamples = 1\\nvalue = [1, 0]'),\n",
       " Text(105.41807580174927, 42.28, 'X[0] <= 0.288\\ngini = 0.444\\nsamples = 3\\nvalue = [1, 2]'),\n",
       " Text(103.46588921282799, 30.19999999999999, 'gini = 0.5\\nsamples = 2\\nvalue = [1, 1]'),\n",
       " Text(107.37026239067056, 30.19999999999999, 'gini = 0.0\\nsamples = 1\\nvalue = [0, 1]'),\n",
       " Text(101.51370262390671, 78.52000000000001, 'gini = 0.0\\nsamples = 1\\nvalue = [0, 1]'),\n",
       " Text(107.37026239067056, 90.6, 'X[2] <= 0.438\\ngini = 0.375\\nsamples = 4\\nvalue = [3, 1]'),\n",
       " Text(105.41807580174927, 78.52000000000001, 'gini = 0.0\\nsamples = 1\\nvalue = [1, 0]'),\n",
       " Text(109.32244897959184, 78.52000000000001, 'gini = 0.444\\nsamples = 3\\nvalue = [2, 1]'),\n",
       " Text(107.37026239067056, 126.84, 'X[1] <= -1.032\\ngini = 0.375\\nsamples = 4\\nvalue = [1, 3]'),\n",
       " Text(105.41807580174927, 114.75999999999999, 'gini = 0.0\\nsamples = 3\\nvalue = [0, 3]'),\n",
       " Text(109.32244897959184, 114.75999999999999, 'gini = 0.0\\nsamples = 1\\nvalue = [1, 0]'),\n",
       " Text(117.13119533527697, 138.92000000000002, 'X[1] <= -1.032\\ngini = 0.32\\nsamples = 5\\nvalue = [1, 4]'),\n",
       " Text(115.17900874635569, 126.84, 'X[0] <= 0.731\\ngini = 0.5\\nsamples = 2\\nvalue = [1, 1]'),\n",
       " Text(113.2268221574344, 114.75999999999999, 'gini = 0.0\\nsamples = 1\\nvalue = [0, 1]'),\n",
       " Text(117.13119533527697, 114.75999999999999, 'gini = 0.0\\nsamples = 1\\nvalue = [1, 0]'),\n",
       " Text(119.08338192419825, 126.84, 'gini = 0.0\\nsamples = 3\\nvalue = [0, 3]'),\n",
       " Text(121.03556851311953, 163.07999999999998, 'X[0] <= 1.072\\ngini = 0.32\\nsamples = 10\\nvalue = [2, 8]'),\n",
       " Text(119.08338192419825, 151.0, 'gini = 0.0\\nsamples = 5\\nvalue = [0, 5]'),\n",
       " Text(122.98775510204082, 151.0, 'X[0] <= 1.242\\ngini = 0.48\\nsamples = 5\\nvalue = [2, 3]'),\n",
       " Text(121.03556851311953, 138.92000000000002, 'gini = 0.0\\nsamples = 2\\nvalue = [2, 0]'),\n",
       " Text(124.9399416909621, 138.92000000000002, 'gini = 0.0\\nsamples = 3\\nvalue = [0, 3]'),\n",
       " Text(228.9815734329446, 187.24, 'X[0] <= 0.254\\ngini = 0.349\\nsamples = 338\\nvalue = [76, 262]'),\n",
       " Text(152.575583090379, 175.16, 'X[1] <= 0.578\\ngini = 0.448\\nsamples = 142\\nvalue = [48, 94]'),\n",
       " Text(128.84431486880467, 163.07999999999998, 'X[2] <= -0.2\\ngini = 0.496\\nsamples = 22\\nvalue = [12, 10]'),\n",
       " Text(126.89212827988338, 151.0, 'gini = 0.0\\nsamples = 2\\nvalue = [0, 2]'),\n",
       " Text(130.79650145772595, 151.0, 'X[2] <= 1.077\\ngini = 0.48\\nsamples = 20\\nvalue = [12, 8]'),\n",
       " Text(128.84431486880467, 138.92000000000002, 'X[0] <= -0.735\\ngini = 0.444\\nsamples = 18\\nvalue = [12, 6]'),\n",
       " Text(124.9399416909621, 126.84, 'X[0] <= -1.042\\ngini = 0.48\\nsamples = 5\\nvalue = [2, 3]'),\n",
       " Text(122.98775510204082, 114.75999999999999, 'gini = 0.0\\nsamples = 1\\nvalue = [1, 0]'),\n",
       " Text(126.89212827988338, 114.75999999999999, 'X[3] <= -1.185\\ngini = 0.375\\nsamples = 4\\nvalue = [1, 3]'),\n",
       " Text(124.9399416909621, 102.67999999999999, 'X[2] <= 0.438\\ngini = 0.5\\nsamples = 2\\nvalue = [1, 1]'),\n",
       " Text(122.98775510204082, 90.6, 'gini = 0.0\\nsamples = 1\\nvalue = [0, 1]'),\n",
       " Text(126.89212827988338, 90.6, 'gini = 0.0\\nsamples = 1\\nvalue = [1, 0]'),\n",
       " Text(128.84431486880467, 102.67999999999999, 'gini = 0.0\\nsamples = 2\\nvalue = [0, 2]'),\n",
       " Text(132.74868804664723, 126.84, 'X[0] <= -0.122\\ngini = 0.355\\nsamples = 13\\nvalue = [10, 3]'),\n",
       " Text(130.79650145772595, 114.75999999999999, 'gini = 0.0\\nsamples = 8\\nvalue = [8, 0]'),\n",
       " Text(134.7008746355685, 114.75999999999999, 'X[0] <= 0.185\\ngini = 0.48\\nsamples = 5\\nvalue = [2, 3]'),\n",
       " Text(132.74868804664723, 102.67999999999999, 'X[3] <= -1.185\\ngini = 0.375\\nsamples = 4\\nvalue = [1, 3]'),\n",
       " Text(130.79650145772595, 90.6, 'gini = 0.0\\nsamples = 1\\nvalue = [1, 0]'),\n",
       " Text(134.7008746355685, 90.6, 'gini = 0.0\\nsamples = 3\\nvalue = [0, 3]'),\n",
       " Text(136.6530612244898, 102.67999999999999, 'gini = 0.0\\nsamples = 1\\nvalue = [1, 0]'),\n",
       " Text(132.74868804664723, 138.92000000000002, 'gini = 0.0\\nsamples = 2\\nvalue = [0, 2]'),\n",
       " Text(176.30685131195335, 163.07999999999998, 'X[0] <= -1.383\\ngini = 0.42\\nsamples = 120\\nvalue = [36, 84]'),\n",
       " Text(172.4024781341108, 151.0, 'X[0] <= -1.656\\ngini = 0.469\\nsamples = 8\\nvalue = [5, 3]'),\n",
       " Text(170.45029154518951, 138.92000000000002, 'gini = 0.0\\nsamples = 2\\nvalue = [0, 2]'),\n",
       " Text(174.35466472303207, 138.92000000000002, 'X[3] <= -1.185\\ngini = 0.278\\nsamples = 6\\nvalue = [5, 1]'),\n",
       " Text(172.4024781341108, 126.84, 'gini = 0.0\\nsamples = 1\\nvalue = [0, 1]'),\n",
       " Text(176.30685131195335, 126.84, 'gini = 0.0\\nsamples = 5\\nvalue = [5, 0]'),\n",
       " Text(180.2112244897959, 151.0, 'X[0] <= -0.974\\ngini = 0.4\\nsamples = 112\\nvalue = [31, 81]'),\n",
       " Text(178.25903790087463, 138.92000000000002, 'gini = 0.0\\nsamples = 7\\nvalue = [0, 7]'),\n",
       " Text(182.16341107871722, 138.92000000000002, 'X[3] <= 1.666\\ngini = 0.416\\nsamples = 105\\nvalue = [31, 74]'),\n",
       " Text(180.2112244897959, 126.84, 'X[0] <= -0.087\\ngini = 0.423\\nsamples = 102\\nvalue = [31, 71]'),\n",
       " Text(159.59125364431486, 114.75999999999999, 'X[0] <= -0.428\\ngini = 0.391\\nsamples = 60\\nvalue = [16, 44]'),\n",
       " Text(144.46180758017493, 102.67999999999999, 'X[0] <= -0.633\\ngini = 0.444\\nsamples = 30\\nvalue = [10, 20]'),\n",
       " Text(138.60524781341107, 90.6, 'X[0] <= -0.701\\ngini = 0.36\\nsamples = 17\\nvalue = [4, 13]'),\n",
       " Text(136.6530612244898, 78.52000000000001, 'X[2] <= 0.438\\ngini = 0.444\\nsamples = 12\\nvalue = [4, 8]'),\n",
       " Text(134.7008746355685, 66.44, 'gini = 0.0\\nsamples = 2\\nvalue = [0, 2]'),\n",
       " Text(138.60524781341107, 66.44, 'X[2] <= 1.077\\ngini = 0.48\\nsamples = 10\\nvalue = [4, 6]'),\n",
       " Text(134.7008746355685, 54.359999999999985, 'X[0] <= -0.872\\ngini = 0.5\\nsamples = 4\\nvalue = [2, 2]'),\n",
       " Text(132.74868804664723, 42.28, 'gini = 0.0\\nsamples = 2\\nvalue = [0, 2]'),\n",
       " Text(136.6530612244898, 42.28, 'gini = 0.0\\nsamples = 2\\nvalue = [2, 0]'),\n",
       " Text(142.50962099125366, 54.359999999999985, 'X[0] <= -0.906\\ngini = 0.444\\nsamples = 6\\nvalue = [2, 4]'),\n",
       " Text(140.55743440233238, 42.28, 'gini = 0.0\\nsamples = 2\\nvalue = [2, 0]'),\n",
       " Text(144.46180758017493, 42.28, 'gini = 0.0\\nsamples = 4\\nvalue = [0, 4]'),\n",
       " Text(140.55743440233238, 78.52000000000001, 'gini = 0.0\\nsamples = 5\\nvalue = [0, 5]'),\n",
       " Text(150.31836734693877, 90.6, 'X[0] <= -0.565\\ngini = 0.497\\nsamples = 13\\nvalue = [6, 7]'),\n",
       " Text(148.3661807580175, 78.52000000000001, 'gini = 0.0\\nsamples = 1\\nvalue = [1, 0]'),\n",
       " Text(152.27055393586005, 78.52000000000001, 'X[0] <= -0.497\\ngini = 0.486\\nsamples = 12\\nvalue = [5, 7]'),\n",
       " Text(148.3661807580175, 66.44, 'X[2] <= 1.077\\ngini = 0.375\\nsamples = 4\\nvalue = [1, 3]'),\n",
       " Text(146.4139941690962, 54.359999999999985, 'gini = 0.0\\nsamples = 3\\nvalue = [0, 3]'),\n",
       " Text(150.31836734693877, 54.359999999999985, 'gini = 0.0\\nsamples = 1\\nvalue = [1, 0]'),\n",
       " Text(156.17492711370264, 66.44, 'X[2] <= 1.077\\ngini = 0.5\\nsamples = 8\\nvalue = [4, 4]'),\n",
       " Text(154.22274052478133, 54.359999999999985, 'gini = 0.49\\nsamples = 7\\nvalue = [4, 3]'),\n",
       " Text(158.12711370262392, 54.359999999999985, 'gini = 0.0\\nsamples = 1\\nvalue = [0, 1]'),\n",
       " Text(174.72069970845482, 102.67999999999999, 'X[0] <= -0.224\\ngini = 0.32\\nsamples = 30\\nvalue = [6, 24]'),\n",
       " Text(169.84023323615162, 90.6, 'X[0] <= -0.292\\ngini = 0.255\\nsamples = 20\\nvalue = [3, 17]'),\n",
       " Text(165.93586005830903, 78.52000000000001, 'X[2] <= 1.077\\ngini = 0.346\\nsamples = 9\\nvalue = [2, 7]'),\n",
       " Text(163.98367346938775, 66.44, 'X[3] <= -1.185\\ngini = 0.444\\nsamples = 6\\nvalue = [2, 4]'),\n",
       " Text(162.03148688046647, 54.359999999999985, 'gini = 0.0\\nsamples = 1\\nvalue = [0, 1]'),\n",
       " Text(165.93586005830903, 54.359999999999985, 'X[2] <= 0.438\\ngini = 0.48\\nsamples = 5\\nvalue = [2, 3]'),\n",
       " Text(162.03148688046647, 42.28, 'X[0] <= -0.36\\ngini = 0.444\\nsamples = 3\\nvalue = [1, 2]'),\n",
       " Text(160.0793002915452, 30.19999999999999, 'gini = 0.0\\nsamples = 2\\nvalue = [0, 2]'),\n",
       " Text(163.98367346938775, 30.19999999999999, 'gini = 0.0\\nsamples = 1\\nvalue = [1, 0]'),\n",
       " Text(169.84023323615162, 42.28, 'X[0] <= -0.36\\ngini = 0.5\\nsamples = 2\\nvalue = [1, 1]'),\n",
       " Text(167.8880466472303, 30.19999999999999, 'gini = 0.0\\nsamples = 1\\nvalue = [1, 0]'),\n",
       " Text(171.7924198250729, 30.19999999999999, 'gini = 0.0\\nsamples = 1\\nvalue = [0, 1]'),\n",
       " Text(167.8880466472303, 66.44, 'gini = 0.0\\nsamples = 3\\nvalue = [0, 3]'),\n",
       " Text(173.74460641399418, 78.52000000000001, 'X[2] <= 1.077\\ngini = 0.165\\nsamples = 11\\nvalue = [1, 10]'),\n",
       " Text(171.7924198250729, 66.44, 'gini = 0.0\\nsamples = 8\\nvalue = [0, 8]'),\n",
       " Text(175.69679300291546, 66.44, 'gini = 0.444\\nsamples = 3\\nvalue = [1, 2]'),\n",
       " Text(179.601166180758, 90.6, 'X[0] <= -0.156\\ngini = 0.42\\nsamples = 10\\nvalue = [3, 7]'),\n",
       " Text(177.64897959183673, 78.52000000000001, 'gini = 0.444\\nsamples = 3\\nvalue = [2, 1]'),\n",
       " Text(181.5533527696793, 78.52000000000001, 'X[2] <= 0.438\\ngini = 0.245\\nsamples = 7\\nvalue = [1, 6]'),\n",
       " Text(179.601166180758, 66.44, 'gini = 0.0\\nsamples = 1\\nvalue = [1, 0]'),\n",
       " Text(183.50553935860057, 66.44, 'gini = 0.0\\nsamples = 6\\nvalue = [0, 6]'),\n",
       " Text(200.83119533527696, 114.75999999999999, 'X[0] <= 0.049\\ngini = 0.459\\nsamples = 42\\nvalue = [15, 27]'),\n",
       " Text(191.31428571428572, 102.67999999999999, 'X[2] <= 0.438\\ngini = 0.5\\nsamples = 14\\nvalue = [7, 7]'),\n",
       " Text(189.36209912536444, 90.6, 'gini = 0.0\\nsamples = 4\\nvalue = [0, 4]'),\n",
       " Text(193.266472303207, 90.6, 'X[0] <= -0.019\\ngini = 0.42\\nsamples = 10\\nvalue = [7, 3]'),\n",
       " Text(189.36209912536444, 78.52000000000001, 'X[2] <= 1.077\\ngini = 0.48\\nsamples = 5\\nvalue = [3, 2]'),\n",
       " Text(187.40991253644316, 66.44, 'gini = 0.5\\nsamples = 4\\nvalue = [2, 2]'),\n",
       " Text(191.31428571428572, 66.44, 'gini = 0.0\\nsamples = 1\\nvalue = [1, 0]'),\n",
       " Text(197.17084548104955, 78.52000000000001, 'X[2] <= 1.077\\ngini = 0.32\\nsamples = 5\\nvalue = [4, 1]'),\n",
       " Text(195.21865889212827, 66.44, 'gini = 0.0\\nsamples = 4\\nvalue = [4, 0]'),\n",
       " Text(199.12303206997086, 66.44, 'gini = 0.0\\nsamples = 1\\nvalue = [0, 1]'),\n",
       " Text(210.34810495626823, 102.67999999999999, 'X[2] <= 0.438\\ngini = 0.408\\nsamples = 28\\nvalue = [8, 20]'),\n",
       " Text(203.02740524781342, 90.6, 'X[0] <= 0.117\\ngini = 0.48\\nsamples = 5\\nvalue = [3, 2]'),\n",
       " Text(201.07521865889214, 78.52000000000001, 'gini = 0.0\\nsamples = 1\\nvalue = [0, 1]'),\n",
       " Text(204.9795918367347, 78.52000000000001, 'X[2] <= -0.2\\ngini = 0.375\\nsamples = 4\\nvalue = [3, 1]'),\n",
       " Text(203.02740524781342, 66.44, 'gini = 0.0\\nsamples = 1\\nvalue = [1, 0]'),\n",
       " Text(206.93177842565598, 66.44, 'X[3] <= -1.185\\ngini = 0.444\\nsamples = 3\\nvalue = [2, 1]'),\n",
       " Text(204.9795918367347, 54.359999999999985, 'gini = 0.0\\nsamples = 1\\nvalue = [1, 0]'),\n",
       " Text(208.88396501457726, 54.359999999999985, 'X[0] <= 0.185\\ngini = 0.5\\nsamples = 2\\nvalue = [1, 1]'),\n",
       " Text(206.93177842565598, 42.28, 'gini = 0.0\\nsamples = 1\\nvalue = [1, 0]'),\n",
       " Text(210.83615160349854, 42.28, 'gini = 0.0\\nsamples = 1\\nvalue = [0, 1]'),\n",
       " Text(217.66880466472304, 90.6, 'X[3] <= -1.185\\ngini = 0.34\\nsamples = 23\\nvalue = [5, 18]'),\n",
       " Text(215.71661807580176, 78.52000000000001, 'gini = 0.0\\nsamples = 3\\nvalue = [0, 3]'),\n",
       " Text(219.62099125364432, 78.52000000000001, 'X[0] <= 0.117\\ngini = 0.375\\nsamples = 20\\nvalue = [5, 15]'),\n",
       " Text(214.74052478134112, 66.44, 'X[2] <= 1.077\\ngini = 0.48\\nsamples = 5\\nvalue = [2, 3]'),\n",
       " Text(212.78833819241981, 54.359999999999985, 'gini = 0.5\\nsamples = 4\\nvalue = [2, 2]'),\n",
       " Text(216.6927113702624, 54.359999999999985, 'gini = 0.0\\nsamples = 1\\nvalue = [0, 1]'),\n",
       " Text(224.50145772594752, 66.44, 'X[2] <= 1.077\\ngini = 0.32\\nsamples = 15\\nvalue = [3, 12]'),\n",
       " Text(220.59708454810496, 54.359999999999985, 'X[0] <= 0.185\\ngini = 0.219\\nsamples = 8\\nvalue = [1, 7]'),\n",
       " Text(218.64489795918368, 42.28, 'gini = 0.375\\nsamples = 4\\nvalue = [1, 3]'),\n",
       " Text(222.54927113702624, 42.28, 'gini = 0.0\\nsamples = 4\\nvalue = [0, 4]'),\n",
       " Text(228.4058309037901, 54.359999999999985, 'X[0] <= 0.185\\ngini = 0.408\\nsamples = 7\\nvalue = [2, 5]'),\n",
       " Text(226.4536443148688, 42.28, 'gini = 0.375\\nsamples = 4\\nvalue = [1, 3]'),\n",
       " Text(230.35801749271138, 42.28, 'gini = 0.444\\nsamples = 3\\nvalue = [1, 2]'),\n",
       " Text(184.1155976676385, 126.84, 'gini = 0.0\\nsamples = 3\\nvalue = [0, 3]'),\n",
       " Text(305.3875637755102, 175.16, 'X[3] <= 1.666\\ngini = 0.245\\nsamples = 196\\nvalue = [28, 168]'),\n",
       " Text(281.83168731778426, 163.07999999999998, 'X[0] <= 0.936\\ngini = 0.233\\nsamples = 193\\nvalue = [26, 167]'),\n",
       " Text(244.48086734693877, 151.0, 'X[1] <= 0.578\\ngini = 0.302\\nsamples = 108\\nvalue = [20, 88]'),\n",
       " Text(234.26239067055394, 138.92000000000002, 'X[2] <= 1.077\\ngini = 0.43\\nsamples = 16\\nvalue = [5, 11]'),\n",
       " Text(232.31020408163266, 126.84, 'X[3] <= -1.185\\ngini = 0.459\\nsamples = 14\\nvalue = [5, 9]'),\n",
       " Text(230.35801749271138, 114.75999999999999, 'gini = 0.0\\nsamples = 1\\nvalue = [0, 1]'),\n",
       " Text(234.26239067055394, 114.75999999999999, 'X[0] <= 0.663\\ngini = 0.473\\nsamples = 13\\nvalue = [5, 8]'),\n",
       " Text(229.38192419825074, 102.67999999999999, 'X[0] <= 0.458\\ngini = 0.42\\nsamples = 10\\nvalue = [3, 7]'),\n",
       " Text(225.47755102040816, 90.6, 'X[0] <= 0.39\\ngini = 0.5\\nsamples = 4\\nvalue = [2, 2]'),\n",
       " Text(223.52536443148688, 78.52000000000001, 'gini = 0.5\\nsamples = 2\\nvalue = [1, 1]'),\n",
       " Text(227.42973760932944, 78.52000000000001, 'gini = 0.5\\nsamples = 2\\nvalue = [1, 1]'),\n",
       " Text(233.2862973760933, 90.6, 'X[0] <= 0.595\\ngini = 0.278\\nsamples = 6\\nvalue = [1, 5]'),\n",
       " Text(231.33411078717202, 78.52000000000001, 'gini = 0.0\\nsamples = 2\\nvalue = [0, 2]'),\n",
       " Text(235.23848396501458, 78.52000000000001, 'X[2] <= 0.438\\ngini = 0.375\\nsamples = 4\\nvalue = [1, 3]'),\n",
       " Text(233.2862973760933, 66.44, 'gini = 0.444\\nsamples = 3\\nvalue = [1, 2]'),\n",
       " Text(237.19067055393586, 66.44, 'gini = 0.0\\nsamples = 1\\nvalue = [0, 1]'),\n",
       " Text(239.14285714285714, 102.67999999999999, 'X[0] <= 0.799\\ngini = 0.444\\nsamples = 3\\nvalue = [2, 1]'),\n",
       " Text(237.19067055393586, 90.6, 'gini = 0.0\\nsamples = 1\\nvalue = [1, 0]'),\n",
       " Text(241.09504373177842, 90.6, 'gini = 0.5\\nsamples = 2\\nvalue = [1, 1]'),\n",
       " Text(236.21457725947522, 126.84, 'gini = 0.0\\nsamples = 2\\nvalue = [0, 2]'),\n",
       " Text(254.69934402332362, 138.92000000000002, 'X[2] <= -0.2\\ngini = 0.273\\nsamples = 92\\nvalue = [15, 77]'),\n",
       " Text(243.04723032069973, 126.84, 'X[0] <= 0.595\\ngini = 0.5\\nsamples = 2\\nvalue = [1, 1]'),\n",
       " Text(241.09504373177842, 114.75999999999999, 'gini = 0.0\\nsamples = 1\\nvalue = [1, 0]'),\n",
       " Text(244.999416909621, 114.75999999999999, 'gini = 0.0\\nsamples = 1\\nvalue = [0, 1]'),\n",
       " Text(266.3514577259475, 126.84, 'X[0] <= 0.458\\ngini = 0.263\\nsamples = 90\\nvalue = [14, 76]'),\n",
       " Text(248.90379008746356, 114.75999999999999, 'X[2] <= 0.438\\ngini = 0.105\\nsamples = 18\\nvalue = [1, 17]'),\n",
       " Text(246.95160349854228, 102.67999999999999, 'X[0] <= 0.322\\ngini = 0.219\\nsamples = 8\\nvalue = [1, 7]'),\n",
       " Text(244.999416909621, 90.6, 'X[3] <= -1.185\\ngini = 0.278\\nsamples = 6\\nvalue = [1, 5]'),\n",
       " Text(243.04723032069973, 78.52000000000001, 'gini = 0.0\\nsamples = 1\\nvalue = [0, 1]'),\n",
       " Text(246.95160349854228, 78.52000000000001, 'gini = 0.32\\nsamples = 5\\nvalue = [1, 4]'),\n",
       " Text(248.90379008746356, 90.6, 'gini = 0.0\\nsamples = 2\\nvalue = [0, 2]'),\n",
       " Text(250.85597667638484, 102.67999999999999, 'gini = 0.0\\nsamples = 10\\nvalue = [0, 10]'),\n",
       " Text(283.7991253644315, 114.75999999999999, 'X[0] <= 0.867\\ngini = 0.296\\nsamples = 72\\nvalue = [13, 59]'),\n",
       " Text(273.79416909620994, 102.67999999999999, 'X[0] <= 0.731\\ngini = 0.287\\nsamples = 69\\nvalue = [12, 57]'),\n",
       " Text(259.6408163265306, 90.6, 'X[2] <= 0.438\\ngini = 0.325\\nsamples = 44\\nvalue = [9, 35]'),\n",
       " Text(250.85597667638484, 78.52000000000001, 'X[0] <= 0.595\\ngini = 0.444\\nsamples = 6\\nvalue = [2, 4]'),\n",
       " Text(248.90379008746356, 66.44, 'gini = 0.0\\nsamples = 3\\nvalue = [0, 3]'),\n",
       " Text(252.80816326530612, 66.44, 'X[0] <= 0.663\\ngini = 0.444\\nsamples = 3\\nvalue = [2, 1]'),\n",
       " Text(250.85597667638484, 54.359999999999985, 'gini = 0.0\\nsamples = 1\\nvalue = [1, 0]'),\n",
       " Text(254.7603498542274, 54.359999999999985, 'gini = 0.5\\nsamples = 2\\nvalue = [1, 1]'),\n",
       " Text(268.4256559766764, 78.52000000000001, 'X[0] <= 0.595\\ngini = 0.301\\nsamples = 38\\nvalue = [7, 31]'),\n",
       " Text(260.61690962099124, 66.44, 'X[3] <= -1.185\\ngini = 0.36\\nsamples = 17\\nvalue = [4, 13]'),\n",
       " Text(258.66472303206996, 54.359999999999985, 'gini = 0.0\\nsamples = 1\\nvalue = [0, 1]'),\n",
       " Text(262.5690962099125, 54.359999999999985, 'X[0] <= 0.526\\ngini = 0.375\\nsamples = 16\\nvalue = [4, 12]'),\n",
       " Text(258.66472303206996, 42.28, 'X[2] <= 1.077\\ngini = 0.346\\nsamples = 9\\nvalue = [2, 7]'),\n",
       " Text(256.7125364431487, 30.19999999999999, 'gini = 0.375\\nsamples = 8\\nvalue = [2, 6]'),\n",
       " Text(260.61690962099124, 30.19999999999999, 'gini = 0.0\\nsamples = 1\\nvalue = [0, 1]'),\n",
       " Text(266.47346938775513, 42.28, 'X[2] <= 1.077\\ngini = 0.408\\nsamples = 7\\nvalue = [2, 5]'),\n",
       " Text(264.5212827988338, 30.19999999999999, 'gini = 0.375\\nsamples = 4\\nvalue = [1, 3]'),\n",
       " Text(268.4256559766764, 30.19999999999999, 'gini = 0.444\\nsamples = 3\\nvalue = [1, 2]'),\n",
       " Text(276.2344023323615, 66.44, 'X[0] <= 0.663\\ngini = 0.245\\nsamples = 21\\nvalue = [3, 18]'),\n",
       " Text(272.33002915451897, 54.359999999999985, 'X[2] <= 1.077\\ngini = 0.198\\nsamples = 9\\nvalue = [1, 8]'),\n",
       " Text(270.3778425655977, 42.28, 'gini = 0.375\\nsamples = 4\\nvalue = [1, 3]'),\n",
       " Text(274.28221574344025, 42.28, 'gini = 0.0\\nsamples = 5\\nvalue = [0, 5]'),\n",
       " Text(280.1387755102041, 54.359999999999985, 'X[2] <= 1.077\\ngini = 0.278\\nsamples = 12\\nvalue = [2, 10]'),\n",
       " Text(278.1865889212828, 42.28, 'gini = 0.219\\nsamples = 8\\nvalue = [1, 7]'),\n",
       " Text(282.09096209912536, 42.28, 'gini = 0.375\\nsamples = 4\\nvalue = [1, 3]'),\n",
       " Text(287.9475218658892, 90.6, 'X[2] <= 0.438\\ngini = 0.211\\nsamples = 25\\nvalue = [3, 22]'),\n",
       " Text(285.9953352769679, 78.52000000000001, 'gini = 0.0\\nsamples = 5\\nvalue = [0, 5]'),\n",
       " Text(289.8997084548105, 78.52000000000001, 'X[0] <= 0.799\\ngini = 0.255\\nsamples = 20\\nvalue = [3, 17]'),\n",
       " Text(285.9953352769679, 66.44, 'X[2] <= 1.077\\ngini = 0.165\\nsamples = 11\\nvalue = [1, 10]'),\n",
       " Text(284.04314868804664, 54.359999999999985, 'gini = 0.0\\nsamples = 6\\nvalue = [0, 6]'),\n",
       " Text(287.9475218658892, 54.359999999999985, 'gini = 0.32\\nsamples = 5\\nvalue = [1, 4]'),\n",
       " Text(293.80408163265304, 66.44, 'X[2] <= 1.077\\ngini = 0.346\\nsamples = 9\\nvalue = [2, 7]'),\n",
       " Text(291.85189504373176, 54.359999999999985, 'gini = 0.408\\nsamples = 7\\nvalue = [2, 5]'),\n",
       " Text(295.7562682215744, 54.359999999999985, 'gini = 0.0\\nsamples = 2\\nvalue = [0, 2]'),\n",
       " Text(293.80408163265304, 102.67999999999999, 'X[2] <= 1.077\\ngini = 0.444\\nsamples = 3\\nvalue = [1, 2]'),\n",
       " Text(291.85189504373176, 90.6, 'gini = 0.5\\nsamples = 2\\nvalue = [1, 1]'),\n",
       " Text(295.7562682215744, 90.6, 'gini = 0.0\\nsamples = 1\\nvalue = [0, 1]'),\n",
       " Text(319.1825072886297, 151.0, 'X[0] <= 1.89\\ngini = 0.131\\nsamples = 85\\nvalue = [6, 79]'),\n",
       " Text(313.3259475218659, 138.92000000000002, 'X[0] <= 1.413\\ngini = 0.105\\nsamples = 72\\nvalue = [4, 68]'),\n",
       " Text(311.3737609329446, 126.84, 'X[0] <= 1.345\\ngini = 0.153\\nsamples = 48\\nvalue = [4, 44]'),\n",
       " Text(307.46938775510205, 114.75999999999999, 'X[0] <= 1.208\\ngini = 0.097\\nsamples = 39\\nvalue = [2, 37]'),\n",
       " Text(305.51720116618077, 102.67999999999999, 'X[0] <= 1.14\\ngini = 0.133\\nsamples = 28\\nvalue = [2, 26]'),\n",
       " Text(301.6128279883382, 90.6, 'X[2] <= 1.077\\ngini = 0.083\\nsamples = 23\\nvalue = [1, 22]'),\n",
       " Text(299.66064139941693, 78.52000000000001, 'gini = 0.0\\nsamples = 15\\nvalue = [0, 15]'),\n",
       " Text(303.5650145772595, 78.52000000000001, 'X[0] <= 1.072\\ngini = 0.219\\nsamples = 8\\nvalue = [1, 7]'),\n",
       " Text(301.6128279883382, 66.44, 'X[0] <= 1.004\\ngini = 0.278\\nsamples = 6\\nvalue = [1, 5]'),\n",
       " Text(299.66064139941693, 54.359999999999985, 'gini = 0.0\\nsamples = 1\\nvalue = [0, 1]'),\n",
       " Text(303.5650145772595, 54.359999999999985, 'X[3] <= -1.185\\ngini = 0.32\\nsamples = 5\\nvalue = [1, 4]'),\n",
       " Text(301.6128279883382, 42.28, 'gini = 0.0\\nsamples = 1\\nvalue = [0, 1]'),\n",
       " Text(305.51720116618077, 42.28, 'gini = 0.375\\nsamples = 4\\nvalue = [1, 3]'),\n",
       " Text(305.51720116618077, 66.44, 'gini = 0.0\\nsamples = 2\\nvalue = [0, 2]'),\n",
       " Text(309.4215743440233, 90.6, 'X[2] <= 0.438\\ngini = 0.32\\nsamples = 5\\nvalue = [1, 4]'),\n",
       " Text(307.46938775510205, 78.52000000000001, 'gini = 0.0\\nsamples = 1\\nvalue = [1, 0]'),\n",
       " Text(311.3737609329446, 78.52000000000001, 'gini = 0.0\\nsamples = 4\\nvalue = [0, 4]'),\n",
       " Text(309.4215743440233, 102.67999999999999, 'gini = 0.0\\nsamples = 11\\nvalue = [0, 11]'),\n",
       " Text(315.27813411078716, 114.75999999999999, 'X[1] <= 0.578\\ngini = 0.346\\nsamples = 9\\nvalue = [2, 7]'),\n",
       " Text(313.3259475218659, 102.67999999999999, 'gini = 0.0\\nsamples = 1\\nvalue = [1, 0]'),\n",
       " Text(317.23032069970844, 102.67999999999999, 'X[2] <= 0.438\\ngini = 0.219\\nsamples = 8\\nvalue = [1, 7]'),\n",
       " Text(315.27813411078716, 90.6, 'gini = 0.0\\nsamples = 2\\nvalue = [0, 2]'),\n",
       " Text(319.1825072886297, 90.6, 'X[2] <= 1.077\\ngini = 0.278\\nsamples = 6\\nvalue = [1, 5]'),\n",
       " Text(317.23032069970844, 78.52000000000001, 'gini = 0.375\\nsamples = 4\\nvalue = [1, 3]'),\n",
       " Text(321.134693877551, 78.52000000000001, 'gini = 0.0\\nsamples = 2\\nvalue = [0, 2]'),\n",
       " Text(315.27813411078716, 126.84, 'gini = 0.0\\nsamples = 24\\nvalue = [0, 24]'),\n",
       " Text(325.0390670553936, 138.92000000000002, 'X[0] <= 1.959\\ngini = 0.26\\nsamples = 13\\nvalue = [2, 11]'),\n",
       " Text(321.134693877551, 126.84, 'X[1] <= 0.578\\ngini = 0.5\\nsamples = 2\\nvalue = [1, 1]'),\n",
       " Text(319.1825072886297, 114.75999999999999, 'gini = 0.0\\nsamples = 1\\nvalue = [0, 1]'),\n",
       " Text(323.0868804664723, 114.75999999999999, 'gini = 0.0\\nsamples = 1\\nvalue = [1, 0]'),\n",
       " Text(328.9434402332362, 126.84, 'X[0] <= 2.095\\ngini = 0.165\\nsamples = 11\\nvalue = [1, 10]'),\n",
       " Text(326.9912536443149, 114.75999999999999, 'X[2] <= 0.438\\ngini = 0.32\\nsamples = 5\\nvalue = [1, 4]'),\n",
       " Text(325.0390670553936, 102.67999999999999, 'gini = 0.0\\nsamples = 2\\nvalue = [0, 2]'),\n",
       " Text(328.9434402332362, 102.67999999999999, 'X[1] <= 0.578\\ngini = 0.444\\nsamples = 3\\nvalue = [1, 2]'),\n",
       " Text(326.9912536443149, 90.6, 'gini = 0.0\\nsamples = 2\\nvalue = [0, 2]'),\n",
       " Text(330.89562682215745, 90.6, 'gini = 0.0\\nsamples = 1\\nvalue = [1, 0]'),\n",
       " Text(330.89562682215745, 114.75999999999999, 'gini = 0.0\\nsamples = 6\\nvalue = [0, 6]'),\n",
       " Text(328.9434402332362, 163.07999999999998, 'X[0] <= 0.867\\ngini = 0.444\\nsamples = 3\\nvalue = [2, 1]'),\n",
       " Text(326.9912536443149, 151.0, 'gini = 0.0\\nsamples = 1\\nvalue = [1, 0]'),\n",
       " Text(330.89562682215745, 151.0, 'X[0] <= 1.242\\ngini = 0.5\\nsamples = 2\\nvalue = [1, 1]'),\n",
       " Text(328.9434402332362, 138.92000000000002, 'gini = 0.0\\nsamples = 1\\nvalue = [0, 1]'),\n",
       " Text(332.84781341107873, 138.92000000000002, 'gini = 0.0\\nsamples = 1\\nvalue = [1, 0]')]"
      ]
     },
     "execution_count": 11,
     "metadata": {},
     "output_type": "execute_result"
    },
    {
     "data": {
      "image/png": "[encoded data removed]",
      "text/plain": [
       "<Figure size 432x288 with 1 Axes>"
      ]
     },
     "metadata": {
      "needs_background": "light"
     },
     "output_type": "display_data"
    }
   ],
   "source": [
    "tree.plot_tree(dt_classifier)"
   ]
  },
  {
   "cell_type": "markdown",
   "metadata": {},
   "source": [
    "Measure the accuracy of the resulting decision tree model using your test data."
   ]
  },
  {
   "cell_type": "code",
   "execution_count": 16,
   "metadata": {},
   "outputs": [
    {
     "data": {
      "text/plain": [
       "0.7487179487179487"
      ]
     },
     "execution_count": 16,
     "metadata": {},
     "output_type": "execute_result"
    }
   ],
   "source": [
    "predicted = dt_classifier.predict(x_test)\n",
    "# accuracy_score(y_test, predicted)\n",
    "dt_classifier.score(x_test, y_test)"
   ]
  },
  {
   "cell_type": "markdown",
   "metadata": {},
   "source": [
    "Now instead of a single train/test split, use K-Fold cross validation to get a better measure of your model's accuracy (K=10). Hint: use model_selection.cross_val_score"
   ]
  },
  {
   "cell_type": "code",
   "execution_count": 17,
   "metadata": {},
   "outputs": [
    {
     "name": "stdout",
     "output_type": "stream",
     "text": [
      "[0.71428571 0.77380952 0.77380952 0.72289157 0.78313253 0.6746988\n",
      " 0.72289157 0.76829268 0.76829268 0.69512195]\n",
      "0.7397226536809258\n"
     ]
    }
   ],
   "source": [
    "\n",
    "scores = cross_val_score(dt_classifier, scaled_features, classes, cv=10)\n",
    "print(scores)\n",
    "print(scores.mean())"
   ]
  },
  {
   "cell_type": "markdown",
   "metadata": {},
   "source": [
    "Now try a RandomForestClassifier instead. Does it perform better?"
   ]
  },
  {
   "cell_type": "code",
   "execution_count": 18,
   "metadata": {},
   "outputs": [
    {
     "name": "stdout",
     "output_type": "stream",
     "text": [
      "0.7692307692307693\n",
      "[0.75       0.75       0.77380952 0.72289157 0.80722892 0.69879518\n",
      " 0.73493976 0.79268293 0.74390244 0.67073171]\n",
      "0.7444982018667002\n"
     ]
    }
   ],
   "source": [
    "rf_classifier = RandomForestClassifier(n_estimators=10)\n",
    "rf_classifier = rf_classifier.fit(x_train, y_train)\n",
    "print(rf_classifier.score(x_test, y_test))\n",
    "\n",
    "scores = cross_val_score(rf_classifier, scaled_features, classes, cv=10)\n",
    "print(scores)\n",
    "print(scores.mean())"
   ]
  },
  {
   "cell_type": "markdown",
   "metadata": {},
   "source": [
    "## SVM\n",
    "\n",
    "Next try using svm.SVC with a linear kernel. How does it compare to the decision tree?"
   ]
  },
  {
   "cell_type": "code",
   "execution_count": 19,
   "metadata": {},
   "outputs": [
    {
     "name": "stdout",
     "output_type": "stream",
     "text": [
      "0.8102564102564103\n",
      "[0.71428571 0.77380952 0.86904762 0.80722892 0.84337349 0.69879518\n",
      " 0.80722892 0.80487805 0.90243902 0.74390244]\n",
      "0.7964988875362076\n"
     ]
    }
   ],
   "source": [
    "sv_classifier = SVC(kernel=\"linear\")\n",
    "sv_classifier = sv_classifier.fit(x_train, y_train)\n",
    "print(sv_classifier.score(x_test, y_test))\n",
    "\n",
    "scores = cross_val_score(sv_classifier, scaled_features, classes, cv=10)\n",
    "print(scores)\n",
    "print(scores.mean())"
   ]
  },
  {
   "cell_type": "code",
   "execution_count": null,
   "metadata": {},
   "outputs": [],
   "source": []
  },
  {
   "cell_type": "markdown",
   "metadata": {},
   "source": [
    "## KNN\n",
    "How about K-Nearest-Neighbors? Hint: use neighbors.KNeighborsClassifier - it's a lot easier than implementing KNN from scratch like we did earlier in the course. Start with a K of 10. K is an example of a hyperparameter - a parameter on the model itself which may need to be tuned for best results on your particular data set."
   ]
  },
  {
   "cell_type": "code",
   "execution_count": 20,
   "metadata": {},
   "outputs": [
    {
     "name": "stdout",
     "output_type": "stream",
     "text": [
      "0.7897435897435897\n",
      "[0.77380952 0.76190476 0.83333333 0.74698795 0.87951807 0.72289157\n",
      " 0.81927711 0.79268293 0.81707317 0.70731707]\n",
      "0.7854795488574507\n"
     ]
    }
   ],
   "source": [
    "knn = KNeighborsClassifier(n_neighbors=10)\n",
    "knn = knn.fit(x_train, y_train)\n",
    "print(knn.score(x_test, y_test))\n",
    "\n",
    "scores = cross_val_score(knn, scaled_features, classes, cv=10)\n",
    "print(scores)\n",
    "print(scores.mean())"
   ]
  },
  {
   "cell_type": "markdown",
   "metadata": {},
   "source": [
    "Choosing K is tricky, so we can't discard KNN until we've tried different values of K. Write a for loop to run KNN with K values ranging from 1 to 50 and see if K makes a substantial difference. Make a note of the best performance you could get out of KNN."
   ]
  },
  {
   "cell_type": "code",
   "execution_count": 22,
   "metadata": {},
   "outputs": [
    {
     "data": {
      "text/plain": [
       "[(0.7940595133145824, 7),\n",
       " (0.7927235072694961, 50),\n",
       " (0.7915333809104012, 11),\n",
       " (0.7915039950743742, 14),\n",
       " (0.7914172368918182, 31),\n",
       " (0.7902995256286471, 49),\n",
       " (0.7902271105327232, 28),\n",
       " (0.7890653205155116, 48),\n",
       " (0.7880200243482641, 9),\n",
       " (0.7878891874116676, 39)]"
      ]
     },
     "execution_count": 22,
     "metadata": {},
     "output_type": "execute_result"
    }
   ],
   "source": [
    "knn_runs = []\n",
    "for i in range(50):\n",
    "    n = i+1\n",
    "    mean_score = cross_val_score(KNeighborsClassifier(n_neighbors=n), scaled_features, classes, cv=10).mean()\n",
    "    knn_runs.append((mean_score, n))\n",
    "knn_runs.sort(key=lambda x: x[0], reverse=True)\n",
    "knn_runs[:10]"
   ]
  },
  {
   "cell_type": "markdown",
   "metadata": {},
   "source": [
    "## Naive Bayes\n",
    "\n",
    "Now try naive_bayes.MultinomialNB. How does its accuracy stack up? Hint: you'll need to use MinMaxScaler to get the features in the range MultinomialNB requires."
   ]
  },
  {
   "cell_type": "code",
   "execution_count": 31,
   "metadata": {},
   "outputs": [
    {
     "name": "stdout",
     "output_type": "stream",
     "text": [
      "0.7794871794871795\n",
      "[0.73809524 0.76190476 0.82142857 0.8313253  0.8313253  0.73493976\n",
      " 0.74698795 0.76829268 0.91463415 0.69512195]\n",
      "0.7844055665169388\n"
     ]
    }
   ],
   "source": [
    "minmax_features = MinMaxScaler().fit_transform(features) # scale between 0 and 1 preserving shape of data\n",
    "nb_classifier = MultinomialNB()\n",
    "nb_classifier.fit(minmax_features[mask], classes[mask])\n",
    "print(nb_classifier.score(minmax_features[~mask], classes[~mask]))\n",
    "\n",
    "scores = cross_val_score(nb_classifier, minmax_features, classes, cv=10)\n",
    "print(scores)\n",
    "print(scores.mean())"
   ]
  },
  {
   "cell_type": "markdown",
   "metadata": {},
   "source": [
    "## Revisiting SVM\n",
    "\n",
    "svm.SVC may perform differently with different kernels. The choice of kernel is an example of a \"hyperparamter.\" Try the rbf, sigmoid, and poly kernels and see what the best-performing kernel is. Do we have a new winner?"
   ]
  },
  {
   "cell_type": "code",
   "execution_count": 34,
   "metadata": {},
   "outputs": [
    {
     "name": "stdout",
     "output_type": "stream",
     "text": [
      "0.8205128205128205\n",
      "[0.75       0.79761905 0.86904762 0.80722892 0.86746988 0.72289157\n",
      " 0.78313253 0.7804878  0.86585366 0.76829268]\n",
      "0.8012023704574396\n"
     ]
    }
   ],
   "source": [
    "svrbf_classifier = SVC(kernel=\"rbf\", gamma=\"auto\")\n",
    "svrbf_classifier = svrbf_classifier.fit(x_train, y_train)\n",
    "print(svrbf_classifier.score(x_test, y_test))\n",
    "\n",
    "scores = cross_val_score(svrbf_classifier, scaled_features, classes, cv=10)\n",
    "print(scores)\n",
    "print(scores.mean())"
   ]
  },
  {
   "cell_type": "code",
   "execution_count": 35,
   "metadata": {},
   "outputs": [
    {
     "name": "stdout",
     "output_type": "stream",
     "text": [
      "0.7282051282051282\n",
      "[0.70238095 0.67857143 0.76190476 0.72289157 0.74698795 0.71084337\n",
      " 0.74698795 0.7804878  0.70731707 0.79268293]\n",
      "0.7351055791108685\n"
     ]
    }
   ],
   "source": [
    "svsig_classifier = SVC(kernel=\"sigmoid\", gamma=\"auto\")\n",
    "svsig_classifier = svsig_classifier.fit(x_train, y_train)\n",
    "print(svsig_classifier.score(x_test, y_test))\n",
    "\n",
    "scores = cross_val_score(svsig_classifier, scaled_features, classes, cv=10)\n",
    "print(scores)\n",
    "print(scores.mean())"
   ]
  },
  {
   "cell_type": "code",
   "execution_count": 36,
   "metadata": {},
   "outputs": [
    {
     "name": "stdout",
     "output_type": "stream",
     "text": [
      "0.7948717948717948\n",
      "[0.76190476 0.77380952 0.88095238 0.79518072 0.84337349 0.69879518\n",
      " 0.77108434 0.79268293 0.86585366 0.74390244]\n",
      "0.792753942599667\n"
     ]
    }
   ],
   "source": [
    "svpoly_classifier = SVC(kernel=\"poly\", gamma=\"auto\")\n",
    "svpoly_classifier = svpoly_classifier.fit(x_train, y_train)\n",
    "print(svpoly_classifier.score(x_test, y_test))\n",
    "\n",
    "scores = cross_val_score(svpoly_classifier, scaled_features, classes, cv=10)\n",
    "print(scores)\n",
    "print(scores.mean())"
   ]
  },
  {
   "cell_type": "markdown",
   "metadata": {},
   "source": [
    "## Logistic Regression\n",
    "\n",
    "We've tried all these fancy techniques, but fundamentally this is just a binary classification problem. Try Logisitic Regression, which is a simple way to tackling this sort of thing."
   ]
  },
  {
   "cell_type": "code",
   "execution_count": null,
   "metadata": {
    "collapsed": true
   },
   "outputs": [],
   "source": []
  },
  {
   "cell_type": "code",
   "execution_count": null,
   "metadata": {
    "collapsed": true
   },
   "outputs": [],
   "source": []
  },
  {
   "cell_type": "code",
   "execution_count": null,
   "metadata": {
    "collapsed": true
   },
   "outputs": [],
   "source": []
  },
  {
   "cell_type": "markdown",
   "metadata": {},
   "source": [
    "## Neural Networks\n",
    "\n",
    "As a bonus challenge, let's see if an artificial neural network can do even better. You can use Keras to set up a neural network with 1 binary output neuron and see how it performs. Don't be afraid to run a large number of epochs to train the model if necessary."
   ]
  },
  {
   "cell_type": "code",
   "execution_count": null,
   "metadata": {},
   "outputs": [],
   "source": []
  },
  {
   "cell_type": "code",
   "execution_count": null,
   "metadata": {},
   "outputs": [],
   "source": []
  },
  {
   "cell_type": "code",
   "execution_count": null,
   "metadata": {},
   "outputs": [],
   "source": []
  },
  {
   "cell_type": "code",
   "execution_count": null,
   "metadata": {},
   "outputs": [],
   "source": []
  },
  {
   "cell_type": "markdown",
   "metadata": {
    "collapsed": true
   },
   "source": [
    "## Do we have a winner?\n",
    "\n",
    "Which model, and which choice of hyperparameters, performed the best? Feel free to share your results!"
   ]
  },
  {
   "cell_type": "code",
   "execution_count": null,
   "metadata": {
    "collapsed": true
   },
   "outputs": [],
   "source": []
  }
 ],
 "metadata": {
  "kernelspec": {
   "display_name": "Python 3",
   "language": "python",
   "name": "python3"
  },
  "language_info": {
   "codemirror_mode": {
    "name": "ipython",
    "version": 3
   },
   "file_extension": ".py",
   "mimetype": "text/x-python",
   "name": "python",
   "nbconvert_exporter": "python",
   "pygments_lexer": "ipython3",
   "version": "3.7.4"
  }
 },
 "nbformat": 4,
 "nbformat_minor": 2
}
