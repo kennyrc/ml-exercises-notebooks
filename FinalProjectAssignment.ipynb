{
 "cells": [
  {
   "cell_type": "markdown",
   "metadata": {},
   "source": [
    "# Final Project\n",
    "\n",
    "## Predict whether a mammogram mass is benign or malignant\n",
    "\n",
    "We'll be using the \"mammographic masses\" public dataset from the UCI repository (source: https://archive.ics.uci.edu/ml/datasets/Mammographic+Mass)\n",
    "\n",
    "This data contains 961 instances of masses detected in mammograms, and contains the following attributes:\n",
    "\n",
    "\n",
    "   1. BI-RADS assessment: 1 to 5 (ordinal)  \n",
    "   2. Age: patient's age in years (integer)\n",
    "   3. Shape: mass shape: round=1 oval=2 lobular=3 irregular=4 (nominal)\n",
    "   4. Margin: mass margin: circumscribed=1 microlobulated=2 obscured=3 ill-defined=4 spiculated=5 (nominal)\n",
    "   5. Density: mass density high=1 iso=2 low=3 fat-containing=4 (ordinal)\n",
    "   6. Severity: benign=0 or malignant=1 (binominal)\n",
    "   \n",
    "BI-RADS is an assesment of how confident the severity classification is; it is not a \"predictive\" attribute and so we will discard it. The age, shape, margin, and density attributes are the features that we will build our model with, and \"severity\" is the classification we will attempt to predict based on those attributes.\n",
    "\n",
    "Although \"shape\" and \"margin\" are nominal data types, which sklearn typically doesn't deal with well, they are close enough to ordinal that we shouldn't just discard them. The \"shape\" for example is ordered increasingly from round to irregular.\n",
    "\n",
    "A lot of unnecessary anguish and surgery arises from false positives arising from mammogram results. If we can build a better way to interpret them through supervised machine learning, it could improve a lot of lives.\n",
    "\n",
    "## Your assignment\n",
    "\n",
    "Apply several different supervised machine learning techniques to this data set, and see which one yields the highest accuracy as measured with K-Fold cross validation (K=10). Apply:\n",
    "\n",
    "* Decision tree\n",
    "* Random forest\n",
    "* KNN\n",
    "* Naive Bayes\n",
    "* SVM\n",
    "* Logistic Regression\n",
    "* And, as a bonus challenge, a neural network using Keras.\n",
    "\n",
    "The data needs to be cleaned; many rows contain missing data, and there may be erroneous data identifiable as outliers as well.\n",
    "\n",
    "Remember some techniques such as SVM also require the input data to be normalized first.\n",
    "\n",
    "Many techniques also have \"hyperparameters\" that need to be tuned. Once you identify a promising approach, see if you can make it even better by tuning its hyperparameters.\n",
    "\n",
    "I was able to achieve over 80% accuracy - can you beat that?\n",
    "\n",
    "Below I've set up an outline of a notebook for this project, with some guidance and hints. If you're up for a real challenge, try doing this project from scratch in a new, clean notebook!\n"
   ]
  },
  {
   "cell_type": "markdown",
   "metadata": {},
   "source": [
    "## Let's begin: prepare your data\n",
    "\n",
    "Start by importing the mammographic_masses.data.txt file into a Pandas dataframe (hint: use read_csv) and take a look at it."
   ]
  },
  {
   "cell_type": "code",
   "execution_count": 44,
   "metadata": {},
   "outputs": [],
   "source": [
    "import pandas as pd\n",
    "import matplotlib.pyplot as plt\n",
    "import sklearn\n",
    "from sklearn.preprocessing import StandardScaler\n",
    "import numpy as np\n",
    "from sklearn.metrics import accuracy_score\n",
    "from sklearn.model_selection import cross_val_score\n",
    "from sklearn.ensemble import RandomForestClassifier"
   ]
  },
  {
   "cell_type": "code",
   "execution_count": null,
   "metadata": {},
   "outputs": [],
   "source": []
  },
  {
   "cell_type": "markdown",
   "metadata": {},
   "source": [
    "Make sure you use the optional parmaters in read_csv to convert missing data (indicated by a ?) into NaN, and to add the appropriate column names (BI_RADS, age, shape, margin, density, and severity):"
   ]
  },
  {
   "cell_type": "code",
   "execution_count": 2,
   "metadata": {},
   "outputs": [
    {
     "data": {
      "text/html": [
       "<div>\n",
       "<style scoped>\n",
       "    .dataframe tbody tr th:only-of-type {\n",
       "        vertical-align: middle;\n",
       "    }\n",
       "\n",
       "    .dataframe tbody tr th {\n",
       "        vertical-align: top;\n",
       "    }\n",
       "\n",
       "    .dataframe thead th {\n",
       "        text-align: right;\n",
       "    }\n",
       "</style>\n",
       "<table border=\"1\" class=\"dataframe\">\n",
       "  <thead>\n",
       "    <tr style=\"text-align: right;\">\n",
       "      <th></th>\n",
       "      <th>bi_rads</th>\n",
       "      <th>age</th>\n",
       "      <th>shape</th>\n",
       "      <th>margin</th>\n",
       "      <th>density</th>\n",
       "      <th>severity</th>\n",
       "    </tr>\n",
       "  </thead>\n",
       "  <tbody>\n",
       "    <tr>\n",
       "      <td>0</td>\n",
       "      <td>5.0</td>\n",
       "      <td>67.0</td>\n",
       "      <td>3.0</td>\n",
       "      <td>5.0</td>\n",
       "      <td>3.0</td>\n",
       "      <td>1</td>\n",
       "    </tr>\n",
       "    <tr>\n",
       "      <td>1</td>\n",
       "      <td>4.0</td>\n",
       "      <td>43.0</td>\n",
       "      <td>1.0</td>\n",
       "      <td>1.0</td>\n",
       "      <td>NaN</td>\n",
       "      <td>1</td>\n",
       "    </tr>\n",
       "    <tr>\n",
       "      <td>2</td>\n",
       "      <td>5.0</td>\n",
       "      <td>58.0</td>\n",
       "      <td>4.0</td>\n",
       "      <td>5.0</td>\n",
       "      <td>3.0</td>\n",
       "      <td>1</td>\n",
       "    </tr>\n",
       "    <tr>\n",
       "      <td>3</td>\n",
       "      <td>4.0</td>\n",
       "      <td>28.0</td>\n",
       "      <td>1.0</td>\n",
       "      <td>1.0</td>\n",
       "      <td>3.0</td>\n",
       "      <td>0</td>\n",
       "    </tr>\n",
       "    <tr>\n",
       "      <td>4</td>\n",
       "      <td>5.0</td>\n",
       "      <td>74.0</td>\n",
       "      <td>1.0</td>\n",
       "      <td>5.0</td>\n",
       "      <td>NaN</td>\n",
       "      <td>1</td>\n",
       "    </tr>\n",
       "  </tbody>\n",
       "</table>\n",
       "</div>"
      ],
      "text/plain": [
       "   bi_rads   age  shape  margin  density  severity\n",
       "0      5.0  67.0    3.0     5.0      3.0         1\n",
       "1      4.0  43.0    1.0     1.0      NaN         1\n",
       "2      5.0  58.0    4.0     5.0      3.0         1\n",
       "3      4.0  28.0    1.0     1.0      3.0         0\n",
       "4      5.0  74.0    1.0     5.0      NaN         1"
      ]
     },
     "execution_count": 2,
     "metadata": {},
     "output_type": "execute_result"
    }
   ],
   "source": [
    "df = pd.read_csv(\"mammographic_masses.data.txt\",\n",
    "                 na_values=\"?\",\n",
    "                 names=(\"bi_rads\", \"age\", \"shape\", \"margin\", \"density\", \"severity\"))\n",
    "df.head()"
   ]
  },
  {
   "cell_type": "markdown",
   "metadata": {},
   "source": [
    "Evaluate whether the data needs cleaning; your model is only as good as the data it's given. Hint: use describe() on the dataframe."
   ]
  },
  {
   "cell_type": "code",
   "execution_count": 3,
   "metadata": {},
   "outputs": [
    {
     "data": {
      "text/html": [
       "<div>\n",
       "<style scoped>\n",
       "    .dataframe tbody tr th:only-of-type {\n",
       "        vertical-align: middle;\n",
       "    }\n",
       "\n",
       "    .dataframe tbody tr th {\n",
       "        vertical-align: top;\n",
       "    }\n",
       "\n",
       "    .dataframe thead th {\n",
       "        text-align: right;\n",
       "    }\n",
       "</style>\n",
       "<table border=\"1\" class=\"dataframe\">\n",
       "  <thead>\n",
       "    <tr style=\"text-align: right;\">\n",
       "      <th></th>\n",
       "      <th>bi_rads</th>\n",
       "      <th>age</th>\n",
       "      <th>shape</th>\n",
       "      <th>margin</th>\n",
       "      <th>density</th>\n",
       "      <th>severity</th>\n",
       "    </tr>\n",
       "  </thead>\n",
       "  <tbody>\n",
       "    <tr>\n",
       "      <td>count</td>\n",
       "      <td>959.000000</td>\n",
       "      <td>956.000000</td>\n",
       "      <td>930.000000</td>\n",
       "      <td>913.000000</td>\n",
       "      <td>885.000000</td>\n",
       "      <td>961.000000</td>\n",
       "    </tr>\n",
       "    <tr>\n",
       "      <td>mean</td>\n",
       "      <td>4.348279</td>\n",
       "      <td>55.487448</td>\n",
       "      <td>2.721505</td>\n",
       "      <td>2.796276</td>\n",
       "      <td>2.910734</td>\n",
       "      <td>0.463059</td>\n",
       "    </tr>\n",
       "    <tr>\n",
       "      <td>std</td>\n",
       "      <td>1.783031</td>\n",
       "      <td>14.480131</td>\n",
       "      <td>1.242792</td>\n",
       "      <td>1.566546</td>\n",
       "      <td>0.380444</td>\n",
       "      <td>0.498893</td>\n",
       "    </tr>\n",
       "    <tr>\n",
       "      <td>min</td>\n",
       "      <td>0.000000</td>\n",
       "      <td>18.000000</td>\n",
       "      <td>1.000000</td>\n",
       "      <td>1.000000</td>\n",
       "      <td>1.000000</td>\n",
       "      <td>0.000000</td>\n",
       "    </tr>\n",
       "    <tr>\n",
       "      <td>25%</td>\n",
       "      <td>4.000000</td>\n",
       "      <td>45.000000</td>\n",
       "      <td>2.000000</td>\n",
       "      <td>1.000000</td>\n",
       "      <td>3.000000</td>\n",
       "      <td>0.000000</td>\n",
       "    </tr>\n",
       "    <tr>\n",
       "      <td>50%</td>\n",
       "      <td>4.000000</td>\n",
       "      <td>57.000000</td>\n",
       "      <td>3.000000</td>\n",
       "      <td>3.000000</td>\n",
       "      <td>3.000000</td>\n",
       "      <td>0.000000</td>\n",
       "    </tr>\n",
       "    <tr>\n",
       "      <td>75%</td>\n",
       "      <td>5.000000</td>\n",
       "      <td>66.000000</td>\n",
       "      <td>4.000000</td>\n",
       "      <td>4.000000</td>\n",
       "      <td>3.000000</td>\n",
       "      <td>1.000000</td>\n",
       "    </tr>\n",
       "    <tr>\n",
       "      <td>max</td>\n",
       "      <td>55.000000</td>\n",
       "      <td>96.000000</td>\n",
       "      <td>4.000000</td>\n",
       "      <td>5.000000</td>\n",
       "      <td>4.000000</td>\n",
       "      <td>1.000000</td>\n",
       "    </tr>\n",
       "  </tbody>\n",
       "</table>\n",
       "</div>"
      ],
      "text/plain": [
       "          bi_rads         age       shape      margin     density    severity\n",
       "count  959.000000  956.000000  930.000000  913.000000  885.000000  961.000000\n",
       "mean     4.348279   55.487448    2.721505    2.796276    2.910734    0.463059\n",
       "std      1.783031   14.480131    1.242792    1.566546    0.380444    0.498893\n",
       "min      0.000000   18.000000    1.000000    1.000000    1.000000    0.000000\n",
       "25%      4.000000   45.000000    2.000000    1.000000    3.000000    0.000000\n",
       "50%      4.000000   57.000000    3.000000    3.000000    3.000000    0.000000\n",
       "75%      5.000000   66.000000    4.000000    4.000000    3.000000    1.000000\n",
       "max     55.000000   96.000000    4.000000    5.000000    4.000000    1.000000"
      ]
     },
     "execution_count": 3,
     "metadata": {},
     "output_type": "execute_result"
    }
   ],
   "source": [
    "df.describe()\n"
   ]
  },
  {
   "cell_type": "markdown",
   "metadata": {},
   "source": [
    "There are quite a few missing values in the data set. Before we just drop every row that's missing data, let's make sure we don't bias our data in doing so. Does there appear to be any sort of correlation to what sort of data has missing fields? If there were, we'd have to try and go back and fill that data in."
   ]
  },
  {
   "cell_type": "code",
   "execution_count": 4,
   "metadata": {},
   "outputs": [
    {
     "data": {
      "text/html": [
       "<div>\n",
       "<style scoped>\n",
       "    .dataframe tbody tr th:only-of-type {\n",
       "        vertical-align: middle;\n",
       "    }\n",
       "\n",
       "    .dataframe tbody tr th {\n",
       "        vertical-align: top;\n",
       "    }\n",
       "\n",
       "    .dataframe thead th {\n",
       "        text-align: right;\n",
       "    }\n",
       "</style>\n",
       "<table border=\"1\" class=\"dataframe\">\n",
       "  <thead>\n",
       "    <tr style=\"text-align: right;\">\n",
       "      <th></th>\n",
       "      <th>bi_rads</th>\n",
       "      <th>age</th>\n",
       "      <th>shape</th>\n",
       "      <th>margin</th>\n",
       "      <th>density</th>\n",
       "      <th>severity</th>\n",
       "    </tr>\n",
       "  </thead>\n",
       "  <tbody>\n",
       "    <tr>\n",
       "      <td>bi_rads</td>\n",
       "      <td>1.000000</td>\n",
       "      <td>-0.003303</td>\n",
       "      <td>0.120896</td>\n",
       "      <td>0.094349</td>\n",
       "      <td>-0.013383</td>\n",
       "      <td>NaN</td>\n",
       "    </tr>\n",
       "    <tr>\n",
       "      <td>age</td>\n",
       "      <td>-0.003303</td>\n",
       "      <td>1.000000</td>\n",
       "      <td>-0.013204</td>\n",
       "      <td>-0.016582</td>\n",
       "      <td>-0.021193</td>\n",
       "      <td>NaN</td>\n",
       "    </tr>\n",
       "    <tr>\n",
       "      <td>shape</td>\n",
       "      <td>0.120896</td>\n",
       "      <td>-0.013204</td>\n",
       "      <td>1.000000</td>\n",
       "      <td>0.228499</td>\n",
       "      <td>0.033791</td>\n",
       "      <td>NaN</td>\n",
       "    </tr>\n",
       "    <tr>\n",
       "      <td>margin</td>\n",
       "      <td>0.094349</td>\n",
       "      <td>-0.016582</td>\n",
       "      <td>0.228499</td>\n",
       "      <td>1.000000</td>\n",
       "      <td>0.216018</td>\n",
       "      <td>NaN</td>\n",
       "    </tr>\n",
       "    <tr>\n",
       "      <td>density</td>\n",
       "      <td>-0.013383</td>\n",
       "      <td>-0.021193</td>\n",
       "      <td>0.033791</td>\n",
       "      <td>0.216018</td>\n",
       "      <td>1.000000</td>\n",
       "      <td>NaN</td>\n",
       "    </tr>\n",
       "    <tr>\n",
       "      <td>severity</td>\n",
       "      <td>NaN</td>\n",
       "      <td>NaN</td>\n",
       "      <td>NaN</td>\n",
       "      <td>NaN</td>\n",
       "      <td>NaN</td>\n",
       "      <td>NaN</td>\n",
       "    </tr>\n",
       "  </tbody>\n",
       "</table>\n",
       "</div>"
      ],
      "text/plain": [
       "           bi_rads       age     shape    margin   density  severity\n",
       "bi_rads   1.000000 -0.003303  0.120896  0.094349 -0.013383       NaN\n",
       "age      -0.003303  1.000000 -0.013204 -0.016582 -0.021193       NaN\n",
       "shape     0.120896 -0.013204  1.000000  0.228499  0.033791       NaN\n",
       "margin    0.094349 -0.016582  0.228499  1.000000  0.216018       NaN\n",
       "density  -0.013383 -0.021193  0.033791  0.216018  1.000000       NaN\n",
       "severity       NaN       NaN       NaN       NaN       NaN       NaN"
      ]
     },
     "execution_count": 4,
     "metadata": {},
     "output_type": "execute_result"
    }
   ],
   "source": [
    "df_nulls = df.isnull().astype(int)\n",
    "df_nulls.corr()"
   ]
  },
  {
   "cell_type": "code",
   "execution_count": 5,
   "metadata": {},
   "outputs": [
    {
     "data": {
      "image/png": "[encoded data removed]",
      "text/plain": [
       "<Figure size 432x288 with 1 Axes>"
      ]
     },
     "metadata": {
      "needs_background": "light"
     },
     "output_type": "display_data"
    }
   ],
   "source": [
    "axes = plt.gca()\n",
    "df_nulls.plot(kind=\"line\", y=\"shape\",ax=axes)\n",
    "df_nulls.plot(kind=\"line\", y=\"margin\",ax=axes)\n",
    "df_nulls.plot(kind=\"line\", y=\"density\",ax=axes)\n",
    "\n",
    "plt.show()"
   ]
  },
  {
   "cell_type": "markdown",
   "metadata": {},
   "source": [
    "If the missing data seems randomly distributed, go ahead and drop rows with missing data. Hint: use dropna()."
   ]
  },
  {
   "cell_type": "code",
   "execution_count": 7,
   "metadata": {},
   "outputs": [
    {
     "name": "stdout",
     "output_type": "stream",
     "text": [
      "(961, 6)\n",
      "(830, 6)\n"
     ]
    }
   ],
   "source": [
    "print(df.shape)\n",
    "df_cleaned = df.dropna()\n",
    "print(df_cleaned.shape)"
   ]
  },
  {
   "cell_type": "markdown",
   "metadata": {
    "collapsed": true
   },
   "source": [
    "Next you'll need to convert the Pandas dataframes into numpy arrays that can be used by scikit_learn. Create an array that extracts only the feature data we want to work with (age, shape, margin, and density) and another array that contains the classes (severity). You'll also need an array of the feature name labels."
   ]
  },
  {
   "cell_type": "code",
   "execution_count": 8,
   "metadata": {},
   "outputs": [],
   "source": [
    "# features\n",
    "df_features = df_cleaned[[\"age\", \"shape\", \"margin\", \"density\"]]\n",
    "feature_labels = df_features.columns.to_numpy()\n",
    "features = df_features.to_numpy()\n",
    "classes = df_cleaned[\"severity\"].to_numpy()"
   ]
  },
  {
   "cell_type": "markdown",
   "metadata": {},
   "source": [
    "Some of our models require the input data to be normalized, so go ahead and normalize the attribute data. Hint: use preprocessing.StandardScaler()."
   ]
  },
  {
   "cell_type": "code",
   "execution_count": 9,
   "metadata": {},
   "outputs": [],
   "source": [
    "scaler = StandardScaler()\n",
    "scaler.fit(features)\n",
    "#print(scaler.mean_)\n",
    "scaled_features = scaler.transform(features)\n",
    "#print(scaled_features[:5])\n",
    "#print(features[:5])"
   ]
  },
  {
   "cell_type": "markdown",
   "metadata": {},
   "source": [
    "## Decision Trees\n",
    "\n",
    "Before moving to K-Fold cross validation and random forests, start by creating a single train/test split of our data. Set aside 75% for training, and 25% for testing."
   ]
  },
  {
   "cell_type": "code",
   "execution_count": 16,
   "metadata": {},
   "outputs": [],
   "source": [
    "mask = np.random.rand(len(classes)) < 0.75\n",
    "x_train, x_test = features[mask], features[~mask]\n",
    "y_train, y_test = classes[mask], classes[~mask]\n",
    "#print(len(x_train))\n",
    "#print(len(y_test))"
   ]
  },
  {
   "cell_type": "markdown",
   "metadata": {},
   "source": [
    "Now create a DecisionTreeClassifier and fit it to your training data."
   ]
  },
  {
   "cell_type": "code",
   "execution_count": 23,
   "metadata": {},
   "outputs": [],
   "source": [
    "from sklearn import tree\n",
    "classifier = tree.DecisionTreeClassifier()\n",
    "classifier = classifier.fit(x_train, y_train)"
   ]
  },
  {
   "cell_type": "markdown",
   "metadata": {},
   "source": [
    "Display the resulting decision tree."
   ]
  },
  {
   "cell_type": "code",
   "execution_count": 26,
   "metadata": {},
   "outputs": [
    {
     "data": {
      "text/plain": [
       "[Text(128.15999461851234, 211.4, 'X[2] <= 1.5\\ngini = 0.499\\nsamples = 641\\nvalue = [333, 308]'),\n",
       " Text(69.09103683329347, 199.32, 'X[0] <= 73.5\\ngini = 0.2\\nsamples = 249\\nvalue = [221, 28]'),\n",
       " Text(55.543087778043535, 187.24, 'X[1] <= 3.5\\ngini = 0.177\\nsamples = 244\\nvalue = [220, 24]'),\n",
       " Text(36.13453719205932, 175.16, 'X[0] <= 40.5\\ngini = 0.166\\nsamples = 241\\nvalue = [219, 22]'),\n",
       " Text(17.45668500358766, 163.07999999999998, 'X[0] <= 33.5\\ngini = 0.028\\nsamples = 71\\nvalue = [70, 1]'),\n",
       " Text(14.894235828749105, 151.0, 'gini = 0.0\\nsamples = 42\\nvalue = [42, 0]'),\n",
       " Text(20.019134178426217, 151.0, 'X[0] <= 34.5\\ngini = 0.067\\nsamples = 29\\nvalue = [28, 1]'),\n",
       " Text(17.45668500358766, 138.92000000000002, 'gini = 0.5\\nsamples = 2\\nvalue = [1, 1]'),\n",
       " Text(22.581583353264772, 138.92000000000002, 'gini = 0.0\\nsamples = 27\\nvalue = [27, 0]'),\n",
       " Text(54.81238938053098, 163.07999999999998, 'X[0] <= 65.5\\ngini = 0.217\\nsamples = 170\\nvalue = [149, 21]'),\n",
       " Text(39.79803874671132, 151.0, 'X[1] <= 2.5\\ngini = 0.198\\nsamples = 153\\nvalue = [136, 17]'),\n",
       " Text(27.706481702941883, 138.92000000000002, 'X[0] <= 43.5\\ngini = 0.178\\nsamples = 142\\nvalue = [128, 14]'),\n",
       " Text(14.093470461612055, 126.84, 'X[3] <= 2.0\\ngini = 0.34\\nsamples = 23\\nvalue = [18, 5]'),\n",
       " Text(11.5310212867735, 114.75999999999999, 'gini = 0.0\\nsamples = 1\\nvalue = [0, 1]'),\n",
       " Text(16.655919636450612, 114.75999999999999, 'X[0] <= 42.5\\ngini = 0.298\\nsamples = 22\\nvalue = [18, 4]'),\n",
       " Text(10.249796699354222, 102.67999999999999, 'X[1] <= 1.5\\ngini = 0.26\\nsamples = 13\\nvalue = [11, 2]'),\n",
       " Text(5.124898349677111, 90.6, 'X[0] <= 41.5\\ngini = 0.245\\nsamples = 7\\nvalue = [6, 1]'),\n",
       " Text(2.5624491748385556, 78.52000000000001, 'gini = 0.444\\nsamples = 3\\nvalue = [2, 1]'),\n",
       " Text(7.687347524515667, 78.52000000000001, 'gini = 0.0\\nsamples = 4\\nvalue = [4, 0]'),\n",
       " Text(15.374695049031335, 90.6, 'X[0] <= 41.5\\ngini = 0.278\\nsamples = 6\\nvalue = [5, 1]'),\n",
       " Text(12.812245874192778, 78.52000000000001, 'gini = 0.0\\nsamples = 4\\nvalue = [4, 0]'),\n",
       " Text(17.93714422386989, 78.52000000000001, 'gini = 0.5\\nsamples = 2\\nvalue = [1, 1]'),\n",
       " Text(23.062042573547, 102.67999999999999, 'X[1] <= 1.5\\ngini = 0.346\\nsamples = 9\\nvalue = [7, 2]'),\n",
       " Text(20.499593398708445, 90.6, 'gini = 0.375\\nsamples = 4\\nvalue = [3, 1]'),\n",
       " Text(25.624491748385555, 90.6, 'gini = 0.32\\nsamples = 5\\nvalue = [4, 1]'),\n",
       " Text(41.31949294427171, 126.84, 'X[0] <= 48.5\\ngini = 0.14\\nsamples = 119\\nvalue = [110, 9]'),\n",
       " Text(38.75704376943315, 114.75999999999999, 'gini = 0.0\\nsamples = 31\\nvalue = [31, 0]'),\n",
       " Text(43.88194211911026, 114.75999999999999, 'X[0] <= 61.5\\ngini = 0.184\\nsamples = 88\\nvalue = [79, 9]'),\n",
       " Text(41.31949294427171, 102.67999999999999, 'X[0] <= 57.5\\ngini = 0.214\\nsamples = 74\\nvalue = [65, 9]'),\n",
       " Text(30.74939009806267, 90.6, 'X[0] <= 54.5\\ngini = 0.158\\nsamples = 58\\nvalue = [53, 5]'),\n",
       " Text(28.18694092322411, 78.52000000000001, 'X[0] <= 53.5\\ngini = 0.214\\nsamples = 41\\nvalue = [36, 5]'),\n",
       " Text(19.858981104998804, 66.44, 'X[0] <= 50.5\\ngini = 0.165\\nsamples = 33\\nvalue = [30, 3]'),\n",
       " Text(10.890408993063861, 54.359999999999985, 'X[3] <= 2.5\\ngini = 0.231\\nsamples = 15\\nvalue = [13, 2]'),\n",
       " Text(8.327959818225306, 42.28, 'gini = 0.0\\nsamples = 2\\nvalue = [2, 0]'),\n",
       " Text(13.452858167902416, 42.28, 'X[1] <= 1.5\\ngini = 0.26\\nsamples = 13\\nvalue = [11, 2]'),\n",
       " Text(8.327959818225306, 30.19999999999999, 'X[0] <= 49.5\\ngini = 0.18\\nsamples = 10\\nvalue = [9, 1]'),\n",
       " Text(5.76551064338675, 18.120000000000005, 'gini = 0.32\\nsamples = 5\\nvalue = [4, 1]'),\n",
       " Text(10.890408993063861, 18.120000000000005, 'gini = 0.0\\nsamples = 5\\nvalue = [5, 0]'),\n",
       " Text(18.577756517579527, 30.19999999999999, 'X[0] <= 49.5\\ngini = 0.444\\nsamples = 3\\nvalue = [2, 1]'),\n",
       " Text(16.01530734274097, 18.120000000000005, 'gini = 0.0\\nsamples = 1\\nvalue = [1, 0]'),\n",
       " Text(21.140205692418085, 18.120000000000005, 'gini = 0.5\\nsamples = 2\\nvalue = [1, 1]'),\n",
       " Text(28.82755321693375, 54.359999999999985, 'X[0] <= 52.5\\ngini = 0.105\\nsamples = 18\\nvalue = [17, 1]'),\n",
       " Text(26.265104042095196, 42.28, 'gini = 0.0\\nsamples = 8\\nvalue = [8, 0]'),\n",
       " Text(31.390002391772306, 42.28, 'X[1] <= 1.5\\ngini = 0.18\\nsamples = 10\\nvalue = [9, 1]'),\n",
       " Text(28.82755321693375, 30.19999999999999, 'X[3] <= 2.5\\ngini = 0.278\\nsamples = 6\\nvalue = [5, 1]'),\n",
       " Text(26.265104042095196, 18.120000000000005, 'gini = 0.0\\nsamples = 1\\nvalue = [1, 0]'),\n",
       " Text(31.390002391772306, 18.120000000000005, 'gini = 0.32\\nsamples = 5\\nvalue = [4, 1]'),\n",
       " Text(33.95245156661086, 30.19999999999999, 'gini = 0.0\\nsamples = 4\\nvalue = [4, 0]'),\n",
       " Text(36.514900741449416, 66.44, 'X[1] <= 1.5\\ngini = 0.375\\nsamples = 8\\nvalue = [6, 2]'),\n",
       " Text(33.95245156661086, 54.359999999999985, 'gini = 0.278\\nsamples = 6\\nvalue = [5, 1]'),\n",
       " Text(39.07734991628797, 54.359999999999985, 'gini = 0.5\\nsamples = 2\\nvalue = [1, 1]'),\n",
       " Text(33.311839272901224, 78.52000000000001, 'gini = 0.0\\nsamples = 17\\nvalue = [17, 0]'),\n",
       " Text(51.889595790480755, 90.6, 'X[0] <= 60.5\\ngini = 0.375\\nsamples = 16\\nvalue = [12, 4]'),\n",
       " Text(49.32714661564219, 78.52000000000001, 'X[0] <= 59.5\\ngini = 0.337\\nsamples = 14\\nvalue = [11, 3]'),\n",
       " Text(46.76469744080364, 66.44, 'X[3] <= 2.5\\ngini = 0.375\\nsamples = 12\\nvalue = [9, 3]'),\n",
       " Text(44.20224826596508, 54.359999999999985, 'gini = 0.0\\nsamples = 1\\nvalue = [1, 0]'),\n",
       " Text(49.32714661564219, 54.359999999999985, 'X[1] <= 1.5\\ngini = 0.397\\nsamples = 11\\nvalue = [8, 3]'),\n",
       " Text(46.76469744080364, 42.28, 'X[0] <= 58.5\\ngini = 0.32\\nsamples = 5\\nvalue = [4, 1]'),\n",
       " Text(44.20224826596508, 30.19999999999999, 'gini = 0.444\\nsamples = 3\\nvalue = [2, 1]'),\n",
       " Text(49.32714661564219, 30.19999999999999, 'gini = 0.0\\nsamples = 2\\nvalue = [2, 0]'),\n",
       " Text(51.889595790480755, 42.28, 'gini = 0.444\\nsamples = 6\\nvalue = [4, 2]'),\n",
       " Text(51.889595790480755, 66.44, 'gini = 0.0\\nsamples = 2\\nvalue = [2, 0]'),\n",
       " Text(54.45204496531931, 78.52000000000001, 'gini = 0.5\\nsamples = 2\\nvalue = [1, 1]'),\n",
       " Text(46.44439129394882, 102.67999999999999, 'gini = 0.0\\nsamples = 14\\nvalue = [14, 0]'),\n",
       " Text(51.889595790480755, 138.92000000000002, 'X[0] <= 44.0\\ngini = 0.397\\nsamples = 11\\nvalue = [8, 3]'),\n",
       " Text(49.32714661564219, 126.84, 'gini = 0.0\\nsamples = 3\\nvalue = [3, 0]'),\n",
       " Text(54.45204496531931, 126.84, 'X[0] <= 46.5\\ngini = 0.469\\nsamples = 8\\nvalue = [5, 3]'),\n",
       " Text(51.889595790480755, 114.75999999999999, 'gini = 0.0\\nsamples = 2\\nvalue = [0, 2]'),\n",
       " Text(57.014494140157865, 114.75999999999999, 'X[0] <= 55.0\\ngini = 0.278\\nsamples = 6\\nvalue = [5, 1]'),\n",
       " Text(54.45204496531931, 102.67999999999999, 'gini = 0.0\\nsamples = 3\\nvalue = [3, 0]'),\n",
       " Text(59.57694331499642, 102.67999999999999, 'X[0] <= 58.0\\ngini = 0.444\\nsamples = 3\\nvalue = [2, 1]'),\n",
       " Text(57.014494140157865, 90.6, 'gini = 0.0\\nsamples = 1\\nvalue = [0, 1]'),\n",
       " Text(62.139392489834975, 90.6, 'gini = 0.0\\nsamples = 2\\nvalue = [2, 0]'),\n",
       " Text(69.82674001435063, 151.0, 'X[1] <= 1.5\\ngini = 0.36\\nsamples = 17\\nvalue = [13, 4]'),\n",
       " Text(67.26429083951209, 138.92000000000002, 'X[0] <= 68.5\\ngini = 0.5\\nsamples = 8\\nvalue = [4, 4]'),\n",
       " Text(64.70184166467352, 126.84, 'X[0] <= 67.0\\ngini = 0.444\\nsamples = 6\\nvalue = [2, 4]'),\n",
       " Text(62.139392489834975, 114.75999999999999, 'gini = 0.444\\nsamples = 3\\nvalue = [1, 2]'),\n",
       " Text(67.26429083951209, 114.75999999999999, 'gini = 0.444\\nsamples = 3\\nvalue = [1, 2]'),\n",
       " Text(69.82674001435063, 126.84, 'gini = 0.0\\nsamples = 2\\nvalue = [2, 0]'),\n",
       " Text(72.3891891891892, 138.92000000000002, 'gini = 0.0\\nsamples = 9\\nvalue = [9, 0]'),\n",
       " Text(74.95163836402776, 175.16, 'X[3] <= 2.0\\ngini = 0.444\\nsamples = 3\\nvalue = [1, 2]'),\n",
       " Text(72.3891891891892, 163.07999999999998, 'gini = 0.0\\nsamples = 1\\nvalue = [0, 1]'),\n",
       " Text(77.5140875388663, 163.07999999999998, 'X[0] <= 64.0\\ngini = 0.5\\nsamples = 2\\nvalue = [1, 1]'),\n",
       " Text(74.95163836402776, 151.0, 'gini = 0.0\\nsamples = 1\\nvalue = [1, 0]'),\n",
       " Text(80.07653671370487, 151.0, 'gini = 0.0\\nsamples = 1\\nvalue = [0, 1]'),\n",
       " Text(82.63898588854342, 187.24, 'X[0] <= 77.5\\ngini = 0.32\\nsamples = 5\\nvalue = [1, 4]'),\n",
       " Text(80.07653671370487, 175.16, 'gini = 0.0\\nsamples = 3\\nvalue = [0, 3]'),\n",
       " Text(85.20143506338198, 175.16, 'X[1] <= 1.5\\ngini = 0.5\\nsamples = 2\\nvalue = [1, 1]'),\n",
       " Text(82.63898588854342, 163.07999999999998, 'gini = 0.0\\nsamples = 1\\nvalue = [1, 0]'),\n",
       " Text(87.76388423822053, 163.07999999999998, 'gini = 0.0\\nsamples = 1\\nvalue = [0, 1]'),\n",
       " Text(187.22895240373117, 199.32, 'X[0] <= 59.5\\ngini = 0.408\\nsamples = 392\\nvalue = [112, 280]'),\n",
       " Text(122.0366419516862, 187.24, 'X[1] <= 3.5\\ngini = 0.497\\nsamples = 174\\nvalue = [80, 94]'),\n",
       " Text(103.13857928725186, 175.16, 'X[0] <= 53.5\\ngini = 0.417\\nsamples = 54\\nvalue = [38, 16]'),\n",
       " Text(92.88878258789764, 163.07999999999998, 'X[0] <= 44.5\\ngini = 0.334\\nsamples = 33\\nvalue = [26, 7]'),\n",
       " Text(90.32633341305909, 151.0, 'X[1] <= 2.5\\ngini = 0.455\\nsamples = 20\\nvalue = [13, 7]'),\n",
       " Text(82.63898588854342, 138.92000000000002, 'X[2] <= 3.5\\ngini = 0.375\\nsamples = 16\\nvalue = [12, 4]'),\n",
       " Text(80.07653671370487, 126.84, 'gini = 0.0\\nsamples = 9\\nvalue = [9, 0]'),\n",
       " Text(85.20143506338198, 126.84, 'X[0] <= 43.5\\ngini = 0.49\\nsamples = 7\\nvalue = [3, 4]'),\n",
       " Text(82.63898588854342, 114.75999999999999, 'X[3] <= 2.5\\ngini = 0.444\\nsamples = 6\\nvalue = [2, 4]'),\n",
       " Text(80.07653671370487, 102.67999999999999, 'gini = 0.0\\nsamples = 1\\nvalue = [1, 0]'),\n",
       " Text(85.20143506338198, 102.67999999999999, 'X[0] <= 36.5\\ngini = 0.32\\nsamples = 5\\nvalue = [1, 4]'),\n",
       " Text(82.63898588854342, 90.6, 'X[0] <= 34.0\\ngini = 0.5\\nsamples = 2\\nvalue = [1, 1]'),\n",
       " Text(80.07653671370487, 78.52000000000001, 'gini = 0.0\\nsamples = 1\\nvalue = [0, 1]'),\n",
       " Text(85.20143506338198, 78.52000000000001, 'gini = 0.0\\nsamples = 1\\nvalue = [1, 0]'),\n",
       " Text(87.76388423822053, 90.6, 'gini = 0.0\\nsamples = 3\\nvalue = [0, 3]'),\n",
       " Text(87.76388423822053, 114.75999999999999, 'gini = 0.0\\nsamples = 1\\nvalue = [1, 0]'),\n",
       " Text(98.01368093757475, 138.92000000000002, 'X[0] <= 40.5\\ngini = 0.375\\nsamples = 4\\nvalue = [1, 3]'),\n",
       " Text(95.4512317627362, 126.84, 'X[2] <= 3.0\\ngini = 0.5\\nsamples = 2\\nvalue = [1, 1]'),\n",
       " Text(92.88878258789764, 114.75999999999999, 'gini = 0.0\\nsamples = 1\\nvalue = [0, 1]'),\n",
       " Text(98.01368093757475, 114.75999999999999, 'gini = 0.0\\nsamples = 1\\nvalue = [1, 0]'),\n",
       " Text(100.57613011241331, 126.84, 'gini = 0.0\\nsamples = 2\\nvalue = [0, 2]'),\n",
       " Text(95.4512317627362, 151.0, 'gini = 0.0\\nsamples = 13\\nvalue = [13, 0]'),\n",
       " Text(113.38837598660609, 163.07999999999998, 'X[1] <= 1.5\\ngini = 0.49\\nsamples = 21\\nvalue = [12, 9]'),\n",
       " Text(110.82592681176753, 151.0, 'gini = 0.0\\nsamples = 2\\nvalue = [0, 2]'),\n",
       " Text(115.95082516144464, 151.0, 'X[1] <= 2.5\\ngini = 0.465\\nsamples = 19\\nvalue = [12, 7]'),\n",
       " Text(108.26347763692897, 138.92000000000002, 'X[2] <= 3.5\\ngini = 0.355\\nsamples = 13\\nvalue = [10, 3]'),\n",
       " Text(105.70102846209042, 126.84, 'gini = 0.0\\nsamples = 1\\nvalue = [0, 1]'),\n",
       " Text(110.82592681176753, 126.84, 'X[0] <= 58.0\\ngini = 0.278\\nsamples = 12\\nvalue = [10, 2]'),\n",
       " Text(108.26347763692897, 114.75999999999999, 'X[0] <= 56.5\\ngini = 0.198\\nsamples = 9\\nvalue = [8, 1]'),\n",
       " Text(105.70102846209042, 102.67999999999999, 'X[0] <= 55.0\\ngini = 0.32\\nsamples = 5\\nvalue = [4, 1]'),\n",
       " Text(103.13857928725186, 90.6, 'gini = 0.0\\nsamples = 2\\nvalue = [2, 0]'),\n",
       " Text(108.26347763692897, 90.6, 'gini = 0.444\\nsamples = 3\\nvalue = [2, 1]'),\n",
       " Text(110.82592681176753, 102.67999999999999, 'gini = 0.0\\nsamples = 4\\nvalue = [4, 0]'),\n",
       " Text(113.38837598660609, 114.75999999999999, 'gini = 0.444\\nsamples = 3\\nvalue = [2, 1]'),\n",
       " Text(123.63817268596031, 138.92000000000002, 'X[0] <= 58.5\\ngini = 0.444\\nsamples = 6\\nvalue = [2, 4]'),\n",
       " Text(121.07572351112175, 126.84, 'X[3] <= 2.5\\ngini = 0.32\\nsamples = 5\\nvalue = [1, 4]'),\n",
       " Text(118.5132743362832, 114.75999999999999, 'gini = 0.0\\nsamples = 1\\nvalue = [1, 0]'),\n",
       " Text(123.63817268596031, 114.75999999999999, 'gini = 0.0\\nsamples = 4\\nvalue = [0, 4]'),\n",
       " Text(126.20062186079886, 126.84, 'gini = 0.0\\nsamples = 1\\nvalue = [1, 0]'),\n",
       " Text(140.93470461612057, 175.16, 'X[3] <= 3.5\\ngini = 0.455\\nsamples = 120\\nvalue = [42, 78]'),\n",
       " Text(138.372255441282, 163.07999999999998, 'X[0] <= 35.5\\ngini = 0.46\\nsamples = 117\\nvalue = [42, 75]'),\n",
       " Text(131.325520210476, 151.0, 'X[3] <= 2.5\\ngini = 0.48\\nsamples = 5\\nvalue = [3, 2]'),\n",
       " Text(128.7630710356374, 138.92000000000002, 'gini = 0.0\\nsamples = 2\\nvalue = [0, 2]'),\n",
       " Text(133.88796938531453, 138.92000000000002, 'gini = 0.0\\nsamples = 3\\nvalue = [3, 0]'),\n",
       " Text(145.41899067208803, 151.0, 'X[0] <= 41.5\\ngini = 0.454\\nsamples = 112\\nvalue = [39, 73]'),\n",
       " Text(139.01286773499163, 138.92000000000002, 'X[2] <= 3.5\\ngini = 0.219\\nsamples = 8\\nvalue = [1, 7]'),\n",
       " Text(136.45041856015308, 126.84, 'X[0] <= 39.5\\ngini = 0.444\\nsamples = 3\\nvalue = [1, 2]'),\n",
       " Text(133.88796938531453, 114.75999999999999, 'gini = 0.0\\nsamples = 1\\nvalue = [1, 0]'),\n",
       " Text(139.01286773499163, 114.75999999999999, 'gini = 0.0\\nsamples = 2\\nvalue = [0, 2]'),\n",
       " Text(141.5753169098302, 126.84, 'gini = 0.0\\nsamples = 5\\nvalue = [0, 5]'),\n",
       " Text(151.82511360918443, 138.92000000000002, 'X[0] <= 42.5\\ngini = 0.464\\nsamples = 104\\nvalue = [38, 66]'),\n",
       " Text(146.7002152595073, 126.84, 'X[2] <= 4.5\\ngini = 0.444\\nsamples = 3\\nvalue = [2, 1]'),\n",
       " Text(144.13776608466875, 114.75999999999999, 'gini = 0.0\\nsamples = 1\\nvalue = [0, 1]'),\n",
       " Text(149.26266443434585, 114.75999999999999, 'gini = 0.0\\nsamples = 2\\nvalue = [2, 0]'),\n",
       " Text(156.95001195886152, 126.84, 'X[0] <= 43.5\\ngini = 0.459\\nsamples = 101\\nvalue = [36, 65]'),\n",
       " Text(154.38756278402298, 114.75999999999999, 'gini = 0.0\\nsamples = 3\\nvalue = [0, 3]'),\n",
       " Text(159.5124611337001, 114.75999999999999, 'X[2] <= 4.5\\ngini = 0.465\\nsamples = 98\\nvalue = [36, 62]'),\n",
       " Text(130.28452523319783, 102.67999999999999, 'X[0] <= 47.5\\ngini = 0.48\\nsamples = 70\\nvalue = [28, 42]'),\n",
       " Text(119.55426931356136, 90.6, 'X[2] <= 3.5\\ngini = 0.469\\nsamples = 8\\nvalue = [5, 3]'),\n",
       " Text(116.9918201387228, 78.52000000000001, 'X[0] <= 45.5\\ngini = 0.48\\nsamples = 5\\nvalue = [2, 3]'),\n",
       " Text(114.42937096388425, 66.44, 'gini = 0.0\\nsamples = 1\\nvalue = [0, 1]'),\n",
       " Text(119.55426931356136, 66.44, 'gini = 0.5\\nsamples = 4\\nvalue = [2, 2]'),\n",
       " Text(122.11671848839991, 78.52000000000001, 'gini = 0.0\\nsamples = 3\\nvalue = [3, 0]'),\n",
       " Text(141.01478115283427, 90.6, 'X[0] <= 55.5\\ngini = 0.467\\nsamples = 62\\nvalue = [23, 39]'),\n",
       " Text(129.80406601291557, 78.52000000000001, 'X[0] <= 51.5\\ngini = 0.439\\nsamples = 40\\nvalue = [13, 27]'),\n",
       " Text(124.67916766323847, 66.44, 'X[3] <= 2.5\\ngini = 0.492\\nsamples = 16\\nvalue = [7, 9]'),\n",
       " Text(122.11671848839991, 54.359999999999985, 'gini = 0.0\\nsamples = 1\\nvalue = [0, 1]'),\n",
       " Text(127.24161683807702, 54.359999999999985, 'X[0] <= 50.5\\ngini = 0.498\\nsamples = 15\\nvalue = [7, 8]'),\n",
       " Text(124.67916766323847, 42.28, 'X[2] <= 3.5\\ngini = 0.49\\nsamples = 14\\nvalue = [6, 8]'),\n",
       " Text(122.11671848839991, 30.19999999999999, 'gini = 0.0\\nsamples = 2\\nvalue = [0, 2]'),\n",
       " Text(127.24161683807702, 30.19999999999999, 'X[0] <= 49.5\\ngini = 0.5\\nsamples = 12\\nvalue = [6, 6]'),\n",
       " Text(124.67916766323847, 18.120000000000005, 'X[0] <= 48.5\\ngini = 0.496\\nsamples = 11\\nvalue = [5, 6]'),\n",
       " Text(122.11671848839991, 6.039999999999992, 'gini = 0.444\\nsamples = 3\\nvalue = [1, 2]'),\n",
       " Text(127.24161683807702, 6.039999999999992, 'gini = 0.5\\nsamples = 8\\nvalue = [4, 4]'),\n",
       " Text(129.80406601291557, 18.120000000000005, 'gini = 0.0\\nsamples = 1\\nvalue = [1, 0]'),\n",
       " Text(129.80406601291557, 42.28, 'gini = 0.0\\nsamples = 1\\nvalue = [1, 0]'),\n",
       " Text(134.9289643625927, 66.44, 'X[0] <= 52.5\\ngini = 0.375\\nsamples = 24\\nvalue = [6, 18]'),\n",
       " Text(132.36651518775415, 54.359999999999985, 'gini = 0.0\\nsamples = 7\\nvalue = [0, 7]'),\n",
       " Text(137.49141353743124, 54.359999999999985, 'X[0] <= 53.5\\ngini = 0.457\\nsamples = 17\\nvalue = [6, 11]'),\n",
       " Text(134.9289643625927, 42.28, 'gini = 0.0\\nsamples = 3\\nvalue = [3, 0]'),\n",
       " Text(140.05386271226982, 42.28, 'X[2] <= 2.5\\ngini = 0.337\\nsamples = 14\\nvalue = [3, 11]'),\n",
       " Text(137.49141353743124, 30.19999999999999, 'gini = 0.0\\nsamples = 1\\nvalue = [0, 1]'),\n",
       " Text(142.61631188710837, 30.19999999999999, 'X[2] <= 3.5\\ngini = 0.355\\nsamples = 13\\nvalue = [3, 10]'),\n",
       " Text(137.49141353743124, 18.120000000000005, 'X[0] <= 54.5\\ngini = 0.444\\nsamples = 3\\nvalue = [1, 2]'),\n",
       " Text(134.9289643625927, 6.039999999999992, 'gini = 0.0\\nsamples = 1\\nvalue = [1, 0]'),\n",
       " Text(140.05386271226982, 6.039999999999992, 'gini = 0.0\\nsamples = 2\\nvalue = [0, 2]'),\n",
       " Text(147.74121023678546, 18.120000000000005, 'X[0] <= 54.5\\ngini = 0.32\\nsamples = 10\\nvalue = [2, 8]'),\n",
       " Text(145.17876106194691, 6.039999999999992, 'gini = 0.0\\nsamples = 4\\nvalue = [0, 4]'),\n",
       " Text(150.30365941162404, 6.039999999999992, 'gini = 0.444\\nsamples = 6\\nvalue = [2, 4]'),\n",
       " Text(152.22549629275295, 78.52000000000001, 'X[0] <= 56.5\\ngini = 0.496\\nsamples = 22\\nvalue = [10, 12]'),\n",
       " Text(145.17876106194691, 66.44, 'X[2] <= 3.0\\ngini = 0.375\\nsamples = 4\\nvalue = [3, 1]'),\n",
       " Text(142.61631188710837, 54.359999999999985, 'gini = 0.0\\nsamples = 1\\nvalue = [0, 1]'),\n",
       " Text(147.74121023678546, 54.359999999999985, 'gini = 0.0\\nsamples = 3\\nvalue = [3, 0]'),\n",
       " Text(159.272231523559, 66.44, 'X[2] <= 3.5\\ngini = 0.475\\nsamples = 18\\nvalue = [7, 11]'),\n",
       " Text(152.8661085864626, 54.359999999999985, 'X[0] <= 57.5\\ngini = 0.32\\nsamples = 5\\nvalue = [4, 1]'),\n",
       " Text(150.30365941162404, 42.28, 'gini = 0.5\\nsamples = 2\\nvalue = [1, 1]'),\n",
       " Text(155.42855776130114, 42.28, 'gini = 0.0\\nsamples = 3\\nvalue = [3, 0]'),\n",
       " Text(165.67835446065536, 54.359999999999985, 'X[0] <= 57.5\\ngini = 0.355\\nsamples = 13\\nvalue = [3, 10]'),\n",
       " Text(160.55345611097826, 42.28, 'X[3] <= 2.5\\ngini = 0.48\\nsamples = 5\\nvalue = [2, 3]'),\n",
       " Text(157.99100693613968, 30.19999999999999, 'gini = 0.0\\nsamples = 1\\nvalue = [0, 1]'),\n",
       " Text(163.1159052858168, 30.19999999999999, 'gini = 0.5\\nsamples = 4\\nvalue = [2, 2]'),\n",
       " Text(170.80325281033248, 42.28, 'X[0] <= 58.5\\ngini = 0.219\\nsamples = 8\\nvalue = [1, 7]'),\n",
       " Text(168.2408036354939, 30.19999999999999, 'gini = 0.278\\nsamples = 6\\nvalue = [1, 5]'),\n",
       " Text(173.36570198517103, 30.19999999999999, 'gini = 0.0\\nsamples = 2\\nvalue = [0, 2]'),\n",
       " Text(188.74039703420237, 102.67999999999999, 'X[0] <= 46.5\\ngini = 0.408\\nsamples = 28\\nvalue = [8, 20]'),\n",
       " Text(186.1779478593638, 90.6, 'gini = 0.0\\nsamples = 4\\nvalue = [0, 4]'),\n",
       " Text(191.30284620904092, 90.6, 'X[0] <= 53.5\\ngini = 0.444\\nsamples = 24\\nvalue = [8, 16]'),\n",
       " Text(186.1779478593638, 78.52000000000001, 'X[0] <= 52.5\\ngini = 0.497\\nsamples = 13\\nvalue = [6, 7]'),\n",
       " Text(183.61549868452525, 66.44, 'X[0] <= 48.5\\ngini = 0.463\\nsamples = 11\\nvalue = [4, 7]'),\n",
       " Text(178.49060033484815, 54.359999999999985, 'X[0] <= 47.5\\ngini = 0.444\\nsamples = 3\\nvalue = [2, 1]'),\n",
       " Text(175.92815116000958, 42.28, 'gini = 0.5\\nsamples = 2\\nvalue = [1, 1]'),\n",
       " Text(181.0530495096867, 42.28, 'gini = 0.0\\nsamples = 1\\nvalue = [1, 0]'),\n",
       " Text(188.74039703420237, 54.359999999999985, 'X[0] <= 49.5\\ngini = 0.375\\nsamples = 8\\nvalue = [2, 6]'),\n",
       " Text(186.1779478593638, 42.28, 'gini = 0.0\\nsamples = 1\\nvalue = [0, 1]'),\n",
       " Text(191.30284620904092, 42.28, 'X[0] <= 50.5\\ngini = 0.408\\nsamples = 7\\nvalue = [2, 5]'),\n",
       " Text(188.74039703420237, 30.19999999999999, 'gini = 0.444\\nsamples = 3\\nvalue = [1, 2]'),\n",
       " Text(193.86529538387947, 30.19999999999999, 'X[0] <= 51.5\\ngini = 0.375\\nsamples = 4\\nvalue = [1, 3]'),\n",
       " Text(191.30284620904092, 18.120000000000005, 'gini = 0.0\\nsamples = 1\\nvalue = [0, 1]'),\n",
       " Text(196.42774455871802, 18.120000000000005, 'gini = 0.444\\nsamples = 3\\nvalue = [1, 2]'),\n",
       " Text(188.74039703420237, 66.44, 'gini = 0.0\\nsamples = 2\\nvalue = [2, 0]'),\n",
       " Text(196.42774455871802, 78.52000000000001, 'X[0] <= 57.0\\ngini = 0.298\\nsamples = 11\\nvalue = [2, 9]'),\n",
       " Text(193.86529538387947, 66.44, 'gini = 0.0\\nsamples = 4\\nvalue = [0, 4]'),\n",
       " Text(198.9901937335566, 66.44, 'X[0] <= 58.5\\ngini = 0.408\\nsamples = 7\\nvalue = [2, 5]'),\n",
       " Text(196.42774455871802, 54.359999999999985, 'gini = 0.375\\nsamples = 4\\nvalue = [1, 3]'),\n",
       " Text(201.55264290839514, 54.359999999999985, 'gini = 0.444\\nsamples = 3\\nvalue = [1, 2]'),\n",
       " Text(143.49715379095912, 163.07999999999998, 'gini = 0.0\\nsamples = 3\\nvalue = [0, 3]'),\n",
       " Text(252.42126285577615, 187.24, 'X[1] <= 2.5\\ngini = 0.25\\nsamples = 218\\nvalue = [32, 186]'),\n",
       " Text(205.39631667065296, 175.16, 'X[2] <= 3.5\\ngini = 0.488\\nsamples = 26\\nvalue = [11, 15]'),\n",
       " Text(198.9901937335566, 163.07999999999998, 'X[2] <= 2.5\\ngini = 0.32\\nsamples = 5\\nvalue = [4, 1]'),\n",
       " Text(196.42774455871802, 151.0, 'gini = 0.0\\nsamples = 1\\nvalue = [0, 1]'),\n",
       " Text(201.55264290839514, 151.0, 'gini = 0.0\\nsamples = 4\\nvalue = [4, 0]'),\n",
       " Text(211.80243960774936, 163.07999999999998, 'X[0] <= 68.0\\ngini = 0.444\\nsamples = 21\\nvalue = [7, 14]'),\n",
       " Text(206.67754125807224, 151.0, 'X[0] <= 66.5\\ngini = 0.497\\nsamples = 13\\nvalue = [6, 7]'),\n",
       " Text(204.1150920832337, 138.92000000000002, 'X[0] <= 61.5\\ngini = 0.463\\nsamples = 11\\nvalue = [4, 7]'),\n",
       " Text(201.55264290839514, 126.84, 'gini = 0.0\\nsamples = 2\\nvalue = [0, 2]'),\n",
       " Text(206.67754125807224, 126.84, 'X[0] <= 64.5\\ngini = 0.494\\nsamples = 9\\nvalue = [4, 5]'),\n",
       " Text(204.1150920832337, 114.75999999999999, 'X[2] <= 4.5\\ngini = 0.49\\nsamples = 7\\nvalue = [4, 3]'),\n",
       " Text(201.55264290839514, 102.67999999999999, 'X[1] <= 1.5\\ngini = 0.444\\nsamples = 6\\nvalue = [4, 2]'),\n",
       " Text(198.9901937335566, 90.6, 'gini = 0.0\\nsamples = 1\\nvalue = [1, 0]'),\n",
       " Text(204.1150920832337, 90.6, 'X[0] <= 63.0\\ngini = 0.48\\nsamples = 5\\nvalue = [3, 2]'),\n",
       " Text(201.55264290839514, 78.52000000000001, 'gini = 0.5\\nsamples = 2\\nvalue = [1, 1]'),\n",
       " Text(206.67754125807224, 78.52000000000001, 'gini = 0.444\\nsamples = 3\\nvalue = [2, 1]'),\n",
       " Text(206.67754125807224, 102.67999999999999, 'gini = 0.0\\nsamples = 1\\nvalue = [0, 1]'),\n",
       " Text(209.23999043291082, 114.75999999999999, 'gini = 0.0\\nsamples = 2\\nvalue = [0, 2]'),\n",
       " Text(209.23999043291082, 138.92000000000002, 'gini = 0.0\\nsamples = 2\\nvalue = [2, 0]'),\n",
       " Text(216.92733795742646, 151.0, 'X[1] <= 1.5\\ngini = 0.219\\nsamples = 8\\nvalue = [1, 7]'),\n",
       " Text(214.3648887825879, 138.92000000000002, 'gini = 0.0\\nsamples = 5\\nvalue = [0, 5]'),\n",
       " Text(219.48978713226504, 138.92000000000002, 'X[0] <= 71.5\\ngini = 0.444\\nsamples = 3\\nvalue = [1, 2]'),\n",
       " Text(216.92733795742646, 126.84, 'gini = 0.0\\nsamples = 1\\nvalue = [0, 1]'),\n",
       " Text(222.05223630710358, 126.84, 'X[2] <= 4.5\\ngini = 0.5\\nsamples = 2\\nvalue = [1, 1]'),\n",
       " Text(219.48978713226504, 114.75999999999999, 'gini = 0.0\\nsamples = 1\\nvalue = [1, 0]'),\n",
       " Text(224.61468548194213, 114.75999999999999, 'gini = 0.0\\nsamples = 1\\nvalue = [0, 1]'),\n",
       " Text(299.44620904089936, 175.16, 'X[3] <= 3.5\\ngini = 0.195\\nsamples = 192\\nvalue = [21, 171]'),\n",
       " Text(279.46711313082994, 163.07999999999998, 'X[0] <= 69.5\\ngini = 0.188\\nsamples = 190\\nvalue = [20, 170]'),\n",
       " Text(247.19626883520692, 151.0, 'X[1] <= 3.5\\ngini = 0.245\\nsamples = 105\\nvalue = [15, 90]'),\n",
       " Text(234.86448218129635, 138.92000000000002, 'X[2] <= 4.5\\ngini = 0.415\\nsamples = 17\\nvalue = [5, 12]'),\n",
       " Text(232.3020330064578, 126.84, 'X[3] <= 2.5\\ngini = 0.459\\nsamples = 14\\nvalue = [5, 9]'),\n",
       " Text(229.73958383161926, 114.75999999999999, 'gini = 0.0\\nsamples = 1\\nvalue = [0, 1]'),\n",
       " Text(234.86448218129635, 114.75999999999999, 'X[0] <= 65.5\\ngini = 0.473\\nsamples = 13\\nvalue = [5, 8]'),\n",
       " Text(228.45835924419998, 102.67999999999999, 'X[0] <= 63.0\\ngini = 0.42\\nsamples = 10\\nvalue = [3, 7]'),\n",
       " Text(223.33346089452286, 90.6, 'X[2] <= 3.5\\ngini = 0.5\\nsamples = 4\\nvalue = [2, 2]'),\n",
       " Text(220.7710117196843, 78.52000000000001, 'gini = 0.5\\nsamples = 2\\nvalue = [1, 1]'),\n",
       " Text(225.8959100693614, 78.52000000000001, 'gini = 0.5\\nsamples = 2\\nvalue = [1, 1]'),\n",
       " Text(233.58325759387708, 90.6, 'X[0] <= 64.5\\ngini = 0.278\\nsamples = 6\\nvalue = [1, 5]'),\n",
       " Text(231.02080841903853, 78.52000000000001, 'gini = 0.0\\nsamples = 2\\nvalue = [0, 2]'),\n",
       " Text(236.14570676871563, 78.52000000000001, 'X[2] <= 3.5\\ngini = 0.375\\nsamples = 4\\nvalue = [1, 3]'),\n",
       " Text(233.58325759387708, 66.44, 'gini = 0.444\\nsamples = 3\\nvalue = [1, 2]'),\n",
       " Text(238.7081559435542, 66.44, 'gini = 0.0\\nsamples = 1\\nvalue = [0, 1]'),\n",
       " Text(241.27060511839275, 102.67999999999999, 'X[0] <= 67.5\\ngini = 0.444\\nsamples = 3\\nvalue = [2, 1]'),\n",
       " Text(238.7081559435542, 90.6, 'gini = 0.0\\nsamples = 1\\nvalue = [1, 0]'),\n",
       " Text(243.8330542932313, 90.6, 'gini = 0.5\\nsamples = 2\\nvalue = [1, 1]'),\n",
       " Text(237.42693135613493, 126.84, 'gini = 0.0\\nsamples = 3\\nvalue = [0, 3]'),\n",
       " Text(259.52805548911743, 138.92000000000002, 'X[2] <= 3.5\\ngini = 0.201\\nsamples = 88\\nvalue = [10, 78]'),\n",
       " Text(246.39550346806988, 126.84, 'X[0] <= 65.0\\ngini = 0.1\\nsamples = 19\\nvalue = [1, 18]'),\n",
       " Text(243.8330542932313, 114.75999999999999, 'gini = 0.0\\nsamples = 9\\nvalue = [0, 9]'),\n",
       " Text(248.95795264290842, 114.75999999999999, 'X[0] <= 66.5\\ngini = 0.18\\nsamples = 10\\nvalue = [1, 9]'),\n",
       " Text(246.39550346806988, 102.67999999999999, 'gini = 0.444\\nsamples = 3\\nvalue = [1, 2]'),\n",
       " Text(251.52040181774697, 102.67999999999999, 'gini = 0.0\\nsamples = 7\\nvalue = [0, 7]'),\n",
       " Text(272.66060751016505, 126.84, 'X[0] <= 64.5\\ngini = 0.227\\nsamples = 69\\nvalue = [9, 60]'),\n",
       " Text(259.2077493422626, 114.75999999999999, 'X[3] <= 2.5\\ngini = 0.302\\nsamples = 27\\nvalue = [5, 22]'),\n",
       " Text(256.64530016742407, 102.67999999999999, 'gini = 0.0\\nsamples = 2\\nvalue = [0, 2]'),\n",
       " Text(261.7701985171012, 102.67999999999999, 'X[0] <= 63.5\\ngini = 0.32\\nsamples = 25\\nvalue = [5, 20]'),\n",
       " Text(255.3640755800048, 90.6, 'X[0] <= 60.5\\ngini = 0.278\\nsamples = 18\\nvalue = [3, 15]'),\n",
       " Text(250.2391772303277, 78.52000000000001, 'X[2] <= 4.5\\ngini = 0.375\\nsamples = 4\\nvalue = [1, 3]'),\n",
       " Text(247.67672805548915, 66.44, 'gini = 0.0\\nsamples = 2\\nvalue = [0, 2]'),\n",
       " Text(252.80162640516625, 66.44, 'gini = 0.5\\nsamples = 2\\nvalue = [1, 1]'),\n",
       " Text(260.48897392968195, 78.52000000000001, 'X[2] <= 4.5\\ngini = 0.245\\nsamples = 14\\nvalue = [2, 12]'),\n",
       " Text(257.92652475484334, 66.44, 'X[0] <= 61.5\\ngini = 0.32\\nsamples = 10\\nvalue = [2, 8]'),\n",
       " Text(255.3640755800048, 54.359999999999985, 'gini = 0.0\\nsamples = 1\\nvalue = [0, 1]'),\n",
       " Text(260.48897392968195, 54.359999999999985, 'X[0] <= 62.5\\ngini = 0.346\\nsamples = 9\\nvalue = [2, 7]'),\n",
       " Text(257.92652475484334, 42.28, 'gini = 0.444\\nsamples = 3\\nvalue = [1, 2]'),\n",
       " Text(263.0514231045205, 42.28, 'gini = 0.278\\nsamples = 6\\nvalue = [1, 5]'),\n",
       " Text(263.0514231045205, 66.44, 'gini = 0.0\\nsamples = 4\\nvalue = [0, 4]'),\n",
       " Text(268.1763214541976, 90.6, 'X[2] <= 4.5\\ngini = 0.408\\nsamples = 7\\nvalue = [2, 5]'),\n",
       " Text(265.61387227935904, 78.52000000000001, 'gini = 0.375\\nsamples = 4\\nvalue = [1, 3]'),\n",
       " Text(270.73877062903614, 78.52000000000001, 'gini = 0.444\\nsamples = 3\\nvalue = [1, 2]'),\n",
       " Text(286.1134656780675, 114.75999999999999, 'X[2] <= 4.5\\ngini = 0.172\\nsamples = 42\\nvalue = [4, 38]'),\n",
       " Text(283.55101650322894, 102.67999999999999, 'X[0] <= 67.5\\ngini = 0.26\\nsamples = 26\\nvalue = [4, 22]'),\n",
       " Text(278.4261181535518, 90.6, 'X[0] <= 65.5\\ngini = 0.188\\nsamples = 19\\nvalue = [2, 17]'),\n",
       " Text(275.86366897871324, 78.52000000000001, 'gini = 0.0\\nsamples = 2\\nvalue = [0, 2]'),\n",
       " Text(280.9885673283904, 78.52000000000001, 'X[3] <= 2.0\\ngini = 0.208\\nsamples = 17\\nvalue = [2, 15]'),\n",
       " Text(278.4261181535518, 66.44, 'gini = 0.0\\nsamples = 1\\nvalue = [0, 1]'),\n",
       " Text(283.55101650322894, 66.44, 'X[0] <= 66.5\\ngini = 0.219\\nsamples = 16\\nvalue = [2, 14]'),\n",
       " Text(280.9885673283904, 54.359999999999985, 'gini = 0.219\\nsamples = 8\\nvalue = [1, 7]'),\n",
       " Text(286.1134656780675, 54.359999999999985, 'gini = 0.219\\nsamples = 8\\nvalue = [1, 7]'),\n",
       " Text(288.67591485290603, 90.6, 'X[0] <= 68.5\\ngini = 0.408\\nsamples = 7\\nvalue = [2, 5]'),\n",
       " Text(286.1134656780675, 78.52000000000001, 'gini = 0.444\\nsamples = 6\\nvalue = [2, 4]'),\n",
       " Text(291.2383640277446, 78.52000000000001, 'gini = 0.0\\nsamples = 1\\nvalue = [0, 1]'),\n",
       " Text(288.67591485290603, 102.67999999999999, 'gini = 0.0\\nsamples = 16\\nvalue = [0, 16]'),\n",
       " Text(311.737957426453, 151.0, 'X[0] <= 83.5\\ngini = 0.111\\nsamples = 85\\nvalue = [5, 80]'),\n",
       " Text(301.48816072709883, 138.92000000000002, 'X[2] <= 2.5\\ngini = 0.081\\nsamples = 71\\nvalue = [3, 68]'),\n",
       " Text(296.3632623774217, 126.84, 'X[0] <= 75.0\\ngini = 0.375\\nsamples = 4\\nvalue = [1, 3]'),\n",
       " Text(293.80081320258313, 114.75999999999999, 'gini = 0.0\\nsamples = 3\\nvalue = [0, 3]'),\n",
       " Text(298.9257115522602, 114.75999999999999, 'gini = 0.0\\nsamples = 1\\nvalue = [1, 0]'),\n",
       " Text(306.6130590767759, 126.84, 'X[0] <= 76.5\\ngini = 0.058\\nsamples = 67\\nvalue = [2, 65]'),\n",
       " Text(304.0506099019374, 114.75999999999999, 'X[0] <= 75.5\\ngini = 0.093\\nsamples = 41\\nvalue = [2, 39]'),\n",
       " Text(296.3632623774217, 102.67999999999999, 'X[2] <= 4.5\\ngini = 0.059\\nsamples = 33\\nvalue = [1, 32]'),\n",
       " Text(293.80081320258313, 90.6, 'gini = 0.0\\nsamples = 23\\nvalue = [0, 23]'),\n",
       " Text(298.9257115522602, 90.6, 'X[0] <= 71.5\\ngini = 0.18\\nsamples = 10\\nvalue = [1, 9]'),\n",
       " Text(296.3632623774217, 78.52000000000001, 'X[0] <= 70.5\\ngini = 0.32\\nsamples = 5\\nvalue = [1, 4]'),\n",
       " Text(293.80081320258313, 66.44, 'gini = 0.0\\nsamples = 1\\nvalue = [0, 1]'),\n",
       " Text(298.9257115522602, 66.44, 'X[3] <= 2.5\\ngini = 0.375\\nsamples = 4\\nvalue = [1, 3]'),\n",
       " Text(296.3632623774217, 54.359999999999985, 'gini = 0.0\\nsamples = 1\\nvalue = [0, 1]'),\n",
       " Text(301.48816072709883, 54.359999999999985, 'gini = 0.444\\nsamples = 3\\nvalue = [1, 2]'),\n",
       " Text(301.48816072709883, 78.52000000000001, 'gini = 0.0\\nsamples = 5\\nvalue = [0, 5]'),\n",
       " Text(311.737957426453, 102.67999999999999, 'X[2] <= 4.5\\ngini = 0.219\\nsamples = 8\\nvalue = [1, 7]'),\n",
       " Text(309.1755082516145, 90.6, 'X[2] <= 3.5\\ngini = 0.278\\nsamples = 6\\nvalue = [1, 5]'),\n",
       " Text(306.6130590767759, 78.52000000000001, 'gini = 0.0\\nsamples = 1\\nvalue = [0, 1]'),\n",
       " Text(311.737957426453, 78.52000000000001, 'gini = 0.32\\nsamples = 5\\nvalue = [1, 4]'),\n",
       " Text(314.30040660129157, 90.6, 'gini = 0.0\\nsamples = 2\\nvalue = [0, 2]'),\n",
       " Text(309.1755082516145, 114.75999999999999, 'gini = 0.0\\nsamples = 26\\nvalue = [0, 26]'),\n",
       " Text(321.98775412580727, 138.92000000000002, 'X[0] <= 84.5\\ngini = 0.245\\nsamples = 14\\nvalue = [2, 12]'),\n",
       " Text(316.8628557761301, 126.84, 'X[2] <= 3.5\\ngini = 0.5\\nsamples = 2\\nvalue = [1, 1]'),\n",
       " Text(314.30040660129157, 114.75999999999999, 'gini = 0.0\\nsamples = 1\\nvalue = [0, 1]'),\n",
       " Text(319.4253049509687, 114.75999999999999, 'gini = 0.0\\nsamples = 1\\nvalue = [1, 0]'),\n",
       " Text(327.11265247548437, 126.84, 'X[0] <= 86.5\\ngini = 0.153\\nsamples = 12\\nvalue = [1, 11]'),\n",
       " Text(324.5502033006458, 114.75999999999999, 'X[0] <= 85.5\\ngini = 0.245\\nsamples = 7\\nvalue = [1, 6]'),\n",
       " Text(321.98775412580727, 102.67999999999999, 'gini = 0.0\\nsamples = 4\\nvalue = [0, 4]'),\n",
       " Text(327.11265247548437, 102.67999999999999, 'X[1] <= 3.5\\ngini = 0.444\\nsamples = 3\\nvalue = [1, 2]'),\n",
       " Text(324.5502033006458, 90.6, 'gini = 0.0\\nsamples = 1\\nvalue = [0, 1]'),\n",
       " Text(329.6751016503229, 90.6, 'X[2] <= 4.5\\ngini = 0.5\\nsamples = 2\\nvalue = [1, 1]'),\n",
       " Text(327.11265247548437, 78.52000000000001, 'gini = 0.0\\nsamples = 1\\nvalue = [1, 0]'),\n",
       " Text(332.23755082516146, 78.52000000000001, 'gini = 0.0\\nsamples = 1\\nvalue = [0, 1]'),\n",
       " Text(329.6751016503229, 114.75999999999999, 'gini = 0.0\\nsamples = 5\\nvalue = [0, 5]'),\n",
       " Text(319.4253049509687, 163.07999999999998, 'X[2] <= 3.5\\ngini = 0.5\\nsamples = 2\\nvalue = [1, 1]'),\n",
       " Text(316.8628557761301, 151.0, 'gini = 0.0\\nsamples = 1\\nvalue = [1, 0]'),\n",
       " Text(321.98775412580727, 151.0, 'gini = 0.0\\nsamples = 1\\nvalue = [0, 1]')]"
      ]
     },
     "execution_count": 26,
     "metadata": {},
     "output_type": "execute_result"
    },
    {
     "data": {
      "image/png": "[encoded data removed]",
      "text/plain": [
       "<Figure size 432x288 with 1 Axes>"
      ]
     },
     "metadata": {
      "needs_background": "light"
     },
     "output_type": "display_data"
    }
   ],
   "source": [
    "tree.plot_tree(classifier)"
   ]
  },
  {
   "cell_type": "markdown",
   "metadata": {},
   "source": [
    "Measure the accuracy of the resulting decision tree model using your test data."
   ]
  },
  {
   "cell_type": "code",
   "execution_count": 31,
   "metadata": {},
   "outputs": [
    {
     "data": {
      "text/plain": [
       "0.7037037037037037"
      ]
     },
     "execution_count": 31,
     "metadata": {},
     "output_type": "execute_result"
    }
   ],
   "source": [
    "predicted = classifier.predict(x_test)\n",
    "# accuracy_score(y_test, predicted)\n",
    "classifier.score(x_test, y_test)"
   ]
  },
  {
   "cell_type": "markdown",
   "metadata": {},
   "source": [
    "Now instead of a single train/test split, use K-Fold cross validation to get a better measure of your model's accuracy (K=10). Hint: use model_selection.cross_val_score"
   ]
  },
  {
   "cell_type": "code",
   "execution_count": 52,
   "metadata": {},
   "outputs": [
    {
     "name": "stdout",
     "output_type": "stream",
     "text": [
      "[0.71428571 0.76190476 0.75       0.73493976 0.77108434 0.69879518\n",
      " 0.72289157 0.76829268 0.7804878  0.68292683]\n",
      "0.7385608636637141\n"
     ]
    }
   ],
   "source": [
    "\n",
    "scores = cross_val_score(tree.DecisionTreeClassifier(), features, classes, cv=10)\n",
    "print(scores)\n",
    "print(scores.mean())"
   ]
  },
  {
   "cell_type": "markdown",
   "metadata": {},
   "source": [
    "Now try a RandomForestClassifier instead. Does it perform better?"
   ]
  },
  {
   "cell_type": "code",
   "execution_count": 69,
   "metadata": {},
   "outputs": [
    {
     "name": "stdout",
     "output_type": "stream",
     "text": [
      "0.7195767195767195\n",
      "[0.72619048 0.80952381 0.78571429 0.73493976 0.81927711 0.71084337\n",
      " 0.78313253 0.79268293 0.74390244 0.65853659]\n",
      "0.7564743293732421\n"
     ]
    }
   ],
   "source": [
    "classifier = RandomForestClassifier(n_estimators=10)\n",
    "classifier = classifier.fit(x_train, y_train)\n",
    "print(classifier.score(x_test, y_test))\n",
    "\n",
    "scores = cross_val_score(classifier, features, classes, cv=10)\n",
    "print(scores)\n",
    "print(scores.mean())"
   ]
  },
  {
   "cell_type": "code",
   "execution_count": null,
   "metadata": {},
   "outputs": [],
   "source": [
    "classifier.p"
   ]
  },
  {
   "cell_type": "markdown",
   "metadata": {},
   "source": [
    "## SVM\n",
    "\n",
    "Next try using svm.SVC with a linear kernel. How does it compare to the decision tree?"
   ]
  },
  {
   "cell_type": "code",
   "execution_count": null,
   "metadata": {},
   "outputs": [],
   "source": []
  },
  {
   "cell_type": "code",
   "execution_count": null,
   "metadata": {},
   "outputs": [],
   "source": []
  },
  {
   "cell_type": "markdown",
   "metadata": {},
   "source": [
    "## KNN\n",
    "How about K-Nearest-Neighbors? Hint: use neighbors.KNeighborsClassifier - it's a lot easier than implementing KNN from scratch like we did earlier in the course. Start with a K of 10. K is an example of a hyperparameter - a parameter on the model itself which may need to be tuned for best results on your particular data set."
   ]
  },
  {
   "cell_type": "code",
   "execution_count": null,
   "metadata": {},
   "outputs": [],
   "source": []
  },
  {
   "cell_type": "markdown",
   "metadata": {},
   "source": [
    "Choosing K is tricky, so we can't discard KNN until we've tried different values of K. Write a for loop to run KNN with K values ranging from 1 to 50 and see if K makes a substantial difference. Make a note of the best performance you could get out of KNN."
   ]
  },
  {
   "cell_type": "code",
   "execution_count": null,
   "metadata": {},
   "outputs": [],
   "source": []
  },
  {
   "cell_type": "markdown",
   "metadata": {},
   "source": [
    "## Naive Bayes\n",
    "\n",
    "Now try naive_bayes.MultinomialNB. How does its accuracy stack up? Hint: you'll need to use MinMaxScaler to get the features in the range MultinomialNB requires."
   ]
  },
  {
   "cell_type": "code",
   "execution_count": null,
   "metadata": {},
   "outputs": [],
   "source": []
  },
  {
   "cell_type": "markdown",
   "metadata": {},
   "source": [
    "## Revisiting SVM\n",
    "\n",
    "svm.SVC may perform differently with different kernels. The choice of kernel is an example of a \"hyperparamter.\" Try the rbf, sigmoid, and poly kernels and see what the best-performing kernel is. Do we have a new winner?"
   ]
  },
  {
   "cell_type": "code",
   "execution_count": null,
   "metadata": {},
   "outputs": [],
   "source": []
  },
  {
   "cell_type": "code",
   "execution_count": null,
   "metadata": {},
   "outputs": [],
   "source": []
  },
  {
   "cell_type": "code",
   "execution_count": null,
   "metadata": {},
   "outputs": [],
   "source": []
  },
  {
   "cell_type": "markdown",
   "metadata": {},
   "source": [
    "## Logistic Regression\n",
    "\n",
    "We've tried all these fancy techniques, but fundamentally this is just a binary classification problem. Try Logisitic Regression, which is a simple way to tackling this sort of thing."
   ]
  },
  {
   "cell_type": "code",
   "execution_count": null,
   "metadata": {
    "collapsed": true
   },
   "outputs": [],
   "source": []
  },
  {
   "cell_type": "code",
   "execution_count": null,
   "metadata": {
    "collapsed": true
   },
   "outputs": [],
   "source": []
  },
  {
   "cell_type": "code",
   "execution_count": null,
   "metadata": {
    "collapsed": true
   },
   "outputs": [],
   "source": []
  },
  {
   "cell_type": "markdown",
   "metadata": {},
   "source": [
    "## Neural Networks\n",
    "\n",
    "As a bonus challenge, let's see if an artificial neural network can do even better. You can use Keras to set up a neural network with 1 binary output neuron and see how it performs. Don't be afraid to run a large number of epochs to train the model if necessary."
   ]
  },
  {
   "cell_type": "code",
   "execution_count": null,
   "metadata": {},
   "outputs": [],
   "source": []
  },
  {
   "cell_type": "code",
   "execution_count": null,
   "metadata": {},
   "outputs": [],
   "source": []
  },
  {
   "cell_type": "code",
   "execution_count": null,
   "metadata": {},
   "outputs": [],
   "source": []
  },
  {
   "cell_type": "code",
   "execution_count": null,
   "metadata": {},
   "outputs": [],
   "source": []
  },
  {
   "cell_type": "markdown",
   "metadata": {
    "collapsed": true
   },
   "source": [
    "## Do we have a winner?\n",
    "\n",
    "Which model, and which choice of hyperparameters, performed the best? Feel free to share your results!"
   ]
  },
  {
   "cell_type": "code",
   "execution_count": null,
   "metadata": {
    "collapsed": true
   },
   "outputs": [],
   "source": []
  }
 ],
 "metadata": {
  "kernelspec": {
   "display_name": "Python 3",
   "language": "python",
   "name": "python3"
  },
  "language_info": {
   "codemirror_mode": {
    "name": "ipython",
    "version": 3
   },
   "file_extension": ".py",
   "mimetype": "text/x-python",
   "name": "python",
   "nbconvert_exporter": "python",
   "pygments_lexer": "ipython3",
   "version": "3.7.4"
  }
 },
 "nbformat": 4,
 "nbformat_minor": 2
}
