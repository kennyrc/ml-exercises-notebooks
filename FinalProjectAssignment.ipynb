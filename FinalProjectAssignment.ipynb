{
 "cells": [
  {
   "cell_type": "markdown",
   "metadata": {},
   "source": [
    "# Final Project\n",
    "\n",
    "## Predict whether a mammogram mass is benign or malignant\n",
    "\n",
    "We'll be using the \"mammographic masses\" public dataset from the UCI repository (source: https://archive.ics.uci.edu/ml/datasets/Mammographic+Mass)\n",
    "\n",
    "This data contains 961 instances of masses detected in mammograms, and contains the following attributes:\n",
    "\n",
    "\n",
    "   1. BI-RADS assessment: 1 to 5 (ordinal)  \n",
    "   2. Age: patient's age in years (integer)\n",
    "   3. Shape: mass shape: round=1 oval=2 lobular=3 irregular=4 (nominal)\n",
    "   4. Margin: mass margin: circumscribed=1 microlobulated=2 obscured=3 ill-defined=4 spiculated=5 (nominal)\n",
    "   5. Density: mass density high=1 iso=2 low=3 fat-containing=4 (ordinal)\n",
    "   6. Severity: benign=0 or malignant=1 (binominal)\n",
    "   \n",
    "BI-RADS is an assesment of how confident the severity classification is; it is not a \"predictive\" attribute and so we will discard it. The age, shape, margin, and density attributes are the features that we will build our model with, and \"severity\" is the classification we will attempt to predict based on those attributes.\n",
    "\n",
    "Although \"shape\" and \"margin\" are nominal data types, which sklearn typically doesn't deal with well, they are close enough to ordinal that we shouldn't just discard them. The \"shape\" for example is ordered increasingly from round to irregular.\n",
    "\n",
    "A lot of unnecessary anguish and surgery arises from false positives arising from mammogram results. If we can build a better way to interpret them through supervised machine learning, it could improve a lot of lives.\n",
    "\n",
    "## Your assignment\n",
    "\n",
    "Apply several different supervised machine learning techniques to this data set, and see which one yields the highest accuracy as measured with K-Fold cross validation (K=10). Apply:\n",
    "\n",
    "* Decision tree\n",
    "* Random forest\n",
    "* KNN\n",
    "* Naive Bayes\n",
    "* SVM\n",
    "* Logistic Regression\n",
    "* And, as a bonus challenge, a neural network using Keras.\n",
    "\n",
    "The data needs to be cleaned; many rows contain missing data, and there may be erroneous data identifiable as outliers as well.\n",
    "\n",
    "Remember some techniques such as SVM also require the input data to be normalized first.\n",
    "\n",
    "Many techniques also have \"hyperparameters\" that need to be tuned. Once you identify a promising approach, see if you can make it even better by tuning its hyperparameters.\n",
    "\n",
    "I was able to achieve over 80% accuracy - can you beat that?\n",
    "\n",
    "Below I've set up an outline of a notebook for this project, with some guidance and hints. If you're up for a real challenge, try doing this project from scratch in a new, clean notebook!\n"
   ]
  },
  {
   "cell_type": "markdown",
   "metadata": {},
   "source": [
    "## Let's begin: prepare your data\n",
    "\n",
    "Start by importing the mammographic_masses.data.txt file into a Pandas dataframe (hint: use read_csv) and take a look at it."
   ]
  },
  {
   "cell_type": "code",
   "execution_count": 21,
   "metadata": {},
   "outputs": [],
   "source": [
    "import pandas as pd\n",
    "import matplotlib.pyplot as plt\n",
    "import sklearn\n",
    "from sklearn.preprocessing import StandardScaler\n",
    "import numpy as np\n",
    "from sklearn.metrics import accuracy_score\n",
    "from sklearn.model_selection import cross_val_score\n",
    "from sklearn.ensemble import RandomForestClassifier\n",
    "from sklearn import tree\n",
    "from sklearn.svm import SVC"
   ]
  },
  {
   "cell_type": "code",
   "execution_count": null,
   "metadata": {},
   "outputs": [],
   "source": []
  },
  {
   "cell_type": "markdown",
   "metadata": {},
   "source": [
    "Make sure you use the optional parmaters in read_csv to convert missing data (indicated by a ?) into NaN, and to add the appropriate column names (BI_RADS, age, shape, margin, density, and severity):"
   ]
  },
  {
   "cell_type": "code",
   "execution_count": 2,
   "metadata": {},
   "outputs": [
    {
     "data": {
      "text/html": [
       "<div>\n",
       "<style scoped>\n",
       "    .dataframe tbody tr th:only-of-type {\n",
       "        vertical-align: middle;\n",
       "    }\n",
       "\n",
       "    .dataframe tbody tr th {\n",
       "        vertical-align: top;\n",
       "    }\n",
       "\n",
       "    .dataframe thead th {\n",
       "        text-align: right;\n",
       "    }\n",
       "</style>\n",
       "<table border=\"1\" class=\"dataframe\">\n",
       "  <thead>\n",
       "    <tr style=\"text-align: right;\">\n",
       "      <th></th>\n",
       "      <th>bi_rads</th>\n",
       "      <th>age</th>\n",
       "      <th>shape</th>\n",
       "      <th>margin</th>\n",
       "      <th>density</th>\n",
       "      <th>severity</th>\n",
       "    </tr>\n",
       "  </thead>\n",
       "  <tbody>\n",
       "    <tr>\n",
       "      <td>0</td>\n",
       "      <td>5.0</td>\n",
       "      <td>67.0</td>\n",
       "      <td>3.0</td>\n",
       "      <td>5.0</td>\n",
       "      <td>3.0</td>\n",
       "      <td>1</td>\n",
       "    </tr>\n",
       "    <tr>\n",
       "      <td>1</td>\n",
       "      <td>4.0</td>\n",
       "      <td>43.0</td>\n",
       "      <td>1.0</td>\n",
       "      <td>1.0</td>\n",
       "      <td>NaN</td>\n",
       "      <td>1</td>\n",
       "    </tr>\n",
       "    <tr>\n",
       "      <td>2</td>\n",
       "      <td>5.0</td>\n",
       "      <td>58.0</td>\n",
       "      <td>4.0</td>\n",
       "      <td>5.0</td>\n",
       "      <td>3.0</td>\n",
       "      <td>1</td>\n",
       "    </tr>\n",
       "    <tr>\n",
       "      <td>3</td>\n",
       "      <td>4.0</td>\n",
       "      <td>28.0</td>\n",
       "      <td>1.0</td>\n",
       "      <td>1.0</td>\n",
       "      <td>3.0</td>\n",
       "      <td>0</td>\n",
       "    </tr>\n",
       "    <tr>\n",
       "      <td>4</td>\n",
       "      <td>5.0</td>\n",
       "      <td>74.0</td>\n",
       "      <td>1.0</td>\n",
       "      <td>5.0</td>\n",
       "      <td>NaN</td>\n",
       "      <td>1</td>\n",
       "    </tr>\n",
       "  </tbody>\n",
       "</table>\n",
       "</div>"
      ],
      "text/plain": [
       "   bi_rads   age  shape  margin  density  severity\n",
       "0      5.0  67.0    3.0     5.0      3.0         1\n",
       "1      4.0  43.0    1.0     1.0      NaN         1\n",
       "2      5.0  58.0    4.0     5.0      3.0         1\n",
       "3      4.0  28.0    1.0     1.0      3.0         0\n",
       "4      5.0  74.0    1.0     5.0      NaN         1"
      ]
     },
     "execution_count": 2,
     "metadata": {},
     "output_type": "execute_result"
    }
   ],
   "source": [
    "df = pd.read_csv(\"mammographic_masses.data.txt\",\n",
    "                 na_values=\"?\",\n",
    "                 names=(\"bi_rads\", \"age\", \"shape\", \"margin\", \"density\", \"severity\"))\n",
    "df.head()"
   ]
  },
  {
   "cell_type": "markdown",
   "metadata": {},
   "source": [
    "Evaluate whether the data needs cleaning; your model is only as good as the data it's given. Hint: use describe() on the dataframe."
   ]
  },
  {
   "cell_type": "code",
   "execution_count": 3,
   "metadata": {},
   "outputs": [
    {
     "data": {
      "text/html": [
       "<div>\n",
       "<style scoped>\n",
       "    .dataframe tbody tr th:only-of-type {\n",
       "        vertical-align: middle;\n",
       "    }\n",
       "\n",
       "    .dataframe tbody tr th {\n",
       "        vertical-align: top;\n",
       "    }\n",
       "\n",
       "    .dataframe thead th {\n",
       "        text-align: right;\n",
       "    }\n",
       "</style>\n",
       "<table border=\"1\" class=\"dataframe\">\n",
       "  <thead>\n",
       "    <tr style=\"text-align: right;\">\n",
       "      <th></th>\n",
       "      <th>bi_rads</th>\n",
       "      <th>age</th>\n",
       "      <th>shape</th>\n",
       "      <th>margin</th>\n",
       "      <th>density</th>\n",
       "      <th>severity</th>\n",
       "    </tr>\n",
       "  </thead>\n",
       "  <tbody>\n",
       "    <tr>\n",
       "      <td>count</td>\n",
       "      <td>959.000000</td>\n",
       "      <td>956.000000</td>\n",
       "      <td>930.000000</td>\n",
       "      <td>913.000000</td>\n",
       "      <td>885.000000</td>\n",
       "      <td>961.000000</td>\n",
       "    </tr>\n",
       "    <tr>\n",
       "      <td>mean</td>\n",
       "      <td>4.348279</td>\n",
       "      <td>55.487448</td>\n",
       "      <td>2.721505</td>\n",
       "      <td>2.796276</td>\n",
       "      <td>2.910734</td>\n",
       "      <td>0.463059</td>\n",
       "    </tr>\n",
       "    <tr>\n",
       "      <td>std</td>\n",
       "      <td>1.783031</td>\n",
       "      <td>14.480131</td>\n",
       "      <td>1.242792</td>\n",
       "      <td>1.566546</td>\n",
       "      <td>0.380444</td>\n",
       "      <td>0.498893</td>\n",
       "    </tr>\n",
       "    <tr>\n",
       "      <td>min</td>\n",
       "      <td>0.000000</td>\n",
       "      <td>18.000000</td>\n",
       "      <td>1.000000</td>\n",
       "      <td>1.000000</td>\n",
       "      <td>1.000000</td>\n",
       "      <td>0.000000</td>\n",
       "    </tr>\n",
       "    <tr>\n",
       "      <td>25%</td>\n",
       "      <td>4.000000</td>\n",
       "      <td>45.000000</td>\n",
       "      <td>2.000000</td>\n",
       "      <td>1.000000</td>\n",
       "      <td>3.000000</td>\n",
       "      <td>0.000000</td>\n",
       "    </tr>\n",
       "    <tr>\n",
       "      <td>50%</td>\n",
       "      <td>4.000000</td>\n",
       "      <td>57.000000</td>\n",
       "      <td>3.000000</td>\n",
       "      <td>3.000000</td>\n",
       "      <td>3.000000</td>\n",
       "      <td>0.000000</td>\n",
       "    </tr>\n",
       "    <tr>\n",
       "      <td>75%</td>\n",
       "      <td>5.000000</td>\n",
       "      <td>66.000000</td>\n",
       "      <td>4.000000</td>\n",
       "      <td>4.000000</td>\n",
       "      <td>3.000000</td>\n",
       "      <td>1.000000</td>\n",
       "    </tr>\n",
       "    <tr>\n",
       "      <td>max</td>\n",
       "      <td>55.000000</td>\n",
       "      <td>96.000000</td>\n",
       "      <td>4.000000</td>\n",
       "      <td>5.000000</td>\n",
       "      <td>4.000000</td>\n",
       "      <td>1.000000</td>\n",
       "    </tr>\n",
       "  </tbody>\n",
       "</table>\n",
       "</div>"
      ],
      "text/plain": [
       "          bi_rads         age       shape      margin     density    severity\n",
       "count  959.000000  956.000000  930.000000  913.000000  885.000000  961.000000\n",
       "mean     4.348279   55.487448    2.721505    2.796276    2.910734    0.463059\n",
       "std      1.783031   14.480131    1.242792    1.566546    0.380444    0.498893\n",
       "min      0.000000   18.000000    1.000000    1.000000    1.000000    0.000000\n",
       "25%      4.000000   45.000000    2.000000    1.000000    3.000000    0.000000\n",
       "50%      4.000000   57.000000    3.000000    3.000000    3.000000    0.000000\n",
       "75%      5.000000   66.000000    4.000000    4.000000    3.000000    1.000000\n",
       "max     55.000000   96.000000    4.000000    5.000000    4.000000    1.000000"
      ]
     },
     "execution_count": 3,
     "metadata": {},
     "output_type": "execute_result"
    }
   ],
   "source": [
    "df.describe()\n"
   ]
  },
  {
   "cell_type": "markdown",
   "metadata": {},
   "source": [
    "There are quite a few missing values in the data set. Before we just drop every row that's missing data, let's make sure we don't bias our data in doing so. Does there appear to be any sort of correlation to what sort of data has missing fields? If there were, we'd have to try and go back and fill that data in."
   ]
  },
  {
   "cell_type": "code",
   "execution_count": 4,
   "metadata": {},
   "outputs": [
    {
     "data": {
      "text/html": [
       "<div>\n",
       "<style scoped>\n",
       "    .dataframe tbody tr th:only-of-type {\n",
       "        vertical-align: middle;\n",
       "    }\n",
       "\n",
       "    .dataframe tbody tr th {\n",
       "        vertical-align: top;\n",
       "    }\n",
       "\n",
       "    .dataframe thead th {\n",
       "        text-align: right;\n",
       "    }\n",
       "</style>\n",
       "<table border=\"1\" class=\"dataframe\">\n",
       "  <thead>\n",
       "    <tr style=\"text-align: right;\">\n",
       "      <th></th>\n",
       "      <th>bi_rads</th>\n",
       "      <th>age</th>\n",
       "      <th>shape</th>\n",
       "      <th>margin</th>\n",
       "      <th>density</th>\n",
       "      <th>severity</th>\n",
       "    </tr>\n",
       "  </thead>\n",
       "  <tbody>\n",
       "    <tr>\n",
       "      <td>bi_rads</td>\n",
       "      <td>1.000000</td>\n",
       "      <td>-0.003303</td>\n",
       "      <td>0.120896</td>\n",
       "      <td>0.094349</td>\n",
       "      <td>-0.013383</td>\n",
       "      <td>NaN</td>\n",
       "    </tr>\n",
       "    <tr>\n",
       "      <td>age</td>\n",
       "      <td>-0.003303</td>\n",
       "      <td>1.000000</td>\n",
       "      <td>-0.013204</td>\n",
       "      <td>-0.016582</td>\n",
       "      <td>-0.021193</td>\n",
       "      <td>NaN</td>\n",
       "    </tr>\n",
       "    <tr>\n",
       "      <td>shape</td>\n",
       "      <td>0.120896</td>\n",
       "      <td>-0.013204</td>\n",
       "      <td>1.000000</td>\n",
       "      <td>0.228499</td>\n",
       "      <td>0.033791</td>\n",
       "      <td>NaN</td>\n",
       "    </tr>\n",
       "    <tr>\n",
       "      <td>margin</td>\n",
       "      <td>0.094349</td>\n",
       "      <td>-0.016582</td>\n",
       "      <td>0.228499</td>\n",
       "      <td>1.000000</td>\n",
       "      <td>0.216018</td>\n",
       "      <td>NaN</td>\n",
       "    </tr>\n",
       "    <tr>\n",
       "      <td>density</td>\n",
       "      <td>-0.013383</td>\n",
       "      <td>-0.021193</td>\n",
       "      <td>0.033791</td>\n",
       "      <td>0.216018</td>\n",
       "      <td>1.000000</td>\n",
       "      <td>NaN</td>\n",
       "    </tr>\n",
       "    <tr>\n",
       "      <td>severity</td>\n",
       "      <td>NaN</td>\n",
       "      <td>NaN</td>\n",
       "      <td>NaN</td>\n",
       "      <td>NaN</td>\n",
       "      <td>NaN</td>\n",
       "      <td>NaN</td>\n",
       "    </tr>\n",
       "  </tbody>\n",
       "</table>\n",
       "</div>"
      ],
      "text/plain": [
       "           bi_rads       age     shape    margin   density  severity\n",
       "bi_rads   1.000000 -0.003303  0.120896  0.094349 -0.013383       NaN\n",
       "age      -0.003303  1.000000 -0.013204 -0.016582 -0.021193       NaN\n",
       "shape     0.120896 -0.013204  1.000000  0.228499  0.033791       NaN\n",
       "margin    0.094349 -0.016582  0.228499  1.000000  0.216018       NaN\n",
       "density  -0.013383 -0.021193  0.033791  0.216018  1.000000       NaN\n",
       "severity       NaN       NaN       NaN       NaN       NaN       NaN"
      ]
     },
     "execution_count": 4,
     "metadata": {},
     "output_type": "execute_result"
    }
   ],
   "source": [
    "df_nulls = df.isnull().astype(int)\n",
    "df_nulls.corr()"
   ]
  },
  {
   "cell_type": "code",
   "execution_count": 5,
   "metadata": {},
   "outputs": [
    {
     "data": {
      "image/png": "[encoded data removed]",
      "text/plain": [
       "<Figure size 432x288 with 1 Axes>"
      ]
     },
     "metadata": {
      "needs_background": "light"
     },
     "output_type": "display_data"
    }
   ],
   "source": [
    "axes = plt.gca()\n",
    "df_nulls.plot(kind=\"line\", y=\"shape\",ax=axes)\n",
    "df_nulls.plot(kind=\"line\", y=\"margin\",ax=axes)\n",
    "df_nulls.plot(kind=\"line\", y=\"density\",ax=axes)\n",
    "\n",
    "plt.show()"
   ]
  },
  {
   "cell_type": "markdown",
   "metadata": {},
   "source": [
    "If the missing data seems randomly distributed, go ahead and drop rows with missing data. Hint: use dropna()."
   ]
  },
  {
   "cell_type": "code",
   "execution_count": 6,
   "metadata": {},
   "outputs": [
    {
     "name": "stdout",
     "output_type": "stream",
     "text": [
      "(961, 6)\n",
      "(830, 6)\n"
     ]
    }
   ],
   "source": [
    "print(df.shape)\n",
    "df_cleaned = df.dropna()\n",
    "print(df_cleaned.shape)"
   ]
  },
  {
   "cell_type": "markdown",
   "metadata": {
    "collapsed": true
   },
   "source": [
    "Next you'll need to convert the Pandas dataframes into numpy arrays that can be used by scikit_learn. Create an array that extracts only the feature data we want to work with (age, shape, margin, and density) and another array that contains the classes (severity). You'll also need an array of the feature name labels."
   ]
  },
  {
   "cell_type": "code",
   "execution_count": 7,
   "metadata": {},
   "outputs": [],
   "source": [
    "# features\n",
    "df_features = df_cleaned[[\"age\", \"shape\", \"margin\", \"density\"]]\n",
    "feature_labels = df_features.columns.to_numpy()\n",
    "features = df_features.to_numpy()\n",
    "classes = df_cleaned[\"severity\"].to_numpy()"
   ]
  },
  {
   "cell_type": "markdown",
   "metadata": {},
   "source": [
    "Some of our models require the input data to be normalized, so go ahead and normalize the attribute data. Hint: use preprocessing.StandardScaler()."
   ]
  },
  {
   "cell_type": "code",
   "execution_count": 8,
   "metadata": {},
   "outputs": [],
   "source": [
    "scaler = StandardScaler()\n",
    "scaler.fit(features)\n",
    "#print(scaler.mean_)\n",
    "scaled_features = scaler.transform(features)\n",
    "#print(scaled_features[:5])\n",
    "#print(features[:5])"
   ]
  },
  {
   "cell_type": "markdown",
   "metadata": {},
   "source": [
    "## Decision Trees\n",
    "\n",
    "Before moving to K-Fold cross validation and random forests, start by creating a single train/test split of our data. Set aside 75% for training, and 25% for testing."
   ]
  },
  {
   "cell_type": "code",
   "execution_count": 11,
   "metadata": {},
   "outputs": [],
   "source": [
    "mask = np.random.rand(len(classes)) < 0.75\n",
    "x_train, x_test = scaled_features[mask], scaled_features[~mask]\n",
    "y_train, y_test = classes[mask], classes[~mask]\n",
    "#print(len(x_train))\n",
    "#print(len(y_test))"
   ]
  },
  {
   "cell_type": "markdown",
   "metadata": {},
   "source": [
    "Now create a DecisionTreeClassifier and fit it to your training data."
   ]
  },
  {
   "cell_type": "code",
   "execution_count": 12,
   "metadata": {},
   "outputs": [],
   "source": [
    "dt_classifier = tree.DecisionTreeClassifier()\n",
    "dt_classifier = dt_classifier.fit(x_train, y_train)"
   ]
  },
  {
   "cell_type": "markdown",
   "metadata": {},
   "source": [
    "Display the resulting decision tree."
   ]
  },
  {
   "cell_type": "code",
   "execution_count": 13,
   "metadata": {},
   "outputs": [
    {
     "data": {
      "text/plain": [
       "[Text(138.20500429553266, 211.4, 'X[2] <= -0.838\\ngini = 0.499\\nsamples = 622\\nvalue = [321, 301]'),\n",
       " Text(55.53367697594502, 199.32, 'X[0] <= 0.799\\ngini = 0.222\\nsamples = 252\\nvalue = [220, 32]'),\n",
       " Text(25.162199312714776, 187.24, 'X[0] <= -1.11\\ngini = 0.181\\nsamples = 228\\nvalue = [205, 23]'),\n",
       " Text(5.454295532646048, 175.16, 'X[0] <= -1.52\\ngini = 0.055\\nsamples = 71\\nvalue = [69, 2]'),\n",
       " Text(2.727147766323024, 163.07999999999998, 'gini = 0.0\\nsamples = 42\\nvalue = [42, 0]'),\n",
       " Text(8.181443298969072, 163.07999999999998, 'X[0] <= -1.383\\ngini = 0.128\\nsamples = 29\\nvalue = [27, 2]'),\n",
       " Text(5.454295532646048, 151.0, 'X[1] <= -1.032\\ngini = 0.298\\nsamples = 11\\nvalue = [9, 2]'),\n",
       " Text(2.727147766323024, 138.92000000000002, 'gini = 0.0\\nsamples = 4\\nvalue = [4, 0]'),\n",
       " Text(8.181443298969072, 138.92000000000002, 'X[3] <= -1.185\\ngini = 0.408\\nsamples = 7\\nvalue = [5, 2]'),\n",
       " Text(5.454295532646048, 126.84, 'gini = 0.0\\nsamples = 1\\nvalue = [1, 0]'),\n",
       " Text(10.908591065292097, 126.84, 'X[0] <= -1.451\\ngini = 0.444\\nsamples = 6\\nvalue = [4, 2]'),\n",
       " Text(8.181443298969072, 114.75999999999999, 'gini = 0.444\\nsamples = 3\\nvalue = [2, 1]'),\n",
       " Text(13.635738831615122, 114.75999999999999, 'gini = 0.444\\nsamples = 3\\nvalue = [2, 1]'),\n",
       " Text(10.908591065292097, 151.0, 'gini = 0.0\\nsamples = 18\\nvalue = [18, 0]'),\n",
       " Text(44.87010309278351, 175.16, 'X[3] <= -4.036\\ngini = 0.232\\nsamples = 157\\nvalue = [136, 21]'),\n",
       " Text(36.64604810996563, 163.07999999999998, 'X[0] <= -0.872\\ngini = 0.48\\nsamples = 5\\nvalue = [3, 2]'),\n",
       " Text(33.91890034364261, 151.0, 'gini = 0.0\\nsamples = 2\\nvalue = [0, 2]'),\n",
       " Text(39.37319587628866, 151.0, 'gini = 0.0\\nsamples = 3\\nvalue = [3, 0]'),\n",
       " Text(53.09415807560138, 163.07999999999998, 'X[0] <= 0.254\\ngini = 0.219\\nsamples = 152\\nvalue = [133, 19]'),\n",
       " Text(44.82749140893471, 151.0, 'X[0] <= 0.185\\ngini = 0.245\\nsamples = 119\\nvalue = [102, 17]'),\n",
       " Text(36.475601374570445, 138.92000000000002, 'X[0] <= -0.087\\ngini = 0.22\\nsamples = 111\\nvalue = [97, 14]'),\n",
       " Text(27.953264604810997, 126.84, 'X[1] <= -1.032\\ngini = 0.249\\nsamples = 89\\nvalue = [76, 13]'),\n",
       " Text(19.090034364261168, 114.75999999999999, 'X[0] <= -0.224\\ngini = 0.18\\nsamples = 50\\nvalue = [45, 5]'),\n",
       " Text(12.272164948453609, 102.67999999999999, 'X[0] <= -0.974\\ngini = 0.097\\nsamples = 39\\nvalue = [37, 2]'),\n",
       " Text(6.817869415807561, 90.6, 'X[0] <= -1.042\\ngini = 0.278\\nsamples = 6\\nvalue = [5, 1]'),\n",
       " Text(4.090721649484536, 78.52000000000001, 'gini = 0.0\\nsamples = 2\\nvalue = [2, 0]'),\n",
       " Text(9.545017182130584, 78.52000000000001, 'gini = 0.375\\nsamples = 4\\nvalue = [3, 1]'),\n",
       " Text(17.726460481099657, 90.6, 'X[0] <= -0.497\\ngini = 0.059\\nsamples = 33\\nvalue = [32, 1]'),\n",
       " Text(14.999312714776632, 78.52000000000001, 'gini = 0.0\\nsamples = 23\\nvalue = [23, 0]'),\n",
       " Text(20.453608247422682, 78.52000000000001, 'X[0] <= -0.428\\ngini = 0.18\\nsamples = 10\\nvalue = [9, 1]'),\n",
       " Text(17.726460481099657, 66.44, 'gini = 0.444\\nsamples = 3\\nvalue = [2, 1]'),\n",
       " Text(23.180756013745704, 66.44, 'gini = 0.0\\nsamples = 7\\nvalue = [7, 0]'),\n",
       " Text(25.90790378006873, 102.67999999999999, 'X[0] <= -0.156\\ngini = 0.397\\nsamples = 11\\nvalue = [8, 3]'),\n",
       " Text(23.180756013745704, 90.6, 'gini = 0.48\\nsamples = 5\\nvalue = [3, 2]'),\n",
       " Text(28.635051546391754, 90.6, 'gini = 0.278\\nsamples = 6\\nvalue = [5, 1]'),\n",
       " Text(36.81649484536083, 114.75999999999999, 'X[0] <= -0.974\\ngini = 0.326\\nsamples = 39\\nvalue = [31, 8]'),\n",
       " Text(34.0893470790378, 102.67999999999999, 'gini = 0.0\\nsamples = 5\\nvalue = [5, 0]'),\n",
       " Text(39.54364261168385, 102.67999999999999, 'X[0] <= -0.633\\ngini = 0.36\\nsamples = 34\\nvalue = [26, 8]'),\n",
       " Text(34.0893470790378, 90.6, 'X[3] <= -1.185\\ngini = 0.444\\nsamples = 18\\nvalue = [12, 6]'),\n",
       " Text(31.36219931271478, 78.52000000000001, 'gini = 0.0\\nsamples = 3\\nvalue = [3, 0]'),\n",
       " Text(36.81649484536083, 78.52000000000001, 'X[1] <= -0.227\\ngini = 0.48\\nsamples = 15\\nvalue = [9, 6]'),\n",
       " Text(34.0893470790378, 66.44, 'X[0] <= -0.838\\ngini = 0.426\\nsamples = 13\\nvalue = [9, 4]'),\n",
       " Text(28.635051546391754, 54.359999999999985, 'X[0] <= -0.906\\ngini = 0.49\\nsamples = 7\\nvalue = [4, 3]'),\n",
       " Text(25.90790378006873, 42.28, 'gini = 0.5\\nsamples = 4\\nvalue = [2, 2]'),\n",
       " Text(31.36219931271478, 42.28, 'gini = 0.444\\nsamples = 3\\nvalue = [2, 1]'),\n",
       " Text(39.54364261168385, 54.359999999999985, 'X[0] <= -0.769\\ngini = 0.278\\nsamples = 6\\nvalue = [5, 1]'),\n",
       " Text(36.81649484536083, 42.28, 'gini = 0.0\\nsamples = 1\\nvalue = [1, 0]'),\n",
       " Text(42.27079037800687, 42.28, 'X[0] <= -0.701\\ngini = 0.32\\nsamples = 5\\nvalue = [4, 1]'),\n",
       " Text(39.54364261168385, 30.19999999999999, 'gini = 0.375\\nsamples = 4\\nvalue = [3, 1]'),\n",
       " Text(44.9979381443299, 30.19999999999999, 'gini = 0.0\\nsamples = 1\\nvalue = [1, 0]'),\n",
       " Text(39.54364261168385, 66.44, 'gini = 0.0\\nsamples = 2\\nvalue = [0, 2]'),\n",
       " Text(44.9979381443299, 90.6, 'X[0] <= -0.428\\ngini = 0.219\\nsamples = 16\\nvalue = [14, 2]'),\n",
       " Text(42.27079037800687, 78.52000000000001, 'gini = 0.0\\nsamples = 9\\nvalue = [9, 0]'),\n",
       " Text(47.72508591065292, 78.52000000000001, 'X[0] <= -0.292\\ngini = 0.408\\nsamples = 7\\nvalue = [5, 2]'),\n",
       " Text(44.9979381443299, 66.44, 'gini = 0.5\\nsamples = 2\\nvalue = [1, 1]'),\n",
       " Text(50.45223367697594, 66.44, 'X[0] <= -0.156\\ngini = 0.32\\nsamples = 5\\nvalue = [4, 1]'),\n",
       " Text(47.72508591065292, 54.359999999999985, 'gini = 0.0\\nsamples = 2\\nvalue = [2, 0]'),\n",
       " Text(53.17938144329897, 54.359999999999985, 'X[1] <= -0.227\\ngini = 0.444\\nsamples = 3\\nvalue = [2, 1]'),\n",
       " Text(50.45223367697594, 42.28, 'gini = 0.5\\nsamples = 2\\nvalue = [1, 1]'),\n",
       " Text(55.90652920962199, 42.28, 'gini = 0.0\\nsamples = 1\\nvalue = [1, 0]'),\n",
       " Text(44.9979381443299, 126.84, 'X[0] <= 0.117\\ngini = 0.087\\nsamples = 22\\nvalue = [21, 1]'),\n",
       " Text(42.27079037800687, 114.75999999999999, 'gini = 0.0\\nsamples = 17\\nvalue = [17, 0]'),\n",
       " Text(47.72508591065292, 114.75999999999999, 'X[1] <= -1.032\\ngini = 0.32\\nsamples = 5\\nvalue = [4, 1]'),\n",
       " Text(44.9979381443299, 102.67999999999999, 'gini = 0.444\\nsamples = 3\\nvalue = [2, 1]'),\n",
       " Text(50.45223367697594, 102.67999999999999, 'gini = 0.0\\nsamples = 2\\nvalue = [2, 0]'),\n",
       " Text(53.17938144329897, 138.92000000000002, 'X[1] <= -1.032\\ngini = 0.469\\nsamples = 8\\nvalue = [5, 3]'),\n",
       " Text(50.45223367697594, 126.84, 'gini = 0.0\\nsamples = 2\\nvalue = [2, 0]'),\n",
       " Text(55.90652920962199, 126.84, 'gini = 0.5\\nsamples = 6\\nvalue = [3, 3]'),\n",
       " Text(61.36082474226804, 151.0, 'X[0] <= 0.595\\ngini = 0.114\\nsamples = 33\\nvalue = [31, 2]'),\n",
       " Text(58.63367697594502, 138.92000000000002, 'gini = 0.0\\nsamples = 23\\nvalue = [23, 0]'),\n",
       " Text(64.08797250859106, 138.92000000000002, 'X[1] <= -1.032\\ngini = 0.32\\nsamples = 10\\nvalue = [8, 2]'),\n",
       " Text(61.36082474226804, 126.84, 'X[0] <= 0.663\\ngini = 0.48\\nsamples = 5\\nvalue = [3, 2]'),\n",
       " Text(58.63367697594502, 114.75999999999999, 'gini = 0.0\\nsamples = 1\\nvalue = [0, 1]'),\n",
       " Text(64.08797250859106, 114.75999999999999, 'X[0] <= 0.731\\ngini = 0.375\\nsamples = 4\\nvalue = [3, 1]'),\n",
       " Text(61.36082474226804, 102.67999999999999, 'gini = 0.444\\nsamples = 3\\nvalue = [2, 1]'),\n",
       " Text(66.8151202749141, 102.67999999999999, 'gini = 0.0\\nsamples = 1\\nvalue = [1, 0]'),\n",
       " Text(66.8151202749141, 126.84, 'gini = 0.0\\nsamples = 5\\nvalue = [5, 0]'),\n",
       " Text(85.90515463917527, 187.24, 'X[0] <= 0.867\\ngini = 0.469\\nsamples = 24\\nvalue = [15, 9]'),\n",
       " Text(80.45085910652921, 175.16, 'X[1] <= -1.032\\ngini = 0.375\\nsamples = 4\\nvalue = [1, 3]'),\n",
       " Text(77.7237113402062, 163.07999999999998, 'gini = 0.0\\nsamples = 3\\nvalue = [0, 3]'),\n",
       " Text(83.17800687285224, 163.07999999999998, 'gini = 0.0\\nsamples = 1\\nvalue = [1, 0]'),\n",
       " Text(91.35945017182131, 175.16, 'X[0] <= 1.89\\ngini = 0.42\\nsamples = 20\\nvalue = [14, 6]'),\n",
       " Text(88.63230240549828, 163.07999999999998, 'X[0] <= 1.311\\ngini = 0.388\\nsamples = 19\\nvalue = [14, 5]'),\n",
       " Text(85.90515463917527, 151.0, 'X[0] <= 1.208\\ngini = 0.444\\nsamples = 15\\nvalue = [10, 5]'),\n",
       " Text(80.45085910652921, 138.92000000000002, 'X[0] <= 1.072\\ngini = 0.298\\nsamples = 11\\nvalue = [9, 2]'),\n",
       " Text(77.7237113402062, 126.84, 'X[1] <= -0.227\\ngini = 0.375\\nsamples = 8\\nvalue = [6, 2]'),\n",
       " Text(74.99656357388317, 114.75999999999999, 'X[0] <= 1.004\\ngini = 0.444\\nsamples = 6\\nvalue = [4, 2]'),\n",
       " Text(72.26941580756014, 102.67999999999999, 'X[0] <= 0.936\\ngini = 0.32\\nsamples = 5\\nvalue = [4, 1]'),\n",
       " Text(69.54226804123712, 90.6, 'X[1] <= -1.032\\ngini = 0.444\\nsamples = 3\\nvalue = [2, 1]'),\n",
       " Text(66.8151202749141, 78.52000000000001, 'gini = 0.0\\nsamples = 1\\nvalue = [1, 0]'),\n",
       " Text(72.26941580756014, 78.52000000000001, 'gini = 0.5\\nsamples = 2\\nvalue = [1, 1]'),\n",
       " Text(74.99656357388317, 90.6, 'gini = 0.0\\nsamples = 2\\nvalue = [2, 0]'),\n",
       " Text(77.7237113402062, 102.67999999999999, 'gini = 0.0\\nsamples = 1\\nvalue = [0, 1]'),\n",
       " Text(80.45085910652921, 114.75999999999999, 'gini = 0.0\\nsamples = 2\\nvalue = [2, 0]'),\n",
       " Text(83.17800687285224, 126.84, 'gini = 0.0\\nsamples = 3\\nvalue = [3, 0]'),\n",
       " Text(91.35945017182131, 138.92000000000002, 'X[1] <= -1.032\\ngini = 0.375\\nsamples = 4\\nvalue = [1, 3]'),\n",
       " Text(88.63230240549828, 126.84, 'gini = 0.0\\nsamples = 2\\nvalue = [0, 2]'),\n",
       " Text(94.08659793814434, 126.84, 'X[3] <= -1.185\\ngini = 0.5\\nsamples = 2\\nvalue = [1, 1]'),\n",
       " Text(91.35945017182131, 114.75999999999999, 'gini = 0.0\\nsamples = 1\\nvalue = [1, 0]'),\n",
       " Text(96.81374570446735, 114.75999999999999, 'gini = 0.0\\nsamples = 1\\nvalue = [0, 1]'),\n",
       " Text(91.35945017182131, 151.0, 'gini = 0.0\\nsamples = 4\\nvalue = [4, 0]'),\n",
       " Text(94.08659793814434, 163.07999999999998, 'gini = 0.0\\nsamples = 1\\nvalue = [0, 1]'),\n",
       " Text(220.87633161512028, 199.32, 'X[0] <= 0.799\\ngini = 0.397\\nsamples = 370\\nvalue = [101, 269]'),\n",
       " Text(136.95128865979382, 187.24, 'X[1] <= -0.227\\ngini = 0.457\\nsamples = 257\\nvalue = [91, 166]'),\n",
       " Text(110.44948453608248, 175.16, 'X[0] <= -0.053\\ngini = 0.449\\nsamples = 44\\nvalue = [29, 15]'),\n",
       " Text(102.26804123711341, 163.07999999999998, 'X[0] <= -1.451\\ngini = 0.245\\nsamples = 21\\nvalue = [18, 3]'),\n",
       " Text(99.54089347079038, 151.0, 'gini = 0.0\\nsamples = 1\\nvalue = [0, 1]'),\n",
       " Text(104.99518900343642, 151.0, 'X[0] <= -0.838\\ngini = 0.18\\nsamples = 20\\nvalue = [18, 2]'),\n",
       " Text(102.26804123711341, 138.92000000000002, 'X[2] <= 0.438\\ngini = 0.346\\nsamples = 9\\nvalue = [7, 2]'),\n",
       " Text(99.54089347079038, 126.84, 'gini = 0.0\\nsamples = 6\\nvalue = [6, 0]'),\n",
       " Text(104.99518900343642, 126.84, 'X[3] <= -1.185\\ngini = 0.444\\nsamples = 3\\nvalue = [1, 2]'),\n",
       " Text(102.26804123711341, 114.75999999999999, 'gini = 0.0\\nsamples = 1\\nvalue = [1, 0]'),\n",
       " Text(107.72233676975945, 114.75999999999999, 'gini = 0.0\\nsamples = 2\\nvalue = [0, 2]'),\n",
       " Text(107.72233676975945, 138.92000000000002, 'gini = 0.0\\nsamples = 11\\nvalue = [11, 0]'),\n",
       " Text(118.63092783505155, 163.07999999999998, 'X[2] <= 1.077\\ngini = 0.499\\nsamples = 23\\nvalue = [11, 12]'),\n",
       " Text(115.90378006872852, 151.0, 'X[1] <= -1.032\\ngini = 0.495\\nsamples = 20\\nvalue = [11, 9]'),\n",
       " Text(113.17663230240551, 138.92000000000002, 'gini = 0.0\\nsamples = 3\\nvalue = [3, 0]'),\n",
       " Text(118.63092783505155, 138.92000000000002, 'X[3] <= -1.185\\ngini = 0.498\\nsamples = 17\\nvalue = [8, 9]'),\n",
       " Text(115.90378006872852, 126.84, 'gini = 0.0\\nsamples = 2\\nvalue = [2, 0]'),\n",
       " Text(121.35807560137458, 126.84, 'X[0] <= 0.595\\ngini = 0.48\\nsamples = 15\\nvalue = [6, 9]'),\n",
       " Text(118.63092783505155, 114.75999999999999, 'X[0] <= 0.049\\ngini = 0.5\\nsamples = 12\\nvalue = [6, 6]'),\n",
       " Text(115.90378006872852, 102.67999999999999, 'gini = 0.0\\nsamples = 2\\nvalue = [0, 2]'),\n",
       " Text(121.35807560137458, 102.67999999999999, 'X[0] <= 0.288\\ngini = 0.48\\nsamples = 10\\nvalue = [6, 4]'),\n",
       " Text(115.90378006872852, 90.6, 'X[0] <= 0.151\\ngini = 0.32\\nsamples = 5\\nvalue = [4, 1]'),\n",
       " Text(113.17663230240551, 78.52000000000001, 'gini = 0.0\\nsamples = 2\\nvalue = [2, 0]'),\n",
       " Text(118.63092783505155, 78.52000000000001, 'gini = 0.444\\nsamples = 3\\nvalue = [2, 1]'),\n",
       " Text(126.81237113402062, 90.6, 'X[0] <= 0.492\\ngini = 0.48\\nsamples = 5\\nvalue = [2, 3]'),\n",
       " Text(124.0852233676976, 78.52000000000001, 'X[0] <= 0.39\\ngini = 0.375\\nsamples = 4\\nvalue = [1, 3]'),\n",
       " Text(121.35807560137458, 66.44, 'gini = 0.0\\nsamples = 1\\nvalue = [0, 1]'),\n",
       " Text(126.81237113402062, 66.44, 'gini = 0.444\\nsamples = 3\\nvalue = [1, 2]'),\n",
       " Text(129.53951890034364, 78.52000000000001, 'gini = 0.0\\nsamples = 1\\nvalue = [1, 0]'),\n",
       " Text(124.0852233676976, 114.75999999999999, 'gini = 0.0\\nsamples = 3\\nvalue = [0, 3]'),\n",
       " Text(121.35807560137458, 151.0, 'gini = 0.0\\nsamples = 3\\nvalue = [0, 3]'),\n",
       " Text(163.45309278350516, 175.16, 'X[0] <= -1.417\\ngini = 0.413\\nsamples = 213\\nvalue = [62, 151]'),\n",
       " Text(129.53951890034364, 163.07999999999998, 'X[0] <= -1.656\\ngini = 0.469\\nsamples = 8\\nvalue = [5, 3]'),\n",
       " Text(126.81237113402062, 151.0, 'gini = 0.0\\nsamples = 2\\nvalue = [0, 2]'),\n",
       " Text(132.26666666666668, 151.0, 'X[2] <= 1.077\\ngini = 0.278\\nsamples = 6\\nvalue = [5, 1]'),\n",
       " Text(129.53951890034364, 138.92000000000002, 'gini = 0.0\\nsamples = 5\\nvalue = [5, 0]'),\n",
       " Text(134.9938144329897, 138.92000000000002, 'gini = 0.0\\nsamples = 1\\nvalue = [0, 1]'),\n",
       " Text(197.36666666666667, 163.07999999999998, 'X[1] <= 0.578\\ngini = 0.401\\nsamples = 205\\nvalue = [57, 148]'),\n",
       " Text(148.62955326460482, 151.0, 'X[0] <= -0.122\\ngini = 0.487\\nsamples = 31\\nvalue = [13, 18]'),\n",
       " Text(140.44810996563575, 138.92000000000002, 'X[0] <= -0.36\\ngini = 0.463\\nsamples = 11\\nvalue = [7, 4]'),\n",
       " Text(137.7209621993127, 126.84, 'X[0] <= -1.042\\ngini = 0.444\\nsamples = 6\\nvalue = [2, 4]'),\n",
       " Text(134.9938144329897, 114.75999999999999, 'gini = 0.0\\nsamples = 1\\nvalue = [1, 0]'),\n",
       " Text(140.44810996563575, 114.75999999999999, 'X[3] <= -1.185\\ngini = 0.32\\nsamples = 5\\nvalue = [1, 4]'),\n",
       " Text(137.7209621993127, 102.67999999999999, 'X[2] <= 0.438\\ngini = 0.5\\nsamples = 2\\nvalue = [1, 1]'),\n",
       " Text(134.9938144329897, 90.6, 'gini = 0.0\\nsamples = 1\\nvalue = [0, 1]'),\n",
       " Text(140.44810996563575, 90.6, 'gini = 0.0\\nsamples = 1\\nvalue = [1, 0]'),\n",
       " Text(143.17525773195877, 102.67999999999999, 'gini = 0.0\\nsamples = 3\\nvalue = [0, 3]'),\n",
       " Text(143.17525773195877, 126.84, 'gini = 0.0\\nsamples = 5\\nvalue = [5, 0]'),\n",
       " Text(156.8109965635739, 138.92000000000002, 'X[2] <= 0.438\\ngini = 0.42\\nsamples = 20\\nvalue = [6, 14]'),\n",
       " Text(148.62955326460482, 126.84, 'X[0] <= 0.492\\ngini = 0.5\\nsamples = 8\\nvalue = [4, 4]'),\n",
       " Text(145.90240549828178, 114.75999999999999, 'gini = 0.0\\nsamples = 2\\nvalue = [2, 0]'),\n",
       " Text(151.35670103092784, 114.75999999999999, 'X[0] <= 0.663\\ngini = 0.444\\nsamples = 6\\nvalue = [2, 4]'),\n",
       " Text(148.62955326460482, 102.67999999999999, 'X[0] <= 0.595\\ngini = 0.32\\nsamples = 5\\nvalue = [1, 4]'),\n",
       " Text(145.90240549828178, 90.6, 'gini = 0.0\\nsamples = 2\\nvalue = [0, 2]'),\n",
       " Text(151.35670103092784, 90.6, 'gini = 0.444\\nsamples = 3\\nvalue = [1, 2]'),\n",
       " Text(154.08384879725085, 102.67999999999999, 'gini = 0.0\\nsamples = 1\\nvalue = [1, 0]'),\n",
       " Text(164.99243986254297, 126.84, 'X[0] <= 0.39\\ngini = 0.278\\nsamples = 12\\nvalue = [2, 10]'),\n",
       " Text(162.26529209621992, 114.75999999999999, 'X[3] <= -1.185\\ngini = 0.408\\nsamples = 7\\nvalue = [2, 5]'),\n",
       " Text(159.5381443298969, 102.67999999999999, 'gini = 0.0\\nsamples = 1\\nvalue = [1, 0]'),\n",
       " Text(164.99243986254297, 102.67999999999999, 'X[0] <= 0.322\\ngini = 0.278\\nsamples = 6\\nvalue = [1, 5]'),\n",
       " Text(162.26529209621992, 90.6, 'gini = 0.0\\nsamples = 4\\nvalue = [0, 4]'),\n",
       " Text(167.71958762886598, 90.6, 'gini = 0.5\\nsamples = 2\\nvalue = [1, 1]'),\n",
       " Text(167.71958762886598, 114.75999999999999, 'gini = 0.0\\nsamples = 5\\nvalue = [0, 5]'),\n",
       " Text(246.10378006872853, 151.0, 'X[0] <= -1.213\\ngini = 0.378\\nsamples = 174\\nvalue = [44, 130]'),\n",
       " Text(243.3766323024055, 138.92000000000002, 'gini = 0.0\\nsamples = 3\\nvalue = [0, 3]'),\n",
       " Text(248.83092783505154, 138.92000000000002, 'X[0] <= 0.254\\ngini = 0.382\\nsamples = 171\\nvalue = [44, 127]'),\n",
       " Text(228.31340206185567, 126.84, 'X[0] <= 0.185\\ngini = 0.406\\nsamples = 99\\nvalue = [28, 71]'),\n",
       " Text(206.4109965635739, 114.75999999999999, 'X[0] <= -0.224\\ngini = 0.39\\nsamples = 94\\nvalue = [25, 69]'),\n",
       " Text(188.51408934707905, 102.67999999999999, 'X[0] <= -0.428\\ngini = 0.338\\nsamples = 51\\nvalue = [11, 40]'),\n",
       " Text(173.17388316151204, 90.6, 'X[0] <= -0.565\\ngini = 0.404\\nsamples = 32\\nvalue = [9, 23]'),\n",
       " Text(161.58350515463917, 78.52000000000001, 'X[0] <= -0.906\\ngini = 0.351\\nsamples = 22\\nvalue = [5, 17]'),\n",
       " Text(154.76563573883163, 66.44, 'X[0] <= -0.974\\ngini = 0.469\\nsamples = 8\\nvalue = [3, 5]'),\n",
       " Text(149.31134020618558, 54.359999999999985, 'X[0] <= -1.11\\ngini = 0.32\\nsamples = 5\\nvalue = [1, 4]'),\n",
       " Text(146.58419243986253, 42.28, 'X[2] <= 0.438\\ngini = 0.5\\nsamples = 2\\nvalue = [1, 1]'),\n",
       " Text(143.85704467353952, 30.19999999999999, 'gini = 0.0\\nsamples = 1\\nvalue = [1, 0]'),\n",
       " Text(149.31134020618558, 30.19999999999999, 'gini = 0.0\\nsamples = 1\\nvalue = [0, 1]'),\n",
       " Text(152.0384879725086, 42.28, 'gini = 0.0\\nsamples = 3\\nvalue = [0, 3]'),\n",
       " Text(160.21993127147766, 54.359999999999985, 'X[2] <= 1.077\\ngini = 0.444\\nsamples = 3\\nvalue = [2, 1]'),\n",
       " Text(157.49278350515465, 42.28, 'gini = 0.0\\nsamples = 1\\nvalue = [0, 1]'),\n",
       " Text(162.9470790378007, 42.28, 'gini = 0.0\\nsamples = 2\\nvalue = [2, 0]'),\n",
       " Text(168.40137457044673, 66.44, 'X[3] <= -1.185\\ngini = 0.245\\nsamples = 14\\nvalue = [2, 12]'),\n",
       " Text(165.67422680412372, 54.359999999999985, 'gini = 0.0\\nsamples = 1\\nvalue = [1, 0]'),\n",
       " Text(171.12852233676978, 54.359999999999985, 'X[0] <= -0.769\\ngini = 0.142\\nsamples = 13\\nvalue = [1, 12]'),\n",
       " Text(168.40137457044673, 42.28, 'X[2] <= 1.077\\ngini = 0.32\\nsamples = 5\\nvalue = [1, 4]'),\n",
       " Text(165.67422680412372, 30.19999999999999, 'X[0] <= -0.838\\ngini = 0.5\\nsamples = 2\\nvalue = [1, 1]'),\n",
       " Text(162.9470790378007, 18.120000000000005, 'gini = 0.0\\nsamples = 1\\nvalue = [0, 1]'),\n",
       " Text(168.40137457044673, 18.120000000000005, 'gini = 0.0\\nsamples = 1\\nvalue = [1, 0]'),\n",
       " Text(171.12852233676978, 30.19999999999999, 'gini = 0.0\\nsamples = 3\\nvalue = [0, 3]'),\n",
       " Text(173.8556701030928, 42.28, 'gini = 0.0\\nsamples = 8\\nvalue = [0, 8]'),\n",
       " Text(184.76426116838488, 78.52000000000001, 'X[0] <= -0.497\\ngini = 0.48\\nsamples = 10\\nvalue = [4, 6]'),\n",
       " Text(179.30996563573885, 66.44, 'X[2] <= 1.077\\ngini = 0.5\\nsamples = 4\\nvalue = [2, 2]'),\n",
       " Text(176.5828178694158, 54.359999999999985, 'gini = 0.444\\nsamples = 3\\nvalue = [1, 2]'),\n",
       " Text(182.03711340206186, 54.359999999999985, 'gini = 0.0\\nsamples = 1\\nvalue = [1, 0]'),\n",
       " Text(190.21855670103093, 66.44, 'X[2] <= 1.077\\ngini = 0.444\\nsamples = 6\\nvalue = [2, 4]'),\n",
       " Text(187.49140893470792, 54.359999999999985, 'gini = 0.48\\nsamples = 5\\nvalue = [2, 3]'),\n",
       " Text(192.94570446735395, 54.359999999999985, 'gini = 0.0\\nsamples = 1\\nvalue = [0, 1]'),\n",
       " Text(203.85429553264606, 90.6, 'X[0] <= -0.36\\ngini = 0.188\\nsamples = 19\\nvalue = [2, 17]'),\n",
       " Text(201.12714776632302, 78.52000000000001, 'gini = 0.0\\nsamples = 5\\nvalue = [0, 5]'),\n",
       " Text(206.58144329896908, 78.52000000000001, 'X[2] <= 0.438\\ngini = 0.245\\nsamples = 14\\nvalue = [2, 12]'),\n",
       " Text(201.12714776632302, 66.44, 'X[0] <= -0.292\\ngini = 0.375\\nsamples = 4\\nvalue = [1, 3]'),\n",
       " Text(198.4, 54.359999999999985, 'gini = 0.0\\nsamples = 1\\nvalue = [1, 0]'),\n",
       " Text(203.85429553264606, 54.359999999999985, 'gini = 0.0\\nsamples = 3\\nvalue = [0, 3]'),\n",
       " Text(212.03573883161513, 66.44, 'X[2] <= 1.077\\ngini = 0.18\\nsamples = 10\\nvalue = [1, 9]'),\n",
       " Text(209.3085910652921, 54.359999999999985, 'gini = 0.0\\nsamples = 6\\nvalue = [0, 6]'),\n",
       " Text(214.76288659793815, 54.359999999999985, 'X[0] <= -0.292\\ngini = 0.375\\nsamples = 4\\nvalue = [1, 3]'),\n",
       " Text(212.03573883161513, 42.28, 'gini = 0.0\\nsamples = 1\\nvalue = [0, 1]'),\n",
       " Text(217.49003436426116, 42.28, 'gini = 0.444\\nsamples = 3\\nvalue = [1, 2]'),\n",
       " Text(224.30790378006873, 102.67999999999999, 'X[0] <= -0.156\\ngini = 0.439\\nsamples = 43\\nvalue = [14, 29]'),\n",
       " Text(217.49003436426116, 90.6, 'X[2] <= 0.438\\ngini = 0.278\\nsamples = 6\\nvalue = [5, 1]'),\n",
       " Text(214.76288659793815, 78.52000000000001, 'gini = 0.5\\nsamples = 2\\nvalue = [1, 1]'),\n",
       " Text(220.2171821305842, 78.52000000000001, 'gini = 0.0\\nsamples = 4\\nvalue = [4, 0]'),\n",
       " Text(231.1257731958763, 90.6, 'X[2] <= 1.077\\ngini = 0.368\\nsamples = 37\\nvalue = [9, 28]'),\n",
       " Text(225.67147766323023, 78.52000000000001, 'X[0] <= -0.087\\ngini = 0.426\\nsamples = 26\\nvalue = [8, 18]'),\n",
       " Text(222.94432989690722, 66.44, 'gini = 0.0\\nsamples = 3\\nvalue = [0, 3]'),\n",
       " Text(228.39862542955328, 66.44, 'X[3] <= -1.185\\ngini = 0.454\\nsamples = 23\\nvalue = [8, 15]'),\n",
       " Text(225.67147766323023, 54.359999999999985, 'gini = 0.0\\nsamples = 3\\nvalue = [0, 3]'),\n",
       " Text(231.1257731958763, 54.359999999999985, 'X[0] <= 0.049\\ngini = 0.48\\nsamples = 20\\nvalue = [8, 12]'),\n",
       " Text(222.94432989690722, 42.28, 'X[2] <= 0.438\\ngini = 0.494\\nsamples = 9\\nvalue = [5, 4]'),\n",
       " Text(220.2171821305842, 30.19999999999999, 'gini = 0.0\\nsamples = 3\\nvalue = [0, 3]'),\n",
       " Text(225.67147766323023, 30.19999999999999, 'X[0] <= -0.019\\ngini = 0.278\\nsamples = 6\\nvalue = [5, 1]'),\n",
       " Text(222.94432989690722, 18.120000000000005, 'gini = 0.444\\nsamples = 3\\nvalue = [2, 1]'),\n",
       " Text(228.39862542955328, 18.120000000000005, 'gini = 0.0\\nsamples = 3\\nvalue = [3, 0]'),\n",
       " Text(239.30721649484536, 42.28, 'X[3] <= 1.666\\ngini = 0.397\\nsamples = 11\\nvalue = [3, 8]'),\n",
       " Text(236.58006872852235, 30.19999999999999, 'X[0] <= 0.117\\ngini = 0.444\\nsamples = 9\\nvalue = [3, 6]'),\n",
       " Text(233.8529209621993, 18.120000000000005, 'X[2] <= 0.438\\ngini = 0.5\\nsamples = 4\\nvalue = [2, 2]'),\n",
       " Text(231.1257731958763, 6.039999999999992, 'gini = 0.5\\nsamples = 2\\nvalue = [1, 1]'),\n",
       " Text(236.58006872852235, 6.039999999999992, 'gini = 0.5\\nsamples = 2\\nvalue = [1, 1]'),\n",
       " Text(239.30721649484536, 18.120000000000005, 'gini = 0.32\\nsamples = 5\\nvalue = [1, 4]'),\n",
       " Text(242.0343642611684, 30.19999999999999, 'gini = 0.0\\nsamples = 2\\nvalue = [0, 2]'),\n",
       " Text(236.58006872852235, 78.52000000000001, 'X[0] <= 0.117\\ngini = 0.165\\nsamples = 11\\nvalue = [1, 10]'),\n",
       " Text(233.8529209621993, 66.44, 'gini = 0.0\\nsamples = 7\\nvalue = [0, 7]'),\n",
       " Text(239.30721649484536, 66.44, 'gini = 0.375\\nsamples = 4\\nvalue = [1, 3]'),\n",
       " Text(250.21580756013748, 114.75999999999999, 'X[2] <= 1.077\\ngini = 0.48\\nsamples = 5\\nvalue = [3, 2]'),\n",
       " Text(247.48865979381443, 102.67999999999999, 'X[2] <= 0.438\\ngini = 0.375\\nsamples = 4\\nvalue = [3, 1]'),\n",
       " Text(244.76151202749142, 90.6, 'X[2] <= -0.2\\ngini = 0.5\\nsamples = 2\\nvalue = [1, 1]'),\n",
       " Text(242.0343642611684, 78.52000000000001, 'gini = 0.0\\nsamples = 1\\nvalue = [1, 0]'),\n",
       " Text(247.48865979381443, 78.52000000000001, 'gini = 0.0\\nsamples = 1\\nvalue = [0, 1]'),\n",
       " Text(250.21580756013748, 90.6, 'gini = 0.0\\nsamples = 2\\nvalue = [2, 0]'),\n",
       " Text(252.9429553264605, 102.67999999999999, 'gini = 0.0\\nsamples = 1\\nvalue = [0, 1]'),\n",
       " Text(269.34845360824744, 126.84, 'X[3] <= 1.666\\ngini = 0.346\\nsamples = 72\\nvalue = [16, 56]'),\n",
       " Text(266.6213058419244, 114.75999999999999, 'X[2] <= -0.2\\ngini = 0.333\\nsamples = 71\\nvalue = [15, 56]'),\n",
       " Text(258.3972508591065, 102.67999999999999, 'X[0] <= 0.595\\ngini = 0.5\\nsamples = 2\\nvalue = [1, 1]'),\n",
       " Text(255.6701030927835, 90.6, 'gini = 0.0\\nsamples = 1\\nvalue = [1, 0]'),\n",
       " Text(261.12439862542954, 90.6, 'gini = 0.0\\nsamples = 1\\nvalue = [0, 1]'),\n",
       " Text(274.8453608247423, 102.67999999999999, 'X[0] <= 0.39\\ngini = 0.323\\nsamples = 69\\nvalue = [14, 55]'),\n",
       " Text(266.5786941580756, 90.6, 'X[2] <= 0.438\\ngini = 0.18\\nsamples = 10\\nvalue = [1, 9]'),\n",
       " Text(263.8515463917526, 78.52000000000001, 'X[0] <= 0.322\\ngini = 0.375\\nsamples = 4\\nvalue = [1, 3]'),\n",
       " Text(261.12439862542954, 66.44, 'gini = 0.444\\nsamples = 3\\nvalue = [1, 2]'),\n",
       " Text(266.5786941580756, 66.44, 'gini = 0.0\\nsamples = 1\\nvalue = [0, 1]'),\n",
       " Text(269.30584192439864, 78.52000000000001, 'gini = 0.0\\nsamples = 6\\nvalue = [0, 6]'),\n",
       " Text(283.1120274914089, 90.6, 'X[3] <= -1.185\\ngini = 0.344\\nsamples = 59\\nvalue = [13, 46]'),\n",
       " Text(280.3848797250859, 78.52000000000001, 'gini = 0.0\\nsamples = 2\\nvalue = [0, 2]'),\n",
       " Text(285.839175257732, 78.52000000000001, 'X[2] <= 1.077\\ngini = 0.352\\nsamples = 57\\nvalue = [13, 44]'),\n",
       " Text(272.03298969072165, 66.44, 'X[0] <= 0.458\\ngini = 0.326\\nsamples = 39\\nvalue = [8, 31]'),\n",
       " Text(264.192439862543, 54.359999999999985, 'X[2] <= 0.438\\ngini = 0.444\\nsamples = 3\\nvalue = [1, 2]'),\n",
       " Text(261.4652920962199, 42.28, 'gini = 0.0\\nsamples = 1\\nvalue = [0, 1]'),\n",
       " Text(266.919587628866, 42.28, 'gini = 0.5\\nsamples = 2\\nvalue = [1, 1]'),\n",
       " Text(279.8735395189004, 54.359999999999985, 'X[0] <= 0.595\\ngini = 0.313\\nsamples = 36\\nvalue = [7, 29]'),\n",
       " Text(272.373883161512, 42.28, 'X[0] <= 0.526\\ngini = 0.245\\nsamples = 14\\nvalue = [2, 12]'),\n",
       " Text(269.646735395189, 30.19999999999999, 'X[2] <= 0.438\\ngini = 0.346\\nsamples = 9\\nvalue = [2, 7]'),\n",
       " Text(266.919587628866, 18.120000000000005, 'gini = 0.0\\nsamples = 1\\nvalue = [0, 1]'),\n",
       " Text(272.373883161512, 18.120000000000005, 'gini = 0.375\\nsamples = 8\\nvalue = [2, 6]'),\n",
       " Text(275.10103092783504, 30.19999999999999, 'gini = 0.0\\nsamples = 5\\nvalue = [0, 5]'),\n",
       " Text(287.37319587628866, 42.28, 'X[0] <= 0.663\\ngini = 0.351\\nsamples = 22\\nvalue = [5, 17]'),\n",
       " Text(280.5553264604811, 30.19999999999999, 'X[2] <= 0.438\\ngini = 0.48\\nsamples = 5\\nvalue = [2, 3]'),\n",
       " Text(277.8281786941581, 18.120000000000005, 'gini = 0.5\\nsamples = 2\\nvalue = [1, 1]'),\n",
       " Text(283.28247422680414, 18.120000000000005, 'gini = 0.444\\nsamples = 3\\nvalue = [1, 2]'),\n",
       " Text(294.19106529209625, 30.19999999999999, 'X[0] <= 0.731\\ngini = 0.291\\nsamples = 17\\nvalue = [3, 14]'),\n",
       " Text(288.73676975945017, 18.120000000000005, 'X[2] <= 0.438\\ngini = 0.32\\nsamples = 10\\nvalue = [2, 8]'),\n",
       " Text(286.00962199312715, 6.039999999999992, 'gini = 0.444\\nsamples = 3\\nvalue = [1, 2]'),\n",
       " Text(291.4639175257732, 6.039999999999992, 'gini = 0.245\\nsamples = 7\\nvalue = [1, 6]'),\n",
       " Text(299.6453608247423, 18.120000000000005, 'X[2] <= 0.438\\ngini = 0.245\\nsamples = 7\\nvalue = [1, 6]'),\n",
       " Text(296.91821305841927, 6.039999999999992, 'gini = 0.0\\nsamples = 2\\nvalue = [0, 2]'),\n",
       " Text(302.3725085910653, 6.039999999999992, 'gini = 0.32\\nsamples = 5\\nvalue = [1, 4]'),\n",
       " Text(299.6453608247423, 66.44, 'X[0] <= 0.492\\ngini = 0.401\\nsamples = 18\\nvalue = [5, 13]'),\n",
       " Text(296.91821305841927, 54.359999999999985, 'gini = 0.0\\nsamples = 2\\nvalue = [0, 2]'),\n",
       " Text(302.3725085910653, 54.359999999999985, 'X[0] <= 0.595\\ngini = 0.43\\nsamples = 16\\nvalue = [5, 11]'),\n",
       " Text(299.6453608247423, 42.28, 'gini = 0.5\\nsamples = 4\\nvalue = [2, 2]'),\n",
       " Text(305.0996563573883, 42.28, 'X[0] <= 0.663\\ngini = 0.375\\nsamples = 12\\nvalue = [3, 9]'),\n",
       " Text(302.3725085910653, 30.19999999999999, 'gini = 0.0\\nsamples = 3\\nvalue = [0, 3]'),\n",
       " Text(307.8268041237113, 30.19999999999999, 'X[0] <= 0.731\\ngini = 0.444\\nsamples = 9\\nvalue = [3, 6]'),\n",
       " Text(305.0996563573883, 18.120000000000005, 'gini = 0.375\\nsamples = 4\\nvalue = [1, 3]'),\n",
       " Text(310.5539518900344, 18.120000000000005, 'gini = 0.48\\nsamples = 5\\nvalue = [2, 3]'),\n",
       " Text(272.07560137457045, 114.75999999999999, 'gini = 0.0\\nsamples = 1\\nvalue = [1, 0]'),\n",
       " Text(304.80137457044674, 187.24, 'X[3] <= 1.666\\ngini = 0.161\\nsamples = 113\\nvalue = [10, 103]'),\n",
       " Text(302.0742268041237, 175.16, 'X[1] <= 0.578\\ngini = 0.148\\nsamples = 112\\nvalue = [9, 103]'),\n",
       " Text(287.0749140893471, 163.07999999999998, 'X[0] <= 1.413\\ngini = 0.269\\nsamples = 25\\nvalue = [4, 21]'),\n",
       " Text(284.3477663230241, 151.0, 'X[0] <= 1.072\\ngini = 0.375\\nsamples = 16\\nvalue = [4, 12]'),\n",
       " Text(277.5298969072165, 138.92000000000002, 'X[1] <= -0.227\\ngini = 0.245\\nsamples = 7\\nvalue = [1, 6]'),\n",
       " Text(274.80274914089347, 126.84, 'gini = 0.0\\nsamples = 5\\nvalue = [0, 5]'),\n",
       " Text(280.25704467353955, 126.84, 'gini = 0.5\\nsamples = 2\\nvalue = [1, 1]'),\n",
       " Text(291.1656357388316, 138.92000000000002, 'X[0] <= 1.14\\ngini = 0.444\\nsamples = 9\\nvalue = [3, 6]'),\n",
       " Text(285.7113402061856, 126.84, 'X[1] <= -0.227\\ngini = 0.5\\nsamples = 4\\nvalue = [2, 2]'),\n",
       " Text(282.98419243986257, 114.75999999999999, 'gini = 0.0\\nsamples = 2\\nvalue = [2, 0]'),\n",
       " Text(288.4384879725086, 114.75999999999999, 'gini = 0.0\\nsamples = 2\\nvalue = [0, 2]'),\n",
       " Text(296.6199312714777, 126.84, 'X[2] <= 0.119\\ngini = 0.32\\nsamples = 5\\nvalue = [1, 4]'),\n",
       " Text(293.8927835051546, 114.75999999999999, 'X[0] <= 1.311\\ngini = 0.5\\nsamples = 2\\nvalue = [1, 1]'),\n",
       " Text(291.1656357388316, 102.67999999999999, 'gini = 0.0\\nsamples = 1\\nvalue = [0, 1]'),\n",
       " Text(296.6199312714777, 102.67999999999999, 'gini = 0.0\\nsamples = 1\\nvalue = [1, 0]'),\n",
       " Text(299.3470790378007, 114.75999999999999, 'gini = 0.0\\nsamples = 3\\nvalue = [0, 3]'),\n",
       " Text(289.8020618556701, 151.0, 'gini = 0.0\\nsamples = 9\\nvalue = [0, 9]'),\n",
       " Text(317.07353951890036, 163.07999999999998, 'X[0] <= 1.89\\ngini = 0.108\\nsamples = 87\\nvalue = [5, 82]'),\n",
       " Text(310.25567010309277, 151.0, 'X[0] <= 1.413\\ngini = 0.078\\nsamples = 74\\nvalue = [3, 71]'),\n",
       " Text(307.52852233676975, 138.92000000000002, 'X[2] <= 0.438\\ngini = 0.105\\nsamples = 54\\nvalue = [3, 51]'),\n",
       " Text(304.80137457044674, 126.84, 'gini = 0.0\\nsamples = 14\\nvalue = [0, 14]'),\n",
       " Text(310.25567010309277, 126.84, 'X[0] <= 1.345\\ngini = 0.139\\nsamples = 40\\nvalue = [3, 37]'),\n",
       " Text(304.80137457044674, 114.75999999999999, 'X[0] <= 1.072\\ngini = 0.111\\nsamples = 34\\nvalue = [2, 32]'),\n",
       " Text(302.0742268041237, 102.67999999999999, 'X[0] <= 0.867\\ngini = 0.172\\nsamples = 21\\nvalue = [2, 19]'),\n",
       " Text(296.6199312714777, 90.6, 'X[2] <= 1.077\\ngini = 0.245\\nsamples = 7\\nvalue = [1, 6]'),\n",
       " Text(293.8927835051546, 78.52000000000001, 'gini = 0.375\\nsamples = 4\\nvalue = [1, 3]'),\n",
       " Text(299.3470790378007, 78.52000000000001, 'gini = 0.0\\nsamples = 3\\nvalue = [0, 3]'),\n",
       " Text(307.52852233676975, 90.6, 'X[2] <= 1.077\\ngini = 0.133\\nsamples = 14\\nvalue = [1, 13]'),\n",
       " Text(304.80137457044674, 78.52000000000001, 'gini = 0.0\\nsamples = 8\\nvalue = [0, 8]'),\n",
       " Text(310.25567010309277, 78.52000000000001, 'X[0] <= 0.97\\ngini = 0.278\\nsamples = 6\\nvalue = [1, 5]'),\n",
       " Text(307.52852233676975, 66.44, 'gini = 0.0\\nsamples = 1\\nvalue = [0, 1]'),\n",
       " Text(312.98281786941584, 66.44, 'X[3] <= -1.185\\ngini = 0.32\\nsamples = 5\\nvalue = [1, 4]'),\n",
       " Text(310.25567010309277, 54.359999999999985, 'gini = 0.0\\nsamples = 1\\nvalue = [0, 1]'),\n",
       " Text(315.70996563573885, 54.359999999999985, 'gini = 0.375\\nsamples = 4\\nvalue = [1, 3]'),\n",
       " Text(307.52852233676975, 102.67999999999999, 'gini = 0.0\\nsamples = 13\\nvalue = [0, 13]'),\n",
       " Text(315.70996563573885, 114.75999999999999, 'X[2] <= 1.077\\ngini = 0.278\\nsamples = 6\\nvalue = [1, 5]'),\n",
       " Text(312.98281786941584, 102.67999999999999, 'gini = 0.375\\nsamples = 4\\nvalue = [1, 3]'),\n",
       " Text(318.43711340206187, 102.67999999999999, 'gini = 0.0\\nsamples = 2\\nvalue = [0, 2]'),\n",
       " Text(312.98281786941584, 138.92000000000002, 'gini = 0.0\\nsamples = 20\\nvalue = [0, 20]'),\n",
       " Text(323.8914089347079, 151.0, 'X[0] <= 1.959\\ngini = 0.26\\nsamples = 13\\nvalue = [2, 11]'),\n",
       " Text(321.1642611683849, 138.92000000000002, 'gini = 0.5\\nsamples = 2\\nvalue = [1, 1]'),\n",
       " Text(326.6185567010309, 138.92000000000002, 'X[0] <= 2.095\\ngini = 0.165\\nsamples = 11\\nvalue = [1, 10]'),\n",
       " Text(323.8914089347079, 126.84, 'X[0] <= 2.027\\ngini = 0.278\\nsamples = 6\\nvalue = [1, 5]'),\n",
       " Text(321.1642611683849, 114.75999999999999, 'gini = 0.0\\nsamples = 3\\nvalue = [0, 3]'),\n",
       " Text(326.6185567010309, 114.75999999999999, 'X[2] <= 0.438\\ngini = 0.444\\nsamples = 3\\nvalue = [1, 2]'),\n",
       " Text(323.8914089347079, 102.67999999999999, 'gini = 0.0\\nsamples = 1\\nvalue = [0, 1]'),\n",
       " Text(329.345704467354, 102.67999999999999, 'X[2] <= 1.077\\ngini = 0.5\\nsamples = 2\\nvalue = [1, 1]'),\n",
       " Text(326.6185567010309, 90.6, 'gini = 0.0\\nsamples = 1\\nvalue = [1, 0]'),\n",
       " Text(332.072852233677, 90.6, 'gini = 0.0\\nsamples = 1\\nvalue = [0, 1]'),\n",
       " Text(329.345704467354, 126.84, 'gini = 0.0\\nsamples = 5\\nvalue = [0, 5]'),\n",
       " Text(307.52852233676975, 175.16, 'gini = 0.0\\nsamples = 1\\nvalue = [1, 0]')]"
      ]
     },
     "execution_count": 13,
     "metadata": {},
     "output_type": "execute_result"
    },
    {
     "data": {
      "image/png": "[encoded data removed]",
      "text/plain": [
       "<Figure size 432x288 with 1 Axes>"
      ]
     },
     "metadata": {
      "needs_background": "light"
     },
     "output_type": "display_data"
    }
   ],
   "source": [
    "tree.plot_tree(dt_classifier)"
   ]
  },
  {
   "cell_type": "markdown",
   "metadata": {},
   "source": [
    "Measure the accuracy of the resulting decision tree model using your test data."
   ]
  },
  {
   "cell_type": "code",
   "execution_count": 17,
   "metadata": {},
   "outputs": [
    {
     "data": {
      "text/plain": [
       "0.7211538461538461"
      ]
     },
     "execution_count": 17,
     "metadata": {},
     "output_type": "execute_result"
    }
   ],
   "source": [
    "predicted = dt_classifier.predict(x_test)\n",
    "# accuracy_score(y_test, predicted)\n",
    "dt_classifier.score(x_test, y_test)"
   ]
  },
  {
   "cell_type": "markdown",
   "metadata": {},
   "source": [
    "Now instead of a single train/test split, use K-Fold cross validation to get a better measure of your model's accuracy (K=10). Hint: use model_selection.cross_val_score"
   ]
  },
  {
   "cell_type": "code",
   "execution_count": 19,
   "metadata": {},
   "outputs": [
    {
     "name": "stdout",
     "output_type": "stream",
     "text": [
      "[0.71428571 0.73809524 0.77380952 0.72289157 0.78313253 0.6746988\n",
      " 0.72289157 0.76829268 0.75609756 0.69512195]\n",
      "0.7349317129143753\n"
     ]
    }
   ],
   "source": [
    "\n",
    "scores = cross_val_score(dt_classifier, scaled_features, classes, cv=10)\n",
    "print(scores)\n",
    "print(scores.mean())"
   ]
  },
  {
   "cell_type": "markdown",
   "metadata": {},
   "source": [
    "Now try a RandomForestClassifier instead. Does it perform better?"
   ]
  },
  {
   "cell_type": "code",
   "execution_count": 25,
   "metadata": {},
   "outputs": [
    {
     "name": "stdout",
     "output_type": "stream",
     "text": [
      "0.7163461538461539\n",
      "[0.72619048 0.78571429 0.79761905 0.69879518 0.81927711 0.71084337\n",
      " 0.79518072 0.74390244 0.76829268 0.67073171]\n",
      "0.751654702433427\n"
     ]
    }
   ],
   "source": [
    "rf_classifier = RandomForestClassifier(n_estimators=10)\n",
    "rf_classifier = rf_classifier.fit(x_train, y_train)\n",
    "print(rf_classifier.score(x_test, y_test))\n",
    "\n",
    "scores = cross_val_score(rf_classifier, scaled_features, classes, cv=10)\n",
    "print(scores)\n",
    "print(scores.mean())"
   ]
  },
  {
   "cell_type": "markdown",
   "metadata": {},
   "source": [
    "## SVM\n",
    "\n",
    "Next try using svm.SVC with a linear kernel. How does it compare to the decision tree?"
   ]
  },
  {
   "cell_type": "code",
   "execution_count": 27,
   "metadata": {},
   "outputs": [
    {
     "name": "stdout",
     "output_type": "stream",
     "text": [
      "0.7884615384615384\n",
      "[0.71428571 0.77380952 0.86904762 0.80722892 0.84337349 0.69879518\n",
      " 0.80722892 0.80487805 0.90243902 0.74390244]\n",
      "0.7964988875362076\n"
     ]
    }
   ],
   "source": [
    "sv_classifier = SVC(kernel=\"linear\")\n",
    "sv_classifier = sv_classifier.fit(x_train, y_train)\n",
    "print(sv_classifier.score(x_test, y_test))\n",
    "\n",
    "scores = cross_val_score(sv_classifier, scaled_features, classes, cv=10)\n",
    "print(scores)\n",
    "print(scores.mean())"
   ]
  },
  {
   "cell_type": "code",
   "execution_count": null,
   "metadata": {},
   "outputs": [],
   "source": []
  },
  {
   "cell_type": "markdown",
   "metadata": {},
   "source": [
    "## KNN\n",
    "How about K-Nearest-Neighbors? Hint: use neighbors.KNeighborsClassifier - it's a lot easier than implementing KNN from scratch like we did earlier in the course. Start with a K of 10. K is an example of a hyperparameter - a parameter on the model itself which may need to be tuned for best results on your particular data set."
   ]
  },
  {
   "cell_type": "code",
   "execution_count": null,
   "metadata": {},
   "outputs": [],
   "source": []
  },
  {
   "cell_type": "markdown",
   "metadata": {},
   "source": [
    "Choosing K is tricky, so we can't discard KNN until we've tried different values of K. Write a for loop to run KNN with K values ranging from 1 to 50 and see if K makes a substantial difference. Make a note of the best performance you could get out of KNN."
   ]
  },
  {
   "cell_type": "code",
   "execution_count": null,
   "metadata": {},
   "outputs": [],
   "source": []
  },
  {
   "cell_type": "markdown",
   "metadata": {},
   "source": [
    "## Naive Bayes\n",
    "\n",
    "Now try naive_bayes.MultinomialNB. How does its accuracy stack up? Hint: you'll need to use MinMaxScaler to get the features in the range MultinomialNB requires."
   ]
  },
  {
   "cell_type": "code",
   "execution_count": null,
   "metadata": {},
   "outputs": [],
   "source": []
  },
  {
   "cell_type": "markdown",
   "metadata": {},
   "source": [
    "## Revisiting SVM\n",
    "\n",
    "svm.SVC may perform differently with different kernels. The choice of kernel is an example of a \"hyperparamter.\" Try the rbf, sigmoid, and poly kernels and see what the best-performing kernel is. Do we have a new winner?"
   ]
  },
  {
   "cell_type": "code",
   "execution_count": null,
   "metadata": {},
   "outputs": [],
   "source": []
  },
  {
   "cell_type": "code",
   "execution_count": null,
   "metadata": {},
   "outputs": [],
   "source": []
  },
  {
   "cell_type": "code",
   "execution_count": null,
   "metadata": {},
   "outputs": [],
   "source": []
  },
  {
   "cell_type": "markdown",
   "metadata": {},
   "source": [
    "## Logistic Regression\n",
    "\n",
    "We've tried all these fancy techniques, but fundamentally this is just a binary classification problem. Try Logisitic Regression, which is a simple way to tackling this sort of thing."
   ]
  },
  {
   "cell_type": "code",
   "execution_count": null,
   "metadata": {
    "collapsed": true
   },
   "outputs": [],
   "source": []
  },
  {
   "cell_type": "code",
   "execution_count": null,
   "metadata": {
    "collapsed": true
   },
   "outputs": [],
   "source": []
  },
  {
   "cell_type": "code",
   "execution_count": null,
   "metadata": {
    "collapsed": true
   },
   "outputs": [],
   "source": []
  },
  {
   "cell_type": "markdown",
   "metadata": {},
   "source": [
    "## Neural Networks\n",
    "\n",
    "As a bonus challenge, let's see if an artificial neural network can do even better. You can use Keras to set up a neural network with 1 binary output neuron and see how it performs. Don't be afraid to run a large number of epochs to train the model if necessary."
   ]
  },
  {
   "cell_type": "code",
   "execution_count": null,
   "metadata": {},
   "outputs": [],
   "source": []
  },
  {
   "cell_type": "code",
   "execution_count": null,
   "metadata": {},
   "outputs": [],
   "source": []
  },
  {
   "cell_type": "code",
   "execution_count": null,
   "metadata": {},
   "outputs": [],
   "source": []
  },
  {
   "cell_type": "code",
   "execution_count": null,
   "metadata": {},
   "outputs": [],
   "source": []
  },
  {
   "cell_type": "markdown",
   "metadata": {
    "collapsed": true
   },
   "source": [
    "## Do we have a winner?\n",
    "\n",
    "Which model, and which choice of hyperparameters, performed the best? Feel free to share your results!"
   ]
  },
  {
   "cell_type": "code",
   "execution_count": null,
   "metadata": {
    "collapsed": true
   },
   "outputs": [],
   "source": []
  }
 ],
 "metadata": {
  "kernelspec": {
   "display_name": "Python 3",
   "language": "python",
   "name": "python3"
  },
  "language_info": {
   "codemirror_mode": {
    "name": "ipython",
    "version": 3
   },
   "file_extension": ".py",
   "mimetype": "text/x-python",
   "name": "python",
   "nbconvert_exporter": "python",
   "pygments_lexer": "ipython3",
   "version": "3.7.4"
  }
 },
 "nbformat": 4,
 "nbformat_minor": 2
}
