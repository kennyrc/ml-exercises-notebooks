{
 "cells": [
  {
   "cell_type": "markdown",
   "metadata": {},
   "source": [
    "# Mean, Median, Mode, and introducing NumPy"
   ]
  },
  {
   "cell_type": "markdown",
   "metadata": {},
   "source": [
    "## Mean vs. Median"
   ]
  },
  {
   "cell_type": "markdown",
   "metadata": {},
   "source": [
    "Let's create some fake income data, centered around 27,000 with a normal distribution and standard deviation of 15,000, with 10,000 data points. (We'll discuss those terms more later, if you're not familiar with them.)\n",
    "\n",
    "Then, compute the mean (average) - it should be close to 27,000:"
   ]
  },
  {
   "cell_type": "code",
   "execution_count": 3,
   "metadata": {},
   "outputs": [
    {
     "data": {
      "text/plain": [
       "26927.490827572943"
      ]
     },
     "execution_count": 3,
     "metadata": {},
     "output_type": "execute_result"
    }
   ],
   "source": [
    "import numpy as np\n",
    "\n",
    "incomes = np.random.normal(27000, 15000, 10000)\n",
    "np.mean(incomes)"
   ]
  },
  {
   "cell_type": "markdown",
   "metadata": {},
   "source": [
    "We can segment the income data into 50 buckets, and plot it as a histogram:"
   ]
  },
  {
   "cell_type": "code",
   "execution_count": 4,
   "metadata": {},
   "outputs": [
    {
     "data": {
      "image/png": "[encoded data removed]",
      "text/plain": [
       "<Figure size 432x288 with 1 Axes>"
      ]
     },
     "metadata": {
      "needs_background": "light"
     },
     "output_type": "display_data"
    }
   ],
   "source": [
    "%matplotlib inline\n",
    "import matplotlib.pyplot as plt\n",
    "plt.hist(incomes, 50)\n",
    "plt.show()"
   ]
  },
  {
   "cell_type": "markdown",
   "metadata": {},
   "source": [
    "Now compute the median - since we have a nice, even distribution it too should be close to 27,000:"
   ]
  },
  {
   "cell_type": "code",
   "execution_count": 6,
   "metadata": {},
   "outputs": [
    {
     "data": {
      "text/plain": [
       "27023.397356791975"
      ]
     },
     "execution_count": 6,
     "metadata": {},
     "output_type": "execute_result"
    }
   ],
   "source": [
    "np.median(incomes)"
   ]
  },
  {
   "cell_type": "markdown",
   "metadata": {},
   "source": [
    "Now we'll add Jeff Bezos into the mix. Darn income inequality!"
   ]
  },
  {
   "cell_type": "code",
   "execution_count": 7,
   "metadata": {},
   "outputs": [],
   "source": [
    "incomes = np.append(incomes, [1000000000])"
   ]
  },
  {
   "cell_type": "markdown",
   "metadata": {},
   "source": [
    "The median won't change much, but the mean does:"
   ]
  },
  {
   "cell_type": "code",
   "execution_count": 8,
   "metadata": {},
   "outputs": [
    {
     "data": {
      "text/plain": [
       "27023.826989540466"
      ]
     },
     "execution_count": 8,
     "metadata": {},
     "output_type": "execute_result"
    }
   ],
   "source": [
    "np.median(incomes)"
   ]
  },
  {
   "cell_type": "code",
   "execution_count": 9,
   "metadata": {},
   "outputs": [
    {
     "data": {
      "text/plain": [
       "126914.79934763818"
      ]
     },
     "execution_count": 9,
     "metadata": {},
     "output_type": "execute_result"
    }
   ],
   "source": [
    "np.mean(incomes)"
   ]
  },
  {
   "cell_type": "markdown",
   "metadata": {},
   "source": [
    "## Mode"
   ]
  },
  {
   "cell_type": "markdown",
   "metadata": {},
   "source": [
    "Next, let's generate some fake age data for 500 people:"
   ]
  },
  {
   "cell_type": "code",
   "execution_count": 14,
   "metadata": {},
   "outputs": [
    {
     "data": {
      "text/plain": [
       "array([35, 33, 46, 58, 36, 69, 34, 54, 84, 85, 78, 59, 79, 77, 28, 45, 28,\n",
       "       20, 84, 29, 53, 23, 35, 45, 42, 20, 52, 25, 84, 19, 82, 37, 30, 52,\n",
       "       85, 48, 23, 77, 75, 69, 32, 24, 83, 19, 62, 32, 46, 44, 32, 87, 79,\n",
       "       69, 81, 61, 58, 60, 68, 63, 87, 87, 69, 38, 89, 30, 82, 65, 24, 35,\n",
       "       74, 31, 46, 24, 38, 26, 34, 54, 45, 76, 42, 76, 45, 30, 58, 31, 24,\n",
       "       56, 79, 67, 18, 25, 66, 68, 79, 25, 72, 79, 70, 78, 45, 34, 49, 62,\n",
       "       55, 87, 82, 52, 77, 35, 70, 70, 38, 50, 60, 32, 70, 89, 38, 56, 81,\n",
       "       20, 44, 28, 48, 33, 18, 60, 81, 78, 29, 62, 32, 86, 21, 47, 38, 28,\n",
       "       26, 55, 21, 47, 23, 22, 77, 84, 59, 48, 86, 87, 88, 35, 72, 85, 50,\n",
       "       54, 87, 61, 79, 37, 58, 31, 72, 28, 75, 39, 60, 38, 23, 61, 69, 82,\n",
       "       29, 58, 72, 22, 26, 86, 49, 65, 39, 46, 51, 87, 40, 55, 20, 43, 53,\n",
       "       53, 80, 58, 53, 76, 59, 64, 74, 29, 47, 54, 44, 23, 70, 51, 84, 70,\n",
       "       84, 76, 73, 26, 46, 76, 75, 33, 24, 72, 26, 83, 29, 37, 35, 82, 24,\n",
       "       85, 83, 58, 30, 80, 20, 51, 21, 75, 86, 88, 34, 65, 33, 42, 43, 34,\n",
       "       66, 53, 20, 76, 23, 88, 54, 86, 45, 52, 19, 50, 42, 74, 89, 53, 31,\n",
       "       85, 63, 41, 44, 83, 22, 81, 84, 81, 18, 56, 41, 29, 46, 44, 36, 38,\n",
       "       54, 23, 48, 27, 60, 41, 84, 76, 48, 69, 52, 47, 77, 42, 46, 88, 71,\n",
       "       38, 51, 75, 61, 61, 74, 30, 82, 45, 42, 84, 24, 65, 27, 75, 64, 79,\n",
       "       66, 37, 70, 84, 47, 18, 50, 65, 24, 86, 24, 74, 55, 74, 23, 32, 28,\n",
       "       61, 57, 36, 86, 76, 63, 86, 18, 58, 28, 64, 33, 52, 26, 46, 28, 49,\n",
       "       46, 54, 62, 43, 71, 81, 46, 34, 25, 25, 26, 84, 68, 63, 78, 29, 32,\n",
       "       87, 33, 80, 61, 53, 85, 28, 45, 32, 52, 86, 19, 84, 20, 38, 28, 40,\n",
       "       69, 44, 63, 85, 23, 87, 87, 25, 77, 38, 84, 43, 19, 34, 69, 34, 29,\n",
       "       32, 68, 76, 41, 68, 64, 22, 57, 77, 70, 86, 46, 66, 28, 47, 44, 35,\n",
       "       78, 86, 89, 42, 25, 25, 43, 65, 42, 72, 40, 33, 60, 57, 33, 88, 82,\n",
       "       60, 32, 45, 26, 43, 30, 36, 18, 57, 74, 69, 32, 69, 20, 78, 51, 64,\n",
       "       85, 64, 22, 58, 71, 72, 84, 76, 28, 72, 86, 44, 45, 68, 42, 77, 87,\n",
       "       78, 84, 87, 65, 30, 56, 57, 71, 70, 20, 73, 54, 71, 49, 66, 35, 51,\n",
       "       64, 36, 84, 27, 45, 26, 40, 53, 78, 62, 87, 78, 49, 25, 50, 54, 65,\n",
       "       66, 79, 78, 28, 44, 40, 89])"
      ]
     },
     "execution_count": 14,
     "metadata": {},
     "output_type": "execute_result"
    }
   ],
   "source": [
    "ages = np.random.randint(18, high=90, size=500)\n",
    "ages"
   ]
  },
  {
   "cell_type": "code",
   "execution_count": 15,
   "metadata": {},
   "outputs": [
    {
     "data": {
      "text/plain": [
       "ModeResult(mode=array([84]), count=array([16]))"
      ]
     },
     "execution_count": 15,
     "metadata": {},
     "output_type": "execute_result"
    }
   ],
   "source": [
    "from scipy import stats\n",
    "stats.mode(ages)"
   ]
  },
  {
   "cell_type": "code",
   "execution_count": null,
   "metadata": {},
   "outputs": [],
   "source": []
  }
 ],
 "metadata": {
  "kernelspec": {
   "display_name": "Python 3",
   "language": "python",
   "name": "python3"
  },
  "language_info": {
   "codemirror_mode": {
    "name": "ipython",
    "version": 3
   },
   "file_extension": ".py",
   "mimetype": "text/x-python",
   "name": "python",
   "nbconvert_exporter": "python",
   "pygments_lexer": "ipython3",
   "version": "3.7.4"
  }
 },
 "nbformat": 4,
 "nbformat_minor": 1
}
